{
 "cells": [
  {
   "cell_type": "markdown",
   "id": "80f04ad9",
   "metadata": {},
   "source": [
    "### Assignment_14"
   ]
  },
  {
   "cell_type": "markdown",
   "id": "ba6f8130",
   "metadata": {},
   "source": [
    "Submitted by:  Murlai Divya Teja Gummadiadala"
   ]
  },
  {
   "cell_type": "markdown",
   "id": "81c23096",
   "metadata": {},
   "source": [
    "#### 1. What does RGBA stand for?"
   ]
  },
  {
   "cell_type": "markdown",
   "id": "6fe8f33f",
   "metadata": {},
   "source": [
    "__Ans: RGBA__   is a four-channel format containing data for `Red, Green, Blue, and an Alpha` value. Where Alpha Represents the Opacity. Each value is a floating point number between 0.0 and 1.0. For example, the tuple (1, 0, 0, 1) represents an opaque red, while (0, 1, 0, 0.5) represents a half transparent green. "
   ]
  },
  {
   "cell_type": "markdown",
   "id": "3499c3c7",
   "metadata": {},
   "source": [
    "#### 2. From the Pillow module, how do you get the RGBA value of any images?"
   ]
  },
  {
   "cell_type": "markdown",
   "id": "04dc3b5c",
   "metadata": {},
   "source": [
    "__Ans:__ : `ImageColor.getcolor()` gives rgba value of any image"
   ]
  },
  {
   "cell_type": "markdown",
   "id": "5478a084",
   "metadata": {},
   "source": [
    "#### 3. What is a box tuple, and how does it work?"
   ]
  },
  {
   "cell_type": "markdown",
   "id": "d9eb1c77",
   "metadata": {},
   "source": [
    "__Ans:__ A box tuple is a tuple value of four integers: the left-edge x-coordinate, the top-edge y-coordinate,the width, and the height, respectively."
   ]
  },
  {
   "cell_type": "markdown",
   "id": "5971dc36",
   "metadata": {},
   "source": [
    "#### 4. Use your image and load in notebook then, How can you find out the width and height of an Image object?"
   ]
  },
  {
   "cell_type": "markdown",
   "id": "254a97fc",
   "metadata": {},
   "source": [
    "__Ans:__ "
   ]
  },
  {
   "cell_type": "code",
   "execution_count": 4,
   "id": "f73c25e9",
   "metadata": {},
   "outputs": [
    {
     "name": "stdout",
     "output_type": "stream",
     "text": [
      "width, height --> (238, 212)\n",
      "Width, Height --> 238,212\n"
     ]
    }
   ],
   "source": [
    "from PIL import Image\n",
    "img = Image.open('nebula.jpg')\n",
    "print(f'width, height --> {img.size}')\n",
    "print(f'Width, Height --> {img.width},{img.height}')\n"
   ]
  },
  {
   "cell_type": "markdown",
   "id": "7790c380",
   "metadata": {},
   "source": [
    "#### 5.5. What method would you call to get Image object for a 100×100 image, excluding the lower-left quarter of it?"
   ]
  },
  {
   "cell_type": "code",
   "execution_count": 5,
   "id": "70274a02",
   "metadata": {},
   "outputs": [],
   "source": [
    "from PIL import Image\n",
    "img = Image.open('nebula.jpg')\n",
    "new_img = img.crop((0,50,50,50))"
   ]
  },
  {
   "cell_type": "markdown",
   "id": "3c04bbac",
   "metadata": {},
   "source": [
    "#### 6. After making changes to an Image object, how could you save it as an image file?"
   ]
  },
  {
   "cell_type": "code",
   "execution_count": 6,
   "id": "ade10a98",
   "metadata": {},
   "outputs": [],
   "source": [
    "from PIL import Image\n",
    "pic = Image.open('nebula.jpg')\n",
    "pic.save('nebula2.jpg')"
   ]
  },
  {
   "cell_type": "markdown",
   "id": "6cf4c084",
   "metadata": {},
   "source": [
    "#### 7. What module contains Pillow’s shape-drawing code?"
   ]
  },
  {
   "cell_type": "markdown",
   "id": "9104cca1",
   "metadata": {},
   "source": [
    "__Ans:__ Pillows `ImageDraw` module contains Shape drawing methods. The 'ImageDraw' module provides simple 2D graphics support for Image Object. Generally, we use this module to create new images, annotate or retouch existing images and to generate graphics on the fly for web use. The graphics commands support the drawing of shapes and annotation of text."
   ]
  },
  {
   "cell_type": "markdown",
   "id": "56201836",
   "metadata": {},
   "source": [
    "#### 8. Image objects do not have drawing methods. What kind of object does? How do you get this kind of object?"
   ]
  },
  {
   "cell_type": "markdown",
   "id": "74da4553",
   "metadata": {},
   "source": [
    "__Ans:__ ImageDraw objects have shape-drawing methods such as point(), line(), or rectangle().They are returned by passing the Image object to the ImageDraw.Draw() function."
   ]
  },
  {
   "cell_type": "code",
   "execution_count": null,
   "id": "ce1cedcc",
   "metadata": {},
   "outputs": [],
   "source": []
  }
 ],
 "metadata": {
  "kernelspec": {
   "display_name": "Python 3 (ipykernel)",
   "language": "python",
   "name": "python3"
  },
  "language_info": {
   "codemirror_mode": {
    "name": "ipython",
    "version": 3
   },
   "file_extension": ".py",
   "mimetype": "text/x-python",
   "name": "python",
   "nbconvert_exporter": "python",
   "pygments_lexer": "ipython3",
   "version": "3.9.7"
  }
 },
 "nbformat": 4,
 "nbformat_minor": 5
}
