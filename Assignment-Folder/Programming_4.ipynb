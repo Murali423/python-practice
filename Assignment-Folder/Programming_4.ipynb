{
 "cells": [
  {
   "cell_type": "markdown",
   "id": "419a6d77",
   "metadata": {},
   "source": [
    "## Programming_Assignment4"
   ]
  },
  {
   "cell_type": "markdown",
   "id": "3cc7154b",
   "metadata": {},
   "source": [
    "#### 1. Write a Python Program to Find the Factorial of a Number?"
   ]
  },
  {
   "cell_type": "code",
   "execution_count": 2,
   "id": "834b7140",
   "metadata": {},
   "outputs": [
    {
     "name": "stdout",
     "output_type": "stream",
     "text": [
      "Enter the input value : 5\n",
      "Factorial of the 5 is: 120 \n"
     ]
    }
   ],
   "source": [
    "a = int(input('Enter the input value : '))\n",
    "\n",
    "def factorial_value(a):\n",
    "    if a < 0:\n",
    "        print('factioral number cannot be less then zero')\n",
    "        return None\n",
    "    if a == 1 or a == 0:\n",
    "        return 1\n",
    "    else:\n",
    "        return a * factorial_value(a-1)\n",
    "\n",
    "result = factorial_value(a)\n",
    "\n",
    "print('Factorial of the {0} is: {1} '.format(a,result))\n",
    "    "
   ]
  },
  {
   "cell_type": "markdown",
   "id": "345648d7",
   "metadata": {},
   "source": [
    "#### 2. Write a Python Program to Display the multiplication Table?"
   ]
  },
  {
   "cell_type": "code",
   "execution_count": 12,
   "id": "6336c8d8",
   "metadata": {},
   "outputs": [
    {
     "name": "stdout",
     "output_type": "stream",
     "text": [
      "enter the values of table to print13\n",
      "Enter the long of table in terms of 10,20,30: 20\n",
      " 13 * 1 = 13\n",
      " 13 * 2 = 26\n",
      " 13 * 3 = 39\n",
      " 13 * 4 = 52\n",
      " 13 * 5 = 65\n",
      " 13 * 6 = 78\n",
      " 13 * 7 = 91\n",
      " 13 * 8 = 104\n",
      " 13 * 9 = 117\n",
      " 13 * 10 = 130\n",
      " 13 * 11 = 143\n",
      " 13 * 12 = 156\n",
      " 13 * 13 = 169\n",
      " 13 * 14 = 182\n",
      " 13 * 15 = 195\n",
      " 13 * 16 = 208\n",
      " 13 * 17 = 221\n",
      " 13 * 18 = 234\n",
      " 13 * 19 = 247\n",
      " 13 * 20 = 260\n"
     ]
    }
   ],
   "source": [
    "a = int(input('enter the values of table to print'))\n",
    "num = int(input('Enter the long of table in terms of 10,20,30: '))\n",
    "for i in range(1,num+1):\n",
    "    print(' {0} * {1} = {2}'.format(a,i,a*i),end='\\n')"
   ]
  },
  {
   "cell_type": "markdown",
   "id": "b8026fe1",
   "metadata": {},
   "source": [
    "#### 3. Write a Python Program to Print the Fibonacci sequence?"
   ]
  },
  {
   "cell_type": "code",
   "execution_count": 1,
   "id": "a3dfd1a8",
   "metadata": {},
   "outputs": [
    {
     "name": "stdout",
     "output_type": "stream",
     "text": [
      "Enter the value: 20\n",
      "0\n",
      "1\n",
      "1\n",
      "2\n",
      "3\n",
      "5\n",
      "8\n",
      "13\n",
      "21\n",
      "34\n",
      "55\n",
      "89\n",
      "144\n",
      "233\n",
      "377\n",
      "610\n",
      "987\n",
      "1597\n",
      "2584\n",
      "4181\n"
     ]
    }
   ],
   "source": [
    "def fibonacci(n):\n",
    "    if n <= 1: \n",
    "        return n\n",
    "    else:\n",
    "        return fibonacci(n-1) + fibonacci(n-2)\n",
    "n = int(input('Enter the value: '))\n",
    "if n <= 0:\n",
    "    print('Please enter positive number')\n",
    "for i in range(n):\n",
    "    print(fibonacci(i))"
   ]
  },
  {
   "cell_type": "markdown",
   "id": "a278d3a1",
   "metadata": {},
   "source": [
    "#### 4. Write a Python Program to Check Armstrong Number?"
   ]
  },
  {
   "cell_type": "code",
   "execution_count": 16,
   "id": "d1991bc4",
   "metadata": {},
   "outputs": [
    {
     "name": "stdout",
     "output_type": "stream",
     "text": [
      "Enter a number: 153\n",
      "153 is an Armstrong number\n"
     ]
    }
   ],
   "source": [
    "num = int(input(\"Enter a number: \"))\n",
    "\n",
    "sum = 0\n",
    "temp = num\n",
    "while temp > 0:\n",
    "   digit = temp % 10\n",
    "   sum += digit ** 3\n",
    "   temp //= 10\n",
    "\n",
    "if num == sum:\n",
    "   print(num,\"is an Armstrong number\")\n",
    "else:\n",
    "   print(num,\"is not an Armstrong number\")"
   ]
  },
  {
   "cell_type": "markdown",
   "id": "4bdeecbc",
   "metadata": {},
   "source": [
    "#### 5. Write a Python Program to Find Armstrong Number in an Interval?"
   ]
  },
  {
   "cell_type": "code",
   "execution_count": 19,
   "id": "2ad07bec",
   "metadata": {},
   "outputs": [
    {
     "name": "stdout",
     "output_type": "stream",
     "text": [
      "Enter the lower bound value: 100\n",
      "Enter the upper bound value: 20000\n",
      "153\n",
      "370\n",
      "371\n",
      "407\n",
      "1634\n",
      "8208\n",
      "9474\n"
     ]
    }
   ],
   "source": [
    "l = int(input('Enter the lower bound value: '))\n",
    "u = int(input('Enter the upper bound value: '))\n",
    "\n",
    "for num in range(l, u + 1):\n",
    "   order = len(str(num))\n",
    "   sum = 0\n",
    "   temp = num\n",
    "   while temp > 0:\n",
    "       digit = temp % 10\n",
    "       sum += digit ** order\n",
    "       temp //= 10\n",
    "\n",
    "   if num == sum:\n",
    "       print(num)"
   ]
  },
  {
   "cell_type": "markdown",
   "id": "b51ecedc",
   "metadata": {},
   "source": [
    "#### 6. Write a Python Program to Find the Sum of Natural Numbers?"
   ]
  },
  {
   "cell_type": "code",
   "execution_count": 22,
   "id": "da3aed0b",
   "metadata": {},
   "outputs": [
    {
     "name": "stdout",
     "output_type": "stream",
     "text": [
      "Enter the number to find sum of natuaral number: 100\n",
      "sum of 100 numbers is: 5050\n"
     ]
    }
   ],
   "source": [
    "n = int(input('Enter the number to find sum of natuaral number: '))\n",
    "\n",
    "def sum_n(x):\n",
    "    sum = 0\n",
    "    sum = sum + (x*(x+1))//2\n",
    "    return sum\n",
    "res = sum_n(n)\n",
    "print('sum of {0} numbers is: {1}'.format(n,res))\n"
   ]
  },
  {
   "cell_type": "code",
   "execution_count": null,
   "id": "7334ccb3",
   "metadata": {},
   "outputs": [],
   "source": []
  }
 ],
 "metadata": {
  "kernelspec": {
   "display_name": "Python 3 (ipykernel)",
   "language": "python",
   "name": "python3"
  },
  "language_info": {
   "codemirror_mode": {
    "name": "ipython",
    "version": 3
   },
   "file_extension": ".py",
   "mimetype": "text/x-python",
   "name": "python",
   "nbconvert_exporter": "python",
   "pygments_lexer": "ipython3",
   "version": "3.9.7"
  }
 },
 "nbformat": 4,
 "nbformat_minor": 5
}
