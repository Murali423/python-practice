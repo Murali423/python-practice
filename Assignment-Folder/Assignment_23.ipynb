{
 "cells": [
  {
   "cell_type": "markdown",
   "id": "3eb592fd",
   "metadata": {},
   "source": [
    "#### Assignment_23"
   ]
  },
  {
   "cell_type": "markdown",
   "id": "f194ebf3",
   "metadata": {},
   "source": [
    "Submitted by  G.Murali Divya Teja"
   ]
  },
  {
   "cell_type": "markdown",
   "id": "241d4053",
   "metadata": {},
   "source": [
    "#### 1. What is the result of the code, and why?"
   ]
  },
  {
   "cell_type": "markdown",
   "id": "b3893f09",
   "metadata": {},
   "source": [
    "` def func(a, b=6, c=8):`\n",
    "\n",
    "`print(a, b, c)`\n",
    "\n",
    "`func(1, 2)`"
   ]
  },
  {
   "cell_type": "markdown",
   "id": "9695ffaa",
   "metadata": {},
   "source": [
    "__Ans:__ The result of the above code is 1 2 8. It is because the function uses the default value of c i.e 8 which is provided at the time of declaration. We can see this below:"
   ]
  },
  {
   "cell_type": "code",
   "execution_count": 1,
   "id": "f7ffdbd7",
   "metadata": {},
   "outputs": [
    {
     "name": "stdout",
     "output_type": "stream",
     "text": [
      "1 2 8\n"
     ]
    }
   ],
   "source": [
    "def func(a,b=6,c=8):\n",
    "    print(a,b,c)\n",
    "    \n",
    "func(1,2)\n"
   ]
  },
  {
   "cell_type": "markdown",
   "id": "97f91a49",
   "metadata": {},
   "source": [
    "#### 2. What is the result of this code, and why?"
   ]
  },
  {
   "cell_type": "markdown",
   "id": "8bbf2517",
   "metadata": {},
   "source": [
    "`def func(a, b, c=5):`\n",
    "\n",
    "`print(a, b, c)`\n",
    "\n",
    "`func(1, c=3, b=2)`"
   ]
  },
  {
   "cell_type": "markdown",
   "id": "fa5cc621",
   "metadata": {},
   "source": [
    "__Ans:__ The result of the above code is 1 2 3. It is because the function will use default values only when a value for a argument is not provided and if the argument name is mentioned while doing a function call, the order of arguments is also ignored by the python interpreter"
   ]
  },
  {
   "cell_type": "code",
   "execution_count": 2,
   "id": "8ab57c6a",
   "metadata": {},
   "outputs": [
    {
     "name": "stdout",
     "output_type": "stream",
     "text": [
      "1 2 3\n"
     ]
    }
   ],
   "source": [
    "def func(a,b,c=5):\n",
    "    print(a,b,c)\n",
    "func(1,c=3,b=2)"
   ]
  },
  {
   "cell_type": "markdown",
   "id": "bb91cc3a",
   "metadata": {},
   "source": [
    "#### 3. How about this code: what is its result, and why?"
   ]
  },
  {
   "cell_type": "markdown",
   "id": "11e15bfc",
   "metadata": {},
   "source": [
    "` def func(a, *pargs):`\n",
    "\n",
    "`print(a, pargs)`\n",
    "\n",
    "`func(1, 2, 3)`"
   ]
  },
  {
   "cell_type": "markdown",
   "id": "baf68811",
   "metadata": {},
   "source": [
    "__Ans:__ The result of the code is 1,(2,3) *pargs stands for variable length arguments. This format is used when we are not sure about the number of arguments to be passed to a function. All the values under this argument will be stored in a tuple. "
   ]
  },
  {
   "cell_type": "code",
   "execution_count": 3,
   "id": "4cf0f14b",
   "metadata": {},
   "outputs": [
    {
     "name": "stdout",
     "output_type": "stream",
     "text": [
      "1 (2, 3)\n"
     ]
    }
   ],
   "source": [
    "def func(a,*pargs):\n",
    "    print(a,pargs)\n",
    "    \n",
    "func(1,2,3)"
   ]
  },
  {
   "cell_type": "markdown",
   "id": "d0c5838e",
   "metadata": {},
   "source": [
    "#### 4. What does this code print, and why?"
   ]
  },
  {
   "cell_type": "markdown",
   "id": "3242e731",
   "metadata": {},
   "source": [
    "`def func(a, **kargs):`\n",
    "\n",
    "`print(a, kargs)`\n",
    "\n",
    "`func(a=1, c=3, b=2)`"
   ]
  },
  {
   "cell_type": "markdown",
   "id": "2afee3d6",
   "metadata": {},
   "source": [
    "__Ans:__ The result of the code is 1 {'c': 3, 'b': 2} **args stands for variable length keyword arguments. This format is used when we want pass key value pairs as input to a function. All these key value pairs will be stored in a dictionary"
   ]
  },
  {
   "cell_type": "code",
   "execution_count": 4,
   "id": "c67bbe18",
   "metadata": {},
   "outputs": [
    {
     "name": "stdout",
     "output_type": "stream",
     "text": [
      "1 {'c': 3, 'b': 2}\n"
     ]
    }
   ],
   "source": [
    "def func(a,**kargs):\n",
    "    print(a,kargs)\n",
    "func(a=1,c=3,b=2)"
   ]
  },
  {
   "cell_type": "markdown",
   "id": "dd02b67a",
   "metadata": {},
   "source": [
    "#### 5. What gets printed by this, and explain?"
   ]
  },
  {
   "cell_type": "markdown",
   "id": "ee631fcc",
   "metadata": {},
   "source": [
    "` def func(a, b, c=8, d=5): print(a, b, c, d)`\n",
    "\n",
    "`func(1, *(5, 6))`"
   ]
  },
  {
   "cell_type": "markdown",
   "id": "42eceec1",
   "metadata": {},
   "source": [
    "__Ans:__ The output of the above is 1 5 6 5. The reason for this function not throwing an error is because, this function expects 4 arguments. The value for a is provided explicitly whereas for arguments b and c, the function will expand *(5,6) and consider the value of b as 5 and value of c as 6. Since the default value of d is provided in function declaration, d value will be 5. However it is recommended to use the feature of positional arguments at the end."
   ]
  },
  {
   "cell_type": "code",
   "execution_count": 6,
   "id": "1e6cc08a",
   "metadata": {},
   "outputs": [
    {
     "name": "stdout",
     "output_type": "stream",
     "text": [
      "1 5 6 5\n"
     ]
    }
   ],
   "source": [
    "def func(a,b,c=8,d=5):\n",
    "    print(a,b,c,d)\n",
    "func(1,*(5,6))"
   ]
  },
  {
   "cell_type": "markdown",
   "id": "99168030",
   "metadata": {},
   "source": [
    "#### 6. what is the result of this, and explain?"
   ]
  },
  {
   "cell_type": "markdown",
   "id": "19bfe9a3",
   "metadata": {},
   "source": [
    "` def func(a, b, c): a = 2; b[0] = &#39;x&#39;; c[&#39;a&#39;] = &#39;y&#39;`\n",
    "\n",
    "`l=1; m=[1]; n={&#39;a&#39;:0}`\n",
    "\n",
    " `func(l, m, n)`\n",
    "\n",
    " `l, m, n`"
   ]
  },
  {
   "cell_type": "markdown",
   "id": "ac1849ff",
   "metadata": {},
   "source": [
    "__Ans:__ The output of above code is 1, ['x'], {'a': 'y'}.\n",
    "\n",
    "Even though Python gives importance to indentation, it provides a facility to declare an entire function in one single line where statements in a function body are sepereated by ;\n",
    "When l,m,n are provided as inputs to the function, it modifies the values of l,m,n and sets the value of l=2 ,m=['x'] and n={'a':'y'}"
   ]
  },
  {
   "cell_type": "code",
   "execution_count": 7,
   "id": "57edcd20",
   "metadata": {},
   "outputs": [
    {
     "data": {
      "text/plain": [
       "(1, ['x'], {'a': 'y'})"
      ]
     },
     "execution_count": 7,
     "metadata": {},
     "output_type": "execute_result"
    }
   ],
   "source": [
    "def func(a, b, c): a = 2; b[0] = 'x'; c['a'] = 'y'\n",
    "l=1; m=[1]; n={'a':0}\n",
    "func(l, m, n)\n",
    "l,m,n"
   ]
  },
  {
   "cell_type": "code",
   "execution_count": null,
   "id": "6a7e9f3b",
   "metadata": {},
   "outputs": [],
   "source": []
  }
 ],
 "metadata": {
  "kernelspec": {
   "display_name": "Python 3 (ipykernel)",
   "language": "python",
   "name": "python3"
  },
  "language_info": {
   "codemirror_mode": {
    "name": "ipython",
    "version": 3
   },
   "file_extension": ".py",
   "mimetype": "text/x-python",
   "name": "python",
   "nbconvert_exporter": "python",
   "pygments_lexer": "ipython3",
   "version": "3.9.7"
  }
 },
 "nbformat": 4,
 "nbformat_minor": 5
}
