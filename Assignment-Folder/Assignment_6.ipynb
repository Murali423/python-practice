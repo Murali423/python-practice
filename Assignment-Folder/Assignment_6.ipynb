{
 "cells": [
  {
   "cell_type": "markdown",
   "id": "d19d652a",
   "metadata": {},
   "source": [
    "### Assignment_6"
   ]
  },
  {
   "cell_type": "markdown",
   "id": "a4b3707b",
   "metadata": {},
   "source": [
    "#### 1. What are escape characters, and how do you use them?"
   ]
  },
  {
   "cell_type": "markdown",
   "id": "83f3b45b",
   "metadata": {},
   "source": [
    "Escape character are special symbol defined by backslash(\\) which facilitate escape illegal insertion of characters in string.\n",
    "\n",
    "ex: \\' - singel quote \\\"- double quote \\n- newline \\t- newtab \\r-carriage return \\B- backspace \\ooo-Octal \\xhh- Hex value "
   ]
  },
  {
   "cell_type": "markdown",
   "id": "cfd7fa5a",
   "metadata": {},
   "source": [
    "#### 2. What do the escape characters n and t stand for?"
   ]
  },
  {
   "cell_type": "markdown",
   "id": "7c53c8e4",
   "metadata": {},
   "source": [
    "\\n - new line \n",
    "\n",
    "\\t - tab"
   ]
  },
  {
   "cell_type": "code",
   "execution_count": 2,
   "id": "277932fd",
   "metadata": {},
   "outputs": [
    {
     "name": "stdout",
     "output_type": "stream",
     "text": [
      "I am new to program \n",
      " please follow instruction\n"
     ]
    }
   ],
   "source": [
    "print(\"I am new to program \\n please follow instruction\")"
   ]
  },
  {
   "cell_type": "code",
   "execution_count": 3,
   "id": "8775ec69",
   "metadata": {},
   "outputs": [
    {
     "name": "stdout",
     "output_type": "stream",
     "text": [
      "I am new to program \t please follow instruction\n"
     ]
    }
   ],
   "source": [
    "print(\"I am new to program \\t please follow instruction\")"
   ]
  },
  {
   "cell_type": "markdown",
   "id": "bb627815",
   "metadata": {},
   "source": [
    "#### 3. What is the way to include backslash characters in a string?"
   ]
  },
  {
   "cell_type": "code",
   "execution_count": 4,
   "id": "37fa83ee",
   "metadata": {},
   "outputs": [
    {
     "ename": "SyntaxError",
     "evalue": "invalid syntax (Temp/ipykernel_6540/4051467745.py, line 1)",
     "output_type": "error",
     "traceback": [
      "\u001b[1;36m  File \u001b[1;32m\"C:\\Users\\HP\\AppData\\Local\\Temp/ipykernel_6540/4051467745.py\"\u001b[1;36m, line \u001b[1;32m1\u001b[0m\n\u001b[1;33m    print(\"i am happy to announce i am taking \"FSDS\" courese for my career\")\u001b[0m\n\u001b[1;37m                                               ^\u001b[0m\n\u001b[1;31mSyntaxError\u001b[0m\u001b[1;31m:\u001b[0m invalid syntax\n"
     ]
    }
   ],
   "source": [
    "print(\"i am happy to announce i am taking \"FSDS\" courese for my career\")"
   ]
  },
  {
   "cell_type": "markdown",
   "id": "c4666696",
   "metadata": {},
   "source": [
    "here \"\" comming before FSDS which ment stop of string to this FSDS only after FSDS print function not considering as string.\n",
    "to avoid we use backslash(\\) so that i will escape and print"
   ]
  },
  {
   "cell_type": "code",
   "execution_count": 5,
   "id": "86f6ac70",
   "metadata": {},
   "outputs": [
    {
     "name": "stdout",
     "output_type": "stream",
     "text": [
      "i am happy to announce i am taking \"FSDS\" courese for my career\n"
     ]
    }
   ],
   "source": [
    "print(\"i am happy to announce i am taking \\\"FSDS\\\" courese for my career\")"
   ]
  },
  {
   "cell_type": "markdown",
   "id": "f3b1a080",
   "metadata": {},
   "source": [
    "#### 4. The string &quot;Howl&#39;s Moving Castle&quot; is a correct value. Why isn&#39;t the single quote character in theword Howl&#39;s not escaped a problem?"
   ]
  },
  {
   "cell_type": "code",
   "execution_count": 7,
   "id": "569e7a14",
   "metadata": {},
   "outputs": [
    {
     "name": "stdout",
     "output_type": "stream",
     "text": [
      "Howl's Moving Castle\n"
     ]
    }
   ],
   "source": [
    "print(\"Howl's Moving Castle\")"
   ]
  },
  {
   "cell_type": "markdown",
   "id": "805ef373",
   "metadata": {},
   "source": [
    "here print statement has double quotes all statement closed in it the single quote present in middle which is acceptable and vice versa."
   ]
  },
  {
   "cell_type": "markdown",
   "id": "2af070fe",
   "metadata": {},
   "source": [
    "#### 5. How do you write a string of newlines if you don&#39;t want to use the n character?"
   ]
  },
  {
   "cell_type": "markdown",
   "id": "5673dd12",
   "metadata": {},
   "source": [
    "we use end optinal variable in print function to get don't want use n line"
   ]
  },
  {
   "cell_type": "code",
   "execution_count": 8,
   "id": "a1a8203c",
   "metadata": {},
   "outputs": [
    {
     "name": "stdout",
     "output_type": "stream",
     "text": [
      "i am murali\n",
      "i am sai\n"
     ]
    }
   ],
   "source": [
    "print('i am murali',end=\"\\n\")\n",
    "print('i am sai')"
   ]
  },
  {
   "cell_type": "code",
   "execution_count": 11,
   "id": "63658c84",
   "metadata": {},
   "outputs": [
    {
     "name": "stdout",
     "output_type": "stream",
     "text": [
      "i am murali i am sai\n"
     ]
    }
   ],
   "source": [
    "#without using new line we use end\n",
    "print('i am murali',end=\"\")\n",
    "print(' i am sai')"
   ]
  },
  {
   "cell_type": "markdown",
   "id": "e53941af",
   "metadata": {},
   "source": [
    "6. What are the values of the given expressions?\n",
    "&#39;Hello, world!&#39;[1]\n",
    "&#39;Hello, world!&#39;[0:5]\n",
    "&#39;Hello, world!&#39;[:5]\n",
    "&#39;Hello, world!&#39;[3:]"
   ]
  },
  {
   "cell_type": "code",
   "execution_count": 12,
   "id": "b86614e6",
   "metadata": {},
   "outputs": [
    {
     "data": {
      "text/plain": [
       "'e'"
      ]
     },
     "execution_count": 12,
     "metadata": {},
     "output_type": "execute_result"
    }
   ],
   "source": [
    "'Hello, world'[1]"
   ]
  },
  {
   "cell_type": "code",
   "execution_count": 15,
   "id": "9bedade2",
   "metadata": {},
   "outputs": [
    {
     "data": {
      "text/plain": [
       "'Hello'"
      ]
     },
     "execution_count": 15,
     "metadata": {},
     "output_type": "execute_result"
    }
   ],
   "source": [
    "'Hello, world!'[0:5]"
   ]
  },
  {
   "cell_type": "code",
   "execution_count": 16,
   "id": "c66b87f8",
   "metadata": {},
   "outputs": [
    {
     "data": {
      "text/plain": [
       "'Hello'"
      ]
     },
     "execution_count": 16,
     "metadata": {},
     "output_type": "execute_result"
    }
   ],
   "source": [
    "'Hello, world'[:5]"
   ]
  },
  {
   "cell_type": "code",
   "execution_count": 17,
   "id": "3ac30402",
   "metadata": {},
   "outputs": [
    {
     "data": {
      "text/plain": [
       "'lo, world'"
      ]
     },
     "execution_count": 17,
     "metadata": {},
     "output_type": "execute_result"
    }
   ],
   "source": [
    "'Hello, world'[3:]"
   ]
  },
  {
   "cell_type": "markdown",
   "id": "3c1c194b",
   "metadata": {},
   "source": [
    "#### 7. What are the values of the following expressions?\n",
    "&#39;Hello&#39;.upper()\n",
    "&#39;Hello&#39;.upper().isupper()\n",
    "&#39;Hello&#39;.upper().lower()"
   ]
  },
  {
   "cell_type": "code",
   "execution_count": 18,
   "id": "e1d2aaf8",
   "metadata": {},
   "outputs": [
    {
     "data": {
      "text/plain": [
       "'HELLO'"
      ]
     },
     "execution_count": 18,
     "metadata": {},
     "output_type": "execute_result"
    }
   ],
   "source": [
    "'Hello'.upper()"
   ]
  },
  {
   "cell_type": "code",
   "execution_count": 19,
   "id": "5f985fb3",
   "metadata": {},
   "outputs": [
    {
     "data": {
      "text/plain": [
       "True"
      ]
     },
     "execution_count": 19,
     "metadata": {},
     "output_type": "execute_result"
    }
   ],
   "source": [
    "'Hello'.upper().isupper()"
   ]
  },
  {
   "cell_type": "code",
   "execution_count": 20,
   "id": "49ebc4fe",
   "metadata": {},
   "outputs": [
    {
     "data": {
      "text/plain": [
       "'hello'"
      ]
     },
     "execution_count": 20,
     "metadata": {},
     "output_type": "execute_result"
    }
   ],
   "source": [
    "'Hello'.upper().lower()"
   ]
  },
  {
   "cell_type": "markdown",
   "id": "792e481d",
   "metadata": {},
   "source": [
    "#### 8. What are the values of the following expressions?\n",
    "&#39;Remember, remember, the fifth of July.&#39;.split()\n",
    "&#39;-&#39;.join(&#39;There can only one.&#39;.split())"
   ]
  },
  {
   "cell_type": "code",
   "execution_count": 21,
   "id": "f2e3c731",
   "metadata": {},
   "outputs": [
    {
     "data": {
      "text/plain": [
       "['Remember,', 'remember,', 'the', 'fifth', 'of', 'July.']"
      ]
     },
     "execution_count": 21,
     "metadata": {},
     "output_type": "execute_result"
    }
   ],
   "source": [
    "'Remember, remember, the fifth of July.'.split()"
   ]
  },
  {
   "cell_type": "code",
   "execution_count": 22,
   "id": "32f6a50a",
   "metadata": {},
   "outputs": [
    {
     "data": {
      "text/plain": [
       "'There-can-only-one.'"
      ]
     },
     "execution_count": 22,
     "metadata": {},
     "output_type": "execute_result"
    }
   ],
   "source": [
    "'-'.join('There can only one.'.split())"
   ]
  },
  {
   "cell_type": "markdown",
   "id": "1cad7ae2",
   "metadata": {},
   "source": [
    "#### 9. What are the methods for right-justifying, left-justifying, and centering a string?"
   ]
  },
  {
   "cell_type": "markdown",
   "id": "8d54d07e",
   "metadata": {},
   "source": [
    "ljust(n,filchar) - left-justifiying\n",
    "\n",
    "rjust(n,filchar) - righ-justifiying\n",
    "\n",
    "center(n,filchar) - center"
   ]
  },
  {
   "cell_type": "code",
   "execution_count": 24,
   "id": "e695436c",
   "metadata": {},
   "outputs": [
    {
     "name": "stdout",
     "output_type": "stream",
     "text": [
      "I want to become DataScientist\n",
      "left-justifying string:  I want to become DataScientist##############################\n",
      "rigt-justifying string:  ##############################I want to become DataScientist\n",
      "center-justifying string:  ###############I want to become DataScientist###############\n"
     ]
    }
   ],
   "source": [
    "s = 'I want to become DataScientist'\n",
    "print(s)\n",
    "print('left-justifying string: ', s.ljust(60,'#'))\n",
    "print('rigt-justifying string: ', s.rjust(60,'#'))\n",
    "print('center-justifying string: ', s.center(60,'#'))"
   ]
  },
  {
   "cell_type": "markdown",
   "id": "637fb51d",
   "metadata": {},
   "source": [
    "#### 10. What is the best way to remove whitespace characters from the start or end?"
   ]
  },
  {
   "cell_type": "markdown",
   "id": "0866d50d",
   "metadata": {},
   "source": [
    "strip() this method used to remove whitespaces both ends of string\n",
    "\n",
    "rstrip() this method is used to remove whitespaces at the end\n",
    "\n",
    "lstrip() this method is used to remove whitespaces at the start"
   ]
  },
  {
   "cell_type": "code",
   "execution_count": 28,
   "id": "284314e9",
   "metadata": {},
   "outputs": [
    {
     "name": "stdout",
     "output_type": "stream",
     "text": [
      "       Hello world          \n",
      "white space removed stirng: Hello world\n",
      "white space removed at starting: Hello world          \n",
      "white space removed at begining:         Hello world\n"
     ]
    }
   ],
   "source": [
    "a= '       Hello world          '\n",
    "print(a)\n",
    "print('white space removed stirng:',a.strip())\n",
    "print('white space removed at starting:',a.lstrip())\n",
    "print('white space removed at begining: ',a.rstrip())"
   ]
  },
  {
   "cell_type": "code",
   "execution_count": null,
   "id": "d72fe486",
   "metadata": {},
   "outputs": [],
   "source": []
  }
 ],
 "metadata": {
  "kernelspec": {
   "display_name": "Python 3 (ipykernel)",
   "language": "python",
   "name": "python3"
  },
  "language_info": {
   "codemirror_mode": {
    "name": "ipython",
    "version": 3
   },
   "file_extension": ".py",
   "mimetype": "text/x-python",
   "name": "python",
   "nbconvert_exporter": "python",
   "pygments_lexer": "ipython3",
   "version": "3.9.7"
  }
 },
 "nbformat": 4,
 "nbformat_minor": 5
}
