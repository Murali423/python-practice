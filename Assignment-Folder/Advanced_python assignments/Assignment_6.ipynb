{
 "cells": [
  {
   "cell_type": "markdown",
   "id": "777e191f",
   "metadata": {},
   "source": [
    "### Assignment_6"
   ]
  },
  {
   "cell_type": "markdown",
   "id": "5ee47e18",
   "metadata": {},
   "source": [
    "Submitted by Murali Divya Teja Gummadidala"
   ]
  },
  {
   "cell_type": "markdown",
   "id": "7d94e1e5",
   "metadata": {},
   "source": [
    "#### Q1. Describe three applications for exception processing."
   ]
  },
  {
   "cell_type": "markdown",
   "id": "713637dd",
   "metadata": {},
   "source": [
    "__Ans:__ Exception is the an error occured at runtime of program which stops the normal flow of program\n",
    "\n",
    "Applications:\n",
    "1. Exceptions are used to give the Human understnadable Error.\n",
    "2. Exception make sure the correcty inputs we have given to program.\n",
    "3. Exceptions will handle complex Logic with appropiate Error value and make sure running and closing the progtam at smooth phase.\n",
    "4. Checking for Arithmetic exceptions in mathematical executions"
   ]
  },
  {
   "cell_type": "markdown",
   "id": "9e744580",
   "metadata": {},
   "source": [
    "#### Q2. What happens if you don&#39;t do something extra to treat an exception?"
   ]
  },
  {
   "cell_type": "markdown",
   "id": "25d2c409",
   "metadata": {},
   "source": [
    "__Ans:__ If proper handeling of exception is not done means the program will behave abnormally and smoth flow of program will be broken at runtime. which will cause system and application crash."
   ]
  },
  {
   "cell_type": "markdown",
   "id": "22f77cff",
   "metadata": {},
   "source": [
    "#### Q3. What are your options for recovering from an exception in your script?"
   ]
  },
  {
   "cell_type": "markdown",
   "id": "bdc11441",
   "metadata": {},
   "source": [
    "__Ans:__ In python to avoid exceptions we have `try` and `except` special keywords which can handle the any large function smoothly."
   ]
  },
  {
   "cell_type": "code",
   "execution_count": 3,
   "id": "010f4eca",
   "metadata": {},
   "outputs": [
    {
     "name": "stdout",
     "output_type": "stream",
     "text": [
      "name 'x' is not defined\n"
     ]
    }
   ],
   "source": [
    "try:\n",
    "    print(x)\n",
    "except Exception as e:\n",
    "    print(e)"
   ]
  },
  {
   "cell_type": "markdown",
   "id": "5a3aa6d4",
   "metadata": {},
   "source": [
    "here we didn't give the x variable if we execute normally it will show syntax error but with try and exception we are able to execute properly."
   ]
  },
  {
   "cell_type": "markdown",
   "id": "fcfe8902",
   "metadata": {},
   "source": [
    "#### Q4. Describe two methods for triggering exceptions in your script."
   ]
  },
  {
   "cell_type": "markdown",
   "id": "56673696",
   "metadata": {},
   "source": [
    "__Ans:__ In python we have `raise` and `assert` that can be used to trigger manual exceptions in our script.\n",
    "\n",
    "1. `assert`- will let the program to continue execution if condition provided to it turns out to be True else exception will be raised\n",
    "2. `raise`- method triggers an exception if condition provided to it turns out to be True."
   ]
  },
  {
   "cell_type": "code",
   "execution_count": 4,
   "id": "1eb78a6e",
   "metadata": {},
   "outputs": [
    {
     "ename": "Exception",
     "evalue": "M Value Should not exceed 20 The Provided Value of M is 550",
     "output_type": "error",
     "traceback": [
      "\u001b[1;31m---------------------------------------------------------------------------\u001b[0m",
      "\u001b[1;31mException\u001b[0m                                 Traceback (most recent call last)",
      "\u001b[1;32m~\\AppData\\Local\\Temp/ipykernel_8096/3646435942.py\u001b[0m in \u001b[0;36m<module>\u001b[1;34m\u001b[0m\n\u001b[0;32m      1\u001b[0m \u001b[0mm\u001b[0m \u001b[1;33m=\u001b[0m \u001b[1;36m550\u001b[0m\u001b[1;33m\u001b[0m\u001b[1;33m\u001b[0m\u001b[0m\n\u001b[1;32m----> 2\u001b[1;33m \u001b[1;32mraise\u001b[0m \u001b[0mException\u001b[0m\u001b[1;33m(\u001b[0m\u001b[1;34mf'M Value Should not exceed 20 The Provided Value of M is {m}'\u001b[0m\u001b[1;33m)\u001b[0m\u001b[1;33m\u001b[0m\u001b[1;33m\u001b[0m\u001b[0m\n\u001b[0m",
      "\u001b[1;31mException\u001b[0m: M Value Should not exceed 20 The Provided Value of M is 550"
     ]
    }
   ],
   "source": [
    "m = 550\n",
    "raise Exception(f'M Value Should not exceed 20 The Provided Value of M is {m}')"
   ]
  },
  {
   "cell_type": "code",
   "execution_count": 7,
   "id": "b66a8b19",
   "metadata": {},
   "outputs": [
    {
     "ename": "AssertionError",
     "evalue": "x not equal to y",
     "output_type": "error",
     "traceback": [
      "\u001b[1;31m---------------------------------------------------------------------------\u001b[0m",
      "\u001b[1;31mAssertionError\u001b[0m                            Traceback (most recent call last)",
      "\u001b[1;32m~\\AppData\\Local\\Temp/ipykernel_8096/257549848.py\u001b[0m in \u001b[0;36m<module>\u001b[1;34m\u001b[0m\n\u001b[0;32m      2\u001b[0m \u001b[0mx\u001b[0m \u001b[1;33m=\u001b[0m\u001b[1;36m5\u001b[0m\u001b[1;33m\u001b[0m\u001b[1;33m\u001b[0m\u001b[0m\n\u001b[0;32m      3\u001b[0m \u001b[0my\u001b[0m \u001b[1;33m=\u001b[0m\u001b[1;36m6\u001b[0m\u001b[1;33m\u001b[0m\u001b[1;33m\u001b[0m\u001b[0m\n\u001b[1;32m----> 4\u001b[1;33m \u001b[1;32massert\u001b[0m\u001b[1;33m(\u001b[0m\u001b[0mx\u001b[0m\u001b[1;33m==\u001b[0m\u001b[0my\u001b[0m\u001b[1;33m)\u001b[0m\u001b[1;33m,\u001b[0m \u001b[1;34m\"x not equal to y\"\u001b[0m\u001b[1;33m\u001b[0m\u001b[1;33m\u001b[0m\u001b[0m\n\u001b[0m",
      "\u001b[1;31mAssertionError\u001b[0m: x not equal to y"
     ]
    }
   ],
   "source": [
    "# Example of assert\n",
    "x =5\n",
    "y =6\n",
    "assert(x==y), \"x not equal to y\""
   ]
  },
  {
   "cell_type": "markdown",
   "id": "b07fbb7a",
   "metadata": {},
   "source": [
    "#### Q5. Identify two methods for specifying actions to be executed at termination time, regardless of whether or not an exception exists."
   ]
  },
  {
   "cell_type": "markdown",
   "id": "a2997db6",
   "metadata": {},
   "source": [
    "__Ans:__ Python Provides `else` and `finally` blocks for specifying actions to be executed at termination time, regardless of whether an exceptions exists or not."
   ]
  },
  {
   "cell_type": "code",
   "execution_count": null,
   "id": "259e96e8",
   "metadata": {},
   "outputs": [],
   "source": []
  }
 ],
 "metadata": {
  "kernelspec": {
   "display_name": "Python 3 (ipykernel)",
   "language": "python",
   "name": "python3"
  },
  "language_info": {
   "codemirror_mode": {
    "name": "ipython",
    "version": 3
   },
   "file_extension": ".py",
   "mimetype": "text/x-python",
   "name": "python",
   "nbconvert_exporter": "python",
   "pygments_lexer": "ipython3",
   "version": "3.9.7"
  }
 },
 "nbformat": 4,
 "nbformat_minor": 5
}
