{
 "cells": [
  {
   "cell_type": "markdown",
   "id": "44477f67",
   "metadata": {},
   "source": [
    "### Assignment_1"
   ]
  },
  {
   "cell_type": "markdown",
   "id": "ae6ec903",
   "metadata": {},
   "source": [
    "Submitted by Murali Divya Teja Gummadidala"
   ]
  },
  {
   "cell_type": "markdown",
   "id": "7b608e55",
   "metadata": {},
   "source": [
    "#### Q1. What is the purpose of Python&#39;s OOP?"
   ]
  },
  {
   "cell_type": "markdown",
   "id": "7072af26",
   "metadata": {},
   "source": [
    "__Ans:__ OOPS stands for Object Oriented Programming Langeuage, OOPS provides structuring program and properties and methods bundled into one block class so that we can have files and modules.\n",
    " \n",
    " 1. The main concept of OOPs is to bind the data and the functions that work on that together as a single unit so that no other part of the code can access this data.\n",
    " 2. It aims to implement real-world entities like inheritance, polymorphisms, encapsulation, etc. in the programming\n",
    " 3. It helps the divide program in modular fashion so that reading and understnading is easy.\n",
    " 4. Helps in easy maintenance and modification of existing program"
   ]
  },
  {
   "cell_type": "markdown",
   "id": "9416d591",
   "metadata": {},
   "source": [
    "#### Q2. Where does an inheritance search look for an attribute?"
   ]
  },
  {
   "cell_type": "markdown",
   "id": "645527ef",
   "metadata": {},
   "source": [
    "__Ans:__ Inheritance is the process of acquring the properties of parent class to child calss.Python Inheritance searches for an attribute in an upward tree of attributes. \n",
    "\n",
    "If follows MRO to search for attribute or function."
   ]
  },
  {
   "cell_type": "markdown",
   "id": "d84bd518",
   "metadata": {},
   "source": [
    "#### Q3. How do you distinguish between a class object and an instance object?"
   ]
  },
  {
   "cell_type": "markdown",
   "id": "a2cc8da5",
   "metadata": {},
   "source": [
    "__Ans:__ The differences between a class object and an instance object are:\n",
    "\n",
    "1. Class is a template for creating objects whereas object is an instance of class\n",
    "2. Seperate memory is allocated for each object whenever an object is created. but for a class this doesnot happens.\n",
    "3. A Class is created once. Many objects are created using a class.\n",
    "5. As Classes have no allocated memory. they can't be manipulated. but objects can be manipulated."
   ]
  },
  {
   "cell_type": "markdown",
   "id": "273d5c8e",
   "metadata": {},
   "source": [
    "#### Q4. What makes the first argument in a class’s method function special?"
   ]
  },
  {
   "cell_type": "markdown",
   "id": "f0d6fb41",
   "metadata": {},
   "source": [
    "__Ans:__ in class method the first argument point to class object. with which we can refer any attribute or method inside the class. Usually `self` is used as first argument to refer object, we can use any other argument."
   ]
  },
  {
   "cell_type": "markdown",
   "id": "69b5a283",
   "metadata": {},
   "source": [
    "#### Q5. What is the purpose of the __init__ method?"
   ]
  },
  {
   "cell_type": "markdown",
   "id": "4916ce9d",
   "metadata": {},
   "source": [
    "__Ans:__ In every python class we can find __init__() method most of time. it is a __constructor used to intialize the data for object attributes.__ it is called when an object is initialized."
   ]
  },
  {
   "cell_type": "markdown",
   "id": "31c10288",
   "metadata": {},
   "source": [
    "#### Q6. What is the process for creating a class instance?"
   ]
  },
  {
   "cell_type": "markdown",
   "id": "c065cc87",
   "metadata": {},
   "source": [
    "__Ans:__ To create class instance we need to pass the arguments which required by __init__() method of a class\n",
    "\n",
    "__example:__   car = Car('BMW','v12 engine','White')"
   ]
  },
  {
   "cell_type": "markdown",
   "id": "97a0ec48",
   "metadata": {},
   "source": [
    "#### Q7. What is the process for creating a class?"
   ]
  },
  {
   "cell_type": "markdown",
   "id": "d2332973",
   "metadata": {},
   "source": [
    "__Ans:__ class keyword is used to created a class in python. The syntax to create a class in python is class <classname>:\n",
    "\n",
    "__example:__ class Car"
   ]
  },
  {
   "cell_type": "markdown",
   "id": "520bcf76",
   "metadata": {},
   "source": [
    "#### Q8. How would you define the superclasses of a class?"
   ]
  },
  {
   "cell_type": "markdown",
   "id": "8b6c9a4c",
   "metadata": {},
   "source": [
    "__Ans:__ Superclass/Parent class is given as a arugment to the child class\n",
    "\n",
    "__Example:__ class Employee(Person): Here child class Employee inherits attributes and methods/functions from Superclass/Parent Person"
   ]
  },
  {
   "cell_type": "code",
   "execution_count": null,
   "id": "1ef6d51b",
   "metadata": {},
   "outputs": [],
   "source": []
  }
 ],
 "metadata": {
  "kernelspec": {
   "display_name": "Python 3 (ipykernel)",
   "language": "python",
   "name": "python3"
  },
  "language_info": {
   "codemirror_mode": {
    "name": "ipython",
    "version": 3
   },
   "file_extension": ".py",
   "mimetype": "text/x-python",
   "name": "python",
   "nbconvert_exporter": "python",
   "pygments_lexer": "ipython3",
   "version": "3.9.7"
  }
 },
 "nbformat": 4,
 "nbformat_minor": 5
}
