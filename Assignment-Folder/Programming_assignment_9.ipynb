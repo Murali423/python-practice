{
 "cells": [
  {
   "cell_type": "markdown",
   "id": "0ebc3908",
   "metadata": {},
   "source": [
    "### Programming_Asssignment_9"
   ]
  },
  {
   "cell_type": "markdown",
   "id": "efc2d2d0",
   "metadata": {},
   "source": [
    "#### 1. Write a Python program to check if the given number is a Disarium Number?"
   ]
  },
  {
   "cell_type": "code",
   "execution_count": 6,
   "id": "1f3d625f",
   "metadata": {},
   "outputs": [
    {
     "name": "stdout",
     "output_type": "stream",
     "text": [
      "Enter the Number: 135\n",
      "135  is Disarium Number\n"
     ]
    }
   ],
   "source": [
    "a = int(input('Enter the Number: '))\n",
    "def isDisariumNum(a):\n",
    "    b = str(a)\n",
    "    m = 0\n",
    "    for i in range(len(b)):\n",
    "        m = m + int(b[i])**(i+1)\n",
    "    return m\n",
    "\n",
    "res = isDisariumNum(a)\n",
    "if res == a:\n",
    "    print(a,' is Disarium Number')\n",
    "else:\n",
    "    print(a,' NotDisarium Number ')"
   ]
  },
  {
   "cell_type": "markdown",
   "id": "d5991ae0",
   "metadata": {},
   "source": [
    "#### 2. Write a Python program to print all disarium numbers between 1 to 100?"
   ]
  },
  {
   "cell_type": "code",
   "execution_count": 8,
   "id": "250e6e37",
   "metadata": {},
   "outputs": [
    {
     "name": "stdout",
     "output_type": "stream",
     "text": [
      "Disarium numbers between 1 to 1000 are  [1, 2, 3, 4, 5, 6, 7, 8, 9, 89, 135, 175, 518, 598]\n"
     ]
    }
   ],
   "source": [
    "disa =[]\n",
    "for i in range(1,1000):\n",
    "    res = isDisariumNum(i)\n",
    "    if res == i:\n",
    "        disa.append(i)\n",
    "print('Disarium numbers between 1 to 1000 are ',disa)\n",
    "        "
   ]
  },
  {
   "cell_type": "markdown",
   "id": "eb1f72e3",
   "metadata": {},
   "source": [
    "#### 3. Write a Python program to check if the given number is Happy Number?"
   ]
  },
  {
   "cell_type": "code",
   "execution_count": 9,
   "id": "e6d6d5b1",
   "metadata": {},
   "outputs": [
    {
     "name": "stdout",
     "output_type": "stream",
     "text": [
      "Enter the Number 49\n",
      "49 is a happy number\n"
     ]
    }
   ],
   "source": [
    "def isHappyNumber(n):\n",
    "    rm=sum = 0\n",
    "    while (n>0):\n",
    "        rm = n%10\n",
    "        sum += rm*rm\n",
    "        n = n//10\n",
    "    return sum\n",
    "n = int(input('Enter the Number '))\n",
    "r = n\n",
    "while(r!=1 and r!=4):\n",
    "    r = isHappyNumber(r)\n",
    "if(r == 1):  \n",
    "    print(str(n) + \" is a happy number\")   \n",
    "elif(r == 4):  \n",
    "    print(str(n) + \" is not a happy number\")     "
   ]
  },
  {
   "cell_type": "markdown",
   "id": "6911f0f2",
   "metadata": {},
   "source": [
    "#### 4. Write a Python program to print all happy numbers between 1 and 100?"
   ]
  },
  {
   "cell_type": "code",
   "execution_count": 10,
   "id": "5fbded00",
   "metadata": {},
   "outputs": [
    {
     "name": "stdout",
     "output_type": "stream",
     "text": [
      "Happy Numbers between 1 to 100 [1, 7, 10, 13, 19, 23, 28, 31, 32, 44, 49, 68, 70, 79, 82, 86, 91, 94, 97]\n"
     ]
    }
   ],
   "source": [
    "happynum = []\n",
    "for i in range(1,100):\n",
    "    r = i\n",
    "    while(r!=1 and r!=4):\n",
    "        r = isHappyNumber(r)\n",
    "    if(r == 1):  \n",
    "        happynum.append(i)\n",
    "print('Happy Numbers between 1 to 100',happynum)"
   ]
  },
  {
   "cell_type": "markdown",
   "id": "7aa2fb8a",
   "metadata": {},
   "source": [
    "#### 5. Write a Python program to determine whether the given number is a Harshad Number?"
   ]
  },
  {
   "cell_type": "code",
   "execution_count": 11,
   "id": "eb305f0c",
   "metadata": {},
   "outputs": [
    {
     "name": "stdout",
     "output_type": "stream",
     "text": [
      "Enter the number: 120\n",
      "120  is Harshad Number\n"
     ]
    }
   ],
   "source": [
    "a = int(input('Enter the number: '))\n",
    "def isHarshadNum(a):\n",
    "    b = str(a)\n",
    "    m = 0\n",
    "    for i in range(len(b)):\n",
    "        m += int(b[i])\n",
    "    return m\n",
    "res = isHarshadNum(a)\n",
    "if a%res == 0:\n",
    "    print(a,' is Harshad Number')\n",
    "else: \n",
    "    print (a,' is Not Harshad Number')"
   ]
  },
  {
   "cell_type": "markdown",
   "id": "1a778413",
   "metadata": {},
   "source": [
    "#### 6. Write a Python program to print all pronic numbers between 1 and 100?"
   ]
  },
  {
   "cell_type": "code",
   "execution_count": 12,
   "id": "2b496d13",
   "metadata": {},
   "outputs": [
    {
     "name": "stdout",
     "output_type": "stream",
     "text": [
      "Pronic numbers list [2, 6, 12, 20, 30, 42, 56, 72, 90]\n"
     ]
    }
   ],
   "source": [
    "def isPronicNumber(n):\n",
    "    flag = False\n",
    "    for i in range(1,n+1):\n",
    "        if ((i*(i+1))==n):\n",
    "            flag = True\n",
    "            break\n",
    "    return flag\n",
    "\n",
    "prn =[]\n",
    "for i in range(1,101):\n",
    "    if isPronicNumber(i):\n",
    "        prn.append(i)\n",
    "print('Pronic numbers list',prn)"
   ]
  },
  {
   "cell_type": "code",
   "execution_count": null,
   "id": "8a8d545d",
   "metadata": {},
   "outputs": [],
   "source": []
  }
 ],
 "metadata": {
  "kernelspec": {
   "display_name": "Python 3 (ipykernel)",
   "language": "python",
   "name": "python3"
  },
  "language_info": {
   "codemirror_mode": {
    "name": "ipython",
    "version": 3
   },
   "file_extension": ".py",
   "mimetype": "text/x-python",
   "name": "python",
   "nbconvert_exporter": "python",
   "pygments_lexer": "ipython3",
   "version": "3.9.7"
  }
 },
 "nbformat": 4,
 "nbformat_minor": 5
}
