{
 "cells": [
  {
   "cell_type": "markdown",
   "id": "ff81283d",
   "metadata": {},
   "source": [
    "## Assignment_13"
   ]
  },
  {
   "cell_type": "markdown",
   "id": "23dc256b",
   "metadata": {},
   "source": [
    "Submitted By: Murali Divya Teja Gummadidala"
   ]
  },
  {
   "cell_type": "markdown",
   "id": "949f1438",
   "metadata": {},
   "source": [
    "#### 1. What advantages do Excel spreadsheets have over CSV spreadsheets?"
   ]
  },
  {
   "cell_type": "markdown",
   "id": "cde3d9fe",
   "metadata": {},
   "source": [
    "__Ans:__ CSV - comma seperated values It holds plain text as a series of values (cells) separated by commas (, ) in a series of lines (rows). CSV file can actually open in a text editor and read it. \n",
    "\n",
    "Excel- MS Excel used to store data in rows and columns format which we call as cell.\n",
    "\n",
    "Excel can perform analytical, Mathaematical and Graphical operation on rows which is not handeled by csv.\n",
    "Excel can perform complex operation on numerical and string cells.\n"
   ]
  },
  {
   "cell_type": "markdown",
   "id": "8db3dba4",
   "metadata": {},
   "source": [
    "#### 2.What do you pass to csv.reader() and csv.writer() to create reader and writer objects?"
   ]
  },
  {
   "cell_type": "markdown",
   "id": "08d63a8f",
   "metadata": {},
   "source": [
    "__Ans:__ "
   ]
  },
  {
   "cell_type": "code",
   "execution_count": 2,
   "id": "1ba4a6df",
   "metadata": {},
   "outputs": [],
   "source": [
    "import csv\n",
    "with open('protagonist.csv', 'w', newline='') as file:\n",
    "    writer = csv.writer(file)\n",
    "    writer.writerow([\"SN\", \"Movie\", \"Protagonist\"])\n",
    "    writer.writerow([1, \"Lord of the Rings\", \"Frodo Baggins\"])\n",
    "    writer.writerow([2, \"Harry Potter\", \"Harry Potter\"])"
   ]
  },
  {
   "cell_type": "code",
   "execution_count": 3,
   "id": "32584f7a",
   "metadata": {},
   "outputs": [
    {
     "name": "stdout",
     "output_type": "stream",
     "text": [
      "['SN', 'Movie', 'Protagonist']\n",
      "['1', 'Lord of the Rings', 'Frodo Baggins']\n",
      "['2', 'Harry Potter', 'Harry Potter']\n"
     ]
    }
   ],
   "source": [
    "with open('protagonist.csv','r') as f:\n",
    "    reader = csv.reader(f)\n",
    "    for i in reader:\n",
    "        print(i)"
   ]
  },
  {
   "cell_type": "markdown",
   "id": "b3085826",
   "metadata": {},
   "source": [
    "#### 3. What modes do File objects for reader and writer objects need to be opened in?"
   ]
  },
  {
   "cell_type": "markdown",
   "id": "b1247601",
   "metadata": {},
   "source": [
    "__Ans:__ \n",
    "\n",
    "- For csv file object to read we use `csv.reader(file)` it will read in `'r'` read mode.\n",
    "\n",
    "- For csv file object to write we use `csv.writer(file)` it will write in `'w'`write mode."
   ]
  },
  {
   "cell_type": "markdown",
   "id": "0febe7cd",
   "metadata": {},
   "source": [
    "#### 4. What method takes a list argument and writes it to a CSV file?"
   ]
  },
  {
   "cell_type": "code",
   "execution_count": 4,
   "id": "9c617991",
   "metadata": {},
   "outputs": [],
   "source": [
    "import csv      \n",
    "fields = ['Name', 'Branch', 'Year', 'CGPA'] #column names \n",
    "rows = [ \n",
    "            ['Gaurav', 'COE', '2', '9.0'],  # data rows of csv file \n",
    "            ['Vivek', 'COE', '2', '9.1'], \n",
    "            ['Ram', 'IT', '2', '9.3']\n",
    "       ] \n",
    "with open(\"university_records.csv\", 'w') as csvfile: \n",
    "    csvwriter = csv.writer(csvfile) # creating a csv writer object \n",
    "    csvwriter.writerow(fields) # writing the fields \n",
    "    csvwriter.writerows(rows) # writing the data rows "
   ]
  },
  {
   "cell_type": "markdown",
   "id": "ded21fca",
   "metadata": {},
   "source": [
    "#### 5. What do the keyword arguments delimiter and line terminator do?"
   ]
  },
  {
   "cell_type": "markdown",
   "id": "ed0d7ed9",
   "metadata": {},
   "source": [
    "__Ans:__ \n",
    "\n",
    "['Gaurav', 'COE', '2', '9.0'],\n",
    "['Vivek', 'COE', '2', '9.1'], \n",
    "['Ram', 'IT', '2', '9.3']\n",
    "\n",
    "Here if we see `,` is Delimier, it seperate data based on this delimiter. and terminator will be comes at end of line by default it is newline and can be changed accourding to Requirement."
   ]
  },
  {
   "cell_type": "markdown",
   "id": "b151a541",
   "metadata": {},
   "source": [
    "#### 6. What function takes a string of JSON data and returns a Python data structure?"
   ]
  },
  {
   "cell_type": "markdown",
   "id": "5fd8b891",
   "metadata": {},
   "source": [
    "__Ans:__ `loads()` will take string of JSON data and returns Python data strucure"
   ]
  },
  {
   "cell_type": "code",
   "execution_count": 6,
   "id": "b435ca8e",
   "metadata": {},
   "outputs": [
    {
     "name": "stdout",
     "output_type": "stream",
     "text": [
      "{\n",
      "    \"Name\": \"Murali\",\n",
      "    \"Age\":\"29\"\n",
      "}\n",
      "Type of my_details_json is <class 'str'>\n",
      "{'Name': 'Murali', 'Age': '29'}\n",
      "Type of my_details is <class 'dict'>\n"
     ]
    }
   ],
   "source": [
    "import json\n",
    "my_details_json ='''{\n",
    "    \"Name\": \"Murali\",\n",
    "    \"Age\":\"29\"\n",
    "}'''\n",
    "print(my_details_json)\n",
    "print(f'Type of my_details_json is {type(my_details_json)}')\n",
    "my_details = json.loads(my_details_json)\n",
    "print(my_details)\n",
    "print(f'Type of my_details is {type(my_details)}')"
   ]
  },
  {
   "cell_type": "markdown",
   "id": "94dbe3a1",
   "metadata": {},
   "source": [
    "#### 7. What function takes a Python data structure and returns a string of JSON data?"
   ]
  },
  {
   "cell_type": "markdown",
   "id": "2ef34bf4",
   "metadata": {},
   "source": [
    "__Ans:__ `dumps()` method is used to take python Data Structure and returns string of JSON data."
   ]
  },
  {
   "cell_type": "code",
   "execution_count": 10,
   "id": "a7c67697",
   "metadata": {},
   "outputs": [
    {
     "name": "stdout",
     "output_type": "stream",
     "text": [
      "Type of my_details_json is <class 'dict'>\n",
      "{\"good\": \"mood\", \"Earth\": \"Gun\"}\n",
      "Type of my_details_json is <class 'str'>\n"
     ]
    }
   ],
   "source": [
    "import json\n",
    "my_data = {'good':'mood','Earth':'Gun'}\n",
    "print(f'Type of my_details_json is {type(my_data)}')\n",
    "print(json.dumps(my_data))\n",
    "print(f'Type of my_details_json is {type(json.dumps(my_data))}')"
   ]
  },
  {
   "cell_type": "code",
   "execution_count": null,
   "id": "1827354f",
   "metadata": {},
   "outputs": [],
   "source": []
  }
 ],
 "metadata": {
  "kernelspec": {
   "display_name": "Python 3 (ipykernel)",
   "language": "python",
   "name": "python3"
  },
  "language_info": {
   "codemirror_mode": {
    "name": "ipython",
    "version": 3
   },
   "file_extension": ".py",
   "mimetype": "text/x-python",
   "name": "python",
   "nbconvert_exporter": "python",
   "pygments_lexer": "ipython3",
   "version": "3.9.7"
  }
 },
 "nbformat": 4,
 "nbformat_minor": 5
}
