{
 "cells": [
  {
   "cell_type": "markdown",
   "id": "8493acf1",
   "metadata": {},
   "source": [
    "### Programming_assignment_13"
   ]
  },
  {
   "cell_type": "markdown",
   "id": "63dd95ab",
   "metadata": {},
   "source": [
    "#### 1. Write a program that calculates and prints the value according to the given formula:"
   ]
  },
  {
   "cell_type": "code",
   "execution_count": 1,
   "id": "91b13db0",
   "metadata": {},
   "outputs": [
    {
     "name": "stdout",
     "output_type": "stream",
     "text": [
      "[18, 22, 25, 31]\n"
     ]
    }
   ],
   "source": [
    "def Q_form(d):\n",
    "    \"\"\"\n",
    "    formula for Q to get that one\n",
    "    \"\"\"\n",
    "    C = 50\n",
    "    H = 30\n",
    "    Q = ((2*C*d)/H)**0.5\n",
    "    return Q\n",
    "\n",
    "d = [100,150,200,300]\n",
    "q = []\n",
    "for i in d:\n",
    "    q.append(int(Q_form(i)))\n",
    "print(q)\n",
    "    "
   ]
  },
  {
   "cell_type": "markdown",
   "id": "add0584f",
   "metadata": {},
   "source": [
    "#### Question 2: Write a program which takes 2 digits, X,Y as input and generates a 2-dimensional array. The element value in the i-th row and j-th column of the array should be i*j."
   ]
  },
  {
   "cell_type": "code",
   "execution_count": 4,
   "id": "f3cf831d",
   "metadata": {},
   "outputs": [
    {
     "name": "stdout",
     "output_type": "stream",
     "text": [
      "Enter the No of Rows:3\n",
      "Enter the No of Columns:5\n",
      "[[0, 0, 0, 0, 0], [0, 1, 2, 3, 4], [0, 2, 4, 6, 8]]\n"
     ]
    }
   ],
   "source": [
    "\n",
    "def generateArray():\n",
    "    in_x = int(input('Enter the No of Rows:'))\n",
    "    in_y = int(input('Enter the No of Columns:')) \n",
    "    out_array = []\n",
    "    for ele in range(in_x):\n",
    "        out_array.insert(in_x,[])\n",
    "        for sub_ele in range(in_y):\n",
    "            out_array[ele].append(ele*sub_ele)\n",
    "    print(out_array)\n",
    "    \n",
    "generateArray()\n",
    "      "
   ]
  },
  {
   "cell_type": "markdown",
   "id": "28a0870f",
   "metadata": {},
   "source": [
    "### 3. Write a program that accepts a comma separated sequence of words as input and prints thewords in a comma-separated sequence after sorting them alphabetically."
   ]
  },
  {
   "cell_type": "code",
   "execution_count": 29,
   "id": "d074a309",
   "metadata": {},
   "outputs": [
    {
     "name": "stdout",
     "output_type": "stream",
     "text": [
      "Enter the strings: without,hello,bag,world\n",
      "Output:  bag,hello,without,world\n"
     ]
    }
   ],
   "source": [
    "# input : without,hello,bag,world\n",
    "def sort_w():\n",
    "    a =  input('Enter the strings: ').split(',')\n",
    "    return ','.join(sorted(a))\n",
    "res = sort_w()\n",
    "print('Output: ',res)"
   ]
  },
  {
   "cell_type": "markdown",
   "id": "06e29968",
   "metadata": {},
   "source": [
    "#### 4.Write a program that accepts a sequence of whitespace separated words as input and printsthe words after removing all duplicate words and sorting them alphanumerically."
   ]
  },
  {
   "cell_type": "code",
   "execution_count": 31,
   "id": "da7e6f9e",
   "metadata": {},
   "outputs": [
    {
     "name": "stdout",
     "output_type": "stream",
     "text": [
      "Enter the strings: hello world and practice makes perfect and hello world again\n",
      "Output:  again and hello makes perfect practice world\n"
     ]
    }
   ],
   "source": [
    "# input: hello world and practice makes perfect and hello world again\n",
    "def rem_d():\n",
    "    a = input('Enter the strings: ').split(' ')\n",
    "    return ' '.join(sorted(list(set(a))))\n",
    "res = rem_d()\n",
    "print('Output: ',res)"
   ]
  },
  {
   "cell_type": "markdown",
   "id": "346d3c15",
   "metadata": {},
   "source": [
    "#### 5. Write a program that accepts a sentence and calculate the number of letters and digits."
   ]
  },
  {
   "cell_type": "code",
   "execution_count": 38,
   "id": "1a5077d4",
   "metadata": {},
   "outputs": [
    {
     "name": "stdout",
     "output_type": "stream",
     "text": [
      "Enter Strings: hello 123\n",
      "[['h', 'e', 'l', 'l', 'o'], ['1', '2', '3']]\n",
      "['h', 'e', 'l', 'l', 'o', '1', '2', '3']\n"
     ]
    }
   ],
   "source": [
    "#def let_di():\n",
    "a = input('Enter Strings: ').split(' ')\n",
    "b = [list(x) for x in a]\n",
    "c = []\n",
    "for i in b:\n",
    "    c.extend(i)\n",
    "print(b)\n",
    "print(c)"
   ]
  },
  {
   "cell_type": "code",
   "execution_count": null,
   "id": "274f1f1b",
   "metadata": {},
   "outputs": [],
   "source": []
  }
 ],
 "metadata": {
  "kernelspec": {
   "display_name": "Python 3 (ipykernel)",
   "language": "python",
   "name": "python3"
  },
  "language_info": {
   "codemirror_mode": {
    "name": "ipython",
    "version": 3
   },
   "file_extension": ".py",
   "mimetype": "text/x-python",
   "name": "python",
   "nbconvert_exporter": "python",
   "pygments_lexer": "ipython3",
   "version": "3.9.7"
  }
 },
 "nbformat": 4,
 "nbformat_minor": 5
}
