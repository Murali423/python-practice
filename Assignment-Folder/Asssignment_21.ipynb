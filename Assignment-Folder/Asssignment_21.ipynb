{
 "cells": [
  {
   "cell_type": "markdown",
   "id": "258f7338",
   "metadata": {},
   "source": [
    "### Asssignment_21"
   ]
  },
  {
   "cell_type": "markdown",
   "id": "9c436353",
   "metadata": {},
   "source": [
    "submitted by Murali Divya Teja Gummadidal"
   ]
  },
  {
   "cell_type": "markdown",
   "id": "a7a3a17d",
   "metadata": {},
   "source": [
    "#### 1. Add the current date to the text file today.txt as a string."
   ]
  },
  {
   "cell_type": "code",
   "execution_count": 5,
   "id": "41c0e221",
   "metadata": {},
   "outputs": [],
   "source": [
    "from datetime import datetime\n",
    "a = datetime.now()\n",
    "with open('today.txt','w') as f:\n",
    "    f.write(str(datetime.date(a)))\n",
    "    "
   ]
  },
  {
   "cell_type": "markdown",
   "id": "037f35d3",
   "metadata": {},
   "source": [
    "#### 2. Read the text file today.txt into the string today_string"
   ]
  },
  {
   "cell_type": "code",
   "execution_count": 7,
   "id": "6ffe6b62",
   "metadata": {},
   "outputs": [
    {
     "name": "stdout",
     "output_type": "stream",
     "text": [
      "2022-07-23\n"
     ]
    }
   ],
   "source": [
    "f1 = open('today.txt','r')\n",
    "today_string = f1.read()\n",
    "print(today_string)"
   ]
  },
  {
   "cell_type": "markdown",
   "id": "b130d3bd",
   "metadata": {},
   "source": [
    "#### 3. Parse the date from today_string."
   ]
  },
  {
   "cell_type": "code",
   "execution_count": 10,
   "id": "87618060",
   "metadata": {},
   "outputs": [
    {
     "name": "stdout",
     "output_type": "stream",
     "text": [
      "2022-07-23 00:00:00\n"
     ]
    }
   ],
   "source": [
    "parsed_data = datetime.strptime(today_string, '%Y-%m-%d')\n",
    "print(parsed_data)"
   ]
  },
  {
   "cell_type": "markdown",
   "id": "c49fde59",
   "metadata": {},
   "source": [
    "#### 4. List the files in your current directory"
   ]
  },
  {
   "cell_type": "code",
   "execution_count": 14,
   "id": "e1fd4aba",
   "metadata": {},
   "outputs": [
    {
     "name": "stdout",
     "output_type": "stream",
     "text": [
      "C:\\Users\\HP\\Documents\\python-practice\\Assignment-Folder\n",
      "['.ipynb_checkpoints', 'Assignment-1.ipynb', 'Assignment-17.ipynb', 'Assignment_10.ipynb', 'Assignment_11.ipynb', 'Assignment_12.ipynb', 'Assignment_13.ipynb', 'Assignment_14.ipynb', 'Assignment_15.ipynb', 'Assignment_16.ipynb', 'Assignment_18.ipynb', 'Assignment_19.ipynb', 'Assignment_2.ipynb', 'Assignment_20.ipynb', 'Assignment_3.ipynb', 'Assignment_4.ipynb', 'Assignment_5.ipynb', 'Assignment_6.ipynb', 'Assignment_7.ipynb', 'Assignment_8.ipynb', 'Assignment_9.ipynb', 'Asssignment_21.ipynb', 'books.csv', 'books.db', 'nebula.jpg', 'nebula2.jpg', 'Progamming_Assignment_12.ipynb', 'Programming_4.ipynb', 'Programming_Assignment.ipynb', 'Programming_assignment10.ipynb', 'Programming_assignment2.ipynb', 'Programming_Assignment3.ipynb', 'Programming_Assignment5.ipynb', 'Programming_assignment_11.ipynb', 'Programming_assignment_13.ipynb', 'Programming_assignment_14.ipynb', 'Programming_assignment_15.ipynb', 'Programming_assignment_16.ipynb', 'Programming_Assignment_17.ipynb', 'Programming_Assignment_18.ipynb', 'Programming_Assignment_19.ipynb', 'Programming_Assignment_20.ipynb', 'Programming_Assignment_21.ipynb', 'Programming_Assignment_22.ipynb', 'Programming_Assignment_23.ipynb', 'Programming_Assignment_24.ipynb', 'Programming_Assignment_25.ipynb', 'Programming_Assignment_7.ipynb', 'Programming_Assignment_8.ipynb', 'Programming_assignment_9.ipynb', 'Progrmming_Assignment_6.ipynb', 'Subjective_Questions.docx', 'test.txt', 'today.txt', 'Untitled1.ipynb', 'whomoved.pdf', 'whomoved11.pdf', 'zoo.py', '__pycache__']\n"
     ]
    }
   ],
   "source": [
    "import os\n",
    "print(os.getcwd())\n",
    "a = os.listdir()\n",
    "print(a)\n"
   ]
  },
  {
   "cell_type": "markdown",
   "id": "a7e946c8",
   "metadata": {},
   "source": [
    "#### 5. Create a list of all of the files in your parent directory (minimum five files should be available)."
   ]
  },
  {
   "cell_type": "code",
   "execution_count": 17,
   "id": "7eddbcd6",
   "metadata": {},
   "outputs": [
    {
     "data": {
      "text/plain": [
       "['.ipynb_checkpoints',\n",
       " 'Assignment-1.ipynb',\n",
       " 'Assignment-17.ipynb',\n",
       " 'Assignment_10.ipynb',\n",
       " 'Assignment_11.ipynb',\n",
       " 'Assignment_12.ipynb',\n",
       " 'Assignment_13.ipynb',\n",
       " 'Assignment_14.ipynb',\n",
       " 'Assignment_15.ipynb',\n",
       " 'Assignment_16.ipynb',\n",
       " 'Assignment_18.ipynb',\n",
       " 'Assignment_19.ipynb',\n",
       " 'Assignment_2.ipynb',\n",
       " 'Assignment_20.ipynb',\n",
       " 'Assignment_3.ipynb',\n",
       " 'Assignment_4.ipynb',\n",
       " 'Assignment_5.ipynb',\n",
       " 'Assignment_6.ipynb',\n",
       " 'Assignment_7.ipynb',\n",
       " 'Assignment_8.ipynb',\n",
       " 'Assignment_9.ipynb',\n",
       " 'Asssignment_21.ipynb',\n",
       " 'books.csv',\n",
       " 'books.db',\n",
       " 'nebula.jpg',\n",
       " 'nebula2.jpg',\n",
       " 'Progamming_Assignment_12.ipynb',\n",
       " 'Programming_4.ipynb',\n",
       " 'Programming_Assignment.ipynb',\n",
       " 'Programming_assignment10.ipynb',\n",
       " 'Programming_assignment2.ipynb',\n",
       " 'Programming_Assignment3.ipynb',\n",
       " 'Programming_Assignment5.ipynb',\n",
       " 'Programming_assignment_11.ipynb',\n",
       " 'Programming_assignment_13.ipynb',\n",
       " 'Programming_assignment_14.ipynb',\n",
       " 'Programming_assignment_15.ipynb',\n",
       " 'Programming_assignment_16.ipynb',\n",
       " 'Programming_Assignment_17.ipynb',\n",
       " 'Programming_Assignment_18.ipynb',\n",
       " 'Programming_Assignment_19.ipynb',\n",
       " 'Programming_Assignment_20.ipynb',\n",
       " 'Programming_Assignment_21.ipynb',\n",
       " 'Programming_Assignment_22.ipynb',\n",
       " 'Programming_Assignment_23.ipynb',\n",
       " 'Programming_Assignment_24.ipynb',\n",
       " 'Programming_Assignment_25.ipynb',\n",
       " 'Programming_Assignment_7.ipynb',\n",
       " 'Programming_Assignment_8.ipynb',\n",
       " 'Programming_assignment_9.ipynb',\n",
       " 'Progrmming_Assignment_6.ipynb',\n",
       " 'Subjective_Questions.docx',\n",
       " 'test.txt',\n",
       " 'today.txt',\n",
       " 'Untitled1.ipynb',\n",
       " 'whomoved.pdf',\n",
       " 'whomoved11.pdf',\n",
       " 'zoo.py',\n",
       " '__pycache__']"
      ]
     },
     "execution_count": 17,
     "metadata": {},
     "output_type": "execute_result"
    }
   ],
   "source": [
    "import os\n",
    "os.listdir()"
   ]
  },
  {
   "cell_type": "markdown",
   "id": "696a9e22",
   "metadata": {},
   "source": [
    "#### 6. Use multiprocessing to create three separate processes. Make each one wait a random number of seconds between one and five, print the current time, and then exit."
   ]
  },
  {
   "cell_type": "code",
   "execution_count": 19,
   "id": "32e46a5a",
   "metadata": {},
   "outputs": [],
   "source": [
    "import multiprocessing\n",
    "import datetime\n",
    "import random\n",
    "import time\n",
    "def procOne():\n",
    "    print(f'Proc_one_Starttime -> {datetime.datetime.now()}')\n",
    "    time.sleep(random.randint(1,5))\n",
    "    print(f'Proc_one_Endtime -> {datetime.datetime.now()}')\n",
    "    \n",
    "def procTwo():\n",
    "    print(f'Proc_two_Starttime -> {datetime.datetime.now()}')\n",
    "    time.sleep(random.randint(1,5))\n",
    "    print(f'Proc_two_Endtime -> {datetime.datetime.now()}')\n",
    "\n",
    "def procThree():\n",
    "    print(f'Proc_two_Starttime -> {datetime.datetime.now()}')\n",
    "    time.sleep(random.randint(1,5))\n",
    "    print(f'Proc_two_Endtime -> {datetime.datetime.now()}')\n",
    "    \n",
    "if __name__ == \"__main__\":    \n",
    "    p1 = multiprocessing.Process(target=procOne)\n",
    "    p2 = multiprocessing.Process(target=procTwo)\n",
    "    p3 = multiprocessing.Process(target=procThree)\n",
    "\n",
    "    p1.start()\n",
    "    p2.start()\n",
    "    p3.start()\n",
    "\n",
    "    p1.join()\n",
    "    p2.join()\n",
    "    p3.join()"
   ]
  },
  {
   "cell_type": "markdown",
   "id": "3439afcf",
   "metadata": {},
   "source": [
    "#### 7. Create a date object of your day of birth."
   ]
  },
  {
   "cell_type": "code",
   "execution_count": 23,
   "id": "935de67c",
   "metadata": {},
   "outputs": [
    {
     "name": "stdout",
     "output_type": "stream",
     "text": [
      "1993-05-28 00:00:00 <class 'datetime.datetime'>\n"
     ]
    }
   ],
   "source": [
    "from datetime import datetime\n",
    "my_dob = datetime.strptime('28/05/1993','%d/%m/%Y')\n",
    "print(my_dob, type(my_dob))"
   ]
  },
  {
   "cell_type": "markdown",
   "id": "00c8b17d",
   "metadata": {},
   "source": [
    "#### 8. What day of the week was your day of birth?"
   ]
  },
  {
   "cell_type": "code",
   "execution_count": 22,
   "id": "6bff9c40",
   "metadata": {},
   "outputs": [
    {
     "name": "stdout",
     "output_type": "stream",
     "text": [
      "Friday\n"
     ]
    }
   ],
   "source": [
    "from datetime import datetime\n",
    "my_dob = datetime.strptime('28/05/1993','%d/%m/%Y')\n",
    "print(my_dob.strftime('%A'))"
   ]
  },
  {
   "cell_type": "markdown",
   "id": "719ec267",
   "metadata": {},
   "source": [
    "#### 9. When will you be (or when were you) 10,000 days old?"
   ]
  },
  {
   "cell_type": "code",
   "execution_count": 24,
   "id": "fb5acb8d",
   "metadata": {},
   "outputs": [
    {
     "name": "stdout",
     "output_type": "stream",
     "text": [
      "1966-01-10 00:00:00\n"
     ]
    }
   ],
   "source": [
    "from datetime import datetime,timedelta\n",
    "my_dob = datetime.strptime('28/05/1993','%d/%m/%Y')\n",
    "past_date = my_dob - timedelta(10000)\n",
    "print(past_date)"
   ]
  },
  {
   "cell_type": "code",
   "execution_count": null,
   "id": "8469471a",
   "metadata": {},
   "outputs": [],
   "source": []
  }
 ],
 "metadata": {
  "kernelspec": {
   "display_name": "Python 3 (ipykernel)",
   "language": "python",
   "name": "python3"
  },
  "language_info": {
   "codemirror_mode": {
    "name": "ipython",
    "version": 3
   },
   "file_extension": ".py",
   "mimetype": "text/x-python",
   "name": "python",
   "nbconvert_exporter": "python",
   "pygments_lexer": "ipython3",
   "version": "3.9.7"
  }
 },
 "nbformat": 4,
 "nbformat_minor": 5
}
