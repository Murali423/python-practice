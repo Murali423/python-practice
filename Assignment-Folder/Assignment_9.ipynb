{
 "cells": [
  {
   "cell_type": "markdown",
   "id": "883419f3",
   "metadata": {},
   "source": [
    "### Assignment_9"
   ]
  },
  {
   "cell_type": "markdown",
   "id": "34417d42",
   "metadata": {},
   "source": [
    "Submitted By: Murali Divya Teja Gummadidala"
   ]
  },
  {
   "cell_type": "markdown",
   "id": "c381ff5f",
   "metadata": {},
   "source": [
    "#### 1. To what does a relative path refer?"
   ]
  },
  {
   "cell_type": "markdown",
   "id": "c9a444d5",
   "metadata": {},
   "source": [
    "__Ans:__ A relative path refers to a location that is relative to a current working directory. \n",
    "\n",
    "if we consider to bet `test.txt` in the given path `C:\\Documents\\PythonProjects\\myproject\\test.txt` here `C:\\Documents\\PythonProjects` is working directory and reamaining `myproject\\test.txt` are relative paths"
   ]
  },
  {
   "cell_type": "markdown",
   "id": "fa790eb0",
   "metadata": {},
   "source": [
    "#### 2. What does an absolute path start with your operating system?"
   ]
  },
  {
   "cell_type": "markdown",
   "id": "bd059ff1",
   "metadata": {},
   "source": [
    "__Ans:__ In Windows the absolue path starts with `C:\\` and in Linux path starts with `/` "
   ]
  },
  {
   "cell_type": "markdown",
   "id": "4a3e42d1",
   "metadata": {},
   "source": [
    "#### 3. What do the functions os.getcwd() and os.chdir() do?"
   ]
  },
  {
   "cell_type": "markdown",
   "id": "dcf8aec4",
   "metadata": {},
   "source": [
    "`os.getcwd()` - getcwd will returns the current working directory \n",
    "`os.chdir(path)` - chdir will chage the path from curren working directory"
   ]
  },
  {
   "cell_type": "code",
   "execution_count": 1,
   "id": "4d3b7e47",
   "metadata": {},
   "outputs": [
    {
     "name": "stdout",
     "output_type": "stream",
     "text": [
      "C:\\Users\\HP\\Documents\\python-practice\\Assignment-Folder\n"
     ]
    }
   ],
   "source": [
    "import os\n",
    "\n",
    "print(os.getcwd())"
   ]
  },
  {
   "cell_type": "code",
   "execution_count": 6,
   "id": "67a0bd17",
   "metadata": {},
   "outputs": [
    {
     "name": "stdout",
     "output_type": "stream",
     "text": [
      "C:\\Users\\HP\\Documents\\python-practice\n"
     ]
    }
   ],
   "source": [
    "os.chdir(r'C:\\Users\\HP\\Documents\\python-practice')\n",
    "print(os.getcwd())"
   ]
  },
  {
   "cell_type": "markdown",
   "id": "c2f372b5",
   "metadata": {},
   "source": [
    "#### 4. What are the . and .. folders?"
   ]
  },
  {
   "cell_type": "markdown",
   "id": "50b0deca",
   "metadata": {},
   "source": [
    "__Ans:__  `.` Represents the Current Directory Whereas `..` Represents the Parent Directory of the Current Directory"
   ]
  },
  {
   "cell_type": "markdown",
   "id": "bc04904c",
   "metadata": {},
   "source": [
    "`C:\\Users\\HP\\Documents\\python-practice\\Assignment-Folder` is the we can refer by `.`\n",
    "\n",
    "`C:\\Users\\HP\\Documents\\python-practice` we can move to parent directory by given `..`"
   ]
  },
  {
   "cell_type": "markdown",
   "id": "7e8ae990",
   "metadata": {},
   "source": [
    "#### 5. In C:\\bacon\\eggs\\spam.txt, which part is the dir name, and which part is the base name?"
   ]
  },
  {
   "cell_type": "markdown",
   "id": "d15a0558",
   "metadata": {},
   "source": [
    "__Ans:__ `C:\\bacon\\egg` is directory name\n",
    " \n",
    "`spam.txt` is basename"
   ]
  },
  {
   "cell_type": "code",
   "execution_count": 7,
   "id": "3322215d",
   "metadata": {},
   "outputs": [
    {
     "name": "stdout",
     "output_type": "stream",
     "text": [
      "C:\\bacon\\eggs\n",
      "spam.txt\n"
     ]
    }
   ],
   "source": [
    "import os\n",
    "path = r'C:\\bacon\\eggs\\spam.txt'\n",
    "print(os.path.dirname(path))\n",
    "print(os.path.basename(path))"
   ]
  },
  {
   "cell_type": "markdown",
   "id": "dd6881e3",
   "metadata": {},
   "source": [
    "#### 6. What are the three “mode” arguments that can be passed to the open() function?"
   ]
  },
  {
   "cell_type": "markdown",
   "id": "efa79668",
   "metadata": {},
   "source": [
    "__Ans__: A file can be Accessed in python using open() function. Open function takes two arguments filename and mode of operation (optional). If mode is not provided, the default mode of opening is Read mode.\n",
    "So, the syntax is: open(filename, mode)\n",
    "\n",
    "‘r’ – Read Mode: This is the default mode for open(). The file is opened and a pointer is positioned at the beginning of the file’s content.\n",
    "\n",
    "‘w’ – Write Mode: Using this mode will overwrite any existing content in a file. If the given file does not exist, a new one will be created.\n",
    "\n",
    "‘r+’ – Read/Write Mode: Use this mode if you need to simultaneously read and write to a file.\n",
    "\n",
    "‘a’ – Append Mode: With this mode the user can append the data without overwriting any already existing data in the file.\n",
    "\n",
    "‘a+’ – Append and Read Mode: In this mode you can read and append the data without overwriting the original file.\n",
    "\n",
    "‘x’ – Exclusive Creating Mode: This mode is for the sole purpose of creating new files. Use this mode if you know the file to be written doesn’t exist beforehand."
   ]
  },
  {
   "cell_type": "markdown",
   "id": "89128db7",
   "metadata": {},
   "source": [
    "#### 7. What happens if an existing file is opened in write mode?"
   ]
  },
  {
   "cell_type": "markdown",
   "id": "5205df62",
   "metadata": {},
   "source": [
    "__Ans:__  Using this mode, we can overwrite any existing content in a file. If the given file does not exist then a new one will be created."
   ]
  },
  {
   "cell_type": "markdown",
   "id": "0f0c475c",
   "metadata": {},
   "source": [
    "#### 8.How do you tell the difference between read() and readlines() ?"
   ]
  },
  {
   "cell_type": "markdown",
   "id": "4bed68e1",
   "metadata": {},
   "source": [
    "__Ans:__ `read()` file operation which returns whole data in file as a string.\n",
    "\n",
    "`readlines()` - it file operation which returns whole date in list of strings."
   ]
  },
  {
   "cell_type": "markdown",
   "id": "eb3acce7",
   "metadata": {},
   "source": [
    "#### 9. What data structure does a shelf value resemble?"
   ]
  },
  {
   "cell_type": "markdown",
   "id": "ba99f86e",
   "metadata": {},
   "source": [
    "__Ans:__ A shelf value resembles a dictionary value; it has keys and values, along with keys() and values() methods that work similarly to the dictionary methods of the same names."
   ]
  },
  {
   "cell_type": "code",
   "execution_count": null,
   "id": "6edd7ac4",
   "metadata": {},
   "outputs": [],
   "source": []
  }
 ],
 "metadata": {
  "kernelspec": {
   "display_name": "Python 3 (ipykernel)",
   "language": "python",
   "name": "python3"
  },
  "language_info": {
   "codemirror_mode": {
    "name": "ipython",
    "version": 3
   },
   "file_extension": ".py",
   "mimetype": "text/x-python",
   "name": "python",
   "nbconvert_exporter": "python",
   "pygments_lexer": "ipython3",
   "version": "3.9.7"
  }
 },
 "nbformat": 4,
 "nbformat_minor": 5
}
