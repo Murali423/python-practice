{
 "cells": [
  {
   "cell_type": "markdown",
   "id": "8c52ea14",
   "metadata": {},
   "source": [
    "### Programming_Assignmen_15"
   ]
  },
  {
   "cell_type": "markdown",
   "id": "bf499b1d",
   "metadata": {},
   "source": [
    "#### 1. Please write a program using generator to print the numbers which can be divisible by 5 and7 between 0 and n in comma separated form while n is input by console."
   ]
  },
  {
   "cell_type": "code",
   "execution_count": 1,
   "id": "1621b28b",
   "metadata": {},
   "outputs": [
    {
     "name": "stdout",
     "output_type": "stream",
     "text": [
      "0 35 70 105 140 175 210 245 280 315 350 385 420 455 490 525 560 595 630 665 700 735 770 805 840 875 910 945 980 "
     ]
    }
   ],
   "source": [
    "def div_5_7(n):\n",
    "    for i in range(n):\n",
    "        if i%5 == 0 and i%7 == 0:\n",
    "            yield i\n",
    "\n",
    "for j in div_5_7(1000):\n",
    "    print(j,end=' ')"
   ]
  },
  {
   "cell_type": "markdown",
   "id": "1c30f907",
   "metadata": {},
   "source": [
    "#### 2.Please write a program using generator to print the even numbers between 0 and n in commaseparated form while n is input by console."
   ]
  },
  {
   "cell_type": "code",
   "execution_count": 2,
   "id": "81860b9a",
   "metadata": {},
   "outputs": [
    {
     "name": "stdout",
     "output_type": "stream",
     "text": [
      "0,2,4,6,8,10,12,14,16,18,20,22,24,26,28,30,32,34,36,38,40,42,44,46,48,50,52,54,56,58,60,62,64,66,68,70,72,74,76,78,80,82,84,86,88,90,92,94,96,98,"
     ]
    }
   ],
   "source": [
    "def even_n(n):\n",
    "    for i in range(n):\n",
    "        if i%2 == 0:\n",
    "            yield i\n",
    "for j in even_n(100):\n",
    "    print(j,end=',')"
   ]
  },
  {
   "cell_type": "markdown",
   "id": "fa9af418",
   "metadata": {},
   "source": [
    "#### 3.Please write a program using list comprehension to print the Fibonacci Sequence in commaseparated form with a given n input by console."
   ]
  },
  {
   "cell_type": "code",
   "execution_count": 3,
   "id": "d5ccd478",
   "metadata": {},
   "outputs": [
    {
     "name": "stdout",
     "output_type": "stream",
     "text": [
      "Enter the number: 15\n",
      "0,1,1,2,3,5,8,13,21,34,55,89,144,233,377,610,987,"
     ]
    }
   ],
   "source": [
    "n = int(input('Enter the number: '))\n",
    "my_list = [0,1]\n",
    "[my_list.append(my_list[-2]+my_list[-1]) for n in range(n)]\n",
    "for i in my_list:\n",
    "    print(i,end=',')"
   ]
  },
  {
   "cell_type": "markdown",
   "id": "440658a7",
   "metadata": {},
   "source": [
    "#### 4.Assuming that we have some email addresses in the &quot;username@companyname.com&quot; format, please write program to print the user name of a given email address. Both user names and company names are composed of letters only."
   ]
  },
  {
   "cell_type": "code",
   "execution_count": 5,
   "id": "e1f4707e",
   "metadata": {},
   "outputs": [
    {
     "data": {
      "text/plain": [
       "'john'"
      ]
     },
     "execution_count": 5,
     "metadata": {},
     "output_type": "execute_result"
    }
   ],
   "source": [
    "#john@google.com\n",
    "def user_name(s):\n",
    "    n = s.find('@')\n",
    "    return s[:n]\n",
    "\n",
    "user_name('john@google.com')"
   ]
  },
  {
   "cell_type": "code",
   "execution_count": 6,
   "id": "b47c092c",
   "metadata": {},
   "outputs": [
    {
     "data": {
      "text/plain": [
       "'muraliteja'"
      ]
     },
     "execution_count": 6,
     "metadata": {},
     "output_type": "execute_result"
    }
   ],
   "source": [
    "user_name('muraliteja@gmail.com')"
   ]
  },
  {
   "cell_type": "markdown",
   "id": "3e2adb27",
   "metadata": {},
   "source": [
    "#### 5. Define a class named Shape and its subclass Square. The Square class has an init function which takes a length as argument. Both classes have a area function which can print the area of the shape where Shape&#39;s area is 0 by default."
   ]
  },
  {
   "cell_type": "code",
   "execution_count": 26,
   "id": "b6b1ad81",
   "metadata": {},
   "outputs": [
    {
     "name": "stdout",
     "output_type": "stream",
     "text": [
      "Lenght of Square is  20\n",
      "Area of the Square is 400\n"
     ]
    }
   ],
   "source": [
    "class Shape:\n",
    "    def area(self):\n",
    "        print('This super method is called')\n",
    "        return 0\n",
    "\n",
    "class Square(Shape):\n",
    "    def __init__(self,length=0):\n",
    "        self.length = length\n",
    "    def area(self):\n",
    "        if self.length >0:\n",
    "            return self.length * self.length\n",
    "        else:\n",
    "            super().area()\n",
    "        \n",
    "        \n",
    "a = Square(20)\n",
    "print('Lenght of Square is ',a.length)\n",
    "print('Area of the Square is',a.area())"
   ]
  },
  {
   "cell_type": "code",
   "execution_count": 27,
   "id": "6d42a081",
   "metadata": {},
   "outputs": [
    {
     "name": "stdout",
     "output_type": "stream",
     "text": [
      "Lenght of Square is  0\n",
      "This super method is called\n",
      "Area of the Square is  None\n"
     ]
    }
   ],
   "source": [
    "b = Square()\n",
    "print('Lenght of Square is ',b.length)\n",
    "print('Area of the Square is ',b.area())"
   ]
  },
  {
   "cell_type": "code",
   "execution_count": null,
   "id": "d0f5c379",
   "metadata": {},
   "outputs": [],
   "source": []
  }
 ],
 "metadata": {
  "kernelspec": {
   "display_name": "Python 3 (ipykernel)",
   "language": "python",
   "name": "python3"
  },
  "language_info": {
   "codemirror_mode": {
    "name": "ipython",
    "version": 3
   },
   "file_extension": ".py",
   "mimetype": "text/x-python",
   "name": "python",
   "nbconvert_exporter": "python",
   "pygments_lexer": "ipython3",
   "version": "3.9.7"
  }
 },
 "nbformat": 4,
 "nbformat_minor": 5
}
