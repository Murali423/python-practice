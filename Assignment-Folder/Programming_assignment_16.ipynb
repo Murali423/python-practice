{
 "cells": [
  {
   "cell_type": "markdown",
   "id": "9e9decb6",
   "metadata": {},
   "source": [
    "### Programming_Assignment_16"
   ]
  },
  {
   "cell_type": "markdown",
   "id": "2002ab66",
   "metadata": {},
   "source": [
    "#### 1.Write a function that stutters a word as if someone is struggling to read it. Thefirst two letters are repeated twice with an ellipsis ... and space after each, and then the word is pronounced with a question mark ?."
   ]
  },
  {
   "cell_type": "code",
   "execution_count": 21,
   "id": "c501ed33",
   "metadata": {},
   "outputs": [
    {
     "data": {
      "text/plain": [
       "'in... in... increadable?'"
      ]
     },
     "execution_count": 21,
     "metadata": {},
     "output_type": "execute_result"
    }
   ],
   "source": [
    "def stutters(l):\n",
    "    \"\"\"\n",
    "    This function is used to get stuttes\n",
    "    l: string to stuttered\n",
    "    \"\"\"\n",
    "    if type(l) == str:\n",
    "        return (l[:2]+'...'+' ')*2+l+'?'\n",
    "stutters('increadable')"
   ]
  },
  {
   "cell_type": "code",
   "execution_count": 22,
   "id": "69052105",
   "metadata": {},
   "outputs": [
    {
     "data": {
      "text/plain": [
       "'en... en... enthuastic?'"
      ]
     },
     "execution_count": 22,
     "metadata": {},
     "output_type": "execute_result"
    }
   ],
   "source": [
    "stutters('enthuastic')"
   ]
  },
  {
   "cell_type": "code",
   "execution_count": 23,
   "id": "7118ad04",
   "metadata": {},
   "outputs": [
    {
     "data": {
      "text/plain": [
       "'ou... ou... outstanding?'"
      ]
     },
     "execution_count": 23,
     "metadata": {},
     "output_type": "execute_result"
    }
   ],
   "source": [
    "stutters('outstanding')"
   ]
  },
  {
   "cell_type": "markdown",
   "id": "3fd86d29",
   "metadata": {},
   "source": [
    "####  2.Create a function that takes an angle in radians and returns the corresponding angle in degrees rounded to one decimal place."
   ]
  },
  {
   "cell_type": "code",
   "execution_count": 24,
   "id": "00db2409",
   "metadata": {},
   "outputs": [
    {
     "data": {
      "text/plain": [
       "57.3"
      ]
     },
     "execution_count": 24,
     "metadata": {},
     "output_type": "execute_result"
    }
   ],
   "source": [
    "\n",
    "def red_to_deg(r):\n",
    "    \"\"\"\n",
    "    This function is used to get degrees from radians\n",
    "    \"\"\"\n",
    "    return round((180/3.14)*r,1)\n",
    "\n",
    "red_to_deg(1)"
   ]
  },
  {
   "cell_type": "code",
   "execution_count": 25,
   "id": "1d075783",
   "metadata": {},
   "outputs": [
    {
     "data": {
      "text/plain": [
       "1146.5"
      ]
     },
     "execution_count": 25,
     "metadata": {},
     "output_type": "execute_result"
    }
   ],
   "source": [
    "red_to_deg(20)"
   ]
  },
  {
   "cell_type": "code",
   "execution_count": 26,
   "id": "742631e6",
   "metadata": {},
   "outputs": [
    {
     "data": {
      "text/plain": [
       "2866.2"
      ]
     },
     "execution_count": 26,
     "metadata": {},
     "output_type": "execute_result"
    }
   ],
   "source": [
    "red_to_deg(50)"
   ]
  },
  {
   "cell_type": "markdown",
   "id": "93f1581d",
   "metadata": {},
   "source": [
    "####  3. In this challenge, establish if a given integer num is a Curzon number. If 1 plus 2 elevated to num is exactly divisible by 1 plus 2 multiplied by num, then num is a Curzon number."
   ]
  },
  {
   "cell_type": "code",
   "execution_count": 27,
   "id": "6f9db762",
   "metadata": {},
   "outputs": [
    {
     "name": "stdout",
     "output_type": "stream",
     "text": [
      "Enter the number: 14\n",
      "Given Number is a curzon number\n"
     ]
    }
   ],
   "source": [
    "def is_curzon(num):\n",
    "    \"\"\"\n",
    "    This function is used to check given number is Curzon number.\n",
    "    \"\"\"\n",
    "    flag = False\n",
    "    if num > 0 :\n",
    "        m = 1 + (2**num)\n",
    "        n = 1 + (2 * num)\n",
    "        if m%n == 0:\n",
    "            flag = True\n",
    "            return flag\n",
    "    else:\n",
    "        return flag\n",
    "    \n",
    "a = int(input('Enter the number: '))  \n",
    "if is_curzon(a):\n",
    "    print('Given Number is a curzon number')\n",
    "else:\n",
    "    print('Given Number is not a curzon number')\n",
    "        "
   ]
  },
  {
   "cell_type": "markdown",
   "id": "a21a1d43",
   "metadata": {},
   "source": [
    "#### Question 4.Given the side length x find the area of a hexagon."
   ]
  },
  {
   "cell_type": "code",
   "execution_count": 28,
   "id": "72285f04",
   "metadata": {},
   "outputs": [
    {
     "name": "stdout",
     "output_type": "stream",
     "text": [
      "2.6\n"
     ]
    }
   ],
   "source": [
    "def area_hex(a):\n",
    "    \"\"\"\n",
    "    This function is used to get area of heaxagon\n",
    "    a: given lenght of side\n",
    "    \"\"\"\n",
    "    return round(((3*3**0.5)*a**2)/2,1)\n",
    "\n",
    "print(area_hex(1))"
   ]
  },
  {
   "cell_type": "code",
   "execution_count": 29,
   "id": "0e6bb916",
   "metadata": {},
   "outputs": [
    {
     "data": {
      "text/plain": [
       "23.4"
      ]
     },
     "execution_count": 29,
     "metadata": {},
     "output_type": "execute_result"
    }
   ],
   "source": [
    "area_hex(3)"
   ]
  },
  {
   "cell_type": "markdown",
   "id": "eec949c8",
   "metadata": {},
   "source": [
    "#### Question 5. Create a function that returns a base-2 (binary) representation of a base-10 (decimal) string number. To convert is simple: ((2) means base-2 and (10) means base-10) 010101001(2) = 1 + 8 + 32 + 128."
   ]
  },
  {
   "cell_type": "code",
   "execution_count": 31,
   "id": "87304f39",
   "metadata": {},
   "outputs": [
    {
     "data": {
      "text/plain": [
       "'101'"
      ]
     },
     "execution_count": 31,
     "metadata": {},
     "output_type": "execute_result"
    }
   ],
   "source": [
    "def dec_to_bin(num):\n",
    "    \"\"\"\n",
    "    This function is used to get binary string from decimal value\n",
    "    num: Given decimal number\n",
    "    \"\"\"\n",
    "    m = bin(num)\n",
    "    return str(m)[2:]\n",
    "\n",
    "dec_to_bin(5)"
   ]
  },
  {
   "cell_type": "code",
   "execution_count": 32,
   "id": "cf5d6d64",
   "metadata": {},
   "outputs": [
    {
     "data": {
      "text/plain": [
       "'1010'"
      ]
     },
     "execution_count": 32,
     "metadata": {},
     "output_type": "execute_result"
    }
   ],
   "source": [
    "dec_to_bin(10)"
   ]
  },
  {
   "cell_type": "code",
   "execution_count": 33,
   "id": "0ae0ed92",
   "metadata": {},
   "outputs": [
    {
     "data": {
      "text/plain": [
       "'1'"
      ]
     },
     "execution_count": 33,
     "metadata": {},
     "output_type": "execute_result"
    }
   ],
   "source": [
    "dec_to_bin(1)"
   ]
  },
  {
   "cell_type": "code",
   "execution_count": 34,
   "id": "6b7ab050",
   "metadata": {},
   "outputs": [
    {
     "data": {
      "text/plain": [
       "'110001'"
      ]
     },
     "execution_count": 34,
     "metadata": {},
     "output_type": "execute_result"
    }
   ],
   "source": [
    "dec_to_bin(49)"
   ]
  },
  {
   "cell_type": "code",
   "execution_count": null,
   "id": "364bea53",
   "metadata": {},
   "outputs": [],
   "source": []
  }
 ],
 "metadata": {
  "kernelspec": {
   "display_name": "Python 3 (ipykernel)",
   "language": "python",
   "name": "python3"
  },
  "language_info": {
   "codemirror_mode": {
    "name": "ipython",
    "version": 3
   },
   "file_extension": ".py",
   "mimetype": "text/x-python",
   "name": "python",
   "nbconvert_exporter": "python",
   "pygments_lexer": "ipython3",
   "version": "3.9.7"
  }
 },
 "nbformat": 4,
 "nbformat_minor": 5
}
