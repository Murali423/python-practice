{
 "cells": [
  {
   "cell_type": "markdown",
   "id": "fd90e97b",
   "metadata": {},
   "source": [
    "## Assignment 5"
   ]
  },
  {
   "cell_type": "markdown",
   "id": "651138b9",
   "metadata": {},
   "source": [
    "#### 1. What does an empty dictionary&#39;s code look like?"
   ]
  },
  {
   "cell_type": "markdown",
   "id": "4c0b63ba",
   "metadata": {},
   "source": [
    "Dictionary is a datatype which store data in key and value pair. Empty dictionary can be done in two ways {} and dict()"
   ]
  },
  {
   "cell_type": "code",
   "execution_count": 5,
   "id": "a3981cb9",
   "metadata": {},
   "outputs": [
    {
     "data": {
      "text/plain": [
       "dict"
      ]
     },
     "execution_count": 5,
     "metadata": {},
     "output_type": "execute_result"
    }
   ],
   "source": [
    "d = {}\n",
    "type(d)"
   ]
  },
  {
   "cell_type": "code",
   "execution_count": 6,
   "id": "66df4187",
   "metadata": {},
   "outputs": [
    {
     "data": {
      "text/plain": [
       "dict"
      ]
     },
     "execution_count": 6,
     "metadata": {},
     "output_type": "execute_result"
    }
   ],
   "source": [
    "m =dict()\n",
    "type(m)"
   ]
  },
  {
   "cell_type": "markdown",
   "id": "9eb63704",
   "metadata": {},
   "source": [
    "#### 2. What is the value of a dictionary value with the key &#39;foo&#39; and the value 42?"
   ]
  },
  {
   "cell_type": "code",
   "execution_count": 8,
   "id": "4df74f5f",
   "metadata": {},
   "outputs": [
    {
     "data": {
      "text/plain": [
       "dict_values([42])"
      ]
     },
     "execution_count": 8,
     "metadata": {},
     "output_type": "execute_result"
    }
   ],
   "source": [
    "d = {'foo':42}\n",
    "d.values()"
   ]
  },
  {
   "cell_type": "markdown",
   "id": "25789bde",
   "metadata": {},
   "source": [
    "#### 3. What is the most significant distinction between a dictionary and a list?"
   ]
  },
  {
   "cell_type": "markdown",
   "id": "4cc73a33",
   "metadata": {},
   "source": [
    "List - is a collection of hetrogenious items stored in sequence memory location which is refered by a single name. Each element can be accessed using index\n",
    "\n",
    "Dictionary - is a collection of key-value pairs stored in memory. Any value can be access by key."
   ]
  },
  {
   "cell_type": "markdown",
   "id": "f98a406d",
   "metadata": {},
   "source": [
    "#### 4. What happens if you try to access spam[&#39;foo&#39;] if spam is {&#39;bar&#39;: 100}?"
   ]
  },
  {
   "cell_type": "markdown",
   "id": "106351bf",
   "metadata": {},
   "source": [
    "When we try to access key which is not present in the dictionay. It will throw keyerror"
   ]
  },
  {
   "cell_type": "code",
   "execution_count": 11,
   "id": "b863a5c0",
   "metadata": {},
   "outputs": [],
   "source": [
    "spam = {'bar':100}"
   ]
  },
  {
   "cell_type": "code",
   "execution_count": 12,
   "id": "5fdf67cc",
   "metadata": {},
   "outputs": [
    {
     "ename": "KeyError",
     "evalue": "'foo'",
     "output_type": "error",
     "traceback": [
      "\u001b[1;31m---------------------------------------------------------------------------\u001b[0m",
      "\u001b[1;31mKeyError\u001b[0m                                  Traceback (most recent call last)",
      "\u001b[1;32m~\\AppData\\Local\\Temp/ipykernel_11212/3999281786.py\u001b[0m in \u001b[0;36m<module>\u001b[1;34m\u001b[0m\n\u001b[1;32m----> 1\u001b[1;33m \u001b[0mspam\u001b[0m\u001b[1;33m[\u001b[0m\u001b[1;34m'foo'\u001b[0m\u001b[1;33m]\u001b[0m\u001b[1;33m\u001b[0m\u001b[1;33m\u001b[0m\u001b[0m\n\u001b[0m",
      "\u001b[1;31mKeyError\u001b[0m: 'foo'"
     ]
    }
   ],
   "source": [
    "spam['foo']"
   ]
  },
  {
   "cell_type": "markdown",
   "id": "8f26604b",
   "metadata": {},
   "source": [
    "#### 5. If a dictionary is stored in spam, what is the difference between the expressions &#39;cat&#39; in spam and&#39;cat&#39; in spam.keys()?"
   ]
  },
  {
   "cell_type": "code",
   "execution_count": 15,
   "id": "13697dc6",
   "metadata": {},
   "outputs": [],
   "source": [
    "spam = {'cat':1, 'rat':'cat'}"
   ]
  },
  {
   "cell_type": "code",
   "execution_count": 16,
   "id": "731aa3b6",
   "metadata": {},
   "outputs": [
    {
     "data": {
      "text/plain": [
       "True"
      ]
     },
     "execution_count": 16,
     "metadata": {},
     "output_type": "execute_result"
    }
   ],
   "source": [
    "'cat' in spam"
   ]
  },
  {
   "cell_type": "code",
   "execution_count": 17,
   "id": "49697ee6",
   "metadata": {},
   "outputs": [
    {
     "data": {
      "text/plain": [
       "True"
      ]
     },
     "execution_count": 17,
     "metadata": {},
     "output_type": "execute_result"
    }
   ],
   "source": [
    "'cat' in spam.keys()"
   ]
  },
  {
   "cell_type": "markdown",
   "id": "1f1754d0",
   "metadata": {},
   "source": [
    "#### 6. If a dictionary is stored in spam, what is the difference between the expressions &#39;cat&#39; in spam and&#39;cat&#39; in spam.values()?"
   ]
  },
  {
   "cell_type": "code",
   "execution_count": 18,
   "id": "20eb3e36",
   "metadata": {},
   "outputs": [],
   "source": [
    "spam = {'cat':1, 'rat':2}"
   ]
  },
  {
   "cell_type": "code",
   "execution_count": 19,
   "id": "f9b09dfc",
   "metadata": {},
   "outputs": [
    {
     "data": {
      "text/plain": [
       "True"
      ]
     },
     "execution_count": 19,
     "metadata": {},
     "output_type": "execute_result"
    }
   ],
   "source": [
    "'cat' in spam"
   ]
  },
  {
   "cell_type": "code",
   "execution_count": 20,
   "id": "2ef91e06",
   "metadata": {},
   "outputs": [
    {
     "data": {
      "text/plain": [
       "False"
      ]
     },
     "execution_count": 20,
     "metadata": {},
     "output_type": "execute_result"
    }
   ],
   "source": [
    "'cat' in spam.values()"
   ]
  },
  {
   "cell_type": "markdown",
   "id": "8d3d69ea",
   "metadata": {},
   "source": [
    "#### 7. What is a shortcut for the following code?\n",
    "#### if &#39;color&#39; not in spam:\n",
    "#### spam[&#39;color&#39;] = &#39;black&#39;"
   ]
  },
  {
   "cell_type": "code",
   "execution_count": 21,
   "id": "c7cb33a0",
   "metadata": {},
   "outputs": [],
   "source": [
    "spam = {}"
   ]
  },
  {
   "cell_type": "code",
   "execution_count": 30,
   "id": "d075d53c",
   "metadata": {},
   "outputs": [
    {
     "data": {
      "text/plain": [
       "False"
      ]
     },
     "execution_count": 30,
     "metadata": {},
     "output_type": "execute_result"
    }
   ],
   "source": [
    "'black' in spam"
   ]
  },
  {
   "cell_type": "markdown",
   "id": "a79dc82d",
   "metadata": {},
   "source": [
    "#### 8. How do you &quot;pretty print&quot; dictionary values using which module and function?"
   ]
  },
  {
   "cell_type": "markdown",
   "id": "c89d297d",
   "metadata": {},
   "source": [
    "we use pprint module and pprint() method for printing dictionary values for more readability."
   ]
  },
  {
   "cell_type": "code",
   "execution_count": 27,
   "id": "dd6fd871",
   "metadata": {},
   "outputs": [],
   "source": [
    "d_a = [\n",
    "  {'Name': 'John', 'Age': '23', 'Country': 'USA'},\n",
    "  {'Name': 'Jose', 'Age': '44', 'Country': 'Spain'},\n",
    "  {'Name': 'Anne', 'Age': '29', 'Country': 'UK'},\n",
    "  {'Name': 'Lee', 'Age': '35', 'Country': 'Japan'}\n",
    "]"
   ]
  },
  {
   "cell_type": "code",
   "execution_count": 28,
   "id": "d2c91fe4",
   "metadata": {},
   "outputs": [
    {
     "name": "stdout",
     "output_type": "stream",
     "text": [
      "[{'Name': 'John', 'Age': '23', 'Country': 'USA'}, {'Name': 'Jose', 'Age': '44', 'Country': 'Spain'}, {'Name': 'Anne', 'Age': '29', 'Country': 'UK'}, {'Name': 'Lee', 'Age': '35', 'Country': 'Japan'}]\n"
     ]
    }
   ],
   "source": [
    "print(d_a)"
   ]
  },
  {
   "cell_type": "code",
   "execution_count": 29,
   "id": "8004fa09",
   "metadata": {
    "scrolled": true
   },
   "outputs": [
    {
     "name": "stdout",
     "output_type": "stream",
     "text": [
      "[{'Age': '23', 'Country': 'USA', 'Name': 'John'},\n",
      " {'Age': '44', 'Country': 'Spain', 'Name': 'Jose'},\n",
      " {'Age': '29', 'Country': 'UK', 'Name': 'Anne'},\n",
      " {'Age': '35', 'Country': 'Japan', 'Name': 'Lee'}]\n"
     ]
    }
   ],
   "source": [
    "import pprint\n",
    "\n",
    "pprint.pprint(d_a)"
   ]
  },
  {
   "cell_type": "code",
   "execution_count": null,
   "id": "e86b240b",
   "metadata": {},
   "outputs": [],
   "source": []
  }
 ],
 "metadata": {
  "kernelspec": {
   "display_name": "Python 3 (ipykernel)",
   "language": "python",
   "name": "python3"
  },
  "language_info": {
   "codemirror_mode": {
    "name": "ipython",
    "version": 3
   },
   "file_extension": ".py",
   "mimetype": "text/x-python",
   "name": "python",
   "nbconvert_exporter": "python",
   "pygments_lexer": "ipython3",
   "version": "3.9.7"
  }
 },
 "nbformat": 4,
 "nbformat_minor": 5
}
