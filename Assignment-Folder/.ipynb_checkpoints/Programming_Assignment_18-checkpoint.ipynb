{
 "cells": [
  {
   "cell_type": "markdown",
   "id": "0fe034bb",
   "metadata": {},
   "source": [
    "### Programming_Assignment_18"
   ]
  },
  {
   "cell_type": "markdown",
   "id": "96b10a71",
   "metadata": {},
   "source": [
    "Submitted by Murali Divya Teja Gummadidala"
   ]
  },
  {
   "cell_type": "markdown",
   "id": "067bf08f",
   "metadata": {},
   "source": [
    "#### 1.Create a function that takes a list of non-negative integers and strings and return a new list without the strings."
   ]
  },
  {
   "cell_type": "code",
   "execution_count": 10,
   "id": "3fed6dc1",
   "metadata": {},
   "outputs": [
    {
     "name": "stdout",
     "output_type": "stream",
     "text": [
      "➞ [1, 2]\n",
      "➞ [1, 0, 15]\n",
      "➞ [1, 2, 123]\n"
     ]
    }
   ],
   "source": [
    "def filter_list(l):\n",
    "    \"\"\"\n",
    "    function to return list contain only integer\n",
    "    \"\"\"\n",
    "    m = []\n",
    "    if type(l) == list:\n",
    "        for i in l:\n",
    "            if type(i) == int and i>=0:\n",
    "                m.append(i)\n",
    "    return m\n",
    "\n",
    "print(f'➞ {filter_list([1, 2, \"a\", \"b\"])}')\n",
    "print(f'➞ {filter_list([1, \"a\", \"b\", 0, 15])}')\n",
    "print(f'➞ {filter_list([1, 2, \"aasf\", \"1\", \"123\", 123])}')"
   ]
  },
  {
   "cell_type": "markdown",
   "id": "7ac7b48a",
   "metadata": {},
   "source": [
    "#### 2.The &quot;Reverser&quot; takes a string as input and returns that string in reverse order, with the opposite case."
   ]
  },
  {
   "cell_type": "code",
   "execution_count": 15,
   "id": "8ec9b87b",
   "metadata": {},
   "outputs": [
    {
     "name": "stdout",
     "output_type": "stream",
     "text": [
      " ->DLROw OLLEh\n",
      " ->eSrEvEr\n",
      " ->RADAr\n"
     ]
    }
   ],
   "source": [
    "def reverse(s):\n",
    "    return s[::-1].swapcase()\n",
    "print(f' ->{reverse(\"Hello World\")}')\n",
    "print(f' ->{reverse(\"ReVeRsE\")}')\n",
    "print(f' ->{reverse(\"Radar\")}')"
   ]
  },
  {
   "cell_type": "markdown",
   "id": "82cc2c89",
   "metadata": {},
   "source": [
    "#### Python 3, you can assign variables from lists in a much more succinct way. Create variables first, middle and last from the given list using destructuring assignment"
   ]
  },
  {
   "cell_type": "code",
   "execution_count": 17,
   "id": "dc781c63",
   "metadata": {},
   "outputs": [
    {
     "name": "stdout",
     "output_type": "stream",
     "text": [
      "first ➞ 1\n",
      "middle ➞ [2, 3, 4, 5]\n",
      "last ➞ 6\n"
     ]
    }
   ],
   "source": [
    "first,*middle,last = [1,2,3,4,5,6]\n",
    "print(f'first ➞ {first}')\n",
    "print(f'middle ➞ {middle}')\n",
    "print(f'last ➞ {last}')"
   ]
  },
  {
   "cell_type": "markdown",
   "id": "2e82f7f3",
   "metadata": {},
   "source": [
    "#### 4.Write a function that calculates the factorial of a number recursively."
   ]
  },
  {
   "cell_type": "code",
   "execution_count": 21,
   "id": "7f414826",
   "metadata": {},
   "outputs": [
    {
     "name": "stdout",
     "output_type": "stream",
     "text": [
      "factioral(5) ➞ 120 \n",
      "factioral(3) ➞ 6 \n",
      "factioral(1) ➞ 1 \n",
      "factioral(0) ➞ 1 \n"
     ]
    }
   ],
   "source": [
    "def factioral(n):\n",
    "    if n == 0:\n",
    "        return 1\n",
    "    return n * factioral(n-1)\n",
    "    \n",
    "print(f'factioral(5) ➞ {factioral(5)} ')\n",
    "print(f'factioral(3) ➞ {factioral(3)} ')\n",
    "print(f'factioral(1) ➞ {factioral(1)} ')\n",
    "print(f'factioral(0) ➞ {factioral(0)} ')"
   ]
  },
  {
   "cell_type": "markdown",
   "id": "b3a4549a",
   "metadata": {},
   "source": [
    "#### 5.Write a function that moves all elements of one type to the end of the list."
   ]
  },
  {
   "cell_type": "code",
   "execution_count": 24,
   "id": "5229a64d",
   "metadata": {},
   "outputs": [
    {
     "name": "stdout",
     "output_type": "stream",
     "text": [
      "move_to_end([1,3,4,5,1],1) ➞ [3, 4, 5, 1, 1]\n",
      "move_to_end([7,8,9,1,2,3,4],9) ➞ [7, 8, 1, 2, 3, 4, 9]\n",
      "move_to_end([\"a\",\"a\",\"a\",\"b\"],\"a\") ➞ ['b', 'a', 'a', 'a']\n"
     ]
    }
   ],
   "source": [
    "def move_to_end(l,e):\n",
    "    m = []\n",
    "    cnt = 0\n",
    "    if type(l) == list:\n",
    "        cnt = l.count(e)\n",
    "        for i in l:\n",
    "            if i != e:\n",
    "                m.append(i)\n",
    "        for j in range(cnt):\n",
    "            m.append(e)\n",
    "        return m            \n",
    "    else:\n",
    "        return 'please enter list only'\n",
    "print(f'move_to_end([1,3,4,5,1],1) ➞ {move_to_end([1,3,4,5,1],1)}')\n",
    "print(f'move_to_end([7,8,9,1,2,3,4],9) ➞ {move_to_end([7,8,9,1,2,3,4],9)}')\n",
    "print(f'move_to_end([\"a\",\"a\",\"a\",\"b\"],\"a\") ➞ {move_to_end([\"a\",\"a\",\"a\",\"b\"],\"a\")}')"
   ]
  },
  {
   "cell_type": "code",
   "execution_count": null,
   "id": "608b3408",
   "metadata": {},
   "outputs": [],
   "source": []
  }
 ],
 "metadata": {
  "kernelspec": {
   "display_name": "Python 3 (ipykernel)",
   "language": "python",
   "name": "python3"
  },
  "language_info": {
   "codemirror_mode": {
    "name": "ipython",
    "version": 3
   },
   "file_extension": ".py",
   "mimetype": "text/x-python",
   "name": "python",
   "nbconvert_exporter": "python",
   "pygments_lexer": "ipython3",
   "version": "3.9.7"
  }
 },
 "nbformat": 4,
 "nbformat_minor": 5
}
