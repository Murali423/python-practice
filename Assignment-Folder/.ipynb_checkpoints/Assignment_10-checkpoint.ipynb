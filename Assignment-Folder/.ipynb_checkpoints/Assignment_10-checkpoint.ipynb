{
 "cells": [
  {
   "cell_type": "markdown",
   "id": "4b082bda",
   "metadata": {},
   "source": [
    "### Assignment_10"
   ]
  },
  {
   "cell_type": "markdown",
   "id": "f322f4e9",
   "metadata": {},
   "source": [
    "Submitted By: Murali Divya Teja Gummadidala"
   ]
  },
  {
   "cell_type": "markdown",
   "id": "e3a49aef",
   "metadata": {},
   "source": [
    "#### 1. How do you distinguish between shutil.copy() and shutil.copytree()?"
   ]
  },
  {
   "cell_type": "markdown",
   "id": "470d1f03",
   "metadata": {},
   "source": [
    "__Ans:__ `shutil.copy()` method in python used to copy the content of source file to destination, here desination can be any thing like file or directory.\n",
    "\n",
    "Syntax: `shutil.copy(src,dst)`\n",
    "\n",
    "`shutils.copytree()` method in python used to copy enitre source directory to desination directory here destionation must be directory. \n",
    "\n",
    "Syntax: `shutil.copy(src,dst)`"
   ]
  },
  {
   "cell_type": "markdown",
   "id": "22a761d5",
   "metadata": {},
   "source": [
    "#### 2. What function is used to rename files??"
   ]
  },
  {
   "cell_type": "markdown",
   "id": "4e1dbdac",
   "metadata": {},
   "source": [
    "__Ans:__ `os.rename()` method in python used to rename file or directory. here we have `src` and `dst` parameters, source is name of original file and dst is name to be changed"
   ]
  },
  {
   "cell_type": "markdown",
   "id": "616b1824",
   "metadata": {},
   "source": [
    "#### 3. What is the difference between the delete functions in the send2trash and shutil modules?"
   ]
  },
  {
   "cell_type": "markdown",
   "id": "ede57aac",
   "metadata": {},
   "source": [
    "Shutil module provides a funciton called as shutil.rmtree() which deletes a directory and all of its contents. The other functions with similar functionality are os.remove() which removes a file. os.rmdir() removes a empty directory. The problem with these functions is once a file is deleted. it will be lost permanently and if a file is deleted accidentally using these methods there is no way we can recover the deleted file\n",
    "\n",
    "Where as send2trash module provides a function called send2trash.send2trash() to delete a file/directory. These methods moves the files/directories to trash folder instead of permanently deleting them. Hence if a file/folder is deleted accidentally using the send2trash.send2trash() it can be still recovered from trash folder. send2trash is not included with python standard libary like os & shutil modules. So, it needs to be installed explicitly using the command !pip install send2trash"
   ]
  },
  {
   "cell_type": "markdown",
   "id": "ccfe6c4b",
   "metadata": {},
   "source": [
    "#### 4.ZipFile objects have a close() method just like File objects’ close() method. What ZipFile method is equivalent to File objects’ open() method?"
   ]
  },
  {
   "cell_type": "markdown",
   "id": "b3657093",
   "metadata": {},
   "source": [
    "__Ans__ ZipFile Module provides a method called as `zipfile.ZipFile()` to read and write to zipFiles. it takes arugments such as filename and mode etc `zipfile.ZipFile('filename', mode = 'r')`"
   ]
  },
  {
   "cell_type": "markdown",
   "id": "6496855a",
   "metadata": {},
   "source": [
    "#### 5. Create a programme that searches a folder tree for files with a certain file extension (such as .pdf or .jpg). Copy these files from whatever location they are in to a new folder."
   ]
  },
  {
   "cell_type": "code",
   "execution_count": 1,
   "id": "6f4d975c",
   "metadata": {},
   "outputs": [],
   "source": [
    "import os\n",
    "import shutil\n",
    "\n",
    "def search_copy(source,destination,extensions):\n",
    "    source = os.path.abspath(source)\n",
    "    destination = os.path.abspath(destination)\n",
    "    for foldername, subfolder, filenames in os.walk(source):\n",
    "        print(f'Folder Name ➞ {foldername}',end='\\n\\n')\n",
    "        print(f'Sub Folders ➞ {subfolder}',end='\\n\\n')\n",
    "        print(f'Files ➞ {filenames}',end='\\n\\n')\n",
    "        for filename in filenames:\n",
    "            fileName,extension = os.path.splitext(filename)\n",
    "            if extension in extensions:\n",
    "                targetFile = foldername+os.path.sep+fileName+extension\n",
    "                shutil.copy(targetFile, destination)\n",
    "        print(f'Files copied successfully from {source} to {destination}')\n",
    "    \n",
    "extensions = ['.pdf','.jpg','.ipynb']\n",
    "source = 'Source Folder'\n",
    "destination = 'Destination Folder'\n",
    "search_copy(source, destination, extensions)"
   ]
  },
  {
   "cell_type": "code",
   "execution_count": null,
   "id": "b6f56867",
   "metadata": {},
   "outputs": [],
   "source": []
  }
 ],
 "metadata": {
  "kernelspec": {
   "display_name": "Python 3 (ipykernel)",
   "language": "python",
   "name": "python3"
  },
  "language_info": {
   "codemirror_mode": {
    "name": "ipython",
    "version": 3
   },
   "file_extension": ".py",
   "mimetype": "text/x-python",
   "name": "python",
   "nbconvert_exporter": "python",
   "pygments_lexer": "ipython3",
   "version": "3.9.7"
  }
 },
 "nbformat": 4,
 "nbformat_minor": 5
}
