{
 "cells": [
  {
   "cell_type": "markdown",
   "id": "bf592f3d",
   "metadata": {},
   "source": [
    "### Assignment_3"
   ]
  },
  {
   "cell_type": "markdown",
   "id": "fa2e426b",
   "metadata": {},
   "source": [
    "#### 1. Why are functions advantageous to have in your programs?"
   ]
  },
  {
   "cell_type": "markdown",
   "id": "686d72bb",
   "metadata": {},
   "source": [
    "Fuction is a block of code of statemets to perform certain action or login on given input data. \n",
    "\n",
    "Advantage of Function in our code is __reduced repetion of code__, and we can achive modularity so that we can read and understand code easily.\n",
    "\n",
    "Large problem can be divided into small piece of code \n",
    "\n"
   ]
  },
  {
   "cell_type": "markdown",
   "id": "f544de69",
   "metadata": {},
   "source": [
    "#### 2. When does the code in a function run: when it&#39;s specified or when it&#39;s called?"
   ]
  },
  {
   "cell_type": "markdown",
   "id": "a1a78346",
   "metadata": {},
   "source": [
    "Function should be specified first, the function can run only __after it called__."
   ]
  },
  {
   "cell_type": "markdown",
   "id": "e57a3022",
   "metadata": {},
   "source": [
    "#### 3. What statement creates a function?"
   ]
  },
  {
   "cell_type": "markdown",
   "id": "afb3a4d8",
   "metadata": {},
   "source": [
    "In python, function can be created using __def__ keyword.\n",
    "\n",
    "ex:\n",
    "\n",
    "def functionname(arguments)\n",
    "\n",
    "function login\n",
    "\n",
    "return statement (return statement is not mandatory)"
   ]
  },
  {
   "cell_type": "markdown",
   "id": "62242c91",
   "metadata": {},
   "source": [
    "#### 4. What is the difference between a function and a function call?"
   ]
  },
  {
   "cell_type": "markdown",
   "id": "17ed59e8",
   "metadata": {},
   "source": [
    "Fuction is a block of code of statemets to perform certain action or login on given input data.\n",
    "\n",
    "which has name,arguments, business logic and return values and how it is used.\n",
    "\n",
    "function call is making use of function by passing the data it needs, executing the code inside the function to get required functionality."
   ]
  },
  {
   "cell_type": "code",
   "execution_count": 6,
   "id": "c1e8ddcf",
   "metadata": {},
   "outputs": [],
   "source": [
    "a = 1\n",
    "\n",
    "def fu(a):\n",
    "    a += 1\n",
    "    print('Value of a: ',a)"
   ]
  },
  {
   "cell_type": "code",
   "execution_count": 7,
   "id": "12ab476a",
   "metadata": {},
   "outputs": [
    {
     "name": "stdout",
     "output_type": "stream",
     "text": [
      "Value of a:  2\n"
     ]
    }
   ],
   "source": [
    "fu(a)"
   ]
  },
  {
   "cell_type": "markdown",
   "id": "86a50ba0",
   "metadata": {},
   "source": [
    "#### 5. How many global scopes are there in a Python program? How many local scopes?"
   ]
  },
  {
   "cell_type": "code",
   "execution_count": 5,
   "id": "4496bd63",
   "metadata": {},
   "outputs": [
    {
     "name": "stdout",
     "output_type": "stream",
     "text": [
      "value of a is :  1\n",
      "value of b is :  2\n"
     ]
    }
   ],
   "source": [
    "a = 0\n",
    "\n",
    "def fn(a):\n",
    "    b = 1\n",
    "    a += 1\n",
    "    b += 1\n",
    "    print('value of a is : ',a)\n",
    "    print('value of b is : ',b)\n",
    "    \n",
    "fn(a)"
   ]
  },
  {
   "cell_type": "markdown",
   "id": "be6b532e",
   "metadata": {},
   "source": [
    "Here in above program the __a__ is defined outside of fucntion which can be refered inside function and out side function so a is called global variable\n",
    "\n",
    "Inside the funcion __b__ variable is defined which has scope only inside to function if we try to call that variable outside __b__ it thorow error. "
   ]
  },
  {
   "cell_type": "code",
   "execution_count": 8,
   "id": "e7fdc431",
   "metadata": {},
   "outputs": [
    {
     "name": "stdout",
     "output_type": "stream",
     "text": [
      "value of a is :  1\n"
     ]
    },
    {
     "ename": "NameError",
     "evalue": "name 'b' is not defined",
     "output_type": "error",
     "traceback": [
      "\u001b[1;31m---------------------------------------------------------------------------\u001b[0m",
      "\u001b[1;31mNameError\u001b[0m                                 Traceback (most recent call last)",
      "\u001b[1;32m~\\AppData\\Local\\Temp/ipykernel_12612/850562759.py\u001b[0m in \u001b[0;36m<module>\u001b[1;34m\u001b[0m\n\u001b[0;32m      1\u001b[0m \u001b[0mprint\u001b[0m\u001b[1;33m(\u001b[0m\u001b[1;34m'value of a is : '\u001b[0m\u001b[1;33m,\u001b[0m\u001b[0ma\u001b[0m\u001b[1;33m)\u001b[0m\u001b[1;33m\u001b[0m\u001b[1;33m\u001b[0m\u001b[0m\n\u001b[1;32m----> 2\u001b[1;33m \u001b[0mprint\u001b[0m\u001b[1;33m(\u001b[0m\u001b[1;34m'value of b is : '\u001b[0m\u001b[1;33m,\u001b[0m\u001b[0mb\u001b[0m\u001b[1;33m)\u001b[0m\u001b[1;33m\u001b[0m\u001b[1;33m\u001b[0m\u001b[0m\n\u001b[0m",
      "\u001b[1;31mNameError\u001b[0m: name 'b' is not defined"
     ]
    }
   ],
   "source": [
    "print('value of a is : ',a)\n",
    "print('value of b is : ',b)"
   ]
  },
  {
   "cell_type": "markdown",
   "id": "3a378529",
   "metadata": {},
   "source": [
    "#### 6. What happens to variables in a local scope when the function call returns?"
   ]
  },
  {
   "cell_type": "markdown",
   "id": "fe034dc6",
   "metadata": {},
   "source": [
    "variables in a local scope when the function call returns the memory space for those local variables get destoryed.it will be cleared from program "
   ]
  },
  {
   "cell_type": "markdown",
   "id": "a83de963",
   "metadata": {},
   "source": [
    "#### 7. What is the concept of a return value? Is it possible to have a return value in an expression?"
   ]
  },
  {
   "cell_type": "markdown",
   "id": "2961b5c7",
   "metadata": {},
   "source": [
    "A return statement is used to end the execution of the function call and “returns” the result (value of the expression following the return keyword) to the caller. The statements after the return statements are not executed.\n",
    "\n",
    "def fun():\n",
    "\n",
    "    statements\n",
    "    \n",
    "    \n",
    "    return [expression]"
   ]
  },
  {
   "cell_type": "markdown",
   "id": "16c4fe15",
   "metadata": {},
   "source": [
    "It is not mandatory to have return value in function. if any caller expression requied the result of function then return statement will be present. if not required if we give just return statement it will send None value."
   ]
  },
  {
   "cell_type": "markdown",
   "id": "c88a282d",
   "metadata": {},
   "source": [
    "#### 8. If a function does not have a return statement, what is the return value of a call to that function?"
   ]
  },
  {
   "cell_type": "markdown",
   "id": "720a9170",
   "metadata": {},
   "source": [
    "If a function doesn't have return statement, return value received by caller function is __None__"
   ]
  },
  {
   "cell_type": "markdown",
   "id": "f41345fc",
   "metadata": {},
   "source": [
    "#### 9. How do you make a function variable refer to the global variable?"
   ]
  },
  {
   "cell_type": "markdown",
   "id": "72e00c59",
   "metadata": {},
   "source": [
    "Scope of non-global variable can be done by Global keyword. it is a keyword that allows a user to modify a variable outside of the local scope. \n",
    "\n",
    "It is used to create global variables from inside a function. \n",
    "\n"
   ]
  },
  {
   "cell_type": "code",
   "execution_count": 12,
   "id": "829f7fe8",
   "metadata": {},
   "outputs": [
    {
     "name": "stdout",
     "output_type": "stream",
     "text": [
      "value of a inside function:  2\n"
     ]
    }
   ],
   "source": [
    "def m1():\n",
    "    global a\n",
    "    a = 0\n",
    "    a += 2\n",
    "    print('value of a inside function: ',a)\n",
    "    \n",
    "m1()"
   ]
  },
  {
   "cell_type": "code",
   "execution_count": 13,
   "id": "7c7f1960",
   "metadata": {},
   "outputs": [
    {
     "name": "stdout",
     "output_type": "stream",
     "text": [
      "value of a outside of fucntion m1: 2\n"
     ]
    }
   ],
   "source": [
    "print('value of a outside of fucntion m1:',a)"
   ]
  },
  {
   "cell_type": "markdown",
   "id": "467c0dcc",
   "metadata": {},
   "source": [
    "#### 10. What is the data type of None?"
   ]
  },
  {
   "cell_type": "code",
   "execution_count": 15,
   "id": "3b9e7424",
   "metadata": {},
   "outputs": [],
   "source": [
    "a = None\n",
    "a"
   ]
  },
  {
   "cell_type": "markdown",
   "id": "5278540f",
   "metadata": {},
   "source": [
    "None is used to define the null value or we can say no value at all.\n",
    "\n",
    "in above statement a defined with None when we try to access a it doesn't have any value.\n",
    "\n",
    "None is not a zero,empty it having None datatype"
   ]
  },
  {
   "cell_type": "markdown",
   "id": "d484f255",
   "metadata": {},
   "source": [
    "#### 11. What does the sentence import areallyourpetsnamederic do?"
   ]
  },
  {
   "cell_type": "markdown",
   "id": "ee35f459",
   "metadata": {},
   "source": [
    "import function load the all classes,variable and function present in areallyourpetsnamederic module/file.\n",
    "\n",
    "when we write import of any class we can acess any of publically available functions and variables"
   ]
  },
  {
   "cell_type": "code",
   "execution_count": 16,
   "id": "79c10416",
   "metadata": {},
   "outputs": [
    {
     "name": "stdout",
     "output_type": "stream",
     "text": [
      "20.0\n"
     ]
    }
   ],
   "source": [
    "import math\n",
    "\n",
    "a = 400\n",
    "b = math.sqrt(a)\n",
    "print(b)"
   ]
  },
  {
   "cell_type": "markdown",
   "id": "99ea81ec",
   "metadata": {},
   "source": [
    "In above program the math class we have imported and all avalible function we can able to access. we used sqrt get squareroot of value of a wiht out implemention code for squareroot in this function"
   ]
  },
  {
   "cell_type": "markdown",
   "id": "2097da09",
   "metadata": {},
   "source": [
    "#### 12. If you had a bacon() feature in a spam module, what would you call it after importing spam?"
   ]
  },
  {
   "cell_type": "markdown",
   "id": "0f08cb83",
   "metadata": {},
   "source": [
    "import spam\n",
    "\n",
    "a = sapm.bacon()"
   ]
  },
  {
   "cell_type": "markdown",
   "id": "8b13b68c",
   "metadata": {},
   "source": [
    "We can refer spam.bacon() to get all features into given program "
   ]
  },
  {
   "cell_type": "markdown",
   "id": "c34daea2",
   "metadata": {},
   "source": [
    "#### 13. What can you do to save a programme from crashing if it encounters an error?"
   ]
  },
  {
   "cell_type": "markdown",
   "id": "098896d1",
   "metadata": {},
   "source": [
    "We can use try except finally statement to avoid the crash of program when an error has occured"
   ]
  },
  {
   "cell_type": "markdown",
   "id": "260942e8",
   "metadata": {},
   "source": [
    "#### 14. What is the purpose of the try clause? What is the purpose of the except clause?"
   ]
  },
  {
   "cell_type": "markdown",
   "id": "9ef3c4bb",
   "metadata": {},
   "source": [
    "The try block is used to check some code for errors i.e the code inside the try block will execute when there is no error in the program. \n",
    "\n",
    "Whereas the code inside the except block will execute whenever the program encounters some error in the preceding try block."
   ]
  },
  {
   "cell_type": "code",
   "execution_count": null,
   "id": "c1cc0575",
   "metadata": {},
   "outputs": [],
   "source": []
  }
 ],
 "metadata": {
  "kernelspec": {
   "display_name": "Python 3 (ipykernel)",
   "language": "python",
   "name": "python3"
  },
  "language_info": {
   "codemirror_mode": {
    "name": "ipython",
    "version": 3
   },
   "file_extension": ".py",
   "mimetype": "text/x-python",
   "name": "python",
   "nbconvert_exporter": "python",
   "pygments_lexer": "ipython3",
   "version": "3.9.7"
  }
 },
 "nbformat": 4,
 "nbformat_minor": 5
}
