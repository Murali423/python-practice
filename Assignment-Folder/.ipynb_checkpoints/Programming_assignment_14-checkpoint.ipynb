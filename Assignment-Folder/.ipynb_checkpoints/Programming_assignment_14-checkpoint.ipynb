{
 "cells": [
  {
   "cell_type": "markdown",
   "id": "541734b6",
   "metadata": {},
   "source": [
    "### Programming_Assignment_14"
   ]
  },
  {
   "cell_type": "markdown",
   "id": "6daafbd8",
   "metadata": {},
   "source": [
    "#### 1.Define a class with a generator which can iterate the numbers, which are divisible by 7, between a given range 0 and n."
   ]
  },
  {
   "cell_type": "code",
   "execution_count": 1,
   "id": "45428825",
   "metadata": {},
   "outputs": [
    {
     "name": "stdout",
     "output_type": "stream",
     "text": [
      "0 7 14 21 28 35 42 49 56 63 70 77 84 91 98 105 112 119 126 133 140 147 154 161 168 175 182 189 196 203 210 217 224 231 238 245 252 259 266 273 280 287 294 301 308 315 322 329 336 343 350 357 364 371 378 385 392 399 406 413 420 427 434 441 448 455 462 469 476 483 490 497 504 511 518 525 532 539 546 553 560 567 574 581 588 595 602 609 616 623 630 637 644 651 658 665 672 679 686 693 700 707 714 721 728 735 742 749 756 763 770 777 784 791 798 805 812 819 826 833 840 847 854 861 868 875 882 889 896 903 910 917 924 931 938 945 952 959 966 973 980 987 994 "
     ]
    }
   ],
   "source": [
    "class Div_7:\n",
    "    def __init__(self,num):\n",
    "        self.num = num\n",
    "    def div_7(self):\n",
    "        for i in range(self.num+1):\n",
    "            if i%7 == 0:\n",
    "                yield i\n",
    "                \n",
    "a = Div_7(1000)\n",
    "for j in a.div_7():\n",
    "    print(j,end= ' ')"
   ]
  },
  {
   "cell_type": "markdown",
   "id": "e1d76ed0",
   "metadata": {},
   "source": [
    "#### 2. Write a program to compute the frequency of the words from the input. The output should output after sorting the key alphanumerically."
   ]
  },
  {
   "cell_type": "code",
   "execution_count": 2,
   "id": "7ace388a",
   "metadata": {},
   "outputs": [
    {
     "name": "stdout",
     "output_type": "stream",
     "text": [
      "Enter the sring: New to Python or choosing between Python 2 and Python 3? Read Python 2 or Python 3.\n",
      "2 : 2\n",
      "3. : 1\n",
      "3? : 1\n",
      "New : 1\n",
      "Python : 5\n",
      "Read : 1\n",
      "and : 1\n",
      "between : 1\n",
      "choosing : 1\n",
      "or : 2\n",
      "to : 1\n"
     ]
    }
   ],
   "source": [
    "# New to Python or choosing between Python 2 and Python 3? Read Python 2 or Python 3.\n",
    "def count_s(l):\n",
    "    for i in sorted(set(l)):\n",
    "        print(i,':',l.count(i))\n",
    "\n",
    "a = input('Enter the sring: ').split(' ')\n",
    "count_s(a)\n"
   ]
  },
  {
   "cell_type": "markdown",
   "id": "ff46051a",
   "metadata": {},
   "source": [
    "#### 3.Define a class Person and its two child classes: Male and Female. All classes have amethod &quot;getGender&quot; which can print &quot;Male&quot; for Male class and &quot;Female&quot; for Female class."
   ]
  },
  {
   "cell_type": "code",
   "execution_count": 3,
   "id": "b78053db",
   "metadata": {},
   "outputs": [
    {
     "name": "stdout",
     "output_type": "stream",
     "text": [
      "male female\n"
     ]
    }
   ],
   "source": [
    "class Person:\n",
    "    def __init__(self,gender):\n",
    "        self.gender = gender\n",
    "    def getGender(self):\n",
    "        return self.gender\n",
    "class Male(Person):\n",
    "    def __init__(self,gender):\n",
    "        super().__init__(gender)\n",
    "    def getGender(self):\n",
    "        return self.gender\n",
    "class Female(Person):\n",
    "    def __init__(self,gender):\n",
    "        super().__init__(gender)\n",
    "    def getGender(self):\n",
    "        return self.gender \n",
    "        \n",
    "m = Male('male')\n",
    "f = Female('female')\n",
    "\n",
    "print(m.getGender(),f.getGender())"
   ]
  },
  {
   "cell_type": "markdown",
   "id": "4c8d25df",
   "metadata": {},
   "source": [
    "#### 4. Please write a program to generate all sentences where subject is in [&quot;I&quot;, &quot;You&quot;] andverb is in [&quot;Play&quot;, &quot;Love&quot;] and the object is in [&quot;Hockey&quot;,&quot;Football&quot;]."
   ]
  },
  {
   "cell_type": "code",
   "execution_count": 4,
   "id": "deaf7885",
   "metadata": {},
   "outputs": [
    {
     "name": "stdout",
     "output_type": "stream",
     "text": [
      "I Play Hockey\n",
      "I Play Football\n",
      "I Love Hockey\n",
      "I Love Football\n",
      "You Play Hockey\n",
      "You Play Football\n",
      "You Love Hockey\n",
      "You Love Football\n"
     ]
    }
   ],
   "source": [
    "l = [\"I\", \"You\"]\n",
    "b = [\"Play\", \"Love\"]\n",
    "n = [\"Hockey\",\"Football\"]\n",
    "for i in l:\n",
    "    for j in b:\n",
    "        for k in n:\n",
    "            print(f'{i} {j} {k}')"
   ]
  },
  {
   "cell_type": "markdown",
   "id": "f3760622",
   "metadata": {},
   "source": [
    "#### 5.Please write a program to compress and decompress the string &quot;hello world!hello world!hello world!hello world!&quot;."
   ]
  },
  {
   "cell_type": "code",
   "execution_count": 8,
   "id": "7a13ae07",
   "metadata": {},
   "outputs": [
    {
     "name": "stdout",
     "output_type": "stream",
     "text": [
      "Compresssed string:  b'x^\\xcbH\\xcd\\xc9\\xc9W(\\xcf/\\xcaIQ\\xcc \\x82\\r\\x00\\xbd[\\x11\\xf5'\n"
     ]
    }
   ],
   "source": [
    "import zlib\n",
    "data = b\"hello world!hello world!hello world!hello world!\"\n",
    "compress_data = zlib.compress(data,2)\n",
    "print('Compresssed string: ',compress_data)\n"
   ]
  },
  {
   "cell_type": "code",
   "execution_count": 10,
   "id": "b3351c02",
   "metadata": {},
   "outputs": [
    {
     "name": "stdout",
     "output_type": "stream",
     "text": [
      "Decompressed String:  b'hello world!hello world!hello world!hello world!'\n"
     ]
    }
   ],
   "source": [
    "decom_data = zlib.decompress(compress_data)\n",
    "print('Decompressed String: ',str(decom_data))"
   ]
  },
  {
   "cell_type": "markdown",
   "id": "2e6b6772",
   "metadata": {},
   "source": [
    "#### 6.Please write a binary search function which searches an item in a sorted list. The function should return the index of element to be searched in the list."
   ]
  },
  {
   "cell_type": "code",
   "execution_count": 1,
   "id": "e3910b2e",
   "metadata": {},
   "outputs": [
    {
     "name": "stdout",
     "output_type": "stream",
     "text": [
      "Index of element is: 7\n"
     ]
    }
   ],
   "source": [
    "def binaray_search(arr,i,j,x):\n",
    "    #small problem\n",
    "    if i == j:\n",
    "        if arr[i] == x:\n",
    "            return i\n",
    "        else:\n",
    "            return -1\n",
    "    else:\n",
    "        mid = i + (j-i)//2\n",
    "        if arr[mid] == x:\n",
    "            return mid\n",
    "        elif arr[mid] < x:\n",
    "            return binaray_search(arr,mid+1,j,x)\n",
    "        else:\n",
    "            return binaray_search(arr,i,mid-1,x)\n",
    "\n",
    "#Driver code\n",
    "a = [3,6,9,13,17,22,66,77,88,90]\n",
    "i = 0\n",
    "j = len(a)-1\n",
    "x = 77\n",
    "res = binaray_search(a,i,j,x)\n",
    "print('Index of element is:',res)"
   ]
  },
  {
   "cell_type": "code",
   "execution_count": null,
   "id": "e2283e4b",
   "metadata": {},
   "outputs": [],
   "source": []
  }
 ],
 "metadata": {
  "kernelspec": {
   "display_name": "Python 3 (ipykernel)",
   "language": "python",
   "name": "python3"
  },
  "language_info": {
   "codemirror_mode": {
    "name": "ipython",
    "version": 3
   },
   "file_extension": ".py",
   "mimetype": "text/x-python",
   "name": "python",
   "nbconvert_exporter": "python",
   "pygments_lexer": "ipython3",
   "version": "3.9.7"
  }
 },
 "nbformat": 4,
 "nbformat_minor": 5
}
