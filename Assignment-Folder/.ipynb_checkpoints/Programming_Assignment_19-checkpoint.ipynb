{
 "cells": [
  {
   "cell_type": "markdown",
   "id": "b921552a",
   "metadata": {},
   "source": [
    "### Programming_Assignment_19"
   ]
  },
  {
   "cell_type": "markdown",
   "id": "4f8670d0",
   "metadata": {},
   "source": [
    "Submitted by G.Murali Divya Teja"
   ]
  },
  {
   "cell_type": "markdown",
   "id": "4292e87a",
   "metadata": {},
   "source": [
    "#### 1.Create a function that takes a string and returns a string in which each character is repeated once."
   ]
  },
  {
   "cell_type": "code",
   "execution_count": 4,
   "id": "ebe7373e",
   "metadata": {},
   "outputs": [],
   "source": [
    "def double_char(s):\n",
    "    \"\"\"\n",
    "    This function is used to get doubel charactes of string\n",
    "    \"\"\"\n",
    "    return ''.join(list(map(lambda x:x*2,list(s))))"
   ]
  },
  {
   "cell_type": "code",
   "execution_count": 6,
   "id": "095ef35a",
   "metadata": {},
   "outputs": [
    {
     "name": "stdout",
     "output_type": "stream",
     "text": [
      "double_char(\"String\")➞ SSttrriinngg\n",
      "double_char(\"Hello World\")➞ HHeelllloo  WWoorrlldd\n",
      "double_char(\"1234!_\")➞ 11223344!!__\n"
     ]
    }
   ],
   "source": [
    "print(f'double_char(\"String\")➞ {double_char(\"String\")}')\n",
    "print(f'double_char(\"Hello World\")➞ {double_char(\"Hello World\")}')\n",
    "print(f'double_char(\"1234!_\")➞ {double_char(\"1234!_\")}')"
   ]
  },
  {
   "cell_type": "markdown",
   "id": "bfee8770",
   "metadata": {},
   "source": [
    "#### 2.Create a function that reverses a boolean value and returns the string &quot;boolean expected&quot; if another variable type is given."
   ]
  },
  {
   "cell_type": "code",
   "execution_count": 11,
   "id": "4d69e631",
   "metadata": {},
   "outputs": [
    {
     "name": "stdout",
     "output_type": "stream",
     "text": [
      "reverse(True) ➞ False\n",
      "reverse(False) ➞ True\n",
      "reverse(0) ➞ boolean is expected\n",
      "reverse(None) ➞ boolean is expected\n"
     ]
    }
   ],
   "source": [
    "def reverse(a):\n",
    "    if type(a) == bool:\n",
    "        return not(a)\n",
    "    else:\n",
    "        return 'boolean is expected'\n",
    "    \n",
    "print(f'reverse(True) ➞ {reverse(True)}')\n",
    "print(f'reverse(False) ➞ {reverse(False)}')\n",
    "print(f'reverse(0) ➞ {reverse(0)}')\n",
    "print(f'reverse(None) ➞ {reverse(None)}')"
   ]
  },
  {
   "cell_type": "markdown",
   "id": "698de146",
   "metadata": {},
   "source": [
    "#### 3.Create a function that returns the thickness (in meters) of a piece of paper after folding it n number of times. The paper starts off with a thickness of 0.5mm."
   ]
  },
  {
   "cell_type": "code",
   "execution_count": 14,
   "id": "e839153c",
   "metadata": {},
   "outputs": [
    {
     "name": "stdout",
     "output_type": "stream",
     "text": [
      "number_layer(1) ➞ 0.001m\n",
      "number_layer(4) ➞ 0.008m\n",
      "number_layer(21) ➞ 1048.576m\n"
     ]
    }
   ],
   "source": [
    "def number_layer(a):\n",
    "    n = 0.5\n",
    "    for _ in range(a):\n",
    "        n *= 2\n",
    "    return str(n/1000)+'m'\n",
    "print(f'number_layer(1) ➞ {number_layer(1)}')\n",
    "print(f'number_layer(4) ➞ {number_layer(4)}')\n",
    "print(f'number_layer(21) ➞ {number_layer(21)}')"
   ]
  },
  {
   "cell_type": "markdown",
   "id": "0870cef9",
   "metadata": {},
   "source": [
    "#### 4.Create a function that takes a single string as argument and returns an ordered list containing the indices of all capital letters in the string."
   ]
  },
  {
   "cell_type": "code",
   "execution_count": 20,
   "id": "f36dcf76",
   "metadata": {},
   "outputs": [
    {
     "name": "stdout",
     "output_type": "stream",
     "text": [
      "index_of_caps(\"eDeBiT\")➞ [1, 3, 5]\n",
      "index_of_caps(\"eQuINoX\")➞ [1, 3, 4, 6]\n",
      "index_of_caps(\"determine\")➞ []\n",
      "index_of_caps(\"STRIKE\")➞ [0, 1, 2, 3, 4, 5]\n",
      "index_of_caps(\"sUn\")➞ [1]\n"
     ]
    }
   ],
   "source": [
    "def index_of_caps(s):\n",
    "    \"\"\"\n",
    "    This function returns order list containing the indices of all captial letters\n",
    "    \"\"\"\n",
    "    m = []\n",
    "    for i in s:\n",
    "        if i.isupper():\n",
    "            m.append(list(s).index(i))\n",
    "    return m\n",
    "print(f'index_of_caps(\"eDeBiT\")➞ {index_of_caps(\"eDeBiT\")}')\n",
    "print(f'index_of_caps(\"eQuINoX\")➞ {index_of_caps(\"eQuINoX\")}')\n",
    "print(f'index_of_caps(\"determine\")➞ {index_of_caps(\"determine\")}')\n",
    "print(f'index_of_caps(\"STRIKE\")➞ {index_of_caps(\"STRIKE\")}')\n",
    "print(f'index_of_caps(\"sUn\")➞ {index_of_caps(\"sUn\")}')"
   ]
  },
  {
   "cell_type": "markdown",
   "id": "658dd8cb",
   "metadata": {},
   "source": [
    "#### 5. Using list comprehensions, create a function that finds all even numbers from 1 to the given denumber."
   ]
  },
  {
   "cell_type": "code",
   "execution_count": 25,
   "id": "55c217c0",
   "metadata": {},
   "outputs": [
    {
     "name": "stdout",
     "output_type": "stream",
     "text": [
      "find_even_nums(8)➞ [2, 4, 6, 8]\n",
      "find_even_nums(4)➞ [2, 4]\n",
      "find_even_nums(2)➞ [2]\n"
     ]
    }
   ],
   "source": [
    "def find_even_nums(a):\n",
    "    if type(a) == int:\n",
    "        return [x for x in range(2,a+1) if x%2==0]\n",
    "print(f'find_even_nums(8)➞ {find_even_nums(8)}')\n",
    "print(f'find_even_nums(4)➞ {find_even_nums(4)}')\n",
    "print(f'find_even_nums(2)➞ {find_even_nums(2)}')"
   ]
  },
  {
   "cell_type": "code",
   "execution_count": null,
   "id": "a1266d6d",
   "metadata": {},
   "outputs": [],
   "source": []
  }
 ],
 "metadata": {
  "kernelspec": {
   "display_name": "Python 3 (ipykernel)",
   "language": "python",
   "name": "python3"
  },
  "language_info": {
   "codemirror_mode": {
    "name": "ipython",
    "version": 3
   },
   "file_extension": ".py",
   "mimetype": "text/x-python",
   "name": "python",
   "nbconvert_exporter": "python",
   "pygments_lexer": "ipython3",
   "version": "3.9.7"
  }
 },
 "nbformat": 4,
 "nbformat_minor": 5
}
