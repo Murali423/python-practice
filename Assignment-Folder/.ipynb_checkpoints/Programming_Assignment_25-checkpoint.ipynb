{
 "cells": [
  {
   "cell_type": "markdown",
   "id": "573e9b53",
   "metadata": {},
   "source": [
    "### Programming_Assignment_25"
   ]
  },
  {
   "cell_type": "markdown",
   "id": "65002d5d",
   "metadata": {},
   "source": [
    "Submitted By G.Murali Divya Teja"
   ]
  },
  {
   "cell_type": "markdown",
   "id": "54f1f747",
   "metadata": {},
   "source": [
    "#### 1.Create a function that takes three integer arguments (a, b, c) and returns the amount of integers which are of equal value."
   ]
  },
  {
   "cell_type": "code",
   "execution_count": 1,
   "id": "77990048",
   "metadata": {},
   "outputs": [
    {
     "name": "stdout",
     "output_type": "stream",
     "text": [
      "(1, 1, 1)➞ 3\n",
      "(3, 4, 3)➞ 0\n",
      "(3, 4, 1)➞ 0\n"
     ]
    }
   ],
   "source": [
    "def equal(a,b,c):\n",
    "    if a == b == c:\n",
    "        print(f'{a,b,c}➞ {3}')    \n",
    "    elif a== b or b== c:\n",
    "        print(f'{a,b,c}➞ {2}')\n",
    "    else:\n",
    "        print(f'{a,b,c}➞ {0}')\n",
    "        \n",
    "equal(1, 1, 1)\n",
    "equal(3, 4, 3)\n",
    "equal(3, 4, 1)\n",
    "        "
   ]
  },
  {
   "cell_type": "markdown",
   "id": "8e593cfe",
   "metadata": {},
   "source": [
    "#### Question2 Write a function that converts a dictionary into a list of keys-values tuples."
   ]
  },
  {
   "cell_type": "code",
   "execution_count": 7,
   "id": "9f60d503",
   "metadata": {},
   "outputs": [
    {
     "name": "stdout",
     "output_type": "stream",
     "text": [
      "[('B', 2), ('C', 3), ('D', 1)]\n",
      "[('dislikes', 3), ('followers', 10), ('likes', 2)]\n"
     ]
    }
   ],
   "source": [
    "def dict_to_list(d):\n",
    "    if type(d) == dict:\n",
    "        return sorted(list(d.items()))\n",
    "print(dict_to_list({\"D\": 1,\"B\": 2,\"C\": 3}))\n",
    "print(dict_to_list({\"likes\": 2,\"dislikes\": 3,\"followers\": 10}))"
   ]
  },
  {
   "cell_type": "markdown",
   "id": "35420e0f",
   "metadata": {},
   "source": [
    "#### Question3 Write a function that creates a dictionary with each (key, value) pair being the (lower case, upper case) versions of a letter, respectively."
   ]
  },
  {
   "cell_type": "code",
   "execution_count": 8,
   "id": "367ac69a",
   "metadata": {},
   "outputs": [
    {
     "name": "stdout",
     "output_type": "stream",
     "text": [
      "mapping([\"u\",\"s\"])➞{'u': 'U', 's': 'S'}\n",
      "mapping([\"a\",\"b\",\"bc\"])➞{'a': 'A', 'b': 'B', 'bc': 'BC'}\n",
      "mapping([\"a\",\"b\",\"x\",\"y\"])➞{'a': 'A', 'b': 'B', 'x': 'X', 'y': 'Y'}\n"
     ]
    }
   ],
   "source": [
    "def mapping(l):\n",
    "    d = {}\n",
    "    for i in l:\n",
    "        d[i]= i.upper()\n",
    "    return d\n",
    "print(f'mapping([\"u\",\"s\"])➞{mapping([\"u\",\"s\"])}')\n",
    "print(f'mapping([\"a\",\"b\",\"bc\"])➞{mapping([\"a\",\"b\",\"bc\"])}')\n",
    "print(f'mapping([\"a\",\"b\",\"x\",\"y\"])➞{mapping([\"a\",\"b\",\"x\",\"y\"])}')"
   ]
  },
  {
   "cell_type": "markdown",
   "id": "cf2e1694",
   "metadata": {},
   "source": [
    "#### Question4 Write a function, that replaces all vowels in a string with a specified vowel."
   ]
  },
  {
   "cell_type": "code",
   "execution_count": 11,
   "id": "16a3c15f",
   "metadata": {},
   "outputs": [
    {
     "name": "stdout",
     "output_type": "stream",
     "text": [
      "apples and bananas ➞ upplus und bununus\n",
      "cheese casserole ➞ chooso cossorolo\n",
      "stuffed jalapeno poppers ➞ steffed jelepene peppers\n"
     ]
    }
   ],
   "source": [
    "def vow_replace(in_string,vow_char):\n",
    "    vowels = ['a','e','i','o','u']\n",
    "    out_string = ''\n",
    "    for ele in in_string:\n",
    "        if ele in vowels:\n",
    "            out_string += vow_char\n",
    "        else:\n",
    "            out_string += ele\n",
    "    print(f'{in_string} ➞ {out_string}')\n",
    "        \n",
    "vow_replace(\"apples and bananas\", \"u\")\n",
    "vow_replace(\"cheese casserole\", \"o\")\n",
    "vow_replace(\"stuffed jalapeno poppers\", \"e\")"
   ]
  },
  {
   "cell_type": "markdown",
   "id": "3a617bd5",
   "metadata": {},
   "source": [
    "#### Question5 Create a function that takes a string as input and capitalizes a letter if its ASCII code is even and returns its lower case version if its ASCII code is odd."
   ]
  },
  {
   "cell_type": "code",
   "execution_count": 12,
   "id": "103380f4",
   "metadata": {},
   "outputs": [
    {
     "name": "stdout",
     "output_type": "stream",
     "text": [
      "to be or not to be! ➞ To Be oR NoT To Be!\n",
      "THE LITTLE MERMAID ➞ THe LiTTLe meRmaiD\n",
      "Oh what a beautiful morning. ➞ oH wHaT a BeauTiFuL moRNiNg.\n"
     ]
    }
   ],
   "source": [
    "def ascii_capitalize(in_string):\n",
    "    out_string = ''\n",
    "    for ele in in_string.lower():\n",
    "        if (ord(ele)%2 == 0):\n",
    "            out_string += ele.upper()\n",
    "        else:\n",
    "            out_string += ele\n",
    "    print(f'{in_string} ➞ {out_string}')\n",
    "        \n",
    "ascii_capitalize(\"to be or not to be!\")\n",
    "ascii_capitalize(\"THE LITTLE MERMAID\")\n",
    "ascii_capitalize(\"Oh what a beautiful morning.\")"
   ]
  },
  {
   "cell_type": "code",
   "execution_count": null,
   "id": "a9af2897",
   "metadata": {},
   "outputs": [],
   "source": []
  }
 ],
 "metadata": {
  "kernelspec": {
   "display_name": "Python 3 (ipykernel)",
   "language": "python",
   "name": "python3"
  },
  "language_info": {
   "codemirror_mode": {
    "name": "ipython",
    "version": 3
   },
   "file_extension": ".py",
   "mimetype": "text/x-python",
   "name": "python",
   "nbconvert_exporter": "python",
   "pygments_lexer": "ipython3",
   "version": "3.9.7"
  }
 },
 "nbformat": 4,
 "nbformat_minor": 5
}
