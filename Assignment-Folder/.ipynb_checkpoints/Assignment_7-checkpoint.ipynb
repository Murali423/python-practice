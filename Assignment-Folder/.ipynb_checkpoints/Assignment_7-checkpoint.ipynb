{
 "cells": [
  {
   "cell_type": "markdown",
   "id": "32ed430f",
   "metadata": {},
   "source": [
    "### Assignment_7"
   ]
  },
  {
   "cell_type": "markdown",
   "id": "2aa86a4b",
   "metadata": {},
   "source": [
    "Submitted by: G.Murali Divya Teja"
   ]
  },
  {
   "cell_type": "markdown",
   "id": "923b3709",
   "metadata": {},
   "source": [
    "####  1. What is the name of the feature responsible for generating Regex objects?"
   ]
  },
  {
   "cell_type": "markdown",
   "id": "110fa19a",
   "metadata": {},
   "source": [
    "`re.compile()` is the feature responsible for generation of Regex objects. In simple terms, We can compile a regular expression into a regex object to look for occurrences of pattern in given string"
   ]
  },
  {
   "cell_type": "code",
   "execution_count": 1,
   "id": "215b9fa3",
   "metadata": {},
   "outputs": [
    {
     "name": "stdout",
     "output_type": "stream",
     "text": [
      "['e', 'a', 'i', 'i', 'o', 'a']\n",
      "re.compile('[aeiou]')\n"
     ]
    }
   ],
   "source": [
    "import re\n",
    "p = re.compile('[aeiou]')\n",
    "print(p.findall(\"Aye, said Mr.iron man\"))\n",
    "print(p)"
   ]
  },
  {
   "cell_type": "markdown",
   "id": "8fc7e9bd",
   "metadata": {},
   "source": [
    "#### 2. Why do raw strings often appear in Regex objects?"
   ]
  },
  {
   "cell_type": "markdown",
   "id": "b0f80174",
   "metadata": {},
   "source": [
    "__Ans:__ In some expressions in python which has backslash with some letters have special meaning which is used to which match with matacharacters in python. to avoid ambiguity we use `r''` it will treat as normal string but not give special importance so that we can get required pattern easily"
   ]
  },
  {
   "cell_type": "code",
   "execution_count": 2,
   "id": "8fbbacb0",
   "metadata": {},
   "outputs": [
    {
     "name": "stdout",
     "output_type": "stream",
     "text": [
      "hello\\nworld\n",
      "hello\n",
      "world\n"
     ]
    }
   ],
   "source": [
    "a = r'hello\\nworld'\n",
    "b = 'hello\\nworld'\n",
    "print(a)\n",
    "print(b)"
   ]
  },
  {
   "cell_type": "markdown",
   "id": "b9c9b809",
   "metadata": {},
   "source": [
    "#### 3. What is the return value of the search() method?"
   ]
  },
  {
   "cell_type": "markdown",
   "id": "e7f02fdb",
   "metadata": {},
   "source": [
    "__Ans:__ `search(pattern,string)` is method which used to get __string__ if match pattern found in string otherwise it will return exception __None__"
   ]
  },
  {
   "cell_type": "code",
   "execution_count": 3,
   "id": "0589a96c",
   "metadata": {},
   "outputs": [
    {
     "name": "stdout",
     "output_type": "stream",
     "text": [
      "<re.Match object; span=(5, 12), match='iNeuron'>\n"
     ]
    },
    {
     "data": {
      "text/plain": [
       "'iNeuron'"
      ]
     },
     "execution_count": 3,
     "metadata": {},
     "output_type": "execute_result"
    }
   ],
   "source": [
    "import re\n",
    "a = re.search(r'i\\w+n','i am iNeuron student')\n",
    "print(a)\n",
    "a.group() # to get the word we should use a.group()\n"
   ]
  },
  {
   "cell_type": "code",
   "execution_count": 4,
   "id": "81057fab",
   "metadata": {},
   "outputs": [
    {
     "name": "stdout",
     "output_type": "stream",
     "text": [
      "None\n"
     ]
    }
   ],
   "source": [
    "b  = re.search(r'a\\w+t','I am iNeuron student')\n",
    "print(b)"
   ]
  },
  {
   "cell_type": "markdown",
   "id": "163ee2b0",
   "metadata": {},
   "source": [
    "#### 4. From a Match item, how do you get the actual strings that match the pattern?"
   ]
  },
  {
   "cell_type": "markdown",
   "id": "1e206884",
   "metadata": {},
   "source": [
    "For matched string we use `group()` to return actual string which match match item"
   ]
  },
  {
   "cell_type": "code",
   "execution_count": 5,
   "id": "3e453679",
   "metadata": {},
   "outputs": [
    {
     "data": {
      "text/plain": [
       "'iNeuron'"
      ]
     },
     "execution_count": 5,
     "metadata": {},
     "output_type": "execute_result"
    }
   ],
   "source": [
    "a.group() # refer above example"
   ]
  },
  {
   "cell_type": "markdown",
   "id": "4badc944",
   "metadata": {},
   "source": [
    "#### 5. In the regex which created from the r&#39;(\\d\\d\\d)-(\\d\\d\\d-\\d\\d\\d\\d)&#39;, what does group zero cover? Group 2? Group 1?"
   ]
  },
  {
   "cell_type": "code",
   "execution_count": 6,
   "id": "5c3ec539",
   "metadata": {},
   "outputs": [
    {
     "name": "stdout",
     "output_type": "stream",
     "text": [
      "125-456-3456\n",
      "125\n",
      "456-3456\n",
      "125-456-3456\n",
      "('125', '456-3456')\n"
     ]
    }
   ],
   "source": [
    "import re\n",
    "a = re.compile(r'(\\d\\d\\d)-(\\d\\d\\d-\\d\\d\\d\\d)')\n",
    "m = a.search('My number is 125-456-3456')\n",
    "print(m.group())\n",
    "print(m.group(1))  # group 1 gives last pattern which in braces\n",
    "print(m.group(2))  # group 2 gives last pattern which in braces\n",
    "print(m.group(0))  #when you give group zero it give whole pattern matches\n",
    "print(m.groups())"
   ]
  },
  {
   "cell_type": "markdown",
   "id": "2982ecae",
   "metadata": {},
   "source": [
    "#### 6. In standard expression syntax, parentheses and intervals have distinct meanings. How can you tell a regex that you want it to fit real parentheses and periods?"
   ]
  },
  {
   "cell_type": "markdown",
   "id": "91895c24",
   "metadata": {},
   "source": [
    "The `\\.` `\\(` and `\\)` escape characters in the raw string passed to re.compile() will match actual parenthesis characters."
   ]
  },
  {
   "cell_type": "code",
   "execution_count": 7,
   "id": "5eb881c5",
   "metadata": {},
   "outputs": [
    {
     "name": "stdout",
     "output_type": "stream",
     "text": [
      "(123) 456-7891\n"
     ]
    }
   ],
   "source": [
    "# Example Program\n",
    "import re\n",
    "phoneNumRegex = re.compile(r'(\\(\\d\\d\\d\\)) (\\d\\d\\d-\\d\\d\\d\\d)')\n",
    "mo = phoneNumRegex.search('My phone number is (123) 456-7891.')\n",
    "print(mo.group())"
   ]
  },
  {
   "cell_type": "markdown",
   "id": "d6bd5c4c",
   "metadata": {},
   "source": [
    "#### 7. The findall() method returns a string list or a list of string tuples. What causes it to return one of the two options?"
   ]
  },
  {
   "cell_type": "markdown",
   "id": "62580b1c",
   "metadata": {},
   "source": [
    "__Ans:__ `re.search()` function will return only the first matched value but `re.findall()` retuns the list of strings "
   ]
  },
  {
   "cell_type": "code",
   "execution_count": 8,
   "id": "ae85e6e5",
   "metadata": {},
   "outputs": [
    {
     "name": "stdout",
     "output_type": "stream",
     "text": [
      "['423', '12345667']\n"
     ]
    }
   ],
   "source": [
    "import re\n",
    "regex = '\\d+'\n",
    "st = 'This is murali my number is 423,and my contct 12345667'\n",
    "\n",
    "s = re.findall(regex,st)\n",
    "print(s)"
   ]
  },
  {
   "cell_type": "markdown",
   "id": "8d1f367a",
   "metadata": {},
   "source": [
    "#### 8. In standard expressions, what does the | character mean?"
   ]
  },
  {
   "cell_type": "markdown",
   "id": "e50d6241",
   "metadata": {},
   "source": [
    "__Ans:__ `|` is Or operator it will check for pattern left side as well as right side it will return based on occurence of pattrn"
   ]
  },
  {
   "cell_type": "code",
   "execution_count": 9,
   "id": "1b12ccb6",
   "metadata": {},
   "outputs": [
    {
     "name": "stdout",
     "output_type": "stream",
     "text": [
      "['murali', 'iNeuron']\n"
     ]
    }
   ],
   "source": [
    "reg = 'murali|iNeuron'\n",
    "f = re.findall(reg,'mura  murali muarli dfg we need to check ineuron Ineuron iNeuron')\n",
    "print(f)"
   ]
  },
  {
   "cell_type": "markdown",
   "id": "f30f70ad",
   "metadata": {},
   "source": [
    "#### 9. In regular expressions, what does the character? stand for?"
   ]
  },
  {
   "cell_type": "markdown",
   "id": "00185776",
   "metadata": {},
   "source": [
    "__Ans:__ `?` will check string before occurence in the given string once or none "
   ]
  },
  {
   "cell_type": "code",
   "execution_count": 10,
   "id": "1c77b3de",
   "metadata": {},
   "outputs": [
    {
     "name": "stdout",
     "output_type": "stream",
     "text": [
      "['mano', 'mango']\n"
     ]
    }
   ],
   "source": [
    "import re\n",
    "reg = r'mang?o'\n",
    "f = re.findall(reg,'man has mano and mango with whichc he can go with man')\n",
    "print(f)"
   ]
  },
  {
   "cell_type": "markdown",
   "id": "aee63a85",
   "metadata": {},
   "source": [
    "#### 10.In regular expressions, what is the difference between the + and * characters?"
   ]
  },
  {
   "cell_type": "markdown",
   "id": "9c5b3185",
   "metadata": {},
   "source": [
    "__Ans:__ `+` will matches one or more occurence in the given string to extract pattern.\n",
    "\n",
    "`*` will matches zero or more occurence in the given string to extract pattern."
   ]
  },
  {
   "cell_type": "code",
   "execution_count": 11,
   "id": "665f1946",
   "metadata": {},
   "outputs": [
    {
     "name": "stdout",
     "output_type": "stream",
     "text": [
      "abbc ac abbbbbbbc abbbbaa accccb abcc acclarate with + --> ['abbc', 'abbbbbbbc', 'abc']\n",
      "abbc ac abbbbbbbc abbbbaa accccb abcc acclarate with * --> ['abbc', 'ac', 'abbbbbbbc', 'ac', 'abc', 'ac']\n"
     ]
    }
   ],
   "source": [
    "import re\n",
    "reg1 = r'ab+c'\n",
    "reg2 = r'ab*c'\n",
    "st = 'abbc ac abbbbbbbc abbbbaa accccb abcc acclarate'\n",
    "f1 = re.findall(reg1,st)\n",
    "print(f'{st} with + --> {f1}')\n",
    "f2 = re.findall(reg2,st)\n",
    "print(f'{st} with * --> {f2}')"
   ]
  },
  {
   "cell_type": "markdown",
   "id": "31037b4f",
   "metadata": {},
   "source": [
    "#### 11. What is the difference between {4} and {4,5} in regular expression?"
   ]
  },
  {
   "cell_type": "markdown",
   "id": "fbec8ee4",
   "metadata": {},
   "source": [
    "__Ans:__ `{4}` means that its preceeding group should repeat 4 times. where as `{4,5}` means that its preceeding group should repeat mininum 4 times and maximum 5 times inclusively"
   ]
  },
  {
   "cell_type": "code",
   "execution_count": 12,
   "id": "dd99453f",
   "metadata": {},
   "outputs": [
    {
     "name": "stdout",
     "output_type": "stream",
     "text": [
      "gi{4}h --> ['giiiih']\n",
      "gi{4,5}h --> ['giiiih', 'giiiiih']\n"
     ]
    }
   ],
   "source": [
    "import re\n",
    "reg1 = r'gi{4}h'\n",
    "reg2 = r'gi{4,5}h'\n",
    "st = 'giiiih giiiiih gih giiiiiiih giiiiiiiih gih giih'\n",
    "e1 = re.findall(reg1,st)\n",
    "print(f'{reg1} --> {e1}')\n",
    "e2 = re.findall(reg2,st)\n",
    "print(f'{reg2} --> {e2}')"
   ]
  },
  {
   "cell_type": "markdown",
   "id": "a3377daf",
   "metadata": {},
   "source": [
    "#### 12. What do you mean by the \\d, \\w, and \\s shorthand character classes signify in regular expressions?"
   ]
  },
  {
   "cell_type": "markdown",
   "id": "23e347f7",
   "metadata": {},
   "source": [
    "__Ans:__ `\\d` it is special sequece in regex which matches with decimal digits from 0 to 9 [0-9]\n",
    "\n",
    "`\\w` it is special sequence in regex which matches any alphanumeric character [a-zA-z0-9]\n",
    "\n",
    "`\\s` it is special sequece in regex which matches white spcae character"
   ]
  },
  {
   "cell_type": "code",
   "execution_count": 13,
   "id": "e5ac3109",
   "metadata": {},
   "outputs": [
    {
     "name": "stdout",
     "output_type": "stream",
     "text": [
      "['908766'] ['I', 'am', 'murali', 'having', 'number', '908766'] [' ', ' ', ' ', ' ', ' ', ' ', ' ']\n"
     ]
    }
   ],
   "source": [
    "import re \n",
    "\n",
    "reg1 = r'\\d+'\n",
    "reg2 = r'\\w+'\n",
    "reg3 = r'\\s'\n",
    "s = 'I am murali having  number 908766 '\n",
    "t1 = re.findall(reg1,s)\n",
    "t2 = re.findall(reg2,s)\n",
    "t3 = re.findall(reg3,s)\n",
    "print(t1,t2,t3)"
   ]
  },
  {
   "cell_type": "markdown",
   "id": "98c62721",
   "metadata": {},
   "source": [
    "#### 13. What do means by \\D, \\W, and \\S shorthand character classes signify in regular expressions?"
   ]
  },
  {
   "cell_type": "markdown",
   "id": "193c181e",
   "metadata": {},
   "source": [
    "__Ans:__ `\\D` it is special sequece in regex which  matches with non decimal digits from 0 to 9 [^0-9]\n",
    "\n",
    "`\\W` it is special sequence in regex which matches any non alphanumeric character [^a-zA-z0-9]\n",
    "\n",
    "`\\S` it is special sequece in regex which matches non white spcae character "
   ]
  },
  {
   "cell_type": "code",
   "execution_count": 14,
   "id": "a1278afb",
   "metadata": {},
   "outputs": [
    {
     "name": "stdout",
     "output_type": "stream",
     "text": [
      "['I am murali having  number ', ' '] [' ', ' ', ' ', '  ', ' ', ' '] ['I', 'a', 'm', 'm', 'u', 'r', 'a', 'l', 'i', 'h', 'a', 'v', 'i', 'n', 'g', 'n', 'u', 'm', 'b', 'e', 'r', '9', '0', '8', '7', '6', '6']\n"
     ]
    }
   ],
   "source": [
    "import re \n",
    "\n",
    "reg1 = r'\\D+'\n",
    "reg2 = r'\\W+'\n",
    "reg3 = r'\\S'\n",
    "s = 'I am murali having  number 908766 '\n",
    "t1 = re.findall(reg1,s)\n",
    "t2 = re.findall(reg2,s)\n",
    "t3 = re.findall(reg3,s)\n",
    "print(t1,t2,t3)"
   ]
  },
  {
   "cell_type": "markdown",
   "id": "eddfc777",
   "metadata": {},
   "source": [
    "#### 14. What is the difference between `*?` and `.*`?"
   ]
  },
  {
   "cell_type": "markdown",
   "id": "f779b6bd",
   "metadata": {},
   "source": [
    "__Ans:__ `.*` is a Greedy mode, which returns the longest string that meets the condition. Whereas `.*?` is a non greedy mode which returns the shortest string that meets the condition."
   ]
  },
  {
   "cell_type": "markdown",
   "id": "7d4f5e89",
   "metadata": {},
   "source": [
    "#### 15. What is the syntax for matching both numbers and lowercase letters with a character class?"
   ]
  },
  {
   "cell_type": "markdown",
   "id": "d0644bff",
   "metadata": {},
   "source": [
    "__Ans:__ The syntax for matching numbers and lower is `[0-9a-z]` or `[a-z0-9]`"
   ]
  },
  {
   "cell_type": "markdown",
   "id": "d8bda633",
   "metadata": {},
   "source": [
    "#### 16. What is the procedure for making a normal expression in regax case insensitive?"
   ]
  },
  {
   "cell_type": "markdown",
   "id": "5b291911",
   "metadata": {},
   "source": [
    "__Ans:__ `re.IGNORECASE` will make normal expression regax case insensitive"
   ]
  },
  {
   "cell_type": "markdown",
   "id": "5974b8c4",
   "metadata": {},
   "source": [
    "#### 17. What does the . character normally match? What does it match if re.DOTALL is passed as 2nd argument in re.compile()?"
   ]
  },
  {
   "cell_type": "markdown",
   "id": "97b31e34",
   "metadata": {},
   "source": [
    "__Ans:__  `.` will match only single character except for new line character. by passing `re.DOTALL` as second argument in `re.compile()` we make all dot character pass along with new line character"
   ]
  },
  {
   "cell_type": "markdown",
   "id": "558d34c6",
   "metadata": {},
   "source": [
    "#### 18. If numReg = re.compile(r&#39;\\d+&#39;), what will numRegex.sub(&#39;X&#39;, &#39;11 drummers, 10 pipers, five rings, 4 hen&#39;) return?"
   ]
  },
  {
   "cell_type": "code",
   "execution_count": 15,
   "id": "3a0317dc",
   "metadata": {},
   "outputs": [
    {
     "name": "stdout",
     "output_type": "stream",
     "text": [
      "X drummers, X pipers, five rings, X hen\n"
     ]
    }
   ],
   "source": [
    "import re\n",
    "numReg = re.compile(r'\\d+')\n",
    "s = numReg.sub('X','11 drummers, 10 pipers, five rings, 4 hen')\n",
    "print(s)"
   ]
  },
  {
   "cell_type": "markdown",
   "id": "87e72cfe",
   "metadata": {},
   "source": [
    "#### 19. What does passing re.VERBOSE as the 2nd argument to re.compile() allow to do?"
   ]
  },
  {
   "cell_type": "markdown",
   "id": "c5f87177",
   "metadata": {},
   "source": [
    "__Ans:__ `re.VERBOSE` will allow to add whitespace and comments to string passed to `re.compile().`"
   ]
  },
  {
   "cell_type": "code",
   "execution_count": 16,
   "id": "846b727e",
   "metadata": {},
   "outputs": [],
   "source": [
    "# Without Using VERBOSE\n",
    "regex_email = re.compile(r'^([a-z0-9_\\.-]+)@([0-9a-z\\.-]+)\\.([a-z\\.]{2, 6})$', re.IGNORECASE)\n",
    " \n",
    "# Using VERBOSE\n",
    "regex_email = re.compile(r\"\"\"\n",
    "                            ^([a-z0-9_\\.-]+)              # local Part like username\n",
    "                            @                             # single @ sign \n",
    "                            ([0-9a-z\\.-]+)                # Domain name like google\n",
    "                            \\.                            # single Dot .\n",
    "                            ([a-z]{2,6})$                 # Top level Domain  like com/in/org\n",
    "                         \"\"\",re.VERBOSE | re.IGNORECASE)  "
   ]
  },
  {
   "cell_type": "markdown",
   "id": "5eefee75",
   "metadata": {},
   "source": [
    "####  20. How would you write a regex that match a number with comma for every three digits? It must match the given following"
   ]
  },
  {
   "cell_type": "code",
   "execution_count": 24,
   "id": "a95df2e6",
   "metadata": {},
   "outputs": [
    {
     "name": "stdout",
     "output_type": "stream",
     "text": [
      "Output: 42 -> <re.Match object; span=(0, 2), match='42'>\n",
      "Output: 1,234 -> <re.Match object; span=(0, 5), match='1,234'>\n",
      "Output: 6,368,745 -> <re.Match object; span=(0, 9), match='6,368,745'>\n",
      "Output: 12,34,567 -> None\n",
      "Output: 1234 -> None\n"
     ]
    }
   ],
   "source": [
    "import re\n",
    "pattern = r'^\\d{1,3}(,\\d{3})*$'\n",
    "pagex = re.compile(pattern)\n",
    "for ele in ['42','1,234', '6,368,745','12,34,567','1234']:\n",
    "    print('Output:',ele, '->', pagex.search(ele))\n"
   ]
  },
  {
   "cell_type": "markdown",
   "id": "4d2f2df5",
   "metadata": {},
   "source": [
    "#### 21. How would you write a regex that matches the full name of someone whose last name isWatanabe? You can assume that the first name that comes before it will always be one word that begins with a capital letter."
   ]
  },
  {
   "cell_type": "code",
   "execution_count": 25,
   "id": "13f389d9",
   "metadata": {},
   "outputs": [
    {
     "name": "stdout",
     "output_type": "stream",
     "text": [
      "Output:  Haruto Watanabe -> <re.Match object; span=(0, 15), match='Haruto Watanabe'>\n",
      "Output:  Alice Watanabe -> <re.Match object; span=(0, 14), match='Alice Watanabe'>\n",
      "Output:  RoboCop Watanabe -> <re.Match object; span=(0, 16), match='RoboCop Watanabe'>\n",
      "Output:  haruto Watanabe -> None\n",
      "Output:  Mr. Watanabe -> None\n",
      "Output:  Watanabe -> None\n",
      "Output:  Haruto watanabe -> None\n"
     ]
    }
   ],
   "source": [
    "import re\n",
    "pat = r'^[A-Z]\\w+\\sWatanabe'\n",
    "pagex = re.compile(pat)\n",
    "for name in ['Haruto Watanabe','Alice Watanabe','RoboCop Watanabe','haruto Watanabe','Mr. Watanabe','Watanabe','Haruto watanabe']:\n",
    "    print('Output: ',name,'->',pagex.search(name)) "
   ]
  },
  {
   "cell_type": "markdown",
   "id": "0110136d",
   "metadata": {},
   "source": [
    "#### 22. How would you write a regex that matches a sentence where the first word is either Alice, Bob, or Carol; the second word is either eats, pets, or throws; the third word is apples, cats, or baseballs; and the sentence ends with a period? This regex should be case-insensitive."
   ]
  },
  {
   "cell_type": "code",
   "execution_count": 27,
   "id": "54659a07",
   "metadata": {},
   "outputs": [
    {
     "name": "stdout",
     "output_type": "stream",
     "text": [
      "Output:  Alice eats apples. -> <re.Match object; span=(0, 17), match='Alice eats apples'>\n",
      "Output:  Bob pets cats. -> <re.Match object; span=(0, 13), match='Bob pets cats'>\n",
      "Output:  Carol throws baseballs. -> <re.Match object; span=(0, 22), match='Carol throws baseballs'>\n",
      "Output:  Alice throws Apples. -> <re.Match object; span=(0, 19), match='Alice throws Apples'>\n",
      "Output:  BOB EATS CATS. -> <re.Match object; span=(0, 13), match='BOB EATS CATS'>\n",
      "Output:  RoboCop eats apples. -> None\n",
      "Output:  ALICE THROWS FOOTBALLS. -> None\n",
      "Output:  Carol eats 7 cats. -> None\n"
     ]
    }
   ],
   "source": [
    "import re \n",
    "\n",
    "pat = r'(Alice|Bob|Carol)\\s(eats|pets|throws)\\s(apples|cats|baseballs)'\n",
    "wordx = re.compile(pat,re.IGNORECASE)\n",
    "for ele in ['Alice eats apples.','Bob pets cats.','Carol throws baseballs.','Alice throws Apples.','BOB EATS CATS.','RoboCop eats apples.'\n",
    ",'ALICE THROWS FOOTBALLS.','Carol eats 7 cats.']:\n",
    "    print('Output: ',ele,'->',wordx.search(ele))"
   ]
  },
  {
   "cell_type": "code",
   "execution_count": null,
   "id": "0fc922e0",
   "metadata": {},
   "outputs": [],
   "source": []
  }
 ],
 "metadata": {
  "kernelspec": {
   "display_name": "Python 3 (ipykernel)",
   "language": "python",
   "name": "python3"
  },
  "language_info": {
   "codemirror_mode": {
    "name": "ipython",
    "version": 3
   },
   "file_extension": ".py",
   "mimetype": "text/x-python",
   "name": "python",
   "nbconvert_exporter": "python",
   "pygments_lexer": "ipython3",
   "version": "3.9.7"
  }
 },
 "nbformat": 4,
 "nbformat_minor": 5
}
