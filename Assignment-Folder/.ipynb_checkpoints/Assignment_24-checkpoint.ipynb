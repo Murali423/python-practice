{
 "cells": [
  {
   "cell_type": "markdown",
   "id": "f1574b14",
   "metadata": {},
   "source": [
    "#### Assignment_24"
   ]
  },
  {
   "cell_type": "markdown",
   "id": "5ac2ac14",
   "metadata": {},
   "source": [
    "Submitted by Murali Divya Teja Gummadidala"
   ]
  },
  {
   "cell_type": "markdown",
   "id": "124d2823",
   "metadata": {},
   "source": [
    "#### 1. What is the relationship between def statements and lambda expressions ?"
   ]
  },
  {
   "cell_type": "markdown",
   "id": "a14feb82",
   "metadata": {},
   "source": [
    "__Ans:__ `def` statement is used to create function which has function name with/without parameters having block of statement.  which we can use to avoid code repetion and .  `lambda` is Anonymous function which has parameter and expression.\n",
    "\n",
    "`lambda` function is used to write experssion without any function name doesn't contain any block of statement.\n"
   ]
  },
  {
   "cell_type": "code",
   "execution_count": 1,
   "id": "a37347b1",
   "metadata": {},
   "outputs": [
    {
     "name": "stdout",
     "output_type": "stream",
     "text": [
      "4\n"
     ]
    }
   ],
   "source": [
    "x = lambda a,b:a+b\n",
    "print(x(1,3))"
   ]
  },
  {
   "cell_type": "markdown",
   "id": "16ff24b4",
   "metadata": {},
   "source": [
    "#### 2. What is the benefit of lambda?"
   ]
  },
  {
   "cell_type": "markdown",
   "id": "4a10d77b",
   "metadata": {},
   "source": [
    "__Ans:__ The following are some of the benefits of lambda expressions:\n",
    "1. It can be used to create Anonymous functions(nameless) inside some complex functions if we are planning to use it only once.\n",
    "2. Small to medium functions can be created in a single line\n",
    "3. Fuctions created using lambda expressions can be assigned to a variable and can be used by simply calling the variable"
   ]
  },
  {
   "cell_type": "markdown",
   "id": "2cc01250",
   "metadata": {},
   "source": [
    "#### 3.Compare and contrast map, filter, and reduce."
   ]
  },
  {
   "cell_type": "markdown",
   "id": "2fc356ec",
   "metadata": {},
   "source": [
    "__Ans:__  The differences between map, filter and reduce are:\n",
    "\n",
    "1. map(): The map() function is a type of higher-order. This function takes another function as a parameter along with a sequence of iterables and returns an output after applying the function to each iterable present in the sequence.\n",
    "2. filter(): The filter() function is used to create an output list consisting of values for which the function returns true.\n",
    "3. reduce(): The reduce() function, as the name describes, applies a given function to the iterables and returns a single value"
   ]
  },
  {
   "cell_type": "code",
   "execution_count": 8,
   "id": "12c4cc2b",
   "metadata": {},
   "outputs": [
    {
     "name": "stdout",
     "output_type": "stream",
     "text": [
      "Map funciton --> [1, 4, 9, 16, 25, 36, 49, 64]\n",
      "Filter funciton --> [2, 4, 6, 8]\n",
      "Reduce funciton--> 40320\n"
     ]
    }
   ],
   "source": [
    "from functools import reduce\n",
    "l = [1,2,3,4,5,6,7,8]\n",
    "print(f'Map funciton --> {list(map(lambda x:x*x,l))}')\n",
    "print(f'Filter funciton --> {list(filter(lambda x:x%2==0,l))}')\n",
    "print(f'Reduce funciton--> {reduce(lambda x,y:x*y,l)}')"
   ]
  },
  {
   "cell_type": "markdown",
   "id": "7319cac3",
   "metadata": {},
   "source": [
    "#### 4. What are function annotations, and how are they used?"
   ]
  },
  {
   "cell_type": "markdown",
   "id": "15252b27",
   "metadata": {},
   "source": [
    "__Ans:__ Function annotations provide a way of associating various parts of a function with arbitrary python expressions at compile time.\n",
    "Annotations of simple parameters def func(x: expression, y: expression = 20):\n",
    "Whereas the annotations for excess parameters are as − def func (**args: expression, **kwargs: expression):\n",
    "\n",
    "Purpose of Function Annotations:\n",
    "\n",
    "1. Python supports dynamic typing and hence no module is provided for type checking.\n",
    "2. String based annotations can be used by the libraries to provide better help messages at compile time regarding the functionalities of various methods, classes and modules."
   ]
  },
  {
   "cell_type": "markdown",
   "id": "5e18d7f9",
   "metadata": {},
   "source": [
    "#### 5. What are recursive functions, and how are they used?"
   ]
  },
  {
   "cell_type": "markdown",
   "id": "f0a3691d",
   "metadata": {},
   "source": [
    "__Ans:__ A recursive function is a function that calls itself during its execution. The process may repeat several times, outputting the result and the end of each iteration. An example is mentioned below:"
   ]
  },
  {
   "cell_type": "code",
   "execution_count": 10,
   "id": "4dce585a",
   "metadata": {},
   "outputs": [
    {
     "name": "stdout",
     "output_type": "stream",
     "text": [
      "The factorial of 10 is 3628800\n"
     ]
    }
   ],
   "source": [
    "def factorial(x):\n",
    "    if x == 1:\n",
    "        return 1\n",
    "    else:\n",
    "        return (x * factorial(x-1))\n",
    "\n",
    "\n",
    "num = 10\n",
    "print(\"The factorial of\", num, \"is\", factorial(num))"
   ]
  },
  {
   "cell_type": "markdown",
   "id": "1906aced",
   "metadata": {},
   "source": [
    "#### 6. What are some general design guidelines for coding functions?"
   ]
  },
  {
   "cell_type": "markdown",
   "id": "eeec7301",
   "metadata": {},
   "source": [
    "__Ans:__ Some of the general design guidelines for coding functions are:\n",
    "1. Always use a docstring to explain the functionality of the function\n",
    "2. Avoid using or limit use of global variables\n",
    "3. Proper Indentation to increase the code readability\n",
    "4. Try to follow a proper naming convention for function names (pascalCase or camelCase) and stick with the same convention throughout the application.\n",
    "5. Avoid using digits while choosing a variable name\n",
    "6. Try to use a name for the function which conveys the purpose of the function\n",
    "7. Local variables should be named using camelCase format (ex: localVariable) whereas Global variables names should be using PascalCase (ex:GlobalVariable).\n",
    "8. Constant should be represented in allcaps (ex:CONSTANT)."
   ]
  },
  {
   "cell_type": "markdown",
   "id": "b7c365d3",
   "metadata": {},
   "source": [
    "#### 7. Name three or more ways that functions can communicate results to a caller."
   ]
  },
  {
   "cell_type": "markdown",
   "id": "6b56d75e",
   "metadata": {},
   "source": [
    "__Ans:__ Some of the ways in which a function can communicate with the calling function is:\n",
    "\n",
    "1. print\n",
    "2. return\n",
    "3. yield"
   ]
  },
  {
   "cell_type": "code",
   "execution_count": null,
   "id": "abef028c",
   "metadata": {},
   "outputs": [],
   "source": []
  }
 ],
 "metadata": {
  "kernelspec": {
   "display_name": "Python 3 (ipykernel)",
   "language": "python",
   "name": "python3"
  },
  "language_info": {
   "codemirror_mode": {
    "name": "ipython",
    "version": 3
   },
   "file_extension": ".py",
   "mimetype": "text/x-python",
   "name": "python",
   "nbconvert_exporter": "python",
   "pygments_lexer": "ipython3",
   "version": "3.9.7"
  }
 },
 "nbformat": 4,
 "nbformat_minor": 5
}
