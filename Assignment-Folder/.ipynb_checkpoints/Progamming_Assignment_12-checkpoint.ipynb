{
 "cells": [
  {
   "cell_type": "markdown",
   "id": "f6838820",
   "metadata": {},
   "source": [
    "### Progamming_Assignment_12"
   ]
  },
  {
   "cell_type": "markdown",
   "id": "663e538d",
   "metadata": {},
   "source": [
    "#### 1. Write a Python program to Extract Unique values dictionary values?"
   ]
  },
  {
   "cell_type": "code",
   "execution_count": 1,
   "id": "17378194",
   "metadata": {},
   "outputs": [
    {
     "name": "stdout",
     "output_type": "stream",
     "text": [
      "Unique values of dictionary: [0, 1, 2, 4, 5, 7, 8]\n"
     ]
    }
   ],
   "source": [
    "d = {1:2,2:2,5:4,8:4,0:1,7:4,8:5}\n",
    "a = list(d.keys())+list(d.values())\n",
    "print('Unique values of dictionary:',list(set(a)))"
   ]
  },
  {
   "cell_type": "markdown",
   "id": "657192a1",
   "metadata": {},
   "source": [
    "#### 2. Write a Python program to find the sum of all items in a dictionary?"
   ]
  },
  {
   "cell_type": "code",
   "execution_count": 2,
   "id": "608fcae6",
   "metadata": {},
   "outputs": [
    {
     "name": "stdout",
     "output_type": "stream",
     "text": [
      "sum of all items:  18\n"
     ]
    }
   ],
   "source": [
    "d = {1:2,2:2,5:4,8:4,0:1,7:4,8:5}\n",
    "print('sum of all items: ',sum(d.values()))"
   ]
  },
  {
   "cell_type": "markdown",
   "id": "4abab8e7",
   "metadata": {},
   "source": [
    "#### 3. Write a Python program to Merging two Dictionaries?"
   ]
  },
  {
   "cell_type": "code",
   "execution_count": 6,
   "id": "e8b1eb93",
   "metadata": {},
   "outputs": [
    {
     "name": "stdout",
     "output_type": "stream",
     "text": [
      "Merging the two dictionary:  {'a': 2, 'b': 8, 'c': 3, 'd': 4, 'e': 7, 'f': 0, 'g': 3}\n"
     ]
    }
   ],
   "source": [
    "d = {'a':2,'b':8}\n",
    "g = {'c':3,'d':4,'e':7,'f':0,'g':3}\n",
    "def Merge(d,g):\n",
    "    d.update(g)\n",
    "    return d\n",
    "res = Merge(d,g)\n",
    "print('Merging the two dictionary: ', res)"
   ]
  },
  {
   "cell_type": "markdown",
   "id": "f0ef9bfe",
   "metadata": {},
   "source": [
    "#### 4. Write a Python program to convert key-values list to flat dictionary?"
   ]
  },
  {
   "cell_type": "code",
   "execution_count": 10,
   "id": "d735ca3e",
   "metadata": {},
   "outputs": [
    {
     "name": "stdout",
     "output_type": "stream",
     "text": [
      "{1: 7, 2: 8, 3: 9, 4: 10, 6: 11}\n"
     ]
    }
   ],
   "source": [
    "key = [1,2,3,4,6]\n",
    "value = [7,8,9,10,11]\n",
    "a = zip(key,value)\n",
    "\n",
    "print(dict(a))"
   ]
  },
  {
   "cell_type": "markdown",
   "id": "6bf56002",
   "metadata": {},
   "source": [
    "#### 5. Write a Python program to insertion at the beginning in OrderedDict?"
   ]
  },
  {
   "cell_type": "code",
   "execution_count": 11,
   "id": "ab163d61",
   "metadata": {},
   "outputs": [
    {
     "name": "stdout",
     "output_type": "stream",
     "text": [
      "Final Dictionary :\n",
      "OrderedDict([('D', '400'), ('A', '100'), ('B', '200'), ('C', '300')])\n"
     ]
    }
   ],
   "source": [
    "from collections import OrderedDict\n",
    "dic1 = OrderedDict([('A', '100'), ('B', '200'), ('C', '300')])\n",
    "insrt = OrderedDict([(\"D\", '400')])\n",
    "  \n",
    "final = OrderedDict(list(insrt.items()) + list(dic1.items()))\n",
    "  \n",
    "print (\"Final Dictionary :\")\n",
    "print(final)"
   ]
  },
  {
   "cell_type": "markdown",
   "id": "ba858dc4",
   "metadata": {},
   "source": [
    "#### 6. Write a Python program to check order of character in string using OrderedDict()?"
   ]
  },
  {
   "cell_type": "code",
   "execution_count": 14,
   "id": "758ae3eb",
   "metadata": {},
   "outputs": [
    {
     "ename": "ValueError",
     "evalue": "need more than 1 value to unpack",
     "output_type": "error",
     "traceback": [
      "\u001b[1;31m---------------------------------------------------------------------------\u001b[0m",
      "\u001b[1;31mValueError\u001b[0m                                Traceback (most recent call last)",
      "\u001b[1;32m~\\AppData\\Local\\Temp/ipykernel_7412/614420979.py\u001b[0m in \u001b[0;36m<module>\u001b[1;34m\u001b[0m\n\u001b[0;32m      1\u001b[0m \u001b[1;32mfrom\u001b[0m \u001b[0mcollections\u001b[0m \u001b[1;32mimport\u001b[0m \u001b[0mOrderedDict\u001b[0m\u001b[1;33m\u001b[0m\u001b[1;33m\u001b[0m\u001b[0m\n\u001b[0;32m      2\u001b[0m \u001b[0ms\u001b[0m \u001b[1;33m=\u001b[0m \u001b[1;34m'i am murali i am fine'\u001b[0m\u001b[1;33m\u001b[0m\u001b[1;33m\u001b[0m\u001b[0m\n\u001b[1;32m----> 3\u001b[1;33m \u001b[0mdi1\u001b[0m \u001b[1;33m=\u001b[0m \u001b[0mOrderedDict\u001b[0m\u001b[1;33m(\u001b[0m\u001b[0mlist\u001b[0m\u001b[1;33m(\u001b[0m\u001b[0ms\u001b[0m\u001b[1;33m)\u001b[0m\u001b[1;33m)\u001b[0m\u001b[1;33m\u001b[0m\u001b[1;33m\u001b[0m\u001b[0m\n\u001b[0m\u001b[0;32m      4\u001b[0m \u001b[0mprint\u001b[0m\u001b[1;33m(\u001b[0m\u001b[0mdi1\u001b[0m\u001b[1;33m)\u001b[0m\u001b[1;33m\u001b[0m\u001b[1;33m\u001b[0m\u001b[0m\n",
      "\u001b[1;31mValueError\u001b[0m: need more than 1 value to unpack"
     ]
    }
   ],
   "source": [
    "from collections import OrderedDict\n",
    "s = 'i am murali i am fine'\n",
    "di1 = OrderedDict(list(s))\n",
    "print(di1)"
   ]
  },
  {
   "cell_type": "markdown",
   "id": "283613b6",
   "metadata": {},
   "source": [
    "#### 7. Write a Python program to sort Python Dictionaries by Key or Value?"
   ]
  },
  {
   "cell_type": "code",
   "execution_count": 18,
   "id": "2b6bfb57",
   "metadata": {},
   "outputs": [
    {
     "name": "stdout",
     "output_type": "stream",
     "text": [
      "{1: 2, 2: 2, 5: 4, 8: 5, 0: 1, 7: 4}\n",
      "0 sorted dict key-value  1\n",
      "1 sorted dict key-value  2\n",
      "2 sorted dict key-value  2\n",
      "5 sorted dict key-value  4\n",
      "7 sorted dict key-value  4\n",
      "8 sorted dict key-value  5\n",
      "{0: 1, 1: 2, 2: 2, 5: 4, 7: 4, 8: 5}\n"
     ]
    }
   ],
   "source": [
    "d = {1:2,2:2,5:4,8:4,0:1,7:4,8:5}\n",
    "print(d)\n",
    "m = {}\n",
    "for i in sorted(d):\n",
    "    print(i,'sorted dict key-value ',d[i])\n",
    "    m[i] = d[i]\n",
    "print(m)"
   ]
  },
  {
   "cell_type": "code",
   "execution_count": null,
   "id": "b0943e6e",
   "metadata": {},
   "outputs": [],
   "source": []
  }
 ],
 "metadata": {
  "kernelspec": {
   "display_name": "Python 3 (ipykernel)",
   "language": "python",
   "name": "python3"
  },
  "language_info": {
   "codemirror_mode": {
    "name": "ipython",
    "version": 3
   },
   "file_extension": ".py",
   "mimetype": "text/x-python",
   "name": "python",
   "nbconvert_exporter": "python",
   "pygments_lexer": "ipython3",
   "version": "3.9.7"
  }
 },
 "nbformat": 4,
 "nbformat_minor": 5
}
