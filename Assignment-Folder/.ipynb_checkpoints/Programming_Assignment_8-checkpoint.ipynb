{
 "cells": [
  {
   "cell_type": "markdown",
   "id": "434aa780",
   "metadata": {},
   "source": [
    "### Programming_Assignment_8"
   ]
  },
  {
   "cell_type": "markdown",
   "id": "2a53a634",
   "metadata": {},
   "source": [
    "#### 1. Write a Python Program to Add Two Matrices?"
   ]
  },
  {
   "cell_type": "code",
   "execution_count": 1,
   "id": "901bd798",
   "metadata": {},
   "outputs": [
    {
     "name": "stdout",
     "output_type": "stream",
     "text": [
      "[[1, 2], [3, 4]] [[4, 5], [7, 9]]\n"
     ]
    }
   ],
   "source": [
    "a = [[1,2],[3,4]]\n",
    "b = [[4,5],[7,9]]\n",
    "print(a,b)"
   ]
  },
  {
   "cell_type": "code",
   "execution_count": 3,
   "id": "0850f4a8",
   "metadata": {},
   "outputs": [
    {
     "name": "stdout",
     "output_type": "stream",
     "text": [
      "[5, 7]\n",
      "[10, 13]\n"
     ]
    },
    {
     "data": {
      "text/plain": [
       "0"
      ]
     },
     "execution_count": 3,
     "metadata": {},
     "output_type": "execute_result"
    }
   ],
   "source": [
    "def add_mat(a,b):\n",
    "    result=[[0,0],[0,0]]\n",
    "    result = [[a[i][j]+b[i][j] for j in range(len(a[0]))] for i in range(len(a))]\n",
    "    for i in result:\n",
    "        print(i)\n",
    "    return 0\n",
    "add_mat(a,b)"
   ]
  },
  {
   "cell_type": "markdown",
   "id": "ee5d3093",
   "metadata": {},
   "source": [
    "#### 2. Write a Python Program to Multiply Two Matrices?"
   ]
  },
  {
   "cell_type": "code",
   "execution_count": 6,
   "id": "48e6738c",
   "metadata": {},
   "outputs": [
    {
     "name": "stdout",
     "output_type": "stream",
     "text": [
      "Result: \n",
      "[18, 23]\n",
      "[40, 51]\n"
     ]
    },
    {
     "data": {
      "text/plain": [
       "0"
      ]
     },
     "execution_count": 6,
     "metadata": {},
     "output_type": "execute_result"
    }
   ],
   "source": [
    "def Multiply_mat(a,b):\n",
    "    result=[ [0,0],[0,0]]\n",
    "    for i in range(len(a)):\n",
    "        for j in range(len(b[0])):\n",
    "            for k in range(len(b)):\n",
    "                result[i][j] += a[i][k] * b[k][j]\n",
    "\n",
    "    for p in result:\n",
    "        print(p)\n",
    "    return 0\n",
    "\n",
    "\n",
    "\n",
    "print(\"Result: \")\n",
    "Multiply_mat(a,b)"
   ]
  },
  {
   "cell_type": "markdown",
   "id": "773f0ab7",
   "metadata": {},
   "source": [
    "#### 3. Write a Python Program to Transpose a Matrix?"
   ]
  },
  {
   "cell_type": "code",
   "execution_count": 7,
   "id": "c7aaeb8a",
   "metadata": {},
   "outputs": [
    {
     "name": "stdout",
     "output_type": "stream",
     "text": [
      "[2, 3]\n",
      "[4, 5]\n",
      "[7, 8]\n",
      "Transpose: \n",
      "[2, 4, 7]\n",
      "[3, 5, 8]\n"
     ]
    }
   ],
   "source": [
    "matrix= [ [2,3],[4,5],[7,8]]\n",
    "\n",
    "for m in matrix:\n",
    "    print(m)\n",
    "\n",
    "transpose= [ [matrix[j][i] for j in range(len(matrix))] for i in range(len(matrix[0]))]\n",
    "print(\"Transpose: \")\n",
    "\n",
    "for t in transpose:\n",
    "    print(t)\n"
   ]
  },
  {
   "cell_type": "markdown",
   "id": "1a7bcdb5",
   "metadata": {},
   "source": [
    "#### 4. Write a Python Program to Sort Words in Alphabetic Order?"
   ]
  },
  {
   "cell_type": "code",
   "execution_count": 9,
   "id": "30494efa",
   "metadata": {},
   "outputs": [
    {
     "name": "stdout",
     "output_type": "stream",
     "text": [
      "['This', 'is', 'iNueron', 'Course', 'for', 'FSDS.', 'I', 'must', 'work', 'hard', 'and', 'get', 'new', 'job']\n",
      "['Course', 'FSDS.', 'I', 'This', 'and', 'for', 'get', 'hard', 'iNueron', 'is', 'job', 'must', 'new', 'work']\n"
     ]
    }
   ],
   "source": [
    "a = \"This is iNueron Course for FSDS. I must work hard and get new job\"\n",
    "\n",
    "b = a.split()\n",
    "print(b)\n",
    "\n",
    "print(sorted(b))"
   ]
  },
  {
   "cell_type": "markdown",
   "id": "0a2bd1b4",
   "metadata": {},
   "source": [
    "#### 5. Write a Python Program to Remove Punctuation From a String?"
   ]
  },
  {
   "cell_type": "code",
   "execution_count": 12,
   "id": "5b22dc1a",
   "metadata": {},
   "outputs": [
    {
     "name": "stdout",
     "output_type": "stream",
     "text": [
      "pythons a good languagebreak  find the   functionhere is one of sloejroejo  slooel  and \n"
     ]
    }
   ],
   "source": [
    "a = \"python's a good language.[break] & find the ? @ (function),.here is one of \\\"sloejroejo \\' slooel : and ;\"\n",
    "\n",
    "b = \"\\\"[]\\'():;,.@?&\"\n",
    "\n",
    "for i in a:\n",
    "    if i in b:\n",
    "        a = a.replace(i,'')\n",
    "print(a)"
   ]
  },
  {
   "cell_type": "code",
   "execution_count": null,
   "id": "56b64a76",
   "metadata": {},
   "outputs": [],
   "source": []
  }
 ],
 "metadata": {
  "kernelspec": {
   "display_name": "Python 3 (ipykernel)",
   "language": "python",
   "name": "python3"
  },
  "language_info": {
   "codemirror_mode": {
    "name": "ipython",
    "version": 3
   },
   "file_extension": ".py",
   "mimetype": "text/x-python",
   "name": "python",
   "nbconvert_exporter": "python",
   "pygments_lexer": "ipython3",
   "version": "3.9.7"
  }
 },
 "nbformat": 4,
 "nbformat_minor": 5
}
