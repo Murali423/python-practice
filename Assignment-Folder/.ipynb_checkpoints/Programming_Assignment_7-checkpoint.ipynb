{
 "cells": [
  {
   "cell_type": "markdown",
   "id": "6cccd486",
   "metadata": {},
   "source": [
    "### Programming_Assignment_7"
   ]
  },
  {
   "cell_type": "markdown",
   "id": "bb45664d",
   "metadata": {},
   "source": [
    "#### 1. Write a Python Program to find sum of array?"
   ]
  },
  {
   "cell_type": "code",
   "execution_count": 5,
   "id": "0b5df9a4",
   "metadata": {},
   "outputs": [
    {
     "data": {
      "text/plain": [
       "165"
      ]
     },
     "execution_count": 5,
     "metadata": {},
     "output_type": "execute_result"
    }
   ],
   "source": [
    "l = [1,8,9,2,5,7,90,4,5,34]\n",
    "\n",
    "def sum_arr(l):\n",
    "    cnt = 0\n",
    "    for i in l:\n",
    "        cnt += i\n",
    "    return cnt\n",
    "sum_arr(l)"
   ]
  },
  {
   "cell_type": "markdown",
   "id": "666a491e",
   "metadata": {},
   "source": [
    "#### 2. Write a Python Program to find largest element in an array?"
   ]
  },
  {
   "cell_type": "code",
   "execution_count": 7,
   "id": "61f154a3",
   "metadata": {},
   "outputs": [
    {
     "data": {
      "text/plain": [
       "90"
      ]
     },
     "execution_count": 7,
     "metadata": {},
     "output_type": "execute_result"
    }
   ],
   "source": [
    "def large(l):\n",
    "    n = len(l)\n",
    "    max = l[0]\n",
    "    for i in range(1,n):\n",
    "        if l[i] > max :\n",
    "            max = l[i]\n",
    "    return max\n",
    "\n",
    "large(l)"
   ]
  },
  {
   "cell_type": "markdown",
   "id": "c88253bd",
   "metadata": {},
   "source": [
    "#### 3. Write a Python Program for array rotation?"
   ]
  },
  {
   "cell_type": "code",
   "execution_count": 17,
   "id": "e6edd72b",
   "metadata": {},
   "outputs": [
    {
     "name": "stdout",
     "output_type": "stream",
     "text": [
      "Array before rotation  [1, 8, 9, 2, 5, 7, 90, 4, 5, 34]\n",
      "Array after rotation  [2, 5, 7, 90, 4, 5, 34, 1, 8, 9]\n"
     ]
    }
   ],
   "source": [
    "# l is array\n",
    "# d is number of elements to rotate\n",
    "def arr_rotate(l,d):\n",
    "    a = []\n",
    "    m = len(l)\n",
    "    if d >= m:\n",
    "        return 'Warn! Please Enter No elements to rotate less than Elements in array'\n",
    "    for i in range(d,m):\n",
    "        a.append(l[i])\n",
    "    i = 0\n",
    "    for i in range(0,d):\n",
    "        a.append(l[i])\n",
    "    return a\n",
    "print('Array before rotation ',l)\n",
    "print('Array after rotation ',arr_rotate(l,3))"
   ]
  },
  {
   "cell_type": "markdown",
   "id": "c9339256",
   "metadata": {},
   "source": [
    "#### 4. Write a Python Program to Split the array and add the first part to the end?"
   ]
  },
  {
   "cell_type": "code",
   "execution_count": 20,
   "id": "6233b0ba",
   "metadata": {},
   "outputs": [
    {
     "name": "stdout",
     "output_type": "stream",
     "text": [
      "5 7 90 4 5 34 1 8 9 2 "
     ]
    }
   ],
   "source": [
    "def split_arr(l,k):\n",
    "    n = len(l)\n",
    "    for i in range(0,k):\n",
    "        x = l[0]\n",
    "        for j in range(0,n-1):\n",
    "            l[j] = l[j+1]\n",
    "        l[n-1] = x\n",
    "        \n",
    "position = 2\n",
    "split_arr(l, position)\n",
    "for i in range(0, len(l)):\n",
    "    print(l[i], end = ' ')"
   ]
  },
  {
   "cell_type": "markdown",
   "id": "743e2de5",
   "metadata": {},
   "source": [
    "#### 5. Write a Python Program to check if given array is Monotonic?"
   ]
  },
  {
   "cell_type": "code",
   "execution_count": 23,
   "id": "b65ce827",
   "metadata": {},
   "outputs": [
    {
     "name": "stdout",
     "output_type": "stream",
     "text": [
      "Given list is not monotonic\n"
     ]
    }
   ],
   "source": [
    "def is_monotonic(l):\n",
    "    n = len(l)\n",
    "    if n == 1:\n",
    "        return True\n",
    "    else:\n",
    "        if all(l[i] >= l[i+1] for i in range(0,n-1) or l[i] <= l[i+1] for i in range(0,n-1)):\n",
    "            return True\n",
    "        else:\n",
    "            return False\n",
    "\n",
    "if is_monotonic(l):\n",
    "    print('Given list is Monotonic')\n",
    "else:\n",
    "    print('Given list is not monotonic')"
   ]
  },
  {
   "cell_type": "code",
   "execution_count": null,
   "id": "9df97fba",
   "metadata": {},
   "outputs": [],
   "source": []
  }
 ],
 "metadata": {
  "kernelspec": {
   "display_name": "Python 3 (ipykernel)",
   "language": "python",
   "name": "python3"
  },
  "language_info": {
   "codemirror_mode": {
    "name": "ipython",
    "version": 3
   },
   "file_extension": ".py",
   "mimetype": "text/x-python",
   "name": "python",
   "nbconvert_exporter": "python",
   "pygments_lexer": "ipython3",
   "version": "3.9.7"
  }
 },
 "nbformat": 4,
 "nbformat_minor": 5
}
