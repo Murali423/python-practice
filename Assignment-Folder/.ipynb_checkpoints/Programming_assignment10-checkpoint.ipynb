{
 "cells": [
  {
   "cell_type": "markdown",
   "id": "4a2c2b51",
   "metadata": {},
   "source": [
    "### Programming_assignment10"
   ]
  },
  {
   "cell_type": "markdown",
   "id": "79226ebb",
   "metadata": {},
   "source": [
    "#### 1. Write a Python program to find sum of elements in list?"
   ]
  },
  {
   "cell_type": "code",
   "execution_count": 1,
   "id": "65c942ac",
   "metadata": {},
   "outputs": [
    {
     "data": {
      "text/plain": [
       "359"
      ]
     },
     "execution_count": 1,
     "metadata": {},
     "output_type": "execute_result"
    }
   ],
   "source": [
    "l = [1,2,7,9,10,300,3,27,0]\n",
    "sum(l)"
   ]
  },
  {
   "cell_type": "markdown",
   "id": "6b2068ff",
   "metadata": {},
   "source": [
    "#### 2. Write a Python program to Multiply all numbers in the list?"
   ]
  },
  {
   "cell_type": "code",
   "execution_count": 2,
   "id": "5a3772ee",
   "metadata": {},
   "outputs": [
    {
     "name": "stdout",
     "output_type": "stream",
     "text": [
      "Multiplication of all numberes in list:  0\n"
     ]
    }
   ],
   "source": [
    "m = 1 \n",
    "for i in l:\n",
    "    m *= i\n",
    "print('Multiplication of all numberes in list: ',m)"
   ]
  },
  {
   "cell_type": "markdown",
   "id": "3cbd5018",
   "metadata": {},
   "source": [
    "#### 3. Write a Python program to find smallest number in a list?"
   ]
  },
  {
   "cell_type": "code",
   "execution_count": 3,
   "id": "14b214cf",
   "metadata": {},
   "outputs": [
    {
     "data": {
      "text/plain": [
       "0"
      ]
     },
     "execution_count": 3,
     "metadata": {},
     "output_type": "execute_result"
    }
   ],
   "source": [
    "def min_l(l):\n",
    "    min = l[0]\n",
    "    for i in l:\n",
    "        if min > i:\n",
    "            min = i\n",
    "    return min\n",
    "min_l(l)"
   ]
  },
  {
   "cell_type": "code",
   "execution_count": 4,
   "id": "ecfce2cf",
   "metadata": {},
   "outputs": [
    {
     "data": {
      "text/plain": [
       "0"
      ]
     },
     "execution_count": 4,
     "metadata": {},
     "output_type": "execute_result"
    }
   ],
   "source": [
    "# or we can also use the inbuilt function\n",
    "min(l)"
   ]
  },
  {
   "cell_type": "markdown",
   "id": "da32296d",
   "metadata": {},
   "source": [
    "#### 4. Write a Python program to find largest number in a list?"
   ]
  },
  {
   "cell_type": "code",
   "execution_count": 5,
   "id": "3889d273",
   "metadata": {},
   "outputs": [
    {
     "data": {
      "text/plain": [
       "300"
      ]
     },
     "execution_count": 5,
     "metadata": {},
     "output_type": "execute_result"
    }
   ],
   "source": [
    "def max_l(l):\n",
    "    max = l[0]\n",
    "    for i in l:\n",
    "        if max < i:\n",
    "            max = i\n",
    "    return max\n",
    "\n",
    "max_l(l)"
   ]
  },
  {
   "cell_type": "code",
   "execution_count": 6,
   "id": "da053023",
   "metadata": {},
   "outputs": [
    {
     "data": {
      "text/plain": [
       "300"
      ]
     },
     "execution_count": 6,
     "metadata": {},
     "output_type": "execute_result"
    }
   ],
   "source": [
    "#Or we can write function as \n",
    "max(l)"
   ]
  },
  {
   "cell_type": "markdown",
   "id": "be00f5a8",
   "metadata": {},
   "source": [
    "#### 5. Write a Python program to find second largest number in a list?"
   ]
  },
  {
   "cell_type": "code",
   "execution_count": 8,
   "id": "5e5e2c85",
   "metadata": {},
   "outputs": [
    {
     "name": "stdout",
     "output_type": "stream",
     "text": [
      "Second largest number in list is  27\n"
     ]
    }
   ],
   "source": [
    "sort = sorted(l)\n",
    "print('Second largest number in list is ',sort[-2])"
   ]
  },
  {
   "cell_type": "markdown",
   "id": "d5f967d2",
   "metadata": {},
   "source": [
    "#### 6. Write a Python program to find N largest elements from a list?"
   ]
  },
  {
   "cell_type": "code",
   "execution_count": 10,
   "id": "ece4d00a",
   "metadata": {},
   "outputs": [
    {
     "name": "stdout",
     "output_type": "stream",
     "text": [
      "finding the 4th largest element:  [300, 27, 10, 9]\n"
     ]
    }
   ],
   "source": [
    "def large_el(l,e):\n",
    "    \"\"\"\n",
    "    Doc String: this function is used to find the N largest element in the given list\n",
    "    l: list object which we need to find element\n",
    "    e: element which we need to find largest element\n",
    "    \"\"\"\n",
    "    if type(l) == list:\n",
    "        sort = sorted(l,reverse=True)\n",
    "        return sort[:e]\n",
    "\n",
    "print('finding the 4th largest element: ',large_el(l,4))\n",
    "        "
   ]
  },
  {
   "cell_type": "markdown",
   "id": "3c7f2684",
   "metadata": {},
   "source": [
    "#### 7. Write a Python program to print even numbers in a list?"
   ]
  },
  {
   "cell_type": "code",
   "execution_count": 14,
   "id": "7910e1ac",
   "metadata": {},
   "outputs": [
    {
     "name": "stdout",
     "output_type": "stream",
     "text": [
      "[2, 10, 300, 0]\n"
     ]
    }
   ],
   "source": [
    "#Here we use lamda function and filter function\n",
    "evn_list = list(filter(lambda x:(x%2==0),l))\n",
    "print(evn_list)"
   ]
  },
  {
   "cell_type": "markdown",
   "id": "899b5011",
   "metadata": {},
   "source": [
    "#### 8. Write a Python program to print odd numbers in a List?"
   ]
  },
  {
   "cell_type": "code",
   "execution_count": 15,
   "id": "075511c2",
   "metadata": {},
   "outputs": [
    {
     "name": "stdout",
     "output_type": "stream",
     "text": [
      "[1, 7, 9, 3, 27]\n"
     ]
    }
   ],
   "source": [
    "#Here we use lamda function and filter function\n",
    "odd_list = list(filter(lambda x:(x%2!=0),l))\n",
    "print(odd_list)"
   ]
  },
  {
   "cell_type": "markdown",
   "id": "b19425bb",
   "metadata": {},
   "source": [
    "#### 9. Write a Python program to Remove empty List from List?"
   ]
  },
  {
   "cell_type": "code",
   "execution_count": 17,
   "id": "30f947d9",
   "metadata": {},
   "outputs": [
    {
     "name": "stdout",
     "output_type": "stream",
     "text": [
      "[2, 5, 6, 3, 5, 87, 34, 7]\n"
     ]
    }
   ],
   "source": [
    "m = [2,5,6,[],[],3,5,87,34,0,7,[]]\n",
    "print(list(filter(None,m)))"
   ]
  },
  {
   "cell_type": "markdown",
   "id": "988c41d9",
   "metadata": {},
   "source": [
    "#### 10. Write a Python program to Cloning or Copying a list?"
   ]
  },
  {
   "cell_type": "code",
   "execution_count": 19,
   "id": "6204de77",
   "metadata": {},
   "outputs": [
    {
     "name": "stdout",
     "output_type": "stream",
     "text": [
      "[2, 5, 6, [], [], 3, 5, 87, 34, 0, 7, []]\n",
      "[2, 5, 6, [], [], 3, 5, 87, 34, 0, 7, []]\n"
     ]
    }
   ],
   "source": [
    "# we have two methods to copy the list in another list\n",
    "\n",
    "a = m[::]\n",
    "print(m)\n",
    "print(a)"
   ]
  },
  {
   "cell_type": "code",
   "execution_count": 20,
   "id": "b0dd5fe3",
   "metadata": {},
   "outputs": [
    {
     "name": "stdout",
     "output_type": "stream",
     "text": [
      "[2, 5, 6, [], [], 3, 5, 87, 34, 0, 7, []]\n",
      "[2, 5, 6, [], [], 3, 5, 87, 34, 0, 7, []]\n"
     ]
    }
   ],
   "source": [
    "import copy \n",
    "\n",
    "b = copy.copy(m)\n",
    "print(b)\n",
    "d = copy.deepcopy(m)\n",
    "print(d)"
   ]
  },
  {
   "cell_type": "markdown",
   "id": "ac22d7be",
   "metadata": {},
   "source": [
    "####  11. Write a Python program to Count occurrences of an element in a list?"
   ]
  },
  {
   "cell_type": "code",
   "execution_count": 22,
   "id": "1ba1a58a",
   "metadata": {},
   "outputs": [
    {
     "name": "stdout",
     "output_type": "stream",
     "text": [
      "0 : 1\n",
      "1 : 1\n",
      "2 : 1\n",
      "3 : 1\n",
      "7 : 1\n",
      "9 : 1\n",
      "10 : 1\n",
      "300 : 1\n",
      "27 : 1\n"
     ]
    }
   ],
   "source": [
    "# for all elements\n",
    "for i in set(l):\n",
    "    print(i,':',l.count(i))\n"
   ]
  },
  {
   "cell_type": "code",
   "execution_count": 23,
   "id": "defdc972",
   "metadata": {},
   "outputs": [
    {
     "name": "stdout",
     "output_type": "stream",
     "text": [
      "1 has occured in given list 3\n"
     ]
    }
   ],
   "source": [
    "# for occurece of single elements\n",
    "n = [1,1,13,14,1,5,3,7,9]\n",
    "print('{0} has occured in given list {1}'.format(1,n.count(1)))"
   ]
  },
  {
   "cell_type": "code",
   "execution_count": null,
   "id": "cb16ae5d",
   "metadata": {},
   "outputs": [],
   "source": []
  }
 ],
 "metadata": {
  "kernelspec": {
   "display_name": "Python 3 (ipykernel)",
   "language": "python",
   "name": "python3"
  },
  "language_info": {
   "codemirror_mode": {
    "name": "ipython",
    "version": 3
   },
   "file_extension": ".py",
   "mimetype": "text/x-python",
   "name": "python",
   "nbconvert_exporter": "python",
   "pygments_lexer": "ipython3",
   "version": "3.9.7"
  }
 },
 "nbformat": 4,
 "nbformat_minor": 5
}
