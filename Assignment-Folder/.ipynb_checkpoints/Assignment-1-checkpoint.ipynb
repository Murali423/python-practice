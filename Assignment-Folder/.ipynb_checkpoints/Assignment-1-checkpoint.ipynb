{
 "cells": [
  {
   "cell_type": "markdown",
   "id": "34282574",
   "metadata": {},
   "source": [
    "# Assignment - 1"
   ]
  },
  {
   "cell_type": "markdown",
   "id": "4b88adf7",
   "metadata": {},
   "source": [
    "#### 1. In the below elements which of them are values or an expression? eg:- values can be integer or string and expressions will be mathematical operators."
   ]
  },
  {
   "cell_type": "markdown",
   "id": "8e37781d",
   "metadata": {},
   "source": [
    "  '*' - expression\n",
    "\n",
    "'hello'- expression\n",
    "\n",
    " -87.8  - value\n",
    " \n",
    " '-'  - expression\n",
    " \n",
    " /  - expression\n",
    " \n",
    " '+'  - expression\n",
    " \n",
    " 6  - value"
   ]
  },
  {
   "cell_type": "markdown",
   "id": "24ec4008",
   "metadata": {},
   "source": [
    "#### 2. What is the difference between string and variable?"
   ]
  },
  {
   "cell_type": "markdown",
   "id": "48a4121f",
   "metadata": {},
   "source": [
    " - Variable: Variable is a named memory space stores the information provided to program to process by cpu and perform certain task and it is stored in system Main memory like RAM, varaible can store any type of data like int, float,string, list,tuple \n",
    "             ex: X = 10  X is variable,here some memory space is referd by X which contain values of 10. \n",
    " - String : String is group of words or charaters placed in '' or \"\". By default python input function reads in string format.\n",
    "          ex:  M = 'iNeuron'. "
   ]
  },
  {
   "cell_type": "markdown",
   "id": "8cb01a8a",
   "metadata": {},
   "source": [
    "#### 3. Describe three different data types."
   ]
  },
  {
   "cell_type": "markdown",
   "id": "3cd773f4",
   "metadata": {},
   "source": [
    "Data types are the classification or categorization of data items. It represents the kind of value that tells what operations can be performed on a particular data.\n",
    "\n",
    "differnte datatypes  are \n",
    "\n",
    "  1. numeric -(int(),float())\n",
    "  \n",
    "  Int - integer data type store the data of intergers ex: x = 10 \n",
    "  \n",
    "  float - stores the decimal point numeric data. ex: x =10.345333\n",
    "  \n",
    "  2. String - str()\n",
    "  \n",
    "  Str - store the string data  ex: x = \"lime\"\n",
    "  \n",
    "  3. Complex - stores the complex datatype  ex: 3+2j"
   ]
  },
  {
   "cell_type": "markdown",
   "id": "8c2191ee",
   "metadata": {},
   "source": [
    "#### 4. What is an expression made up of? What do all expressions do?"
   ]
  },
  {
   "cell_type": "markdown",
   "id": "cfabf4af",
   "metadata": {},
   "source": [
    "An expression is a combination of values, variables, operators, and calls to functions. Expressions need to be evaluated once evaluaed with help of operators produce another value based on that program will proceed further."
   ]
  },
  {
   "cell_type": "markdown",
   "id": "eccb1504",
   "metadata": {},
   "source": [
    "#### 5. This assignment statements, like spam = 10. What is the difference between an expression and a statement?"
   ]
  },
  {
   "cell_type": "markdown",
   "id": "08aaeb47",
   "metadata": {},
   "source": [
    "Assignment statement is like instruction which used to executed by python interpreter. spam =10 which executed by python interpreter by storing value 10 in some memory location refered by spam. \n",
    "\n",
    "An expression is a combination of values, variables, operators, and calls to functions. Expressions need to be evaluated once evaluaed with help of operators produce another value based on that program will proceed further.\n"
   ]
  },
  {
   "cell_type": "markdown",
   "id": "913dfd07",
   "metadata": {},
   "source": [
    "#### 6. After running the following code, what does the variable bacon contain?\n",
    "####  bacon =22 ,bacon +1"
   ]
  },
  {
   "cell_type": "code",
   "execution_count": 1,
   "id": "1f1350d7",
   "metadata": {},
   "outputs": [],
   "source": [
    "bacon = 22"
   ]
  },
  {
   "cell_type": "code",
   "execution_count": 3,
   "id": "3f5312b9",
   "metadata": {},
   "outputs": [
    {
     "data": {
      "text/plain": [
       "23"
      ]
     },
     "execution_count": 3,
     "metadata": {},
     "output_type": "execute_result"
    }
   ],
   "source": [
    "bacon+1"
   ]
  },
  {
   "cell_type": "markdown",
   "id": "78a764f4",
   "metadata": {},
   "source": [
    "#### 7. What should the values of the following two terms be?  "
   ]
  },
  {
   "cell_type": "code",
   "execution_count": 4,
   "id": "ec6e6e79",
   "metadata": {},
   "outputs": [
    {
     "data": {
      "text/plain": [
       "'spamspamspam'"
      ]
     },
     "execution_count": 4,
     "metadata": {},
     "output_type": "execute_result"
    }
   ],
   "source": [
    "'spam'+'spamspam'"
   ]
  },
  {
   "cell_type": "code",
   "execution_count": 5,
   "id": "7e0b4ad6",
   "metadata": {},
   "outputs": [
    {
     "data": {
      "text/plain": [
       "'spamspamspam'"
      ]
     },
     "execution_count": 5,
     "metadata": {},
     "output_type": "execute_result"
    }
   ],
   "source": [
    "'spam'*3"
   ]
  },
  {
   "cell_type": "markdown",
   "id": "a773269c",
   "metadata": {},
   "source": [
    "#### 8. Why is eggs a valid variable name while 100 is invalid?"
   ]
  },
  {
   "cell_type": "markdown",
   "id": "bc7184d5",
   "metadata": {},
   "source": [
    "In Python program, variable has certain rules for accessing the memory\n",
    "\n",
    "   1.Variable name should start with letter(a-zA-Z) or underscore (_).\n",
    "   \n",
    "   2. In variable name, no special characters allowed other than underscore (_).\n",
    "   \n",
    "   3. Variable name can have numbers but not at the beginning.\n",
    "   \n",
    "   4. Variable name should not be a Python keyword.Keywords are also called as reserved words."
   ]
  },
  {
   "cell_type": "markdown",
   "id": "dfff72ec",
   "metadata": {},
   "source": [
    "#### 9. What three functions can be used to get the integer, floating-point number, or string version of a value?"
   ]
  },
  {
   "cell_type": "markdown",
   "id": "035cec12",
   "metadata": {},
   "source": [
    "int() - to get integer of values ex: int('8') --> 8\n",
    "\n",
    "float() - to get floating number  ex: float(8) -->8.0\n",
    "\n",
    "str() - to get string values from given int, float ex: str(8.0) -- > 8.0"
   ]
  },
  {
   "cell_type": "markdown",
   "id": "ff705a83",
   "metadata": {},
   "source": [
    "#### 10. Why does this expression cause an error? How can you fix it? \n",
    "#### 'I have eaten' + 99+'burriotes'"
   ]
  },
  {
   "cell_type": "markdown",
   "id": "40f35b5c",
   "metadata": {},
   "source": [
    "we need to use str() function to avoid error \n",
    "\n",
    "'I have eaten' + str(99) + 'burriotes'"
   ]
  },
  {
   "cell_type": "code",
   "execution_count": 3,
   "id": "fb2dcec8",
   "metadata": {},
   "outputs": [
    {
     "data": {
      "text/plain": [
       "'I have eaten 99 burriotes'"
      ]
     },
     "execution_count": 3,
     "metadata": {},
     "output_type": "execute_result"
    }
   ],
   "source": [
    "'I have eaten ' + str(99) + ' burriotes'"
   ]
  },
  {
   "cell_type": "code",
   "execution_count": null,
   "id": "246aaa35",
   "metadata": {},
   "outputs": [],
   "source": []
  }
 ],
 "metadata": {
  "kernelspec": {
   "display_name": "Python 3 (ipykernel)",
   "language": "python",
   "name": "python3"
  },
  "language_info": {
   "codemirror_mode": {
    "name": "ipython",
    "version": 3
   },
   "file_extension": ".py",
   "mimetype": "text/x-python",
   "name": "python",
   "nbconvert_exporter": "python",
   "pygments_lexer": "ipython3",
   "version": "3.9.7"
  }
 },
 "nbformat": 4,
 "nbformat_minor": 5
}
