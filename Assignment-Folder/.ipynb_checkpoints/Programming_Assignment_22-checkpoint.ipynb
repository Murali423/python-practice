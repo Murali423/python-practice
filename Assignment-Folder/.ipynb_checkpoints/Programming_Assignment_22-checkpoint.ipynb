{
 "cells": [
  {
   "cell_type": "markdown",
   "id": "e7d9876b",
   "metadata": {},
   "source": [
    "### Programming_Assignment_22"
   ]
  },
  {
   "cell_type": "markdown",
   "id": "acb148a1",
   "metadata": {},
   "source": [
    "Submitted by: G.Murali Divya Teja"
   ]
  },
  {
   "cell_type": "markdown",
   "id": "8ff5c814",
   "metadata": {},
   "source": [
    "#### Question1 Create a function that takes three parameters where:\n",
    "``` \n",
    " x is the start of the range (inclusive).\n",
    " y is the end of the range (inclusive).\n",
    " n is the divisor to be checked against.\n",
    "\n",
    "```\n",
    "#### Return an ordered list with numbers in the range that are divisible by the third parameter n. Return an empty list if there are no numbers that are divisible by n."
   ]
  },
  {
   "cell_type": "code",
   "execution_count": 3,
   "id": "1977b82f",
   "metadata": {},
   "outputs": [
    {
     "name": "stdout",
     "output_type": "stream",
     "text": [
      "list_operation(1,10,3)➞ [3, 6, 9]\n",
      "list_operation(7,9,2)➞ [8]\n",
      "list_operation(15,20,7)➞ []\n"
     ]
    }
   ],
   "source": [
    "def list_operation(a,b,c):\n",
    "    m = []\n",
    "    for i in range(a,b+1):\n",
    "        if i%c == 0:\n",
    "            m.append(i)\n",
    "    return m\n",
    "\n",
    "print(f'list_operation(1,10,3)➞ {list_operation(1,10,3)}')\n",
    "print(f'list_operation(7,9,2)➞ {list_operation(7,9,2)}')\n",
    "print(f'list_operation(15,20,7)➞ {list_operation(15,20,7)}')"
   ]
  },
  {
   "cell_type": "markdown",
   "id": "a87935c4",
   "metadata": {},
   "source": [
    "#### 2. Create a function that takes in two lists and returns True if the second list follows the first list by one element, and False otherwise. In other words, determine if the second list is the first list shifted to the right by 1."
   ]
  },
  {
   "cell_type": "code",
   "execution_count": 4,
   "id": "90af7de3",
   "metadata": {},
   "outputs": [
    {
     "name": "stdout",
     "output_type": "stream",
     "text": [
      "simon_says([1, 2], [5, 1])➞ True\n",
      "simon_says([1, 2], [5, 5])➞ False\n",
      "simon_says([1, 2, 3, 4, 5], [0, 1, 2, 3, 4])➞ True\n",
      "simon_says([1, 2, 3, 4, 5], [5, 5, 1, 2, 3])➞ False\n"
     ]
    }
   ],
   "source": [
    "def simon_says(in_list_1,in_list_2):\n",
    "    if len(in_list_1) == len(in_list_1) and len(in_list_1) >=2 and len(in_list_1) >=2:\n",
    "        if(in_list_1[:-1] == in_list_2[1:]):\n",
    "            return True\n",
    "        else:\n",
    "            return False\n",
    "print(f'simon_says([1, 2], [5, 1])➞ {simon_says([1, 2], [5, 1])}')\n",
    "print(f'simon_says([1, 2], [5, 5])➞ {simon_says([1, 2], [5, 5])}')\n",
    "print(f'simon_says([1, 2, 3, 4, 5], [0, 1, 2, 3, 4])➞ {simon_says([1, 2, 3, 4, 5], [0, 1, 2, 3, 4])}')\n",
    "print(f'simon_says([1, 2, 3, 4, 5], [5, 5, 1, 2, 3])➞ {simon_says([1, 2, 3, 4, 5], [5, 5, 1, 2, 3])}')"
   ]
  },
  {
   "cell_type": "markdown",
   "id": "bf563585",
   "metadata": {},
   "source": [
    "#### 4. A group of friends have decided to start a secret society. The name will be the first letter of each of their names, sorted in alphabetical order. Create a function that takes in a list of names and returns the name of the secret society."
   ]
  },
  {
   "cell_type": "code",
   "execution_count": 7,
   "id": "627b4364",
   "metadata": {},
   "outputs": [
    {
     "name": "stdout",
     "output_type": "stream",
     "text": [
      "society_name([\"Adam\", \"Sarah\", \"Malcolm\"]) ➞  ASM\n",
      "society_name([\"Harry\", \"Sara\", \"Net\",\"Cho\"]) ➞  HSNC\n",
      "society_name([\"Phoebe\", \"Chandler\", \"Rachel\", \"Ross\", \"Monica\", \"Joey\"]) ➞  PCRRMJ\n"
     ]
    }
   ],
   "source": [
    "def society_name(l):\n",
    "    \"\"\"\n",
    "    This is the function to get the secret society names\n",
    "    \"\"\"\n",
    "    secret = ''\n",
    "    for i in l:\n",
    "        secret += i[0].upper()\n",
    "    return secret\n",
    "\n",
    "print(f'society_name([\"Adam\", \"Sarah\", \"Malcolm\"]) ➞  {society_name([\"Adam\", \"Sarah\", \"Malcolm\"])}')\n",
    "print(f'society_name([\"Harry\", \"Sara\", \"Net\",\"Cho\"]) ➞  {society_name([\"Harry\", \"Sara\", \"Net\",\"Cho\"])}')\n",
    "print(f'society_name([\"Phoebe\", \"Chandler\", \"Rachel\", \"Ross\", \"Monica\", \"Joey\"]) ➞  {society_name([\"Phoebe\", \"Chandler\", \"Rachel\", \"Ross\", \"Monica\", \"Joey\"])}')"
   ]
  },
  {
   "cell_type": "markdown",
   "id": "a07494a2",
   "metadata": {},
   "source": [
    "#### Question4 An isogram is a word that has no duplicate letters. Create a function that takes a string and returns either True or False depending on whether or not it&#39;s an &quot;isogram&quot;."
   ]
  },
  {
   "cell_type": "code",
   "execution_count": 11,
   "id": "be217780",
   "metadata": {},
   "outputs": [
    {
     "name": "stdout",
     "output_type": "stream",
     "text": [
      "is_isogram(\"Algorithm\")➞ True\n",
      "is_isogram(\"pasSword\")➞ False\n",
      "is_isogram(\"Consecutive\")➞ False\n"
     ]
    }
   ],
   "source": [
    "def is_isogram(s):\n",
    "    s= s.lower()\n",
    "    if len(s) == len(set(s)):\n",
    "        return True\n",
    "    else:\n",
    "        return False\n",
    "print(f'is_isogram(\"Algorithm\")➞ {is_isogram(\"Algorithm\")}')\n",
    "print(f'is_isogram(\"pasSword\")➞ {is_isogram(\"pasSword\")}')\n",
    "print(f'is_isogram(\"Consecutive\")➞ {is_isogram(\"Consecutive\")}')"
   ]
  },
  {
   "cell_type": "markdown",
   "id": "eb2d9327",
   "metadata": {},
   "source": [
    "#### 5. Create a function that takes a string and returns True or False, depending on whether the characters are in order or not."
   ]
  },
  {
   "cell_type": "code",
   "execution_count": 13,
   "id": "7adc559e",
   "metadata": {},
   "outputs": [
    {
     "name": "stdout",
     "output_type": "stream",
     "text": [
      "is_in_order(\"abc\")➞ True\n",
      "is_in_order(\"eidable\")➞ False\n",
      "is_in_order(\"123\")➞ True\n",
      "is_in_order(\"xyzz\")➞ True\n"
     ]
    }
   ],
   "source": [
    "def is_in_order(s):\n",
    "    if s == ''.join(sorted(s)):\n",
    "        return True\n",
    "    else:\n",
    "        return False\n",
    "print(f'is_in_order(\"abc\")➞ {is_in_order(\"abc\")}')\n",
    "print(f'is_in_order(\"eidable\")➞ {is_in_order(\"eidable\")}')\n",
    "print(f'is_in_order(\"123\")➞ {is_in_order(\"123\")}')\n",
    "print(f'is_in_order(\"xyzz\")➞ {is_in_order(\"xyzz\")}')"
   ]
  },
  {
   "cell_type": "code",
   "execution_count": null,
   "id": "30bff3c4",
   "metadata": {},
   "outputs": [],
   "source": []
  }
 ],
 "metadata": {
  "kernelspec": {
   "display_name": "Python 3 (ipykernel)",
   "language": "python",
   "name": "python3"
  },
  "language_info": {
   "codemirror_mode": {
    "name": "ipython",
    "version": 3
   },
   "file_extension": ".py",
   "mimetype": "text/x-python",
   "name": "python",
   "nbconvert_exporter": "python",
   "pygments_lexer": "ipython3",
   "version": "3.9.7"
  }
 },
 "nbformat": 4,
 "nbformat_minor": 5
}
