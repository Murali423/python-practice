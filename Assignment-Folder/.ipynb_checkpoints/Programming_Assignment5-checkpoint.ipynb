{
 "cells": [
  {
   "cell_type": "markdown",
   "id": "5c8a52cd",
   "metadata": {},
   "source": [
    "### Programming_Assignment5"
   ]
  },
  {
   "cell_type": "markdown",
   "id": "7796ddd2",
   "metadata": {},
   "source": [
    "#### 1. Write a Python Program to Find LCM?"
   ]
  },
  {
   "cell_type": "code",
   "execution_count": 19,
   "id": "8b79a117",
   "metadata": {},
   "outputs": [
    {
     "name": "stdout",
     "output_type": "stream",
     "text": [
      "Enter the value of 1st variable: 54\n",
      "Enter the value of 2nd variable: 24\n",
      "The L.C.M. is 216\n"
     ]
    }
   ],
   "source": [
    "def compute_lcm(x, y):\n",
    "   if x > y:\n",
    "       greater = x\n",
    "   else:\n",
    "       greater = y\n",
    "\n",
    "   while(True):\n",
    "       if((greater % x == 0) and (greater % y == 0)):\n",
    "           lcm = greater\n",
    "           break\n",
    "       greater += 1\n",
    "\n",
    "   return lcm\n",
    "\n",
    "num1 = int(input('Enter the value of 1st variable: '))\n",
    "num2 = int(input('Enter the value of 2nd variable: '))\n",
    "\n",
    "print(\"The L.C.M. is\", compute_lcm(num1, num2))"
   ]
  },
  {
   "cell_type": "markdown",
   "id": "bc30d747",
   "metadata": {},
   "source": [
    "#### 2. Write a Python Program to Find HCF?"
   ]
  },
  {
   "cell_type": "code",
   "execution_count": 20,
   "id": "d89a51d4",
   "metadata": {},
   "outputs": [
    {
     "name": "stdout",
     "output_type": "stream",
     "text": [
      "Enter the value of 1st variable: 78\n",
      "Enter the value of 2nd variable: 9\n",
      "The H.C.F. is 3\n"
     ]
    }
   ],
   "source": [
    "def compute_hcf(x, y):\n",
    "    if x > y:\n",
    "        smaller = y\n",
    "    else:\n",
    "        smaller = x\n",
    "    for i in range(1, smaller+1):\n",
    "        if((x % i == 0) and (y % i == 0)):\n",
    "            hcf = i \n",
    "    return hcf\n",
    "\n",
    "num1 = int(input('Enter the value of 1st variable: '))\n",
    "num2 = int(input('Enter the value of 2nd variable: '))\n",
    "\n",
    "print(\"The H.C.F. is\", compute_hcf(num1, num2))"
   ]
  },
  {
   "cell_type": "markdown",
   "id": "bcfa94bc",
   "metadata": {},
   "source": [
    "#### 3. Write a Python Program to Convert Decimal to Binary, Octal and Hexadecimal?"
   ]
  },
  {
   "cell_type": "code",
   "execution_count": 6,
   "id": "a713285c",
   "metadata": {},
   "outputs": [
    {
     "name": "stdout",
     "output_type": "stream",
     "text": [
      "Enter number you want to convert to other forms: 255\n",
      "Binary of 255 is 0b11111111\n",
      "Octal of 255 is 0o377\n",
      "HexaDecimal of 255 is 0xff\n"
     ]
    }
   ],
   "source": [
    "a = int(input('Enter number you want to convert to other forms: '))\n",
    "\n",
    "print('Binary of {0} is {1}'.format(a,bin(a)))\n",
    "print('Octal of {0} is {1}'.format(a,oct(a)))\n",
    "print('HexaDecimal of {0} is {1}'.format(a,hex(a)))"
   ]
  },
  {
   "cell_type": "markdown",
   "id": "8c21287c",
   "metadata": {},
   "source": [
    "#### 4. Write a Python Program To Find ASCII value of a character?"
   ]
  },
  {
   "cell_type": "code",
   "execution_count": 12,
   "id": "b3ac5387",
   "metadata": {},
   "outputs": [
    {
     "name": "stdout",
     "output_type": "stream",
     "text": [
      "Enter value to find ASCII: iNeuron\n",
      "ASCII of i is 105\n",
      "ASCII of N is 78\n",
      "ASCII of e is 101\n",
      "ASCII of u is 117\n",
      "ASCII of r is 114\n",
      "ASCII of o is 111\n",
      "ASCII of n is 110\n"
     ]
    }
   ],
   "source": [
    "a = input('Enter value to find ASCII: ')\n",
    "\n",
    "for i in range(len(a)):\n",
    "    print('ASCII of {0} is {1}'.format(a[i],ord(a[i])))"
   ]
  },
  {
   "cell_type": "markdown",
   "id": "9e021a48",
   "metadata": {},
   "source": [
    "#### 5. Write a Python Program to Make a Simple Calculator with 4 basic mathematical operations?"
   ]
  },
  {
   "cell_type": "code",
   "execution_count": 18,
   "id": "0dd2347d",
   "metadata": {},
   "outputs": [
    {
     "name": "stdout",
     "output_type": "stream",
     "text": [
      "Enter the value of 1st variable: 80\n",
      "Enter the value of 2nd variable: 8\n",
      "Enter the opertion you want to perform add,minus,multiply,division: multiply\n",
      "Multiplication of 80 and 8 is 640\n"
     ]
    }
   ],
   "source": [
    "a = int(input('Enter the value of 1st variable: '))\n",
    "b = int(input('Enter the value of 2nd variable: '))\n",
    "op = input('Enter the opertion you want to perform add,minus,multiply,division: ')\n",
    "def calucator(a,b,op):\n",
    "    if op == 'add' or op == 'ADD':\n",
    "        return a + b\n",
    "    if op == 'minus' or op == 'MINUS':\n",
    "        return a - b\n",
    "    if op == 'multiply' or op == 'MULTIPLY':\n",
    "        return a * b\n",
    "    if op == 'division' or op == 'DIVISION':\n",
    "        return a / b\n",
    "    \n",
    "res = calucator(a,b,op)\n",
    "if op == 'add' or op == 'ADD':\n",
    "    print('Sum of {0} and {1} is {2}'.format(a,b,res))\n",
    "if op == 'minus' or op == 'MINUS':\n",
    "    print('Subtraction of {0} and {1} is {2}'.format(a,b,res))\n",
    "if op == 'multiply' or op == 'MULTIPLY':\n",
    "    print('Multiplication of {0} and {1} is {2}'.format(a,b,res))\n",
    "if op == 'division' or op == 'DIVISION':\n",
    "    print('Division of {0} and {1} is {2}'.format(a,b,res))"
   ]
  },
  {
   "cell_type": "code",
   "execution_count": null,
   "id": "15b2cbcd",
   "metadata": {},
   "outputs": [],
   "source": []
  }
 ],
 "metadata": {
  "kernelspec": {
   "display_name": "Python 3 (ipykernel)",
   "language": "python",
   "name": "python3"
  },
  "language_info": {
   "codemirror_mode": {
    "name": "ipython",
    "version": 3
   },
   "file_extension": ".py",
   "mimetype": "text/x-python",
   "name": "python",
   "nbconvert_exporter": "python",
   "pygments_lexer": "ipython3",
   "version": "3.9.7"
  }
 },
 "nbformat": 4,
 "nbformat_minor": 5
}
