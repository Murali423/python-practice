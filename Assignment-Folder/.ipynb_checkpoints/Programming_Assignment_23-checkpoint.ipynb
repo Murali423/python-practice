{
 "cells": [
  {
   "cell_type": "markdown",
   "id": "d0eacf82",
   "metadata": {},
   "source": [
    "#### Programming_Assignment_23"
   ]
  },
  {
   "cell_type": "markdown",
   "id": "b599a3fc",
   "metadata": {},
   "source": [
    "Submitted by G.Murali Divya Teja"
   ]
  },
  {
   "cell_type": "markdown",
   "id": "1ba14b7c",
   "metadata": {},
   "source": [
    "#### 1. Create a function that takes a number as an argument and returns True or False depending on whether the number is symmetrical or not. A number is symmetrical when it is the same as its reverse."
   ]
  },
  {
   "cell_type": "code",
   "execution_count": 3,
   "id": "d8212205",
   "metadata": {},
   "outputs": [
    {
     "name": "stdout",
     "output_type": "stream",
     "text": [
      "is_symmetrical(7227) ➞ True\n",
      "is_symmetrical(12567) ➞ False\n",
      "is_symmetrical(44444444) ➞ True\n",
      "is_symmetrical(9939) ➞ False\n",
      "is_symmetrical(1112111) ➞ True\n"
     ]
    }
   ],
   "source": [
    "def is_symmetrical(s):\n",
    "    if str(s) == str(s)[::-1]:\n",
    "        return True\n",
    "    else:\n",
    "        return False\n",
    "print(f'is_symmetrical(7227) ➞ {is_symmetrical(7227)}')\n",
    "print(f'is_symmetrical(12567) ➞ {is_symmetrical(12567)}')\n",
    "print(f'is_symmetrical(44444444) ➞ {is_symmetrical(44444444)}')\n",
    "print(f'is_symmetrical(9939) ➞ {is_symmetrical(9939)}')\n",
    "print(f'is_symmetrical(1112111) ➞ {is_symmetrical(1112111)}')\n",
    "        "
   ]
  },
  {
   "cell_type": "markdown",
   "id": "dca958d6",
   "metadata": {},
   "source": [
    "#### 2.Given a string of numbers separated by a comma and space, return the product of the numbers."
   ]
  },
  {
   "cell_type": "code",
   "execution_count": 6,
   "id": "5a6eaf33",
   "metadata": {},
   "outputs": [
    {
     "name": "stdout",
     "output_type": "stream",
     "text": [
      "multiply_nums(\"2, 3\") ➞ 6\n",
      "multiply_nums(\"1,2,3,4\") ➞ 24\n",
      "multiply_nums(\"57, 99,234,0\") ➞ 0\n",
      "multiply_nums(\"10, -2\") ➞ -20\n"
     ]
    }
   ],
   "source": [
    "def multiply_num(s):\n",
    "    l = s.split(',')\n",
    "    m = 1\n",
    "    for i in l:\n",
    "        m *= int(i)\n",
    "    return m\n",
    "\n",
    "print(f'multiply_nums(\"2, 3\") ➞ {multiply_num(\"2, 3\")}')\n",
    "print(f'multiply_nums(\"1,2,3,4\") ➞ {multiply_num(\"1,2,3,4\")}')\n",
    "print(f'multiply_nums(\"57, 99,234,0\") ➞ {multiply_num(\"57, 99,234,0\")}')\n",
    "print(f'multiply_nums(\"10, -2\") ➞ {multiply_num(\"10, -2\")}')"
   ]
  },
  {
   "cell_type": "markdown",
   "id": "9982f668",
   "metadata": {},
   "source": [
    "#### 3.Create a function that squares every digit of a number."
   ]
  },
  {
   "cell_type": "code",
   "execution_count": 17,
   "id": "3e59dbf9",
   "metadata": {},
   "outputs": [
    {
     "name": "stdout",
     "output_type": "stream",
     "text": [
      "square_digits(9119)➞811181\n",
      "square_digits(2483)➞416649\n",
      "square_digits(3212)➞9414\n",
      "square_digits(1001)➞1001\n"
     ]
    }
   ],
   "source": [
    "def square_digits(l):\n",
    "    l = list(str(l))\n",
    "    a = lambda x: int(x)*int(x)\n",
    "    b =list(map(a,l))\n",
    "    b = list(map(lambda x:str(x),b))\n",
    "    return ''.join(b)\n",
    "\n",
    "print(f'square_digits(9119)➞{square_digits(9119)}')\n",
    "print(f'square_digits(2483)➞{square_digits(2483)}')\n",
    "print(f'square_digits(3212)➞{square_digits(3212)}')\n",
    "print(f'square_digits(1001)➞{square_digits(1001)}')\n",
    "    "
   ]
  },
  {
   "cell_type": "markdown",
   "id": "b5206caa",
   "metadata": {},
   "source": [
    "#### 4.Create a function that sorts a list and removes all duplicate items from it."
   ]
  },
  {
   "cell_type": "code",
   "execution_count": 18,
   "id": "a9ad6e7b",
   "metadata": {},
   "outputs": [
    {
     "name": "stdout",
     "output_type": "stream",
     "text": [
      "setify([1,2,3,4,4,5,5])➞[1, 2, 3, 4, 5]\n",
      "setify([4,4,4,4])➞[4]\n",
      "setify([1,2,3,4,6,7])➞[1, 2, 3, 4, 6, 7]\n",
      "setify([3,3,3,2,1])➞[1, 2, 3]\n"
     ]
    }
   ],
   "source": [
    "def setify(l):\n",
    "    \"\"\"\n",
    "    This function setify the list\n",
    "    \"\"\"\n",
    "    return list(set(l))\n",
    "print(f'setify([1,2,3,4,4,5,5])➞{setify([1,2,3,4,4,5,5])}')\n",
    "print(f'setify([4,4,4,4])➞{setify([4,4,4,4])}')\n",
    "print(f'setify([1,2,3,4,6,7])➞{setify([1,2,3,4,6,7])}')\n",
    "print(f'setify([3,3,3,2,1])➞{setify([3,3,3,2,1])}')\n"
   ]
  },
  {
   "cell_type": "markdown",
   "id": "230dffb6",
   "metadata": {},
   "source": [
    "#### 5.Create a function that returns the mean of all digits."
   ]
  },
  {
   "cell_type": "code",
   "execution_count": 20,
   "id": "9f16a18b",
   "metadata": {},
   "outputs": [
    {
     "name": "stdout",
     "output_type": "stream",
     "text": [
      "mean(42)➞ 3\n",
      "mean(12345)➞ 3\n",
      "mean(666)➞ 6\n",
      "mean(425)➞ 3\n"
     ]
    }
   ],
   "source": [
    "def mean(l):\n",
    "    \"\"\"\n",
    "    This function find mean of digit\n",
    "    \"\"\"\n",
    "    l = list(str(l))\n",
    "    m = len(l)\n",
    "    b = list(map(lambda x:int(x),l))\n",
    "    return sum(b)//m\n",
    "\n",
    "print(f'mean(42)➞ {mean(42)}')\n",
    "print(f'mean(12345)➞ {mean(12345)}')\n",
    "print(f'mean(666)➞ {mean(666)}')\n",
    "print(f'mean(425)➞ {mean(425)}')"
   ]
  },
  {
   "cell_type": "code",
   "execution_count": null,
   "id": "e46c7437",
   "metadata": {},
   "outputs": [],
   "source": []
  }
 ],
 "metadata": {
  "kernelspec": {
   "display_name": "Python 3 (ipykernel)",
   "language": "python",
   "name": "python3"
  },
  "language_info": {
   "codemirror_mode": {
    "name": "ipython",
    "version": 3
   },
   "file_extension": ".py",
   "mimetype": "text/x-python",
   "name": "python",
   "nbconvert_exporter": "python",
   "pygments_lexer": "ipython3",
   "version": "3.9.7"
  }
 },
 "nbformat": 4,
 "nbformat_minor": 5
}
