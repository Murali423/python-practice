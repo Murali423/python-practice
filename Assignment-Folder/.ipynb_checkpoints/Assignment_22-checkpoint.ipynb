{
 "cells": [
  {
   "cell_type": "markdown",
   "id": "cc17db80",
   "metadata": {},
   "source": [
    "### Assignment_22"
   ]
  },
  {
   "cell_type": "markdown",
   "id": "1d2fb84a",
   "metadata": {},
   "source": [
    "Submitted by Murali Divya Teja Gummadidala"
   ]
  },
  {
   "cell_type": "markdown",
   "id": "7f8f69a6",
   "metadata": {},
   "source": [
    "#### 1. What is the result of the code, and explain?\n"
   ]
  },
  {
   "cell_type": "markdown",
   "id": "3d2e0714",
   "metadata": {},
   "source": [
    "`&gt;&gt;&gt; X = &#39;iNeuron&#39;\n",
    "&gt;&gt;&gt; def func():\n",
    "print(X)\n",
    "\n",
    "&gt;&gt;&gt; func()`"
   ]
  },
  {
   "cell_type": "code",
   "execution_count": 2,
   "id": "9b669a3c",
   "metadata": {},
   "outputs": [
    {
     "name": "stdout",
     "output_type": "stream",
     "text": [
      "iNeuron\n"
     ]
    }
   ],
   "source": [
    "X = 'iNeuron'\n",
    "def func():\n",
    "    print(X)\n",
    "    \n",
    "func()"
   ]
  },
  {
   "cell_type": "markdown",
   "id": "7b45f62c",
   "metadata": {},
   "source": [
    "__Ans:__  The Result of this code is `iNeuron`. it is because the function intially looks for the variable X in its local scope but since there is no local variable X, it returns the value of `global variable X i.e iNeuron`"
   ]
  },
  {
   "cell_type": "markdown",
   "id": "6ba0707d",
   "metadata": {},
   "source": [
    "#### 2. What is the result of the code, and explain?"
   ]
  },
  {
   "cell_type": "markdown",
   "id": "544f9b34",
   "metadata": {},
   "source": [
    "`>>> X = 'iNeuron'`\n",
    "\n",
    "`>>> def func():`\n",
    "\n",
    "`X = 'NI!'`\n",
    "\n",
    "`>>> func()`\n",
    "\n",
    "`>>> print(X)`"
   ]
  },
  {
   "cell_type": "markdown",
   "id": "bd27c97a",
   "metadata": {},
   "source": [
    "__Ans:__ The Result of this code is NI! because the function initially looks for the variable X in its local scope. If X is not available, then it checks for variable X in the global scope. Since here the X is present in the local scope, it directly prints the value NI! and does not look for a variable in global scope."
   ]
  },
  {
   "cell_type": "code",
   "execution_count": 3,
   "id": "5ed6d85a",
   "metadata": {},
   "outputs": [
    {
     "name": "stdout",
     "output_type": "stream",
     "text": [
      "NI!\n"
     ]
    }
   ],
   "source": [
    "X = 'iNeuron'\n",
    "def func():\n",
    "    X = 'NI!'\n",
    "    print(X)\n",
    "func()"
   ]
  },
  {
   "cell_type": "markdown",
   "id": "21f4ef3e",
   "metadata": {},
   "source": [
    "#### 3. What does this code print, and why?"
   ]
  },
  {
   "cell_type": "markdown",
   "id": "0657e054",
   "metadata": {},
   "source": [
    "`>>> X = 'iNeuron'`\n",
    "`>>> def func():`\n",
    "`X = 'NI'`\n",
    "`print(X)`\n",
    "`>>> func()`\n",
    "`>>> print(X)`"
   ]
  },
  {
   "cell_type": "markdown",
   "id": "405d49fd",
   "metadata": {},
   "source": [
    "__Ans:__ The output of the code is NI and iNeuron. X=NI is in the local scope of the function func(). Hence the function prints the x value as NI. X = 'iNeuron' is in the global scope. Hence print(X) prints output as iNeuron"
   ]
  },
  {
   "cell_type": "code",
   "execution_count": 4,
   "id": "df07881a",
   "metadata": {},
   "outputs": [
    {
     "name": "stdout",
     "output_type": "stream",
     "text": [
      "NI\n",
      "iNeuron\n"
     ]
    }
   ],
   "source": [
    "X = 'iNeuron'\n",
    "def func():\n",
    "    X = 'NI'\n",
    "    print(X)\n",
    "func()\n",
    "print(X)"
   ]
  },
  {
   "cell_type": "markdown",
   "id": "813408d1",
   "metadata": {},
   "source": [
    "#### 4. What output does this code produce? Why?"
   ]
  },
  {
   "cell_type": "markdown",
   "id": "87d7d97d",
   "metadata": {},
   "source": [
    "`>>> X = 'iNeuron'\n",
    ">>> def func():\n",
    "global X\n",
    "X = 'NI'\n",
    ">>> func()\n",
    ">>> print(X)`"
   ]
  },
  {
   "cell_type": "markdown",
   "id": "7dd7324a",
   "metadata": {},
   "source": [
    "__Ans:__ The output of the code is NI. The global keyword allows a variable to be accessible in the current scope. Since we are using global keyword inside the function func, it directly accesses the variable in X in global scope and changes its value to NI. Hence the output of the code is NI as shown below."
   ]
  },
  {
   "cell_type": "code",
   "execution_count": 5,
   "id": "15945990",
   "metadata": {},
   "outputs": [
    {
     "name": "stdout",
     "output_type": "stream",
     "text": [
      "NI\n"
     ]
    }
   ],
   "source": [
    "X = 'iNeuron'\n",
    "def func():\n",
    "    global X\n",
    "    X = 'NI'\n",
    "func()\n",
    "print(X)"
   ]
  },
  {
   "cell_type": "markdown",
   "id": "52134903",
   "metadata": {},
   "source": [
    "#### 5. What about this code—what’s the output, and why?"
   ]
  },
  {
   "cell_type": "markdown",
   "id": "c7a69ec4",
   "metadata": {},
   "source": [
    ">>> X = 'iNeuron'\n",
    ">>> def func():\n",
    "X = 'NI'\n",
    "def nested():\n",
    "print(X)\n",
    "nested()\n",
    ">>> func()\n",
    ">>> X"
   ]
  },
  {
   "cell_type": "markdown",
   "id": "8b59f4b5",
   "metadata": {},
   "source": [
    "__Ans:__ The output of the code is NI and iNeuron. Output of func() is 'NI' because it has a variable X as 'NI' in its local scope whereas Output of X is 'iNeuron' because it refers to variable X that is having global scope instead of referring to a variable having a local scope in a function."
   ]
  },
  {
   "cell_type": "code",
   "execution_count": 6,
   "id": "aa429f37",
   "metadata": {},
   "outputs": [
    {
     "name": "stdout",
     "output_type": "stream",
     "text": [
      "NI\n"
     ]
    },
    {
     "data": {
      "text/plain": [
       "'iNeuron'"
      ]
     },
     "execution_count": 6,
     "metadata": {},
     "output_type": "execute_result"
    }
   ],
   "source": [
    "X = 'iNeuron'\n",
    "def func():\n",
    "    X = 'NI'\n",
    "    def nested():\n",
    "        print(X)\n",
    "    nested()\n",
    "func()\n",
    "X"
   ]
  },
  {
   "cell_type": "markdown",
   "id": "c8cffeb4",
   "metadata": {},
   "source": [
    "#### 6. How about this code: what is its output in Python 3, and explain?"
   ]
  },
  {
   "cell_type": "markdown",
   "id": "589d60e0",
   "metadata": {},
   "source": [
    ">>> def func():\n",
    "X = 'NI'\n",
    "def nested():\n",
    "nonlocal X\n",
    "X = 'Spam'\n",
    "nested()\n",
    "print(X)\n",
    ">>> func()"
   ]
  },
  {
   "cell_type": "markdown",
   "id": "000ca1a8",
   "metadata": {},
   "source": [
    "__Ans:__ The output of the code is Spam. nonlocal keyword in python is used to declare a variable as not local.Hence the statement X = \"Spam\" is modified in the global scope. Hence the output of print(X) statement is Spam"
   ]
  },
  {
   "cell_type": "code",
   "execution_count": 7,
   "id": "753c6c27",
   "metadata": {},
   "outputs": [
    {
     "name": "stdout",
     "output_type": "stream",
     "text": [
      "Spam\n"
     ]
    }
   ],
   "source": [
    "def func():\n",
    "    X = 'NI'\n",
    "    def nested():\n",
    "        nonlocal X\n",
    "        X = 'Spam'\n",
    "    nested()\n",
    "    print(X)\n",
    "func()"
   ]
  },
  {
   "cell_type": "code",
   "execution_count": null,
   "id": "9bd8ffc1",
   "metadata": {},
   "outputs": [],
   "source": []
  }
 ],
 "metadata": {
  "kernelspec": {
   "display_name": "Python 3 (ipykernel)",
   "language": "python",
   "name": "python3"
  },
  "language_info": {
   "codemirror_mode": {
    "name": "ipython",
    "version": 3
   },
   "file_extension": ".py",
   "mimetype": "text/x-python",
   "name": "python",
   "nbconvert_exporter": "python",
   "pygments_lexer": "ipython3",
   "version": "3.9.7"
  }
 },
 "nbformat": 4,
 "nbformat_minor": 5
}
