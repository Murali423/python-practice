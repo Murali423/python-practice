{
 "cells": [
  {
   "cell_type": "markdown",
   "id": "27cb7e50",
   "metadata": {},
   "source": [
    "### Programming_Assignment_11"
   ]
  },
  {
   "cell_type": "markdown",
   "id": "c75979df",
   "metadata": {},
   "source": [
    "#### 1. Write a Python program to find words which are greater than given length k?"
   ]
  },
  {
   "cell_type": "code",
   "execution_count": 7,
   "id": "f998113a",
   "metadata": {},
   "outputs": [
    {
     "name": "stdout",
     "output_type": "stream",
     "text": [
      "This is Program to find words which are greater than given lenght so please do care this Program and get output properly.\n"
     ]
    }
   ],
   "source": [
    "s = \"This is Program to find words which are greater than given lenght so please do care this Program and get output properly.\"\n",
    "print(s)"
   ]
  },
  {
   "cell_type": "code",
   "execution_count": 8,
   "id": "c74bcfba",
   "metadata": {},
   "outputs": [
    {
     "name": "stdout",
     "output_type": "stream",
     "text": [
      "Find the string to find given greater than given length:  ['Program', 'words', 'which', 'greater', 'given', 'lenght', 'please', 'Program', 'output', 'properly.']\n"
     ]
    }
   ],
   "source": [
    "def wrd_l(s,k):\n",
    "    \"\"\"\n",
    "    This is program to find greater than given length\n",
    "    s : string to find the words\n",
    "    k : Length to find \n",
    "    \"\"\"\n",
    "    m = []\n",
    "    l = s.split(' ')\n",
    "    for i in l:\n",
    "        if len(i) > k:\n",
    "            m.append(i)\n",
    "    return m\n",
    "print('Find the string to find given greater than given length: ',wrd_l(s,4))"
   ]
  },
  {
   "cell_type": "markdown",
   "id": "f50e79d4",
   "metadata": {},
   "source": [
    "#### 2. Write a Python program for removing i-th character from a string?"
   ]
  },
  {
   "cell_type": "code",
   "execution_count": 9,
   "id": "af9245ea",
   "metadata": {},
   "outputs": [],
   "source": [
    "s = 'murali'\n",
    "def rem_c(s,i):\n",
    "    \"\"\"\n",
    "    This Function to remove the i-th character\n",
    "    s : String to remove i-th character\n",
    "    i : i-th character to be removed\n",
    "    \"\"\"\n",
    "    if len(s) > i:\n",
    "        l = list(s)\n",
    "        l.pop(i-1)\n",
    "        return ''.join(l)\n",
    "    else:\n",
    "        return 'element to be removed should not be greater than lenght of string run program once again '"
   ]
  },
  {
   "cell_type": "code",
   "execution_count": 10,
   "id": "4d9c0423",
   "metadata": {},
   "outputs": [
    {
     "data": {
      "text/plain": [
       "'mrali'"
      ]
     },
     "execution_count": 10,
     "metadata": {},
     "output_type": "execute_result"
    }
   ],
   "source": [
    "rem_c(s,2)"
   ]
  },
  {
   "cell_type": "code",
   "execution_count": 11,
   "id": "d6558dfa",
   "metadata": {},
   "outputs": [
    {
     "data": {
      "text/plain": [
       "'element to be removed should not be greater than lenght of string run program once again '"
      ]
     },
     "execution_count": 11,
     "metadata": {},
     "output_type": "execute_result"
    }
   ],
   "source": [
    "rem_c(s,10)"
   ]
  },
  {
   "cell_type": "markdown",
   "id": "90d38ffc",
   "metadata": {},
   "source": [
    "#### 3. Write a Python program to split and join a string?"
   ]
  },
  {
   "cell_type": "code",
   "execution_count": 12,
   "id": "07e6cad5",
   "metadata": {},
   "outputs": [
    {
     "name": "stdout",
     "output_type": "stream",
     "text": [
      "['This', 'is', 'program', 'to', 'show', 'how', 'split', 'and', 'join', 'works']\n",
      "This is program to show how split and join works\n"
     ]
    }
   ],
   "source": [
    "s = 'This is program to show how split and join works'\n",
    "l = s.split(' ')\n",
    "print(l)\n",
    "m = ' '.join(l)\n",
    "print(m)"
   ]
  },
  {
   "cell_type": "markdown",
   "id": "81ca7bc9",
   "metadata": {},
   "source": [
    "#### 4. Write a Python to check if a given string is binary string or not?"
   ]
  },
  {
   "cell_type": "code",
   "execution_count": 13,
   "id": "38f6edef",
   "metadata": {},
   "outputs": [
    {
     "data": {
      "text/plain": [
       "'Given string is binary'"
      ]
     },
     "execution_count": 13,
     "metadata": {},
     "output_type": "execute_result"
    }
   ],
   "source": [
    "def check(s):\n",
    "    p = set(s)\n",
    "    b = {'0','1'}\n",
    "    if b == p or p == {'0'} or p == {'1'}:\n",
    "        return 'Given string is binary'\n",
    "    else:\n",
    "        return 'Given string is not binary'\n",
    "\n",
    "s = '0101011100011000111'\n",
    "check(s)"
   ]
  },
  {
   "cell_type": "markdown",
   "id": "0660bac4",
   "metadata": {},
   "source": [
    "#### 5. Write a Python program to find uncommon words from two Strings?"
   ]
  },
  {
   "cell_type": "code",
   "execution_count": 14,
   "id": "8fab8013",
   "metadata": {},
   "outputs": [
    {
     "data": {
      "text/plain": [
       "['', 'Toyota', 'japan', 'learnign', 'Murali', 'Hyderabad', 'learning']"
      ]
     },
     "execution_count": 14,
     "metadata": {},
     "output_type": "execute_result"
    }
   ],
   "source": [
    "s = 'This is Murali from Hyderabad learning FSDS'\n",
    "l = 'This is Toyota from japan learnign FSDS'\n",
    "def uncomm(s,l):\n",
    "    \"\"\"\n",
    "    Finding the uncommon words from two srings\n",
    "    \n",
    "    \"\"\"\n",
    "    g = ''\n",
    "    m = s.split(' ')\n",
    "    n = l.split(' ')\n",
    "    for i in n:\n",
    "        if i not in m:\n",
    "           g = g+' '+i \n",
    "    for j in m:\n",
    "        if j not in n:\n",
    "            g = g+' '+j \n",
    "    return g.split(' ')\n",
    "uncomm(s,l)"
   ]
  },
  {
   "cell_type": "code",
   "execution_count": null,
   "id": "cb67261b",
   "metadata": {},
   "outputs": [],
   "source": []
  },
  {
   "cell_type": "markdown",
   "id": "344e46f4",
   "metadata": {},
   "source": [
    "#### 6. Write a Python to find all duplicate characters in string?"
   ]
  },
  {
   "cell_type": "code",
   "execution_count": 15,
   "id": "b3e1657b",
   "metadata": {},
   "outputs": [
    {
     "name": "stdout",
     "output_type": "stream",
     "text": [
      "Duplicate character are:  ['o', 'a', 'i', 'j', 'k', 'f']\n"
     ]
    }
   ],
   "source": [
    "s = 'ijijkikijiiiowaeiouhififa'\n",
    "l = list(s)\n",
    "m = []\n",
    "for i in set(l):\n",
    "    if l.count(i) > 1:\n",
    "        m.append(i)\n",
    "\n",
    "print('Duplicate character are: ',m)"
   ]
  },
  {
   "cell_type": "code",
   "execution_count": null,
   "id": "44ba4d14",
   "metadata": {},
   "outputs": [],
   "source": []
  },
  {
   "cell_type": "markdown",
   "id": "3f66fb70",
   "metadata": {},
   "source": [
    "#### 7. Write a Python Program to check if a string contains any special character?"
   ]
  },
  {
   "cell_type": "code",
   "execution_count": 16,
   "id": "6baee813",
   "metadata": {},
   "outputs": [
    {
     "name": "stdout",
     "output_type": "stream",
     "text": [
      "Enter the string: 1MuR@li%t^j@\n",
      "yes,String has special character\n"
     ]
    }
   ],
   "source": [
    "special_characters = \"!@#$%^&*()-+?_=,<>/\"\n",
    "h = input('Enter the string: ')\n",
    "if any(i in special_characters for i in h):\n",
    "    print(\"yes,String has special character\")\n",
    "else:\n",
    "    print(\"no,Strings doen't have special character\")\n",
    "    "
   ]
  },
  {
   "cell_type": "code",
   "execution_count": null,
   "id": "cf249b00",
   "metadata": {},
   "outputs": [],
   "source": []
  }
 ],
 "metadata": {
  "kernelspec": {
   "display_name": "Python 3 (ipykernel)",
   "language": "python",
   "name": "python3"
  },
  "language_info": {
   "codemirror_mode": {
    "name": "ipython",
    "version": 3
   },
   "file_extension": ".py",
   "mimetype": "text/x-python",
   "name": "python",
   "nbconvert_exporter": "python",
   "pygments_lexer": "ipython3",
   "version": "3.9.7"
  }
 },
 "nbformat": 4,
 "nbformat_minor": 5
}
