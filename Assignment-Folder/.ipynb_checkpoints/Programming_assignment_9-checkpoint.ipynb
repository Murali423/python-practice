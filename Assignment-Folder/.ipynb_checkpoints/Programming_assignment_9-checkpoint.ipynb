{
 "cells": [
  {
   "cell_type": "markdown",
   "id": "0ebc3908",
   "metadata": {},
   "source": [
    "### Programming_Asssignment_9"
   ]
  },
  {
   "cell_type": "markdown",
   "id": "efc2d2d0",
   "metadata": {},
   "source": [
    "#### 1. Write a Python program to check if the given number is a Disarium Number?"
   ]
  },
  {
   "cell_type": "code",
   "execution_count": 3,
   "id": "1f3d625f",
   "metadata": {},
   "outputs": [
    {
     "name": "stdout",
     "output_type": "stream",
     "text": [
      "135\n",
      "Disarium Number\n"
     ]
    }
   ],
   "source": [
    "a = 135\n",
    "b = str(a)\n",
    "m = 0\n",
    "for i in range(len(b)):\n",
    "    m = m + int(b[i])**(i+1)\n",
    "\n",
    "print(m)\n",
    "if m == a:\n",
    "    print('Disarium Number')\n",
    "else:\n",
    "    print('NotDisarium Number ')"
   ]
  },
  {
   "cell_type": "markdown",
   "id": "d5991ae0",
   "metadata": {},
   "source": [
    "#### 2. Write a Python program to print all disarium numbers between 1 to 100?"
   ]
  },
  {
   "cell_type": "code",
   "execution_count": 7,
   "id": "250e6e37",
   "metadata": {},
   "outputs": [
    {
     "name": "stdout",
     "output_type": "stream",
     "text": [
      "1\n",
      "2\n",
      "3\n",
      "4\n",
      "5\n",
      "6\n",
      "7\n",
      "8\n",
      "9\n",
      "89\n",
      "135\n",
      "175\n",
      "518\n",
      "598\n"
     ]
    }
   ],
   "source": [
    "for i in range(1,1000):\n",
    "    b = str(i)\n",
    "    m = 0\n",
    "    for j in range(len(b)):\n",
    "        m = m + int(b[j])**(j+1)\n",
    "    if m == i:\n",
    "        print(i)\n",
    "        "
   ]
  },
  {
   "cell_type": "markdown",
   "id": "eb1f72e3",
   "metadata": {},
   "source": [
    "#### 3. Write a Python program to check if the given number is Happy Number?"
   ]
  },
  {
   "cell_type": "code",
   "execution_count": null,
   "id": "e6d6d5b1",
   "metadata": {},
   "outputs": [],
   "source": [
    "a = 23 \n",
    "b = str(a)\n",
    "m = 0\n",
    "while(True):\n",
    "    m += \n",
    "    "
   ]
  },
  {
   "cell_type": "code",
   "execution_count": null,
   "id": "def32d4e",
   "metadata": {},
   "outputs": [],
   "source": []
  },
  {
   "cell_type": "code",
   "execution_count": null,
   "id": "5fbded00",
   "metadata": {},
   "outputs": [],
   "source": []
  },
  {
   "cell_type": "markdown",
   "id": "7aa2fb8a",
   "metadata": {},
   "source": [
    "#### 5. Write a Python program to determine whether the given number is a Harshad Number?"
   ]
  },
  {
   "cell_type": "code",
   "execution_count": 12,
   "id": "eb305f0c",
   "metadata": {},
   "outputs": [
    {
     "name": "stdout",
     "output_type": "stream",
     "text": [
      "Harshad Number\n"
     ]
    }
   ],
   "source": [
    "a = 156\n",
    "b = str(a)\n",
    "m = 0\n",
    "for i in range(len(b)):\n",
    "    m += int(b[i])\n",
    "if a%m == 0:\n",
    "    print('Harshad Number')\n",
    "else: \n",
    "    print ('Not Harshad Number')"
   ]
  },
  {
   "cell_type": "markdown",
   "id": "1a778413",
   "metadata": {},
   "source": [
    "#### 6. Write a Python program to print all pronic numbers between 1 and 100?"
   ]
  },
  {
   "cell_type": "code",
   "execution_count": null,
   "id": "2b496d13",
   "metadata": {},
   "outputs": [],
   "source": []
  }
 ],
 "metadata": {
  "kernelspec": {
   "display_name": "Python 3 (ipykernel)",
   "language": "python",
   "name": "python3"
  },
  "language_info": {
   "codemirror_mode": {
    "name": "ipython",
    "version": 3
   },
   "file_extension": ".py",
   "mimetype": "text/x-python",
   "name": "python",
   "nbconvert_exporter": "python",
   "pygments_lexer": "ipython3",
   "version": "3.9.7"
  }
 },
 "nbformat": 4,
 "nbformat_minor": 5
}
