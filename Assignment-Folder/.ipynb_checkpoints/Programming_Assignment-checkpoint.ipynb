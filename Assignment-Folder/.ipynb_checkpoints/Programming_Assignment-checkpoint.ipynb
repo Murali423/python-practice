{
 "cells": [
  {
   "cell_type": "markdown",
   "id": "2287592a",
   "metadata": {},
   "source": [
    "## Programming Assignment "
   ]
  },
  {
   "cell_type": "markdown",
   "id": "91ec24db",
   "metadata": {},
   "source": [
    "#### 1. Write a Python program to print \"Hello Python\"?"
   ]
  },
  {
   "cell_type": "code",
   "execution_count": 1,
   "id": "b703c3c4",
   "metadata": {},
   "outputs": [
    {
     "name": "stdout",
     "output_type": "stream",
     "text": [
      "Hello Python\n"
     ]
    }
   ],
   "source": [
    "print(\"Hello Python\")"
   ]
  },
  {
   "cell_type": "markdown",
   "id": "ec634457",
   "metadata": {},
   "source": [
    "#### 2. Write a Python program to do arithmetical operations addition and division.?"
   ]
  },
  {
   "cell_type": "code",
   "execution_count": 6,
   "id": "2f6ab4d9",
   "metadata": {},
   "outputs": [
    {
     "name": "stdout",
     "output_type": "stream",
     "text": [
      "Enter the value of variable a: 40\n",
      "Enter the value of variable b: 0\n",
      "Addition of two numbers is:  40\n",
      "Cannot divide by zero\n"
     ]
    }
   ],
   "source": [
    "a = int(input(\"Enter the value of variable a: \"))\n",
    "b = int(input(\"Enter the value of variable b: \"))\n",
    "\n",
    "# function for aritmetic operations`\n",
    "def arth_op(m,n,operation):\n",
    "    if operation == 'add':\n",
    "        s = m + n\n",
    "        print(\"Addition of two numbers is: \",s)\n",
    "    if operation == 'division':\n",
    "        try:\n",
    "            s =  m / n\n",
    "            print(\"division of two numbers is: \",s)\n",
    "        except ZeroDivisionError:\n",
    "            print(\"Cannot divide by zero\")\n",
    "\n",
    "arth_op(a,b,'add')\n",
    "arth_op(a,b,'division')\n",
    "    "
   ]
  },
  {
   "cell_type": "code",
   "execution_count": 19,
   "id": "292d6d8b",
   "metadata": {},
   "outputs": [
    {
     "name": "stdout",
     "output_type": "stream",
     "text": [
      "Sum of two numbers  70\n",
      "division of two numbers  0.75\n"
     ]
    }
   ],
   "source": [
    "# second approach\n",
    "a = 30\n",
    "b = 40\n",
    "print(\"Sum of two numbers \",a+b)\n",
    "print(\"division of two numbers \",a/b)"
   ]
  },
  {
   "cell_type": "markdown",
   "id": "4580805e",
   "metadata": {},
   "source": [
    "#### 3. Write a Python program to find the area of a triangle?"
   ]
  },
  {
   "cell_type": "code",
   "execution_count": 20,
   "id": "54240ae4",
   "metadata": {},
   "outputs": [
    {
     "name": "stdout",
     "output_type": "stream",
     "text": [
      "Enter first side: 7\n",
      "Enter second side: 10\n",
      "Enter third side: 16\n",
      "The area of the triangle is 22.57\n"
     ]
    }
   ],
   "source": [
    "\n",
    "a = int(input('Enter first side: '))\n",
    "b = int(input('Enter second side: '))\n",
    "c = int(input('Enter third side: '))\n",
    "\n",
    "s = (a + b + c) / 2\n",
    "\n",
    "# area of triangle\n",
    "area = (s*(s-a)*(s-b)*(s-c)) ** 0.5\n",
    "print('The area of the triangle is %0.2f' %area)"
   ]
  },
  {
   "cell_type": "markdown",
   "id": "c0ce7810",
   "metadata": {},
   "source": [
    "#### 4. Write a Python program to swap two variables?"
   ]
  },
  {
   "cell_type": "code",
   "execution_count": 10,
   "id": "eedbe7f0",
   "metadata": {},
   "outputs": [
    {
     "name": "stdout",
     "output_type": "stream",
     "text": [
      "Enter the value of a: 5\n",
      "Enter the value of b: five\n",
      "The value of a before swap 5\n",
      "The value of b before swap five\n",
      "The value of a after swap five\n",
      "The value of b after swap 5\n"
     ]
    }
   ],
   "source": [
    "a = input(\"Enter the value of a: \")\n",
    "b = input(\"Enter the value of b: \")\n",
    "\n",
    "print(\"The value of a before swap\",a)\n",
    "print(\"The value of b before swap\",b)\n",
    "#swaping the varibles \n",
    "a,b = b,a\n",
    "\n",
    "print(\"The value of a after swap\",a)\n",
    "print(\"The value of b after swap\",b)"
   ]
  },
  {
   "cell_type": "markdown",
   "id": "b8c45112",
   "metadata": {},
   "source": [
    "####  5. Write a Python program to generate a random number?"
   ]
  },
  {
   "cell_type": "code",
   "execution_count": 17,
   "id": "1e2993fe",
   "metadata": {},
   "outputs": [
    {
     "name": "stdout",
     "output_type": "stream",
     "text": [
      "0.8781023239367735\n",
      "11\n"
     ]
    }
   ],
   "source": [
    "import random\n",
    "\n",
    "# for selection between 0 and 1  returs floating point\n",
    "print(random.random())\n",
    "\n",
    "# for selecting between given two numbers return integer \n",
    "print(random.randint(10,15))"
   ]
  },
  {
   "cell_type": "code",
   "execution_count": null,
   "id": "cb67f824",
   "metadata": {},
   "outputs": [],
   "source": []
  },
  {
   "cell_type": "code",
   "execution_count": null,
   "id": "9572895c",
   "metadata": {},
   "outputs": [],
   "source": []
  }
 ],
 "metadata": {
  "kernelspec": {
   "display_name": "Python 3 (ipykernel)",
   "language": "python",
   "name": "python3"
  },
  "language_info": {
   "codemirror_mode": {
    "name": "ipython",
    "version": 3
   },
   "file_extension": ".py",
   "mimetype": "text/x-python",
   "name": "python",
   "nbconvert_exporter": "python",
   "pygments_lexer": "ipython3",
   "version": "3.9.7"
  }
 },
 "nbformat": 4,
 "nbformat_minor": 5
}
