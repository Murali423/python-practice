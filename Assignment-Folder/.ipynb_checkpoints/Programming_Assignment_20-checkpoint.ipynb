{
 "cells": [
  {
   "cell_type": "markdown",
   "id": "100415e6",
   "metadata": {},
   "source": [
    "### Programming_Assignment_19"
   ]
  },
  {
   "cell_type": "markdown",
   "id": "6b7cf723",
   "metadata": {},
   "source": [
    "Submitted by G.Murali Divya Teja"
   ]
  },
  {
   "cell_type": "markdown",
   "id": "e8449838",
   "metadata": {},
   "source": [
    "#### 1.Create a function that takes a list of strings and integers, and filters out the list so that it returns a list of integers only."
   ]
  },
  {
   "cell_type": "code",
   "execution_count": 10,
   "id": "1bc1a0f8",
   "metadata": {},
   "outputs": [
    {
     "name": "stdout",
     "output_type": "stream",
     "text": [
      "filter_list([1,2,3,\"1\",\"3\",6])➞ [1, 2, 3, 6]\n",
      "filter_list([\"A\",0,\"Edabit\",1729,\"Python\",\"1729\"])➞ [1729]\n",
      "filter_list([\"Nothing\",\"Here\"])➞ []\n"
     ]
    }
   ],
   "source": [
    "def filter_list(l):\n",
    "    \"\"\"\n",
    "    This is function to give only integer\n",
    "    \"\"\"\n",
    "    if type(l) == list:\n",
    "        return list(filter(lambda x:x if type(x)==int else None,l))\n",
    "print(f'filter_list([1,2,3,\"1\",\"3\",6])➞ {filter_list([1,2,3,\"1\",\"3\",6])}')\n",
    "print(f'filter_list([\"A\",0,\"Edabit\",1729,\"Python\",\"1729\"])➞ {filter_list([\"A\",0,\"Edabit\",1729,\"Python\",\"1729\"])}')\n",
    "print(f'filter_list([\"Nothing\",\"Here\"])➞ {filter_list([\"Nothing\",\"Here\"])}')"
   ]
  },
  {
   "cell_type": "markdown",
   "id": "82306828",
   "metadata": {},
   "source": [
    "#### 2.Given a list of numbers, create a function which returns the list but with each element&#39;s index in the list added to itself. This means you add 0 to the number at index 0, add 1 to the number at index 1,"
   ]
  },
  {
   "cell_type": "code",
   "execution_count": 11,
   "id": "ba1c51af",
   "metadata": {},
   "outputs": [
    {
     "name": "stdout",
     "output_type": "stream",
     "text": [
      "add_indexes([0,0,0,0,0])➞  [0, 1, 2, 3, 4]\n",
      "add_indexes([1,2,3,4,5])➞  [1, 3, 5, 7, 9]\n",
      "add_indexes([5,4,3,2,1])➞  [5, 5, 5, 5, 5]\n"
     ]
    }
   ],
   "source": [
    "def add_indexes(l):\n",
    "    \"\"\"\n",
    "    This is function to return sum of elemente and index of element\n",
    "    \"\"\"\n",
    "    m = []\n",
    "    if type(l)== list:\n",
    "        a = len(l)\n",
    "        for i in range(a):\n",
    "            m.append(i+l[i])\n",
    "    return m\n",
    "print(f'add_indexes([0,0,0,0,0])➞  {add_indexes([0,0,0,0,0])}')\n",
    "print(f'add_indexes([1,2,3,4,5])➞  {add_indexes([1,2,3,4,5])}')\n",
    "print(f'add_indexes([5,4,3,2,1])➞  {add_indexes([5,4,3,2,1])}')"
   ]
  },
  {
   "cell_type": "markdown",
   "id": "305cedd2",
   "metadata": {},
   "source": [
    "#### 3.Create a function that takes the height and radius of a cone as arguments and returns the volume of the cone rounded to the nearest hundredth. See the resources tab for the formula."
   ]
  },
  {
   "cell_type": "code",
   "execution_count": 16,
   "id": "55e4a6b1",
   "metadata": {},
   "outputs": [
    {
     "name": "stdout",
     "output_type": "stream",
     "text": [
      "cone_volume(3,2) ➞ 12.57\n",
      "cone_volume(15,6) ➞ 565.49\n",
      "cone_volume(18,0) ➞ 0.0\n"
     ]
    }
   ],
   "source": [
    "import math\n",
    "def cone_volume(h,r):\n",
    "    \"\"\"\n",
    "    This is function find the volume of the cone\n",
    "    \"\"\"\n",
    "    return math.pi * r**2 * (h/3)\n",
    "print(f'cone_volume(3,2) ➞ {round(cone_volume(3,2),2)}')\n",
    "print(f'cone_volume(15,6) ➞ {round(cone_volume(15,6),2)}')\n",
    "print(f'cone_volume(18,0) ➞ {round(cone_volume(18,0),2)}')"
   ]
  },
  {
   "cell_type": "markdown",
   "id": "d9965673",
   "metadata": {},
   "source": [
    "#### 4.This Triangular Number Sequence is generated from a pattern of dots that form a triangle.The first 5 numbers of the sequence, or dots, are:\n",
    "``` 1,3,6,10```"
   ]
  },
  {
   "cell_type": "code",
   "execution_count": 19,
   "id": "d50d3793",
   "metadata": {},
   "outputs": [
    {
     "name": "stdout",
     "output_type": "stream",
     "text": [
      "triangle(1) ➞ 1\n",
      "triangle(6) ➞ 21\n",
      "triangle(215) ➞ 23220\n"
     ]
    }
   ],
   "source": [
    "def triangle(n):\n",
    "    \"\"\"\n",
    "    This is function to find the sum of number of dots in given count n\n",
    "    \"\"\"\n",
    "    return sum([x for x in range(1,n+1)])\n",
    "print(f'triangle(1) ➞ {triangle(1)}')\n",
    "print(f'triangle(6) ➞ {triangle(6)}')\n",
    "print(f'triangle(215) ➞ {triangle(215)}')"
   ]
  },
  {
   "cell_type": "markdown",
   "id": "84d23002",
   "metadata": {},
   "source": [
    "#### 5.Create a function that takes a list of numbers between 1 and 10 (excluding one number) and returns the missing number.\n",
    "```\n",
    "missing_num([1, 2, 3, 4, 6, 7, 8, 9, 10]) ➞ 5\n",
    "missing_num([7, 2, 3, 6, 5, 9, 1, 4, 8]) ➞ 10\n",
    "missing_num([10, 5, 1, 2, 4, 6, 8, 3, 9]) ➞ 7\n",
    "```"
   ]
  },
  {
   "cell_type": "code",
   "execution_count": 21,
   "id": "529a3392",
   "metadata": {},
   "outputs": [
    {
     "name": "stdout",
     "output_type": "stream",
     "text": [
      "missing_num([1, 2, 3, 4, 6, 7, 8, 9, 10]) ➞ 5\n",
      "missing_num([7, 2, 3, 6, 5, 9, 1, 4, 8]) ➞ 10\n",
      "missing_num([10, 5, 1, 2, 4, 6, 8, 3, 9]) ➞ 7\n"
     ]
    }
   ],
   "source": [
    "def missing_num(l):\n",
    "    \"\"\"\n",
    "    Function to find the missing number the range 1 to 10\n",
    "    \"\"\"\n",
    "    return sum([x for x in range(1,11)])-sum(l)\n",
    "print(f'missing_num([1, 2, 3, 4, 6, 7, 8, 9, 10]) ➞ {missing_num([1, 2, 3, 4, 6, 7, 8, 9, 10])}')\n",
    "print(f'missing_num([7, 2, 3, 6, 5, 9, 1, 4, 8]) ➞ {missing_num([7, 2, 3, 6, 5, 9, 1, 4, 8])}')\n",
    "print(f'missing_num([10, 5, 1, 2, 4, 6, 8, 3, 9]) ➞ {missing_num([10, 5, 1, 2, 4, 6, 8, 3, 9])}')"
   ]
  },
  {
   "cell_type": "code",
   "execution_count": null,
   "id": "7ff3870f",
   "metadata": {},
   "outputs": [],
   "source": []
  }
 ],
 "metadata": {
  "kernelspec": {
   "display_name": "Python 3 (ipykernel)",
   "language": "python",
   "name": "python3"
  },
  "language_info": {
   "codemirror_mode": {
    "name": "ipython",
    "version": 3
   },
   "file_extension": ".py",
   "mimetype": "text/x-python",
   "name": "python",
   "nbconvert_exporter": "python",
   "pygments_lexer": "ipython3",
   "version": "3.9.7"
  }
 },
 "nbformat": 4,
 "nbformat_minor": 5
}
