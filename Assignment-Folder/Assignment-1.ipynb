{
 "cells": [
  {
   "cell_type": "markdown",
   "id": "44bcacb0",
   "metadata": {},
   "source": [
    "# Assignment - 1"
   ]
  },
  {
   "cell_type": "markdown",
   "id": "5154a044",
   "metadata": {},
   "source": [
    "#### 1. In the below elements which of them are values or an expression? eg:- values can be integer or string and expressions will be mathematical operators."
   ]
  },
  {
   "cell_type": "markdown",
   "id": "5afa725a",
   "metadata": {},
   "source": [
    "  '*' - expression\n",
    "\n",
    "'hello'- expression\n",
    "\n",
    " -87.8  - value\n",
    " \n",
    " '-'  - expression\n",
    " \n",
    " /  - expression\n",
    " \n",
    " '+'  - expression\n",
    " \n",
    " 6  - value"
   ]
  },
  {
   "cell_type": "markdown",
   "id": "a5114a26",
   "metadata": {},
   "source": [
    "#### 2. What is the difference between string and variable?"
   ]
  },
  {
   "cell_type": "markdown",
   "id": "1cd4e4f2",
   "metadata": {},
   "source": [
    " - Variable: Variable is a named memory space stores the information provided to program to process by cpu and perform certain task and it is stored in system Main memory like RAM, varaible can store any type of data like int, float,string, list,tuple \n",
    "             ex: X = 10  X is variable,here some memory space is referd by X which contain values of 10. \n",
    " - String : String is group of words or charaters placed in '' or \"\". By default python input function reads in string format.\n",
    "          ex:  M = 'iNeuron'. "
   ]
  },
  {
   "cell_type": "markdown",
   "id": "d0b01885",
   "metadata": {},
   "source": [
    "#### 3. Describe three different data types."
   ]
  },
  {
   "cell_type": "markdown",
   "id": "e3f35e77",
   "metadata": {},
   "source": [
    "Data types are the classification or categorization of data items. It represents the kind of value that tells what operations can be performed on a particular data.\n",
    "\n",
    "differnte datatypes  are \n",
    "\n",
    "  1. numeric -(int(),float())\n",
    "  \n",
    "  Int - integer data type store the data of intergers ex: x = 10 \n",
    "  \n",
    "  float - stores the decimal point numeric data. ex: x =10.345333\n",
    "  \n",
    "  2. String - str()\n",
    "  \n",
    "  Str - store the string data  ex: x = \"lime\"\n",
    "  \n",
    "  3. Complex - stores the complex datatype  ex: 3+2j"
   ]
  },
  {
   "cell_type": "markdown",
   "id": "3058e41f",
   "metadata": {},
   "source": [
    "#### 4. What is an expression made up of? What do all expressions do?"
   ]
  },
  {
   "cell_type": "markdown",
   "id": "33172f37",
   "metadata": {},
   "source": [
    "An expression is a combination of values, variables, operators, and calls to functions. Expressions need to be evaluated once evaluaed with help of operators produce another value based on that program will proceed further."
   ]
  },
  {
   "cell_type": "markdown",
   "id": "c6be6e76",
   "metadata": {},
   "source": [
    "#### 5. This assignment statements, like spam = 10. What is the difference between an expression and a statement?"
   ]
  },
  {
   "cell_type": "markdown",
   "id": "02143487",
   "metadata": {},
   "source": [
    "Assignment statement is like instruction which used to executed by python interpreter. spam =10 which executed by python interpreter by storing value 10 in some memory location refered by spam. \n",
    "\n",
    "An expression is a combination of values, variables, operators, and calls to functions. Expressions need to be evaluated once evaluaed with help of operators produce another value based on that program will proceed further.\n"
   ]
  },
  {
   "cell_type": "markdown",
   "id": "6c45ebc5",
   "metadata": {},
   "source": [
    "#### 6. After running the following code, what does the variable bacon contain?\n",
    "####  bacon =22 ,bacon +1"
   ]
  },
  {
   "cell_type": "code",
   "execution_count": 1,
   "id": "e11c7b02",
   "metadata": {},
   "outputs": [],
   "source": [
    "bacon = 22"
   ]
  },
  {
   "cell_type": "code",
   "execution_count": 3,
   "id": "148fd231",
   "metadata": {},
   "outputs": [
    {
     "data": {
      "text/plain": [
       "23"
      ]
     },
     "execution_count": 3,
     "metadata": {},
     "output_type": "execute_result"
    }
   ],
   "source": [
    "bacon+1"
   ]
  },
  {
   "cell_type": "markdown",
   "id": "b0731a5a",
   "metadata": {},
   "source": [
    "#### 7. What should the values of the following two terms be?  "
   ]
  },
  {
   "cell_type": "code",
   "execution_count": 4,
   "id": "4062e725",
   "metadata": {},
   "outputs": [
    {
     "data": {
      "text/plain": [
       "'spamspamspam'"
      ]
     },
     "execution_count": 4,
     "metadata": {},
     "output_type": "execute_result"
    }
   ],
   "source": [
    "'spam'+'spamspam'"
   ]
  },
  {
   "cell_type": "code",
   "execution_count": 5,
   "id": "e567553f",
   "metadata": {},
   "outputs": [
    {
     "data": {
      "text/plain": [
       "'spamspamspam'"
      ]
     },
     "execution_count": 5,
     "metadata": {},
     "output_type": "execute_result"
    }
   ],
   "source": [
    "'spam'*3"
   ]
  },
  {
   "cell_type": "markdown",
   "id": "870300e8",
   "metadata": {},
   "source": [
    "#### 8. Why is eggs a valid variable name while 100 is invalid?"
   ]
  },
  {
   "cell_type": "markdown",
   "id": "fc32da28",
   "metadata": {},
   "source": [
    "In Python program, variable has certain rules for accessing the memory\n",
    "\n",
    "   1.Variable name should start with letter(a-zA-Z) or underscore (_).\n",
    "   \n",
    "   2. In variable name, no special characters allowed other than underscore (_).\n",
    "   \n",
    "   3. Variable name can have numbers but not at the beginning.\n",
    "   \n",
    "   4. Variable name should not be a Python keyword.Keywords are also called as reserved words."
   ]
  },
  {
   "cell_type": "markdown",
   "id": "580634d0",
   "metadata": {},
   "source": [
    "#### 9. What three functions can be used to get the integer, floating-point number, or string version of a value?"
   ]
  },
  {
   "cell_type": "markdown",
   "id": "9d805f1d",
   "metadata": {},
   "source": [
    "int() - to get integer of values ex: int('8') --> 8\n",
    "\n",
    "float() - to get floating number  ex: float(8) -->8.0\n",
    "\n",
    "str() - to get string values from given int, float ex: str(8.0) -- > 8.0"
   ]
  },
  {
   "cell_type": "markdown",
   "id": "6714c24a",
   "metadata": {},
   "source": [
    "#### 10. Why does this expression cause an error? How can you fix it? \n",
    "#### 'I have eaten' + 99+'burriotes'"
   ]
  },
  {
   "cell_type": "code",
   "execution_count": null,
   "id": "25797694",
   "metadata": {},
   "outputs": [],
   "source": [
    "'I have '"
   ]
  }
 ],
 "metadata": {
  "kernelspec": {
   "display_name": "Python 3 (ipykernel)",
   "language": "python",
   "name": "python3"
  },
  "language_info": {
   "codemirror_mode": {
    "name": "ipython",
    "version": 3
   },
   "file_extension": ".py",
   "mimetype": "text/x-python",
   "name": "python",
   "nbconvert_exporter": "python",
   "pygments_lexer": "ipython3",
   "version": "3.9.7"
  }
 },
 "nbformat": 4,
 "nbformat_minor": 5
}
