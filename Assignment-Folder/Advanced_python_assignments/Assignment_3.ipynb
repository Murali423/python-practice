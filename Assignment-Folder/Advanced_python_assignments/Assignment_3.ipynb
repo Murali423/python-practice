{
 "cells": [
  {
   "cell_type": "markdown",
   "id": "797c1fe5",
   "metadata": {},
   "source": [
    "### Assignment_3"
   ]
  },
  {
   "cell_type": "markdown",
   "id": "a0560e8a",
   "metadata": {},
   "source": [
    "Submitted by: Gummadidala Murali Divya Teja"
   ]
  },
  {
   "cell_type": "markdown",
   "id": "5ad9dc1e",
   "metadata": {},
   "source": [
    "#### 1.What is the concept of an abstract superclass?"
   ]
  },
  {
   "cell_type": "markdown",
   "id": "fe861ab2",
   "metadata": {},
   "source": [
    "__Ans:__ An abstract class/superclass can be considered as a blueprint for other classes. It allows US to create a set of methods that must be created within any child classes built from the abstract class. A class which contains one or more abstract methods is called an abstract class Whereas an abstract method is a method that has a declaration but does not have an implementation"
   ]
  },
  {
   "cell_type": "code",
   "execution_count": 3,
   "id": "b0a8e313",
   "metadata": {},
   "outputs": [],
   "source": [
    "from abc import ABC, abstractmethod\n",
    "class Car(ABC): # Abstract Class\n",
    "    @abstractmethod\n",
    "    def type_of(self): # Abstract Method\n",
    "        pass\n",
    "class Sedan(Car):\n",
    "    def type_of(self):  # overriding abstract method in child class sedan\n",
    "        print(\"I am four seater\")\n",
    "class Suv(Car):\n",
    "    def type_of(self): # overriding abstract method in child class Pentagon\n",
    "        print(\"I am 7 seater\")"
   ]
  },
  {
   "cell_type": "code",
   "execution_count": 5,
   "id": "91811571",
   "metadata": {},
   "outputs": [
    {
     "name": "stdout",
     "output_type": "stream",
     "text": [
      "I am 7 seater\n"
     ]
    }
   ],
   "source": [
    "s = Suv()\n",
    "s.type_of()"
   ]
  },
  {
   "cell_type": "markdown",
   "id": "ed57e7cb",
   "metadata": {},
   "source": [
    "#### 2. What happens when a class statement&#39;s top level contains a basic assignment statement?"
   ]
  },
  {
   "cell_type": "markdown",
   "id": "108b0d0f",
   "metadata": {},
   "source": [
    "__Ans:__ When a Class statement's top level contains a basic assignment statement, it is usually treated as a class attribute or class level variable where as assignment statements inside methods are treated as instance attributes or local attributes.\n",
    "\n",
    "When an instance of a class is created, a single copy of class attributes is maintained and shared to all instances of class where as each instance object maintains its own copy of instance variables."
   ]
  },
  {
   "cell_type": "code",
   "execution_count": 6,
   "id": "0dc83b70",
   "metadata": {},
   "outputs": [],
   "source": [
    "class Human:\n",
    "    species = 'Homesapiens' # class attribute\n",
    "    def __init__(self,name,gender):\n",
    "        self.name = name # instance attributes\n",
    "        self.gender = gender"
   ]
  },
  {
   "cell_type": "markdown",
   "id": "5bea0c92",
   "metadata": {},
   "source": [
    "#### 3. Why does a class need to manually call a superclass&#39;s __init__ method?"
   ]
  },
  {
   "cell_type": "markdown",
   "id": "b0753a54",
   "metadata": {},
   "source": [
    "__Ans:__ Child class `__init__()` doesn't inherit the parent `__init__()` method. \n",
    "In other words the `__init__` method of the child class overrides the `__init__` method of the parent class. So, we have to manually call a parent superclass's __init__ using `super()` method"
   ]
  },
  {
   "cell_type": "code",
   "execution_count": 7,
   "id": "e2981430",
   "metadata": {},
   "outputs": [
    {
     "name": "stdout",
     "output_type": "stream",
     "text": [
      "{'name': 'Murali', 'age': 28, 'salary': 20000}\n"
     ]
    }
   ],
   "source": [
    "class Person:\n",
    "    def __init__(self,name,age):\n",
    "        self.name = name\n",
    "        self.age = age       \n",
    "class Employee(Person):\n",
    "    def __init__(self,name,age,salary):\n",
    "        super().__init__(name,age)\n",
    "        self.salary = salary\n",
    "emp_1 = Employee('Murali',28,20000)\n",
    "print(emp_1.__dict__)"
   ]
  },
  {
   "cell_type": "markdown",
   "id": "cc9a4932",
   "metadata": {},
   "source": [
    "#### 4. How can you augment, instead of completely replacing, an inherited method?"
   ]
  },
  {
   "cell_type": "markdown",
   "id": "1a8320b1",
   "metadata": {},
   "source": [
    "__Ans:__ `super()` method can be used to augment, instead of completely replacing, an inherited method."
   ]
  },
  {
   "cell_type": "code",
   "execution_count": 8,
   "id": "d4860f60",
   "metadata": {},
   "outputs": [
    {
     "name": "stdout",
     "output_type": "stream",
     "text": [
      "{'name': 'Murali', 'gender': 'Male', 'salary': 10000}\n"
     ]
    }
   ],
   "source": [
    "class Human:\n",
    "    def __init__(self,name,gender):\n",
    "        self.name = name\n",
    "        self.gender = gender\n",
    "class Employee(Human):\n",
    "    def __init__(self,name,gender,salary):\n",
    "        super().__init__(name,gender) \n",
    "        self.salary = salary\n",
    "emp_1 = Employee('Murali','Male',10000)\n",
    "print(emp_1.__dict__) "
   ]
  },
  {
   "cell_type": "markdown",
   "id": "3b637155",
   "metadata": {},
   "source": [
    "#### 5. How is the local scope of a class different from that of a function?"
   ]
  },
  {
   "cell_type": "markdown",
   "id": "1f95ac96",
   "metadata": {},
   "source": [
    "__Ans:__ A Variable which is defined inside a function is local to that function. It is accesible from the point at which it is defined until the end of the function, and exists for as long as the function is existing.\n",
    "\n",
    "Similary a variable inside of a class also has a local variable scope. Variables which are defined in the class body (but outside all methods) are called as class level variables or class attributes. They can be referenced by their bare names within the same scope, but they can also be accessed from outside this scope if we use the attribute access operator (.) on a class or an instance of the class."
   ]
  },
  {
   "cell_type": "code",
   "execution_count": 9,
   "id": "d4b5738c",
   "metadata": {},
   "outputs": [
    {
     "name": "stdout",
     "output_type": "stream",
     "text": [
      "you're name is Gaurav Ratan\n",
      "Name varible is not available outside hello function scope\n",
      "HomeSapiens\n",
      "HomeSapiens\n"
     ]
    }
   ],
   "source": [
    "def hello(name):\n",
    "    name = name\n",
    "    print(f'you\\'re name is {name}')\n",
    "hello('Gaurav Ratan')\n",
    "try:\n",
    "    name\n",
    "except NameError:\n",
    "    print('Name varible is not available outside hello function scope')\n",
    "\n",
    "class Person:\n",
    "    species = \"HomeSapiens\"\n",
    "    def __init__(self):\n",
    "        pass\n",
    "print(Person.species) # Accessing species using class name\n",
    "Male = Person()\n",
    "print(Male.species) # Accessing species using instance of class"
   ]
  },
  {
   "cell_type": "code",
   "execution_count": null,
   "id": "eaf3097c",
   "metadata": {},
   "outputs": [],
   "source": []
  }
 ],
 "metadata": {
  "kernelspec": {
   "display_name": "Python 3 (ipykernel)",
   "language": "python",
   "name": "python3"
  },
  "language_info": {
   "codemirror_mode": {
    "name": "ipython",
    "version": 3
   },
   "file_extension": ".py",
   "mimetype": "text/x-python",
   "name": "python",
   "nbconvert_exporter": "python",
   "pygments_lexer": "ipython3",
   "version": "3.9.7"
  }
 },
 "nbformat": 4,
 "nbformat_minor": 5
}
