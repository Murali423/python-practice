{
 "cells": [
  {
   "cell_type": "markdown",
   "id": "a6ed3057",
   "metadata": {},
   "source": [
    "### Assignment_19"
   ]
  },
  {
   "cell_type": "markdown",
   "id": "e2ac3ca3",
   "metadata": {},
   "source": [
    "Submitted by Murali Divya Teja"
   ]
  },
  {
   "cell_type": "markdown",
   "id": "46de6423",
   "metadata": {},
   "source": [
    "#### Q1. Define the relationship between a class and its instances. Is it a one-to-one or a one-to-manypartnership, for example?"
   ]
  },
  {
   "cell_type": "markdown",
   "id": "457aa580",
   "metadata": {},
   "source": [
    "__Ans:__ Relationship between a class and its instances is a one to many partnership. Object is a physical entity or real word entity. An object occupies space in memory. Example:-banana,chair,pen etc are objects. Class is a logical entity which does not exist in real world. Or we can say that class is a blueprint to create objects of similiar types. A class does not take space in memory. Examples:-fruits,furniture,vehicles etc."
   ]
  },
  {
   "cell_type": "markdown",
   "id": "06f008d7",
   "metadata": {},
   "source": [
    "#### Q2. What kind of data is held only in an instance?"
   ]
  },
  {
   "cell_type": "markdown",
   "id": "d76ca5ca",
   "metadata": {},
   "source": [
    "__Ans:__  Variables at the instance level are called instance variables "
   ]
  },
  {
   "cell_type": "markdown",
   "id": "2b9897aa",
   "metadata": {},
   "source": [
    "#### Q3. What kind of knowledge is stored in a class?"
   ]
  },
  {
   "cell_type": "markdown",
   "id": "1b895e02",
   "metadata": {},
   "source": [
    "__Ans:__ Class creates a user-defined data structure, which holds its own data members and member functions, which can be accessed and used by creating an instance of that class. A class is like a blueprint for an object. Class is a logical entity which does not exist in real world Or we can say that class is a blueprint to create objects of similiar types. A class does not take space in memory. Examples:-fruits,furniture,vehicles etc."
   ]
  },
  {
   "cell_type": "markdown",
   "id": "c9949198",
   "metadata": {},
   "source": [
    "#### Q4. What exactly is a method, and how is it different from a regular function?"
   ]
  },
  {
   "cell_type": "markdown",
   "id": "d4eef0e5",
   "metadata": {},
   "source": [
    "__Ans:__ The methods with a class can be used to access the insatnce variables of its instance. So,the object's state can be modified by its method. Function can't access the attributes of an instance of a class or can't modify the state of the object. A function is independent, whereas a method is a function linked with an object. Explicit data is passed on to a function, whereas a method completely passes the object on which it was called in the program. A method is Object-oriented programming while a function has standalone functionality"
   ]
  },
  {
   "cell_type": "markdown",
   "id": "c9a433f9",
   "metadata": {},
   "source": [
    "#### Q5. Is inheritance supported in Python, and if so, what is the syntax?"
   ]
  },
  {
   "cell_type": "markdown",
   "id": "0f820b96",
   "metadata": {},
   "source": [
    "__Ans:__ Yes,Python supports inheritance. The Types of Inheritence Supported by Python are:\n",
    "\n",
    "1. Simple Inheritence\n",
    "2. Multiple Inheritence\n",
    "3. Multilevel lInheritence\n",
    "4. Hybrid Inheritence\n",
    "5. Hierracial Inheritence"
   ]
  },
  {
   "cell_type": "code",
   "execution_count": 1,
   "id": "782f3235",
   "metadata": {},
   "outputs": [],
   "source": [
    "class Person:\n",
    "    def __init__(self, fname, lname):\n",
    "        self.first_name = fname\n",
    "        self.last_name = lname\n",
    "class Student(Person):\n",
    "    pass"
   ]
  },
  {
   "cell_type": "markdown",
   "id": "83afc271",
   "metadata": {},
   "source": [
    "#### Q6. How much encapsulation (making instance or class variables private) does Python support?"
   ]
  },
  {
   "cell_type": "markdown",
   "id": "52573682",
   "metadata": {},
   "source": [
    "__Ans:__ Encapsulation describes the idea of wrapping data and the methods that work on data within one unit. This puts restrictions on accessing variables and methods directly and can prevent the accidental modification of data. To prevent accidental change, an objects variable can only be changed by an objects method."
   ]
  },
  {
   "cell_type": "markdown",
   "id": "1f9c5847",
   "metadata": {},
   "source": [
    "#### Q7. How do you distinguish between a class variable and an instance variable?"
   ]
  },
  {
   "cell_type": "markdown",
   "id": "e86606cb",
   "metadata": {},
   "source": [
    "__Ans:__ `Class variables` are defined within the class construction. Because they are owned by the class itself, class variables are shared by all instances of the class. The variable values will be same thorught the class."
   ]
  },
  {
   "cell_type": "code",
   "execution_count": 3,
   "id": "4058d95d",
   "metadata": {},
   "outputs": [
    {
     "name": "stdout",
     "output_type": "stream",
     "text": [
      "fish\n"
     ]
    }
   ],
   "source": [
    "class Shark:\n",
    "    animal_type = \"fish\" #class variables\n",
    "\n",
    "new_shark = Shark()\n",
    "print(new_shark.animal_type)"
   ]
  },
  {
   "cell_type": "markdown",
   "id": "71b65213",
   "metadata": {},
   "source": [
    "`innstance variables` are owned by instances of the class. This means that for each object or instance of a class, the instance variables are different."
   ]
  },
  {
   "cell_type": "code",
   "execution_count": 4,
   "id": "afdebeb9",
   "metadata": {},
   "outputs": [
    {
     "name": "stdout",
     "output_type": "stream",
     "text": [
      "Sammy\n",
      "5\n"
     ]
    }
   ],
   "source": [
    "class Shark:\n",
    "    def __init__(self, name, age):\n",
    "        self.name = name\n",
    "        self.age = age\n",
    "\n",
    "new_shark = Shark(\"Sammy\", 5)\n",
    "print(new_shark.name)\n",
    "print(new_shark.age)"
   ]
  },
  {
   "cell_type": "markdown",
   "id": "82bdd5d9",
   "metadata": {},
   "source": [
    "#### Q8. When, if ever, can self be included in a class&#39;s method definitions?"
   ]
  },
  {
   "cell_type": "markdown",
   "id": "67bf1bef",
   "metadata": {},
   "source": [
    "__Ans:__ Yes, self can be included in class method definitions to access the instance variables inside class methods."
   ]
  },
  {
   "cell_type": "markdown",
   "id": "88529ebe",
   "metadata": {},
   "source": [
    "#### Q9. What is the difference between the _ _add_ _ and the _ _radd_ _ methods?"
   ]
  },
  {
   "cell_type": "markdown",
   "id": "35d13464",
   "metadata": {},
   "source": [
    "__Ans:__ Entering `__radd__` Python will first try `__add__()`, and if that returns Not Implemented Python will check if the right-hand operand implements `__radd__`, and if it does, it will call `__radd__()` rather than raising a TypeError.\n",
    "\n",
    "The expression a+b is internally translated to the method call a.add(b). But if a and b are of different types, it is possible that a's implementation of addition cannot deal with objects of b's type (or maybe a does not have a add method, at all). So, if a.add(b) fails, Python tries b.radd(a) instead, to see if b's implementation can deal with objects of a's type."
   ]
  },
  {
   "cell_type": "markdown",
   "id": "0e93439e",
   "metadata": {},
   "source": [
    "#### Q10. When is it necessary to use a reflection method? When do you not need it, even though you support the operation in question?"
   ]
  },
  {
   "cell_type": "markdown",
   "id": "76f064d6",
   "metadata": {},
   "source": [
    "__Ans:__ Reflection refers to the ability for code to be able to examine attributes about objects that might be passed as parameters to a function. For example, if we write type(obj) then Python will return an object which represents the type of obj. Using reflection, we can write one recursive reverse function that will work for strings, lists, and any other sequence that supports slicing and concatenation. If an obj is a reference to a string, then Python will return the str type object. Further, if we write str() we get a string which is the empty string. In other words, writing str() is the same thing as writing “”. Likewise, writing list() is the same thing as writing."
   ]
  },
  {
   "cell_type": "code",
   "execution_count": 5,
   "id": "4abb05b9",
   "metadata": {},
   "outputs": [
    {
     "name": "stdout",
     "output_type": "stream",
     "text": [
      "x is not callable\n",
      "y is callable\n"
     ]
    }
   ],
   "source": [
    "x = 5\n",
    "\n",
    "def testFunction():\n",
    "  print(\"Test\")\n",
    "   \n",
    "y = testFunction\n",
    "\n",
    "if (callable(x)):\n",
    "    print(\"x is callable\")\n",
    "else:\n",
    "    print(\"x is not callable\")\n",
    "\n",
    "if (callable(y)):\n",
    "    print(\"y is callable\")\n",
    "else:\n",
    "    print(\"y is not callable\")"
   ]
  },
  {
   "cell_type": "markdown",
   "id": "5f214359",
   "metadata": {},
   "source": [
    "#### Q11. What is the __iadd__ method called?"
   ]
  },
  {
   "cell_type": "markdown",
   "id": "47ff3e1c",
   "metadata": {},
   "source": [
    "__Ans:__ `__iadd__` method is called when we use implementation like a+=b which is `a.__iadd__(b)`"
   ]
  },
  {
   "cell_type": "markdown",
   "id": "378ab31b",
   "metadata": {},
   "source": [
    "####  Q12. Is the _ _init_ _ method inherited by subclasses? What do you do if you need to customize its behavior within a subclass ?"
   ]
  },
  {
   "cell_type": "markdown",
   "id": "4773bf13",
   "metadata": {},
   "source": [
    "__Ans:__ Yes, `__init__` method will be inherited by subclasses. If we want to customize its behaviour within a subclass, we can use `super()` method."
   ]
  },
  {
   "cell_type": "code",
   "execution_count": null,
   "id": "c654529f",
   "metadata": {},
   "outputs": [],
   "source": []
  }
 ],
 "metadata": {
  "kernelspec": {
   "display_name": "Python 3 (ipykernel)",
   "language": "python",
   "name": "python3"
  },
  "language_info": {
   "codemirror_mode": {
    "name": "ipython",
    "version": 3
   },
   "file_extension": ".py",
   "mimetype": "text/x-python",
   "name": "python",
   "nbconvert_exporter": "python",
   "pygments_lexer": "ipython3",
   "version": "3.9.7"
  }
 },
 "nbformat": 4,
 "nbformat_minor": 5
}
