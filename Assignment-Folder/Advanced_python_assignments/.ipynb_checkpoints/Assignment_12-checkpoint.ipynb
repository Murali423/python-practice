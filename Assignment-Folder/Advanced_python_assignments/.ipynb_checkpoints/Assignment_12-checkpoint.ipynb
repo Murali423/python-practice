{
 "cells": [
  {
   "cell_type": "markdown",
   "id": "7a0db2d6",
   "metadata": {},
   "source": [
    "## Assignment_12"
   ]
  },
  {
   "cell_type": "markdown",
   "id": "9f30f735",
   "metadata": {},
   "source": [
    "Submitted by Murali Divya Teja Gummadidala"
   ]
  },
  {
   "cell_type": "markdown",
   "id": "f58fe70e",
   "metadata": {},
   "source": [
    "#### Q1. Does assigning a value to a string&#39;s indexed character violate Python&#39;s string immutability?"
   ]
  },
  {
   "cell_type": "markdown",
   "id": "b452fc87",
   "metadata": {},
   "source": [
    "__Ans:__ In Python, Strings are immutable and when we try to assign value to string index character `TypeError`"
   ]
  },
  {
   "cell_type": "code",
   "execution_count": 2,
   "id": "a2de68cd",
   "metadata": {},
   "outputs": [
    {
     "ename": "TypeError",
     "evalue": "'str' object does not support item assignment",
     "output_type": "error",
     "traceback": [
      "\u001b[1;31m---------------------------------------------------------------------------\u001b[0m",
      "\u001b[1;31mTypeError\u001b[0m                                 Traceback (most recent call last)",
      "\u001b[1;32m~\\AppData\\Local\\Temp/ipykernel_11572/3674088884.py\u001b[0m in \u001b[0;36m<module>\u001b[1;34m\u001b[0m\n\u001b[0;32m      1\u001b[0m \u001b[0mx\u001b[0m \u001b[1;33m=\u001b[0m \u001b[1;34m'murali'\u001b[0m\u001b[1;33m\u001b[0m\u001b[1;33m\u001b[0m\u001b[0m\n\u001b[1;32m----> 2\u001b[1;33m \u001b[0mx\u001b[0m\u001b[1;33m[\u001b[0m\u001b[1;36m0\u001b[0m\u001b[1;33m]\u001b[0m \u001b[1;33m=\u001b[0m \u001b[1;34m'i'\u001b[0m\u001b[1;33m\u001b[0m\u001b[1;33m\u001b[0m\u001b[0m\n\u001b[0m",
      "\u001b[1;31mTypeError\u001b[0m: 'str' object does not support item assignment"
     ]
    }
   ],
   "source": [
    "x = 'murali'\n",
    "x[0] = 'i'"
   ]
  },
  {
   "cell_type": "markdown",
   "id": "cc82d9f1",
   "metadata": {},
   "source": [
    "#### Q2. Does using the += operator to concatenate strings violate Python&#39;s string immutability? Why or why not?"
   ]
  },
  {
   "cell_type": "markdown",
   "id": "01ade1a4",
   "metadata": {},
   "source": [
    "__Ans:__  `+=` operator is used to concatenate strings. It does not violate Python’s string immutability Property because doing so creates a new association with data and variable. E.g. st=\"a\" and st+=\"b. Effect of this statement is to create string ab and reassign it to variable st. Any string data is not actually modified."
   ]
  },
  {
   "cell_type": "code",
   "execution_count": 5,
   "id": "b823336b",
   "metadata": {},
   "outputs": [
    {
     "data": {
      "text/plain": [
       "'ab'"
      ]
     },
     "execution_count": 5,
     "metadata": {},
     "output_type": "execute_result"
    }
   ],
   "source": [
    "st='a'\n",
    "st+='b'\n",
    "st"
   ]
  },
  {
   "cell_type": "markdown",
   "id": "bb1587d8",
   "metadata": {},
   "source": [
    "#### Q3. In Python, how many different ways are there to index a character?"
   ]
  },
  {
   "cell_type": "markdown",
   "id": "c6d93b2b",
   "metadata": {},
   "source": [
    "__Ans:__ A Character in string can be indexed using string name followed by index number of character in square bracket. __Positive Indexing__ i.e. first index is 0 an so on, or __Negative Indexing__ i.e. last letter is -1 and so on can be used to index a character"
   ]
  },
  {
   "cell_type": "code",
   "execution_count": 6,
   "id": "8afdedb9",
   "metadata": {},
   "outputs": [
    {
     "name": "stdout",
     "output_type": "stream",
     "text": [
      "i u n\n",
      "N r n\n"
     ]
    }
   ],
   "source": [
    "st1 = 'iNeuron'\n",
    "print(st1[0],st1[3],st1[6])\n",
    "print(st1[-6],st1[-3],st1[-1])"
   ]
  },
  {
   "cell_type": "markdown",
   "id": "5dcd0874",
   "metadata": {},
   "source": [
    "#### Q4. What is the relationship between indexing and slicing?"
   ]
  },
  {
   "cell_type": "markdown",
   "id": "bb19619d",
   "metadata": {},
   "source": [
    "__Ans:__ We can access elements of sequence datatypes by using slicing and indexing. Indexing is used to obtaining individual element while slicing for sequence of elements."
   ]
  },
  {
   "cell_type": "code",
   "execution_count": 7,
   "id": "351507ac",
   "metadata": {},
   "outputs": [
    {
     "name": "stdout",
     "output_type": "stream",
     "text": [
      "i u n\n",
      "Neur\n"
     ]
    }
   ],
   "source": [
    "st1 = 'iNeuron'\n",
    "print(st1[0],st1[3],st1[6])\n",
    "print(st1[1:5])"
   ]
  },
  {
   "cell_type": "markdown",
   "id": "bc30c534",
   "metadata": {},
   "source": [
    "#### Q5. What is an indexed character&#39;s exact data type? What is the data form of a slicing-generated substring?"
   ]
  },
  {
   "cell_type": "markdown",
   "id": "391e0440",
   "metadata": {},
   "source": [
    "__Ans:__ Indexed character and slicing substring has datatype of `String`"
   ]
  },
  {
   "cell_type": "code",
   "execution_count": 9,
   "id": "25e7e384",
   "metadata": {},
   "outputs": [
    {
     "name": "stdout",
     "output_type": "stream",
     "text": [
      "<class 'str'>\n",
      "<class 'str'>\n"
     ]
    }
   ],
   "source": [
    "st = 'iNeuron'\n",
    "print(type(st[0]))\n",
    "print(type(st[1:5]))"
   ]
  },
  {
   "cell_type": "markdown",
   "id": "4bba3e51",
   "metadata": {},
   "source": [
    "#### Q6. What is the relationship between string and character &quot;types&quot; in Python?"
   ]
  },
  {
   "cell_type": "markdown",
   "id": "b3abc519",
   "metadata": {},
   "source": [
    "__Ans:__ Object that contains sequence of character datatypes are called String."
   ]
  },
  {
   "cell_type": "markdown",
   "id": "68c8574c",
   "metadata": {},
   "source": [
    "#### Q7. Identify at least two operators and one method that allow you to combine one or more smaller strings to create a larger string."
   ]
  },
  {
   "cell_type": "markdown",
   "id": "3ac6f148",
   "metadata": {},
   "source": [
    "__Ans:__ `+, += and *` allow to combine one or more smaller strings to create a larger string. `<string>.join(<sep>)` method joins element of iterable type like list and tuple to get a combined string."
   ]
  },
  {
   "cell_type": "code",
   "execution_count": 10,
   "id": "55c8cc78",
   "metadata": {},
   "outputs": [
    {
     "name": "stdout",
     "output_type": "stream",
     "text": [
      "iNeuron Full Stack Data Science FSDS\n",
      "FSDS FSDS FSDS \n",
      "I N E U R O N\n",
      "i-n-e-u-r-o-n\n"
     ]
    }
   ],
   "source": [
    "in_string = 'iNeuron '\n",
    "in_string += 'Full Stack Data Science'\n",
    "print(in_string + ' FSDS')\n",
    "print('FSDS '*3)\n",
    "print(\" \".join(['I','N','E','U','R','O','N'])) # List Iterable\n",
    "print(\"-\".join(('I','N','E','U','R','O','N')).lower()) # Tuple Iterable"
   ]
  },
  {
   "cell_type": "markdown",
   "id": "72faedf0",
   "metadata": {},
   "source": [
    "#### Q8. What is the benefit of first checking the target string with in or not in before using the index method to find a substring?"
   ]
  },
  {
   "cell_type": "markdown",
   "id": "41d23d99",
   "metadata": {},
   "source": [
    "__Ans:__ Checking the target string with in or not Operators before using the index method to find a substring just helps confirming availability of substring and thus avoid raising of `ValueError`."
   ]
  },
  {
   "cell_type": "code",
   "execution_count": 11,
   "id": "77b86e44",
   "metadata": {},
   "outputs": [
    {
     "ename": "ValueError",
     "evalue": "substring not found",
     "output_type": "error",
     "traceback": [
      "\u001b[1;31m---------------------------------------------------------------------------\u001b[0m",
      "\u001b[1;31mValueError\u001b[0m                                Traceback (most recent call last)",
      "\u001b[1;32m~\\AppData\\Local\\Temp/ipykernel_11572/1761234438.py\u001b[0m in \u001b[0;36m<module>\u001b[1;34m\u001b[0m\n\u001b[0;32m      1\u001b[0m \u001b[0min_string\u001b[0m \u001b[1;33m=\u001b[0m \u001b[1;34m\"ineuron\"\u001b[0m\u001b[1;33m\u001b[0m\u001b[1;33m\u001b[0m\u001b[0m\n\u001b[1;32m----> 2\u001b[1;33m \u001b[0min_string\u001b[0m\u001b[1;33m.\u001b[0m\u001b[0mindex\u001b[0m\u001b[1;33m(\u001b[0m\u001b[1;34m'x'\u001b[0m\u001b[1;33m)\u001b[0m \u001b[1;31m# Raises ValueError\u001b[0m\u001b[1;33m\u001b[0m\u001b[1;33m\u001b[0m\u001b[0m\n\u001b[0m\u001b[0;32m      3\u001b[0m \u001b[0min_string\u001b[0m\u001b[1;33m.\u001b[0m\u001b[0mindex\u001b[0m\u001b[1;33m(\u001b[0m\u001b[1;34m'u'\u001b[0m\u001b[1;33m)\u001b[0m \u001b[1;31m# 3\u001b[0m\u001b[1;33m\u001b[0m\u001b[1;33m\u001b[0m\u001b[0m\n",
      "\u001b[1;31mValueError\u001b[0m: substring not found"
     ]
    }
   ],
   "source": [
    "\n",
    "in_string = \"ineuron\"\n",
    "in_string.index('x') # Raises ValueError\n",
    "in_string.index('u') # 3"
   ]
  },
  {
   "cell_type": "markdown",
   "id": "da1c658e",
   "metadata": {},
   "source": [
    "### Q9. Which operators and built-in string methods produce simple Boolean (true/false) results?"
   ]
  },
  {
   "cell_type": "markdown",
   "id": "efb454b9",
   "metadata": {},
   "source": [
    "__Ans:__ The String Operators and built-in methods to Produce Simple Boolean (True/False) Results are"
   ]
  },
  {
   "cell_type": "markdown",
   "id": "fc38e5a4",
   "metadata": {},
   "source": [
    "  - in\n",
    "  - not\n",
    "  - <string>.isalpha()\n",
    "  - <string>.isalnum()\n",
    "  - <string>.isdecimal()\n",
    "  - <string>.isdigit()\n",
    "  - <string>.islower()\n",
    "  - <string>.isnumeric()\n",
    "  - <string>.isprintable()\n",
    "  - <string>.isspace()\n",
    "  - <string>.istitle()"
   ]
  },
  {
   "cell_type": "code",
   "execution_count": null,
   "id": "3ab6edcd",
   "metadata": {},
   "outputs": [],
   "source": []
  }
 ],
 "metadata": {
  "kernelspec": {
   "display_name": "Python 3 (ipykernel)",
   "language": "python",
   "name": "python3"
  },
  "language_info": {
   "codemirror_mode": {
    "name": "ipython",
    "version": 3
   },
   "file_extension": ".py",
   "mimetype": "text/x-python",
   "name": "python",
   "nbconvert_exporter": "python",
   "pygments_lexer": "ipython3",
   "version": "3.9.7"
  }
 },
 "nbformat": 4,
 "nbformat_minor": 5
}
