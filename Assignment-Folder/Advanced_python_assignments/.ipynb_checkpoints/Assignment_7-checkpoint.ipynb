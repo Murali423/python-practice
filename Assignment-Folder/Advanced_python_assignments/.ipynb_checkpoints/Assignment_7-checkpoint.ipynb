{
 "cells": [
  {
   "cell_type": "markdown",
   "id": "9bcabe84",
   "metadata": {},
   "source": [
    "### Assignment_7"
   ]
  },
  {
   "cell_type": "markdown",
   "id": "a10d31fc",
   "metadata": {},
   "source": [
    "Submitted by: Murali Divya Teja Gummadidala"
   ]
  },
  {
   "cell_type": "markdown",
   "id": "0044f01f",
   "metadata": {},
   "source": [
    "#### Q1. What is the purpose of the try statement?"
   ]
  },
  {
   "cell_type": "markdown",
   "id": "ef2a3146",
   "metadata": {},
   "source": [
    "__Ans:__ Try statement is used to catch any runtime exception occues in the program and it will be tranfer the exception block to give proper handling of program. Try statement main advantage is avoid the abnormal termination of program.\n"
   ]
  },
  {
   "cell_type": "code",
   "execution_count": 1,
   "id": "59d2b3dd",
   "metadata": {},
   "outputs": [
    {
     "name": "stdout",
     "output_type": "stream",
     "text": [
      "name 'x' is not defined\n"
     ]
    }
   ],
   "source": [
    "try:\n",
    "    print(x)\n",
    "except Exception as e:\n",
    "    print(e)"
   ]
  },
  {
   "cell_type": "markdown",
   "id": "b951d3d3",
   "metadata": {},
   "source": [
    "#### Q2. What are the two most popular try statement variations?"
   ]
  },
  {
   "cell_type": "markdown",
   "id": "c36214db",
   "metadata": {},
   "source": [
    "__Ans:__ The try statement can be used for normal execution of program, if any excetpion occures we have except block, if there is no exception occures we use else block, some time we need to run few code statemets which are necessary for the program so we use `finally` block\n",
    "\n",
    "1. `try`,`except`\n",
    "2. `try`,`except`,`else`\n",
    "3. `try`,`except`,`finally`"
   ]
  },
  {
   "cell_type": "code",
   "execution_count": 5,
   "id": "784e4cb8",
   "metadata": {},
   "outputs": [
    {
     "name": "stdout",
     "output_type": "stream",
     "text": [
      "10\n",
      "this is for x variabl\n"
     ]
    }
   ],
   "source": [
    "x=10\n",
    "try:\n",
    "    print(x)\n",
    "except Exception as e:\n",
    "    print(e)\n",
    "else:\n",
    "    print('this is for x variabl')"
   ]
  },
  {
   "cell_type": "code",
   "execution_count": 7,
   "id": "9fafe141",
   "metadata": {},
   "outputs": [
    {
     "name": "stdout",
     "output_type": "stream",
     "text": [
      "name 'y' is not defined\n",
      "this is for y variabl\n"
     ]
    }
   ],
   "source": [
    "try:\n",
    "    print(y)\n",
    "except Exception as e:\n",
    "    print(e)\n",
    "finally:\n",
    "    print('this is for y variabl')"
   ]
  },
  {
   "cell_type": "markdown",
   "id": "924fe2b2",
   "metadata": {},
   "source": [
    "#### Q3. What is the purpose of the raise statement?"
   ]
  },
  {
   "cell_type": "markdown",
   "id": "7ab3c908",
   "metadata": {},
   "source": [
    "__Ans:__ `raise` keyword is used to raise exception or error in current flow of execution of program. and gives the program control to exception or we can print our requied statement when condition is not met."
   ]
  },
  {
   "cell_type": "code",
   "execution_count": 10,
   "id": "ae5fbfce",
   "metadata": {},
   "outputs": [
    {
     "ename": "Exception",
     "evalue": "Could not match to value 10",
     "output_type": "error",
     "traceback": [
      "\u001b[1;31m---------------------------------------------------------------------------\u001b[0m",
      "\u001b[1;31mException\u001b[0m                                 Traceback (most recent call last)",
      "\u001b[1;32m~\\AppData\\Local\\Temp/ipykernel_10060/4111470401.py\u001b[0m in \u001b[0;36m<module>\u001b[1;34m\u001b[0m\n\u001b[0;32m      1\u001b[0m \u001b[0ma\u001b[0m \u001b[1;33m=\u001b[0m \u001b[1;36m2\u001b[0m\u001b[1;33m\u001b[0m\u001b[1;33m\u001b[0m\u001b[0m\n\u001b[0;32m      2\u001b[0m \u001b[1;32mif\u001b[0m \u001b[0ma\u001b[0m \u001b[1;33m!=\u001b[0m \u001b[1;36m10\u001b[0m\u001b[1;33m:\u001b[0m\u001b[1;33m\u001b[0m\u001b[1;33m\u001b[0m\u001b[0m\n\u001b[1;32m----> 3\u001b[1;33m     \u001b[1;32mraise\u001b[0m \u001b[0mException\u001b[0m\u001b[1;33m(\u001b[0m\u001b[1;34m'Could not match to value 10'\u001b[0m\u001b[1;33m)\u001b[0m\u001b[1;33m\u001b[0m\u001b[1;33m\u001b[0m\u001b[0m\n\u001b[0m",
      "\u001b[1;31mException\u001b[0m: Could not match to value 10"
     ]
    }
   ],
   "source": [
    "a = 2\n",
    "if a != 10:\n",
    "    raise Exception('Could not match to value 10')"
   ]
  },
  {
   "cell_type": "markdown",
   "id": "d7b37d39",
   "metadata": {},
   "source": [
    "#### Q4. What does the assert statement do, and what other statement is it like?"
   ]
  },
  {
   "cell_type": "markdown",
   "id": "ae0f61d1",
   "metadata": {},
   "source": [
    "__Ans:__ The `assert` keyword is used when debugging code.\n",
    "\n",
    "The assert keyword lets you test if a condition in your code returns True, if not, the program will raise an AssertionError.\n",
    "\n",
    "In programer always want to be true if any failure occures in the condition it stop program and raise AssertionError."
   ]
  },
  {
   "cell_type": "code",
   "execution_count": 11,
   "id": "b458efc7",
   "metadata": {},
   "outputs": [
    {
     "ename": "AssertionError",
     "evalue": "x should be 'hello'",
     "output_type": "error",
     "traceback": [
      "\u001b[1;31m---------------------------------------------------------------------------\u001b[0m",
      "\u001b[1;31mAssertionError\u001b[0m                            Traceback (most recent call last)",
      "\u001b[1;32m~\\AppData\\Local\\Temp/ipykernel_10060/39320992.py\u001b[0m in \u001b[0;36m<module>\u001b[1;34m\u001b[0m\n\u001b[0;32m      1\u001b[0m \u001b[0mx\u001b[0m \u001b[1;33m=\u001b[0m \u001b[1;34m\"hello\"\u001b[0m\u001b[1;33m\u001b[0m\u001b[1;33m\u001b[0m\u001b[0m\n\u001b[0;32m      2\u001b[0m \u001b[1;33m\u001b[0m\u001b[0m\n\u001b[1;32m----> 3\u001b[1;33m \u001b[1;32massert\u001b[0m \u001b[0mx\u001b[0m \u001b[1;33m==\u001b[0m \u001b[1;34m\"goodbye\"\u001b[0m\u001b[1;33m,\u001b[0m \u001b[1;34m\"x should be 'hello'\"\u001b[0m\u001b[1;33m\u001b[0m\u001b[1;33m\u001b[0m\u001b[0m\n\u001b[0m",
      "\u001b[1;31mAssertionError\u001b[0m: x should be 'hello'"
     ]
    }
   ],
   "source": [
    "x = \"hello\"\n",
    "\n",
    "assert x == \"goodbye\", \"x should be 'hello'\""
   ]
  },
  {
   "cell_type": "markdown",
   "id": "24b2fcc8",
   "metadata": {},
   "source": [
    "#### Q5. What is the purpose of the with/as argument, and what other statement is it like?"
   ]
  },
  {
   "cell_type": "markdown",
   "id": "86c00d56",
   "metadata": {},
   "source": [
    "__Ans:__ `with/as` statement in python is used to read files without exception. Here when ever we open file we have to deallocate the file to avoid this we used `with/as` statement. with statement we can implement easy understandable code.\n",
    "\n",
    "with statement itself ensures proper acquisition and release of resources. This avoids triggering of exceptions if the file closing is unknowingly forgotten in the code execution."
   ]
  },
  {
   "cell_type": "markdown",
   "id": "7cb5930d",
   "metadata": {},
   "source": [
    "` with open('file1.txy','r') as f:`\n",
    "\n",
    "`          f.read()  `"
   ]
  },
  {
   "cell_type": "code",
   "execution_count": null,
   "id": "62b73f0a",
   "metadata": {},
   "outputs": [],
   "source": []
  }
 ],
 "metadata": {
  "kernelspec": {
   "display_name": "Python 3 (ipykernel)",
   "language": "python",
   "name": "python3"
  },
  "language_info": {
   "codemirror_mode": {
    "name": "ipython",
    "version": 3
   },
   "file_extension": ".py",
   "mimetype": "text/x-python",
   "name": "python",
   "nbconvert_exporter": "python",
   "pygments_lexer": "ipython3",
   "version": "3.9.7"
  }
 },
 "nbformat": 4,
 "nbformat_minor": 5
}
