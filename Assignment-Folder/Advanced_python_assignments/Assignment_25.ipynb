{
 "cells": [
  {
   "cell_type": "markdown",
   "id": "cebc07d0",
   "metadata": {},
   "source": [
    "### Assignment_25"
   ]
  },
  {
   "cell_type": "markdown",
   "id": "985829fe",
   "metadata": {},
   "source": [
    "Submitted By Murali Divya Teja Gummadidala"
   ]
  },
  {
   "cell_type": "markdown",
   "id": "eab62c5d",
   "metadata": {},
   "source": [
    "#### Q1. What is the distinction between a numpy array and a pandas data frame? Is there a way to convert between the two if there is?"
   ]
  },
  {
   "cell_type": "markdown",
   "id": "28bda421",
   "metadata": {},
   "source": [
    "__Ans:__ Numpy Ndarray provides a lot of convenient and optimized methods for performing several mathematical operations on vectors.\n",
    "\n",
    "Pandas Dataframe is an in-memory 2-dimensional tabular representation of data. In simpler words, it can be seen as a spreadsheet having rows and columns.\n",
    "\n",
    "Conversion : `Dataframe=pandas.DataFrame(array)`"
   ]
  },
  {
   "cell_type": "markdown",
   "id": "92fb5b0f",
   "metadata": {},
   "source": [
    "#### Q2. What can go wrong when an user enters in a stock-ticker symbol, and how do you handle it?"
   ]
  },
  {
   "cell_type": "markdown",
   "id": "5bb5c268",
   "metadata": {},
   "source": [
    "__Ans:__ Bar chart, Line Chart, Candlestick chart (using mplfinance module) are used for plotting stock market chart."
   ]
  },
  {
   "cell_type": "markdown",
   "id": "4d1ddd69",
   "metadata": {},
   "source": [
    "#### Q3. Identify some of the plotting techniques that are used to produce a stock-market chart."
   ]
  },
  {
   "cell_type": "markdown",
   "id": "e984d5db",
   "metadata": {},
   "source": [
    "__Ans:__ `Legend` will help us in comparing different stocks in a stock market chart. Each plot of a Stock chart has a legend, its items representing the series on the plot. In addition, the legend displays information about the points that are currently hovered over or, if none are hovered over, about the last points shown on the plot. The text of a legend item includes the name of a series and, depending on the series type, the value or values of the current or last point. The legend title, enabled by default, shows the current or last date (X-value)."
   ]
  },
  {
   "cell_type": "markdown",
   "id": "7894b769",
   "metadata": {},
   "source": [
    "#### Q4. What is the best way to limit the length of a pandas data frame to less than a year ?"
   ]
  },
  {
   "cell_type": "markdown",
   "id": "dcbf09ab",
   "metadata": {},
   "source": [
    "__Ans:__ We can use start and end parameters for that. In start, we write the date from where we are starting and at the end, we write the end date. SO within this span we can restrict the duration. Also, we can use the parameters like periods i.e for how much times we need the duration and we can also use the frequency parameter for that."
   ]
  },
  {
   "cell_type": "markdown",
   "id": "3080532e",
   "metadata": {},
   "source": [
    "#### Q5. Why is it essential to print a legend on a stock market chart?"
   ]
  },
  {
   "cell_type": "markdown",
   "id": "40f1c5db",
   "metadata": {},
   "source": [
    "__Ans:__ By default, each plot of a Stock chart has a legend, its items representing the series on the plot. In addition, the legend displays information about the points that are currently hovered over or, if none are hovered over, about the last points shown on the plot."
   ]
  },
  {
   "cell_type": "markdown",
   "id": "34840f4d",
   "metadata": {},
   "source": [
    "#### Q6. What is the definition of a 180-day moving average?"
   ]
  },
  {
   "cell_type": "markdown",
   "id": "9cce20c0",
   "metadata": {},
   "source": [
    "__Ans:__ moving average (MA) is a stock indicator commonly used in technical analysis. The reason for calculating the moving average of a stock is to help smooth out the price data by creating a constantly updated average price.\n",
    "\n",
    "By calculating the moving average, the impacts of random, short-term fluctuations on the price of a stock over a specified time frame are mitigated.\n",
    "\n",
    "The longer the period for the moving average, the greater the lag. A 180-day moving average will have a much greater degree of lag than a 20-day MA because it contains prices for the past 180 days."
   ]
  },
  {
   "cell_type": "markdown",
   "id": "50efad84",
   "metadata": {},
   "source": [
    "#### Q7. Did the chapter&#39;s final example use &quot;indirect&quot; importing? If so, how exactly do you do it?"
   ]
  },
  {
   "cell_type": "markdown",
   "id": "427b9df0",
   "metadata": {},
   "source": [
    "__Ans:__ Time series properties of co-integration and causal relationship between oil (non-agricultural) and non-oil (agricultural) import and export in Africa's largest economy. We employed Granger causality and Johansen and Juselius's co-integration methods to investigate causal relationships"
   ]
  },
  {
   "cell_type": "code",
   "execution_count": null,
   "id": "218c30fe",
   "metadata": {},
   "outputs": [],
   "source": []
  }
 ],
 "metadata": {
  "kernelspec": {
   "display_name": "Python 3 (ipykernel)",
   "language": "python",
   "name": "python3"
  },
  "language_info": {
   "codemirror_mode": {
    "name": "ipython",
    "version": 3
   },
   "file_extension": ".py",
   "mimetype": "text/x-python",
   "name": "python",
   "nbconvert_exporter": "python",
   "pygments_lexer": "ipython3",
   "version": "3.9.7"
  }
 },
 "nbformat": 4,
 "nbformat_minor": 5
}
