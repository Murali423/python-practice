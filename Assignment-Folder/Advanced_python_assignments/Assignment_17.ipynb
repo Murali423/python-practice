{
 "cells": [
  {
   "cell_type": "markdown",
   "id": "eb3c4142",
   "metadata": {},
   "source": [
    "### Assignment_17"
   ]
  },
  {
   "cell_type": "markdown",
   "id": "38bad9c6",
   "metadata": {},
   "source": [
    "Submitted by Murali Divya Teja Gummadidala"
   ]
  },
  {
   "cell_type": "markdown",
   "id": "79568cf6",
   "metadata": {},
   "source": [
    "#### Q1. Explain the difference between greedy and non-greedy syntax with visual terms in as few words as possible. What is the bare minimum effort required to transform a greedy pattern into a non-greedy one? What characters or characters can you introduce or change?"
   ]
  },
  {
   "cell_type": "markdown",
   "id": "4e0fa9f1",
   "metadata": {},
   "source": [
    "__Ans:__ By default, quantifiers work in the greedy mode. It means the greedy quantifiers will match their preceding elements as much as possible to return to the biggest match possible. \n",
    "\n",
    "On the other hand, the non-greedy quantifiers will match as little as possible to return the smallest match possible. non-greedy quantifiers are the opposite of greedy ones.\n",
    "\n",
    "To turn greedy quantifiers into non-greedy quantifiers, you add an extra question mark (?) to the quantifiers."
   ]
  },
  {
   "cell_type": "code",
   "execution_count": 1,
   "id": "c5a6148f",
   "metadata": {},
   "outputs": [
    {
     "name": "stdout",
     "output_type": "stream",
     "text": [
      "['aaaaaa', '']\n",
      "['', 'a', '', 'a', '', 'a', '', 'a', '', 'a', '', 'a', '']\n"
     ]
    }
   ],
   "source": [
    "import re\n",
    "print(re.findall(\"a*\", \"aaaaaa\")) # Greedy Match Synatx\n",
    "print(re.findall(\"a*?\", \"aaaaaa\")) # Non Greddy Syntax"
   ]
  },
  {
   "cell_type": "markdown",
   "id": "475b29b2",
   "metadata": {},
   "source": [
    "#### Q2. When exactly does greedy versus non-greedy make a difference?  What if you&#39;re looking for a non-greedy match but the only one available is greedy?"
   ]
  },
  {
   "cell_type": "markdown",
   "id": "17546b4a",
   "metadata": {},
   "source": [
    "__Ans:__ The Greedy Match will try to match as many repetitions of the quantified pattern as possible. The Non Greedy Match will try to match as few repetitions of the quantified pattern as possible. If only Non Greedy Match is available, we can use other filtering or pattern matching methods of regex and further identify the required pattern."
   ]
  },
  {
   "cell_type": "markdown",
   "id": "f50e73a2",
   "metadata": {},
   "source": [
    "#### Q3. In a simple match of a string, which looks only for one match and does not do any replacement, is the use of a nontagged group likely to make any practical difference?"
   ]
  },
  {
   "cell_type": "markdown",
   "id": "29f4f8b3",
   "metadata": {},
   "source": [
    "__Ans:__ In this Case, the Non-Tagged Group will not make any difference. This is shown below:"
   ]
  },
  {
   "cell_type": "code",
   "execution_count": 8,
   "id": "be2a3113",
   "metadata": {},
   "outputs": [
    {
     "name": "stdout",
     "output_type": "stream",
     "text": [
      "123-456\n",
      "123-456\n"
     ]
    }
   ],
   "source": [
    "import re\n",
    "phoneNumRegex = re.compile(r'\\d\\d\\d-\\d\\d\\d')\n",
    "num = phoneNumRegex.search('My number is 123-456')\n",
    "print( num.group()) # Non Tagged group\n",
    "print( num.group(0)) # Tagged Group"
   ]
  },
  {
   "cell_type": "markdown",
   "id": "a38765c8",
   "metadata": {},
   "source": [
    "### Q4. Describe a scenario in which using a nontagged category would have a significant impact on the program's outcomes ?"
   ]
  },
  {
   "cell_type": "markdown",
   "id": "b2223d35",
   "metadata": {},
   "source": [
    "__Ans:__ Here in the below Code Snippet . decimal is not tagged or captured. Hence, it will be useful in scenarios where the separator of value in a string is of no use and we need to capture only the values."
   ]
  },
  {
   "cell_type": "code",
   "execution_count": 3,
   "id": "7a2892fc",
   "metadata": {},
   "outputs": [
    {
     "data": {
      "text/plain": [
       "('123', '456')"
      ]
     },
     "execution_count": 3,
     "metadata": {},
     "output_type": "execute_result"
    }
   ],
   "source": [
    "import re\n",
    "text='123.456'\n",
    "pattern=r'(\\d+)(?:.)(\\d+)'\n",
    "regobj=re.compile(pattern)\n",
    "matobj=regobj.search(text)\n",
    "matobj.groups()"
   ]
  },
  {
   "cell_type": "markdown",
   "id": "d4ba551d",
   "metadata": {},
   "source": [
    "#### Q5. Unlike a normal regex pattern, a look-ahead condition does not consume the characters it examines. Describe a situation in which this could make a difference in the results of your programme ?"
   ]
  },
  {
   "cell_type": "markdown",
   "id": "05cb0970",
   "metadata": {},
   "source": [
    "__Ans:__ While counting the number of multiple lines or mutiple sentences in a string, the positive look ahead makes a difference, without which we will not be able to get the correct count of lines or sentences in a string."
   ]
  },
  {
   "cell_type": "markdown",
   "id": "3db30bdc",
   "metadata": {},
   "source": [
    "#### Q6. In standard expressions, what is the difference between positive look-ahead and negative look-ahead ?"
   ]
  },
  {
   "cell_type": "markdown",
   "id": "a4470291",
   "metadata": {},
   "source": [
    "__Ans:__ Positive Look-ahead allows to add a condition for what follows. Negative Lookahead is similar, but it looks behind. That is, it allows to match a pattern only if there’s something before it.\n",
    "\n",
    "Syntax Positive Look-Ahead: A(?=B) Syntax Negative Look-Ahead: A(?!B)"
   ]
  },
  {
   "cell_type": "code",
   "execution_count": 9,
   "id": "6979a9ed",
   "metadata": {},
   "outputs": [
    {
     "name": "stdout",
     "output_type": "stream",
     "text": [
      "4\n"
     ]
    }
   ],
   "source": [
    "#Positive Look Ahead\n",
    "import re\n",
    "\n",
    "s = '1 Python is about 4 feet long'\n",
    "pattern = '\\d+(?=\\s*feet)'\n",
    "\n",
    "matches = re.finditer(pattern,s)\n",
    "for match in matches:\n",
    "    print(match.group())"
   ]
  },
  {
   "cell_type": "code",
   "execution_count": 10,
   "id": "073c6ad0",
   "metadata": {},
   "outputs": [
    {
     "name": "stdout",
     "output_type": "stream",
     "text": [
      "1\n"
     ]
    }
   ],
   "source": [
    "#Negative Look Ahead\n",
    "import re\n",
    "\n",
    "s = '1 Python is about 4 feet long'\n",
    "pattern = '\\d+(?!\\s*feet)'\n",
    "\n",
    "matches = re.finditer(pattern,s)\n",
    "for match in matches:\n",
    "    print(match.group())"
   ]
  },
  {
   "cell_type": "markdown",
   "id": "52b30b74",
   "metadata": {},
   "source": [
    "### Q7. What is the benefit of referring to groups by name rather than by number in a standard expression?"
   ]
  },
  {
   "cell_type": "markdown",
   "id": "95114362",
   "metadata": {},
   "source": [
    "__Ans:__ The advantage to named groups is that it adds readability and understandability to the code, so that you can easily see what part of a regular expression match is being referenced."
   ]
  },
  {
   "cell_type": "markdown",
   "id": "b1c7f187",
   "metadata": {},
   "source": [
    "#### Q8. Can you identify repeated items within a target string using named groups, as in \"The cow jumped over the moon\"?"
   ]
  },
  {
   "cell_type": "code",
   "execution_count": 11,
   "id": "267ca42b",
   "metadata": {},
   "outputs": [
    {
     "data": {
      "text/plain": [
       "['The', 'the']"
      ]
     },
     "execution_count": 11,
     "metadata": {},
     "output_type": "execute_result"
    }
   ],
   "source": [
    "import re\n",
    "text = \"The cow jumped over the moon\"\n",
    "regobj=re.compile(r'(?P<w1>The)',re.I)\n",
    "regobj.findall(text)"
   ]
  },
  {
   "cell_type": "markdown",
   "id": "f902de76",
   "metadata": {},
   "source": [
    "### Q9. When parsing a string, what is at least one thing that the Scanner interface does for you that the re.findall feature does not ?"
   ]
  },
  {
   "cell_type": "markdown",
   "id": "9498b4b1",
   "metadata": {},
   "source": [
    "__Ans__ `re.findall()` module is used to search for all occurrences that match a given pattern. In contrast, `re.search()` will only return the first occurrence that matches the specified pattern. `re.findall()` will iterate over all the lines of the file and will return all non-overlapping matches of pattern in a single step."
   ]
  },
  {
   "cell_type": "markdown",
   "id": "1689b473",
   "metadata": {},
   "source": [
    "### Q10. Does a scanner object have to be named scanner?/\n"
   ]
  },
  {
   "cell_type": "markdown",
   "id": "4cd6b5bb",
   "metadata": {},
   "source": [
    "__Ans:__ No, It may have any name. For example instead of naming Scanner object as scanner, we can name as sc"
   ]
  },
  {
   "cell_type": "code",
   "execution_count": null,
   "id": "e32261b7",
   "metadata": {},
   "outputs": [],
   "source": []
  }
 ],
 "metadata": {
  "kernelspec": {
   "display_name": "Python 3 (ipykernel)",
   "language": "python",
   "name": "python3"
  },
  "language_info": {
   "codemirror_mode": {
    "name": "ipython",
    "version": 3
   },
   "file_extension": ".py",
   "mimetype": "text/x-python",
   "name": "python",
   "nbconvert_exporter": "python",
   "pygments_lexer": "ipython3",
   "version": "3.9.7"
  }
 },
 "nbformat": 4,
 "nbformat_minor": 5
}
