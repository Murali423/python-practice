{
 "cells": [
  {
   "cell_type": "markdown",
   "id": "bdc3865e",
   "metadata": {},
   "source": [
    "### Assignment_12"
   ]
  },
  {
   "cell_type": "markdown",
   "id": "e41e0de1",
   "metadata": {},
   "source": [
    "#### 1. In what modes should the PdfFileReader() and PdfFileWriter() File objects will be opened?"
   ]
  },
  {
   "cell_type": "markdown",
   "id": "277e9108",
   "metadata": {},
   "source": [
    "__Ans:__ when we try to open file using PdfFileReader() it will opened in read binary mode.\n",
    "\n",
    "When we try to open file using PdfFileWriter() method is opened in write birany mode."
   ]
  },
  {
   "cell_type": "markdown",
   "id": "6539c8f0",
   "metadata": {},
   "source": [
    "#### 2. From a PdfFileReader object, how do you get a Page object for page 5?"
   ]
  },
  {
   "cell_type": "markdown",
   "id": "b7d338ac",
   "metadata": {},
   "source": [
    "__Ans:__ Calling getPage(4) will return a Page object for page 5 since page 0 is the first page"
   ]
  },
  {
   "cell_type": "markdown",
   "id": "c3c135bb",
   "metadata": {},
   "source": [
    "#### 3. What PdfFileReader variable stores the number of pages in the PDF document?"
   ]
  },
  {
   "cell_type": "code",
   "execution_count": 7,
   "id": "5a605de9",
   "metadata": {},
   "outputs": [
    {
     "name": "stdout",
     "output_type": "stream",
     "text": [
      "32\n"
     ]
    },
    {
     "name": "stderr",
     "output_type": "stream",
     "text": [
      "PdfReadWarning: Xref table not zero-indexed. ID numbers for objects will be corrected. [_reader.py:1468]\n"
     ]
    }
   ],
   "source": [
    "import PyPDF2 as pdf\n",
    "pdfobj = open('C:\\\\Users\\\\HP\\\\Documents\\\\python-practice\\\\Assignment-Folder\\\\whomoved11.pdf','rb')\n",
    "pdfread = pdf.PdfFileReader(pdfobj)\n",
    "print(pdfread.numPages)"
   ]
  },
  {
   "cell_type": "markdown",
   "id": "a9d9faf8",
   "metadata": {},
   "source": [
    "#### 4. If a PdfFileReader object’s PDF is encrypted with the password swordfish, what must you do before you can obtain Page objects from it?"
   ]
  },
  {
   "cell_type": "markdown",
   "id": "338b665d",
   "metadata": {},
   "source": [
    "__Ans:__ Before obtaining page object from encrypted password we should decrypt by pdf.decrypt('swordfish')"
   ]
  },
  {
   "cell_type": "markdown",
   "id": "30a17a1c",
   "metadata": {},
   "source": [
    "#### 5. What methods do you use to rotate a page?"
   ]
  },
  {
   "cell_type": "markdown",
   "id": "63c67e2b",
   "metadata": {},
   "source": [
    "__Ans:__ we use the  rotateClockwise(180) method to rotate page.\n"
   ]
  },
  {
   "cell_type": "code",
   "execution_count": 8,
   "id": "f3b741da",
   "metadata": {},
   "outputs": [
    {
     "name": "stderr",
     "output_type": "stream",
     "text": [
      "PdfReadWarning: Xref table not zero-indexed. ID numbers for objects will be corrected. [_reader.py:1468]\n"
     ]
    }
   ],
   "source": [
    "import PyPDF2 as pdf\n",
    "pdfobj = open('C:\\\\Users\\\\HP\\\\Documents\\\\python-practice\\\\Assignment-Folder\\\\whomoved11.pdf','rb')\n",
    "pdfread = pdf.PdfFileReader(pdfobj)\n",
    "pdf_writer = PyPDF2.PdfFileWriter()\n",
    "for i in range(pdfread.numPages):\n",
    "    if i == 1:\n",
    "        page = pdfread.getPage(i)\n",
    "        page.rotateClockwise(180)\n",
    "        pdf_writer.addPage(page)\n",
    "pdf_out = open('rotated.pdf', 'wb')\n",
    "pdf_writer.write(pdf_out)\n",
    "pdf_out.close()\n",
    "pdfobj.close()"
   ]
  },
  {
   "cell_type": "markdown",
   "id": "a2025eb1",
   "metadata": {},
   "source": [
    "#### 6. What is the difference between a Run object and a Paragraph object?"
   ]
  },
  {
   "cell_type": "markdown",
   "id": "fc4b4bbb",
   "metadata": {},
   "source": [
    "__Ans:__  Pargraph object: A document contains multiple paragraphs. A paragraph begins on a new line and contains multiple runs. The Document object contains a list of Paragraph objects for the paragraphs in the document. (A new paragraph begins whenever the user presses ENTER or RETURN while typing in a Word document.)\n",
    "\n",
    "Run Object: Runs are contiguous groups of characters within a paragraph with the same style"
   ]
  },
  {
   "cell_type": "markdown",
   "id": "809e12cd",
   "metadata": {},
   "source": [
    "#### 7. How do you obtain a list of Paragraph objects for a Document object that’s stored in a variable named doc?"
   ]
  },
  {
   "cell_type": "code",
   "execution_count": 10,
   "id": "d17acfea",
   "metadata": {},
   "outputs": [
    {
     "name": "stdout",
     "output_type": "stream",
     "text": [
      "Collecting docx\n",
      "  Downloading docx-0.2.4.tar.gz (54 kB)\n",
      "Requirement already satisfied: lxml in c:\\users\\hp\\anaconda3\\lib\\site-packages (from docx) (4.6.3)\n",
      "Requirement already satisfied: Pillow>=2.0 in c:\\users\\hp\\anaconda3\\lib\\site-packages (from docx) (8.4.0)\n",
      "Building wheels for collected packages: docx\n",
      "  Building wheel for docx (setup.py): started\n",
      "  Building wheel for docx (setup.py): finished with status 'done'\n",
      "  Created wheel for docx: filename=docx-0.2.4-py3-none-any.whl size=53924 sha256=807efdceeda5d24d1bce42ff0ea0e4290a8a2a83b0987f55c348e4c2a245a7e8\n",
      "  Stored in directory: c:\\users\\hp\\appdata\\local\\pip\\cache\\wheels\\0f\\8e\\9d\\7003eed35a84cf960876aae6bdf60d02041ddfcca66eceee94\n",
      "Successfully built docx\n",
      "Installing collected packages: docx\n",
      "Successfully installed docx-0.2.4\n"
     ]
    }
   ],
   "source": [
    "!pip install docx"
   ]
  },
  {
   "cell_type": "markdown",
   "id": "c8434df3",
   "metadata": {},
   "source": [
    "import docx\n",
    "doc = docx.Document('C:\\\\Users\\\\HP\\\\Documents\\\\python-practice\\\\Assignment-Folder\\\\Subjective_Qustions.docx')\n",
    "doc.paragraphs"
   ]
  },
  {
   "cell_type": "markdown",
   "id": "453372d8",
   "metadata": {},
   "source": [
    "#### 8. What type of object has bold, underline, italic, strike, and outline variables?"
   ]
  },
  {
   "cell_type": "markdown",
   "id": "ed85b607",
   "metadata": {},
   "source": [
    "__Ans:__  Run object has bold, underline,italic,strike and outline variables"
   ]
  },
  {
   "cell_type": "markdown",
   "id": "aafe84f0",
   "metadata": {},
   "source": [
    "#### 9. What is the difference between False, True, and None for the bold variable?"
   ]
  },
  {
   "cell_type": "markdown",
   "id": "6e31ef74",
   "metadata": {},
   "source": [
    "__Ans:__ \n",
    "\n",
    " - Runs can be further styled using text attributes. Each attribute can be set to one of three values:\n",
    " - True (the attribute is always enabled, no matter what other styles are applied to the run),\n",
    " - False (the attribute is always disabled),\n",
    " - None (defaults to whatever the run’s style is set to)"
   ]
  },
  {
   "cell_type": "markdown",
   "id": "25640167",
   "metadata": {},
   "source": [
    "#### 10. How do you create a Document object for a new Word document?"
   ]
  },
  {
   "cell_type": "markdown",
   "id": "72121e8c",
   "metadata": {},
   "source": [
    "__Ans:__ By calling docx.Document() function"
   ]
  },
  {
   "cell_type": "markdown",
   "id": "55c9220d",
   "metadata": {},
   "source": [
    "#### 11. How do you add a paragraph with the text &#39;Hello, there!&#39; to a Document object stored in a variable named doc?"
   ]
  },
  {
   "cell_type": "markdown",
   "id": "f60d508a",
   "metadata": {},
   "source": [
    "import docx\n",
    "doc = docx.Document()\n",
    "\n",
    "doc.add_paragraph('Hello there!')\n",
    "doc.save('hellothere.docx')"
   ]
  },
  {
   "cell_type": "markdown",
   "id": "10bc49c2",
   "metadata": {},
   "source": [
    "#### 12. What integers represent the levels of headings available in Word documents?"
   ]
  },
  {
   "cell_type": "markdown",
   "id": "d56ebce8",
   "metadata": {},
   "source": [
    "__Ans:__\n",
    "\n",
    "- integer from 0 to 4\n",
    "- The arguments to add_heading() are a string of the heading text and an integer from 0 to 4. The integer 0 makes the heading the Title style, which is used for the top of the document. Integers 1 to 4 are for various heading levels, with 1 being the main heading and 4 the lowest subheading"
   ]
  },
  {
   "cell_type": "code",
   "execution_count": null,
   "id": "00973779",
   "metadata": {},
   "outputs": [],
   "source": []
  }
 ],
 "metadata": {
  "kernelspec": {
   "display_name": "Python 3 (ipykernel)",
   "language": "python",
   "name": "python3"
  },
  "language_info": {
   "codemirror_mode": {
    "name": "ipython",
    "version": 3
   },
   "file_extension": ".py",
   "mimetype": "text/x-python",
   "name": "python",
   "nbconvert_exporter": "python",
   "pygments_lexer": "ipython3",
   "version": "3.9.7"
  }
 },
 "nbformat": 4,
 "nbformat_minor": 5
}
