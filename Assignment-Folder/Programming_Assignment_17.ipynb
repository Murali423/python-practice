{
 "cells": [
  {
   "cell_type": "markdown",
   "id": "da366e26",
   "metadata": {},
   "source": [
    "### Programming_Assignment_17"
   ]
  },
  {
   "cell_type": "markdown",
   "id": "e371e824",
   "metadata": {},
   "source": [
    "#### Question1. Create a function that takes three arguments a, b, c and returns the sum of the numbers that are evenly divided by c from the range a, b inclusive."
   ]
  },
  {
   "cell_type": "code",
   "execution_count": 1,
   "id": "e4ceb5d6",
   "metadata": {},
   "outputs": [
    {
     "name": "stdout",
     "output_type": "stream",
     "text": [
      "No number between 1 and 10 can be divisible by 20\n"
     ]
    },
    {
     "data": {
      "text/plain": [
       "0"
      ]
     },
     "execution_count": 1,
     "metadata": {},
     "output_type": "execute_result"
    }
   ],
   "source": [
    "def evenly_divisible(a,b,c):\n",
    "    \"\"\"\n",
    "    This function find the given a,b having evenly divisible \n",
    "    \"\"\"\n",
    "    sum = 0\n",
    "    if c > b:\n",
    "        print(f'No number between {a} and {b} can be divisible by {c}')\n",
    "        return sum\n",
    "    else:\n",
    "        a = c\n",
    "        for i in range(a,b+1,c):\n",
    "            sum += i\n",
    "    return sum\n",
    "evenly_divisible(1,10,20)"
   ]
  },
  {
   "cell_type": "code",
   "execution_count": 2,
   "id": "5caf8e78",
   "metadata": {},
   "outputs": [
    {
     "data": {
      "text/plain": [
       "30"
      ]
     },
     "execution_count": 2,
     "metadata": {},
     "output_type": "execute_result"
    }
   ],
   "source": [
    "evenly_divisible(1,10,2)"
   ]
  },
  {
   "cell_type": "code",
   "execution_count": 3,
   "id": "dfaee550",
   "metadata": {},
   "outputs": [
    {
     "data": {
      "text/plain": [
       "18"
      ]
     },
     "execution_count": 3,
     "metadata": {},
     "output_type": "execute_result"
    }
   ],
   "source": [
    "evenly_divisible(1,10,3)"
   ]
  },
  {
   "cell_type": "markdown",
   "id": "442e3bb3",
   "metadata": {},
   "source": [
    "#### Question2. Create a function that returns True if a given inequality expression is correct and False otherwise."
   ]
  },
  {
   "cell_type": "code",
   "execution_count": 4,
   "id": "3e513088",
   "metadata": {},
   "outputs": [
    {
     "data": {
      "text/plain": [
       "True"
      ]
     },
     "execution_count": 4,
     "metadata": {},
     "output_type": "execute_result"
    }
   ],
   "source": [
    "def correct_signs(s):\n",
    "    \"\"\"\n",
    "    This function will returns given string expressing is evaluated and returns True or False\n",
    "    \"\"\"\n",
    "    return True if eval(s) else False\n",
    "correct_signs(\"3<7<11\")"
   ]
  },
  {
   "cell_type": "code",
   "execution_count": 5,
   "id": "154475d8",
   "metadata": {},
   "outputs": [
    {
     "data": {
      "text/plain": [
       "False"
      ]
     },
     "execution_count": 5,
     "metadata": {},
     "output_type": "execute_result"
    }
   ],
   "source": [
    "correct_signs('13>44>33>1')"
   ]
  },
  {
   "cell_type": "code",
   "execution_count": 6,
   "id": "39739c09",
   "metadata": {},
   "outputs": [
    {
     "data": {
      "text/plain": [
       "True"
      ]
     },
     "execution_count": 6,
     "metadata": {},
     "output_type": "execute_result"
    }
   ],
   "source": [
    "correct_signs('1<2<4<6<9>3')"
   ]
  },
  {
   "cell_type": "markdown",
   "id": "ee5a45ae",
   "metadata": {},
   "source": [
    "#### Question3. Create a function that replaces all the vowels in a string with a specified character."
   ]
  },
  {
   "cell_type": "code",
   "execution_count": 7,
   "id": "a14c27ad",
   "metadata": {},
   "outputs": [
    {
     "data": {
      "text/plain": [
       "'th# ##vnd#nk'"
      ]
     },
     "execution_count": 7,
     "metadata": {},
     "output_type": "execute_result"
    }
   ],
   "source": [
    "def replace_vowels(s,sc):\n",
    "    a = 'aeiou'\n",
    "    m = list(s)\n",
    "    for i in range(len(m)):\n",
    "        if m[i] in a:\n",
    "            m[i] = sc\n",
    "    return ''.join(m)\n",
    "replace_vowels('the aavndank','#')"
   ]
  },
  {
   "cell_type": "code",
   "execution_count": 8,
   "id": "32dd8a0a",
   "metadata": {},
   "outputs": [
    {
     "data": {
      "text/plain": [
       "'m?nn? m??s?'"
      ]
     },
     "execution_count": 8,
     "metadata": {},
     "output_type": "execute_result"
    }
   ],
   "source": [
    "replace_vowels('minni mouse','?')"
   ]
  },
  {
   "cell_type": "code",
   "execution_count": 9,
   "id": "c5306202",
   "metadata": {},
   "outputs": [
    {
     "data": {
      "text/plain": [
       "'sh*k*sph*r*'"
      ]
     },
     "execution_count": 9,
     "metadata": {},
     "output_type": "execute_result"
    }
   ],
   "source": [
    "replace_vowels('shakesphere','*')"
   ]
  },
  {
   "cell_type": "markdown",
   "id": "8f560f31",
   "metadata": {},
   "source": [
    "#### Question4. Write a function that calculates the factorial of a number recursively."
   ]
  },
  {
   "cell_type": "code",
   "execution_count": 17,
   "id": "5486e60b",
   "metadata": {},
   "outputs": [
    {
     "data": {
      "text/plain": [
       "120"
      ]
     },
     "execution_count": 17,
     "metadata": {},
     "output_type": "execute_result"
    }
   ],
   "source": [
    "def factioral(n):\n",
    "    if n == 0:\n",
    "        return 1\n",
    "    return n*factioral(n-1)\n",
    "\n",
    "factioral(5)"
   ]
  },
  {
   "cell_type": "code",
   "execution_count": 18,
   "id": "ec74714e",
   "metadata": {},
   "outputs": [
    {
     "data": {
      "text/plain": [
       "1"
      ]
     },
     "execution_count": 18,
     "metadata": {},
     "output_type": "execute_result"
    }
   ],
   "source": [
    "factioral(0)"
   ]
  },
  {
   "cell_type": "code",
   "execution_count": 19,
   "id": "dd2494e4",
   "metadata": {},
   "outputs": [
    {
     "data": {
      "text/plain": [
       "1"
      ]
     },
     "execution_count": 19,
     "metadata": {},
     "output_type": "execute_result"
    }
   ],
   "source": [
    "factioral(1)"
   ]
  },
  {
   "cell_type": "code",
   "execution_count": 20,
   "id": "13e73b6c",
   "metadata": {},
   "outputs": [
    {
     "data": {
      "text/plain": [
       "3628800"
      ]
     },
     "execution_count": 20,
     "metadata": {},
     "output_type": "execute_result"
    }
   ],
   "source": [
    "factioral(10)"
   ]
  },
  {
   "cell_type": "markdown",
   "id": "9d1357d6",
   "metadata": {},
   "source": [
    "#### Question 5 Hamming distance is the number of characters that differ between two strings."
   ]
  },
  {
   "cell_type": "code",
   "execution_count": 26,
   "id": "0a8331b6",
   "metadata": {},
   "outputs": [
    {
     "name": "stdout",
     "output_type": "stream",
     "text": [
      "enter the string1: abcdef\n",
      "enter the string2: adbcef\n",
      "hamming distance between string is:  3\n"
     ]
    }
   ],
   "source": [
    "def hammingdist(s1,s2):\n",
    "    i = 0\n",
    "    cnt = 0\n",
    "    if len(s1) == len(s2):\n",
    "        while(i < len(a)):\n",
    "            if s1[i] != s2[i]:\n",
    "                cnt +=1\n",
    "            i += 1\n",
    "        return cnt\n",
    "    else:\n",
    "        return 'please enter string having same length'\n",
    "\n",
    "a = input('enter the string1: ')\n",
    "b = input('enter the string2: ')\n",
    "res = hammingdist(a,b)\n",
    "print('hamming distance between string is: ',res)"
   ]
  },
  {
   "cell_type": "code",
   "execution_count": 27,
   "id": "a40b035a",
   "metadata": {},
   "outputs": [
    {
     "name": "stdout",
     "output_type": "stream",
     "text": [
      "enter the string1: murali\n",
      "enter the string2: keshav\n",
      "hamming distance between string is:  6\n"
     ]
    }
   ],
   "source": [
    "a = input('enter the string1: ')\n",
    "b = input('enter the string2: ')\n",
    "res = hammingdist(a,b)\n",
    "print('hamming distance between string is: ',res)"
   ]
  },
  {
   "cell_type": "code",
   "execution_count": 28,
   "id": "fcd8630e",
   "metadata": {},
   "outputs": [
    {
     "name": "stdout",
     "output_type": "stream",
     "text": [
      "enter the string1: rng\n",
      "enter the string2: range\n",
      "hamming distance between string is:  please enter string having same length\n"
     ]
    }
   ],
   "source": [
    "a = input('enter the string1: ')\n",
    "b = input('enter the string2: ')\n",
    "res = hammingdist(a,b)\n",
    "print('hamming distance between string is: ',res)"
   ]
  },
  {
   "cell_type": "code",
   "execution_count": 29,
   "id": "f9f715d6",
   "metadata": {},
   "outputs": [
    {
     "data": {
      "text/plain": [
       "1"
      ]
     },
     "execution_count": 29,
     "metadata": {},
     "output_type": "execute_result"
    }
   ],
   "source": [
    "hammingdist('fight','foght')"
   ]
  },
  {
   "cell_type": "code",
   "execution_count": null,
   "id": "97750d31",
   "metadata": {},
   "outputs": [],
   "source": []
  }
 ],
 "metadata": {
  "kernelspec": {
   "display_name": "Python 3 (ipykernel)",
   "language": "python",
   "name": "python3"
  },
  "language_info": {
   "codemirror_mode": {
    "name": "ipython",
    "version": 3
   },
   "file_extension": ".py",
   "mimetype": "text/x-python",
   "name": "python",
   "nbconvert_exporter": "python",
   "pygments_lexer": "ipython3",
   "version": "3.9.7"
  }
 },
 "nbformat": 4,
 "nbformat_minor": 5
}
