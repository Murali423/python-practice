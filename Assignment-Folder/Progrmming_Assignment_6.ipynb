{
 "cells": [
  {
   "cell_type": "markdown",
   "id": "77b115e9",
   "metadata": {},
   "source": [
    "### Programming_assignment_6"
   ]
  },
  {
   "cell_type": "markdown",
   "id": "27cad978",
   "metadata": {},
   "source": [
    "##### 1. Write a Python Program to Display Fibonacci Sequence Using Recursion?"
   ]
  },
  {
   "cell_type": "code",
   "execution_count": 1,
   "id": "580dd0ce",
   "metadata": {},
   "outputs": [
    {
     "name": "stdout",
     "output_type": "stream",
     "text": [
      "Enter the value: 20\n",
      "0\n",
      "1\n",
      "1\n",
      "2\n",
      "3\n",
      "5\n",
      "8\n",
      "13\n",
      "21\n",
      "34\n",
      "55\n",
      "89\n",
      "144\n",
      "233\n",
      "377\n",
      "610\n",
      "987\n",
      "1597\n",
      "2584\n",
      "4181\n"
     ]
    }
   ],
   "source": [
    "def fibonacci(n):\n",
    "    if n <= 1: \n",
    "        return n\n",
    "    else:\n",
    "        return fibonacci(n-1) + fibonacci(n-2)\n",
    "n = int(input('Enter the value: '))\n",
    "if n <= 0:\n",
    "    print('Please enter positive number')\n",
    "for i in range(n):\n",
    "    print(fibonacci(i))"
   ]
  },
  {
   "cell_type": "markdown",
   "id": "94f8e306",
   "metadata": {},
   "source": [
    "#### 2. Write a Python Program to Find Factorial of Number Using Recursion?"
   ]
  },
  {
   "cell_type": "code",
   "execution_count": 2,
   "id": "0a362f0e",
   "metadata": {},
   "outputs": [
    {
     "name": "stdout",
     "output_type": "stream",
     "text": [
      "Please enter the number to find factioral: 6\n",
      "factioral of 6 is 720\n"
     ]
    }
   ],
   "source": [
    "def factioral(n):\n",
    "    if n == 1 or n == 0:\n",
    "        return 1\n",
    "    else:\n",
    "        return n *factioral(n-1)\n",
    "    \n",
    "n = int(input('Please enter the number to find factioral: '))\n",
    "if n < 0:\n",
    "    print('Please Enter Positve number')\n",
    "else:\n",
    "    res = factioral(n)\n",
    "    print('factioral of {0} is {1}'.format(n,res))"
   ]
  },
  {
   "cell_type": "markdown",
   "id": "a14a64dc",
   "metadata": {},
   "source": [
    "#### 3. Write a Python Program to calculate your Body Mass Index?"
   ]
  },
  {
   "cell_type": "code",
   "execution_count": 9,
   "id": "1f188e9b",
   "metadata": {},
   "outputs": [
    {
     "name": "stdout",
     "output_type": "stream",
     "text": [
      "Input your height in Feet: 5.10\n",
      "Input your weight in Kilogram: 90\n",
      "Your body mass index is:  3.46\n"
     ]
    }
   ],
   "source": [
    "height = float(input(\"Input your height in Feet: \"))\n",
    "weight = float(input(\"Input your weight in Kilogram: \"))\n",
    "print(\"Your body mass index is: \", round(weight / (height * height), 2))"
   ]
  },
  {
   "cell_type": "markdown",
   "id": "4ed608c6",
   "metadata": {},
   "source": [
    "#### 4. Write a Python Program to calculate the natural logarithm of any number?"
   ]
  },
  {
   "cell_type": "code",
   "execution_count": 8,
   "id": "b874538a",
   "metadata": {},
   "outputs": [
    {
     "name": "stdout",
     "output_type": "stream",
     "text": [
      "Enter the number to find logrithm : 10\n",
      "2.302585092994046\n",
      "1.0\n"
     ]
    }
   ],
   "source": [
    "import math\n",
    "\n",
    "n = int(input('Enter the number to find logrithm : '))\n",
    "print(math.log(n))\n",
    "print(math.log10(n))"
   ]
  },
  {
   "cell_type": "markdown",
   "id": "a21cbe26",
   "metadata": {},
   "source": [
    "#### 5. Write a Python Program for cube sum of first n natural numbers?"
   ]
  },
  {
   "cell_type": "code",
   "execution_count": 6,
   "id": "dda8c3ba",
   "metadata": {},
   "outputs": [
    {
     "name": "stdout",
     "output_type": "stream",
     "text": [
      "please enter value : 100\n",
      "cube sum of 100 is 25502500\n"
     ]
    }
   ],
   "source": [
    "n = int(input('please enter value : '))\n",
    "\n",
    "def sum_cube(n):\n",
    "    return (n**2 * (n+1)**2)//4\n",
    "\n",
    "if n < 1:\n",
    "    print(0)\n",
    "else:\n",
    "    res = sum_cube(n)\n",
    "    print('cube sum of {0} is {1}'.format(n,res))\n"
   ]
  },
  {
   "cell_type": "code",
   "execution_count": null,
   "id": "dafefc80",
   "metadata": {},
   "outputs": [],
   "source": []
  },
  {
   "cell_type": "code",
   "execution_count": null,
   "id": "1ce894bd",
   "metadata": {},
   "outputs": [],
   "source": []
  }
 ],
 "metadata": {
  "kernelspec": {
   "display_name": "Python 3 (ipykernel)",
   "language": "python",
   "name": "python3"
  },
  "language_info": {
   "codemirror_mode": {
    "name": "ipython",
    "version": 3
   },
   "file_extension": ".py",
   "mimetype": "text/x-python",
   "name": "python",
   "nbconvert_exporter": "python",
   "pygments_lexer": "ipython3",
   "version": "3.9.7"
  }
 },
 "nbformat": 4,
 "nbformat_minor": 5
}
