{
 "cells": [
  {
   "cell_type": "markdown",
   "id": "8f684342",
   "metadata": {},
   "source": [
    "## Loops"
   ]
  },
  {
   "cell_type": "code",
   "execution_count": 1,
   "id": "406ef9ce",
   "metadata": {},
   "outputs": [
    {
     "name": "stdout",
     "output_type": "stream",
     "text": [
      "1\n",
      "2\n",
      "3\n",
      "4\n",
      "1\n",
      "else part of loop\n"
     ]
    }
   ],
   "source": [
    "n =5\n",
    "i = 1\n",
    "j = 1\n",
    "\n",
    "while i <n:\n",
    "    print(i)\n",
    "    i+=1\n",
    "else:\n",
    "    while j < 2:\n",
    "        print(j)\n",
    "        j += 1\n",
    "        print(\"else part of loop\")"
   ]
  },
  {
   "cell_type": "code",
   "execution_count": 2,
   "id": "b4e26b42",
   "metadata": {},
   "outputs": [
    {
     "data": {
      "text/plain": [
       "5"
      ]
     },
     "execution_count": 2,
     "metadata": {},
     "output_type": "execute_result"
    }
   ],
   "source": [
    "i"
   ]
  },
  {
   "cell_type": "code",
   "execution_count": 3,
   "id": "1b5199a2",
   "metadata": {},
   "outputs": [
    {
     "data": {
      "text/plain": [
       "2"
      ]
     },
     "execution_count": 3,
     "metadata": {},
     "output_type": "execute_result"
    }
   ],
   "source": [
    "j"
   ]
  },
  {
   "cell_type": "code",
   "execution_count": 4,
   "id": "25e6ef88",
   "metadata": {},
   "outputs": [],
   "source": [
    "s = 'murali is good'"
   ]
  },
  {
   "cell_type": "code",
   "execution_count": 5,
   "id": "e588eec5",
   "metadata": {},
   "outputs": [
    {
     "data": {
      "text/plain": [
       "'murali is good'"
      ]
     },
     "execution_count": 5,
     "metadata": {},
     "output_type": "execute_result"
    }
   ],
   "source": [
    "s"
   ]
  },
  {
   "cell_type": "code",
   "execution_count": 6,
   "id": "1986fe9c",
   "metadata": {},
   "outputs": [
    {
     "data": {
      "text/plain": [
       "'s go'"
      ]
     },
     "execution_count": 6,
     "metadata": {},
     "output_type": "execute_result"
    }
   ],
   "source": [
    "s[-6:-2]"
   ]
  },
  {
   "cell_type": "code",
   "execution_count": 7,
   "id": "d9252fcd",
   "metadata": {},
   "outputs": [
    {
     "data": {
      "text/plain": [
       "'rali i'"
      ]
     },
     "execution_count": 7,
     "metadata": {},
     "output_type": "execute_result"
    }
   ],
   "source": [
    "s[2:-6]"
   ]
  },
  {
   "cell_type": "code",
   "execution_count": 8,
   "id": "86c1186d",
   "metadata": {},
   "outputs": [
    {
     "data": {
      "text/plain": [
       "'l'"
      ]
     },
     "execution_count": 8,
     "metadata": {},
     "output_type": "execute_result"
    }
   ],
   "source": [
    "s[4]"
   ]
  },
  {
   "cell_type": "code",
   "execution_count": 9,
   "id": "1910190f",
   "metadata": {},
   "outputs": [
    {
     "name": "stdout",
     "output_type": "stream",
     "text": [
      "ieuro\n"
     ]
    }
   ],
   "source": [
    "s = 'ineuron'\n",
    "ss = ''\n",
    "for i in range(len(s)):\n",
    "    if s[i]=='n':\n",
    "        continue\n",
    "    else:\n",
    "        ss = ss + s[i]\n",
    "        \n",
    "print(ss)\n"
   ]
  },
  {
   "cell_type": "code",
   "execution_count": 11,
   "id": "6596ac19",
   "metadata": {},
   "outputs": [
    {
     "name": "stdout",
     "output_type": "stream",
     "text": [
      "+\r\n",
      "++\r\n",
      "+++\r\n",
      "++++\r\n",
      "+++++\r\n",
      "++++++\r\n",
      "+++++++\r\n"
     ]
    }
   ],
   "source": [
    "n  = 7\n",
    "for i in range(0,n):\n",
    "    for j in range(0,i+1):\n",
    "        print('+',end=\"\")\n",
    "    print('\\r')"
   ]
  },
  {
   "cell_type": "code",
   "execution_count": 12,
   "id": "0e17bd20",
   "metadata": {},
   "outputs": [
    {
     "name": "stdout",
     "output_type": "stream",
     "text": [
      "*******\r\n",
      "******\r\n",
      "*****\r\n",
      "****\r\n",
      "***\r\n",
      "**\r\n",
      "*\r\n"
     ]
    }
   ],
   "source": [
    "for i in range(n,0,-1):\n",
    "    for j in range(0,i):\n",
    "        print('*',end=\"\")\n",
    "    print('\\r')"
   ]
  },
  {
   "cell_type": "code",
   "execution_count": 15,
   "id": "df4dc73b",
   "metadata": {},
   "outputs": [
    {
     "name": "stdout",
     "output_type": "stream",
     "text": [
      "Enter the no of rows required7\n",
      "*************\n",
      " ***********\n",
      "  *********\n",
      "   *******\n",
      "    *****\n",
      "     ***\n",
      "      *\n"
     ]
    }
   ],
   "source": [
    "n = int(input('Enter the no of rows required'))\n",
    "for i in range(n,0,-1):\n",
    "    for j in range(n-i):\n",
    "        print(\" \",end='')\n",
    "    for j in range(2*i-1):\n",
    "        print('*',end='')\n",
    "    print()"
   ]
  },
  {
   "cell_type": "code",
   "execution_count": 27,
   "id": "591a381d",
   "metadata": {},
   "outputs": [
    {
     "name": "stdout",
     "output_type": "stream",
     "text": [
      "          * * * * * * * \n",
      "           * * * * * * \n",
      "            * * * * * \n",
      "             * * * * \n",
      "              * * * \n",
      "               * * \n",
      "                * \n"
     ]
    }
   ],
   "source": [
    "n = 6\n",
    "m = 2*n -2\n",
    "for i in range(n,-1,-1):\n",
    "    for j in range(m,0,-1):\n",
    "        print(end=' ')\n",
    "    m = m + 1\n",
    "    for j in range(0,i+1):\n",
    "        print('*',end=' ')\n",
    "    print('')"
   ]
  },
  {
   "cell_type": "code",
   "execution_count": 36,
   "id": "7e575163",
   "metadata": {},
   "outputs": [
    {
     "name": "stdout",
     "output_type": "stream",
     "text": [
      "      *\n",
      "     ***\n",
      "    *****\n",
      "   *******\n",
      "  *********\n",
      " ***********\n",
      "*************\n"
     ]
    }
   ],
   "source": [
    "n = 7\n",
    "i = 1\n",
    "k= 1\n",
    "while i <= n:\n",
    "    b = 1\n",
    "    while b <= n -i:\n",
    "        print(' ',end= '')\n",
    "        b = b+1\n",
    "    j= 1\n",
    "    while(j<=k):\n",
    "        print('*',end='')\n",
    "        j+=1\n",
    "    print()\n",
    "    k += 2\n",
    "    i += 1"
   ]
  },
  {
   "cell_type": "code",
   "execution_count": 1,
   "id": "a2e81942",
   "metadata": {},
   "outputs": [
    {
     "data": {
      "text/plain": [
       "['sudh', [1, 2, 3, 'ine'], 87, 90.8, 'iNeuron']"
      ]
     },
     "execution_count": 1,
     "metadata": {},
     "output_type": "execute_result"
    }
   ],
   "source": [
    "l = [\"sudh\",[1,2,3,'ine'],87,90.8,'iNeuron']\n",
    "l"
   ]
  },
  {
   "cell_type": "code",
   "execution_count": 2,
   "id": "c9e812c2",
   "metadata": {},
   "outputs": [
    {
     "data": {
      "text/plain": [
       "[5, 6, 7, 90, 'murali']"
      ]
     },
     "execution_count": 2,
     "metadata": {},
     "output_type": "execute_result"
    }
   ],
   "source": [
    "l1 = [5,6,7,90,'murali']\n",
    "l1"
   ]
  },
  {
   "cell_type": "code",
   "execution_count": 3,
   "id": "18032591",
   "metadata": {},
   "outputs": [
    {
     "data": {
      "text/plain": [
       "['sudh', [1, 2, 3, 'ine'], 87, 90.8, 'iNeuron', 5, 6, 7, 90, 'murali']"
      ]
     },
     "execution_count": 3,
     "metadata": {},
     "output_type": "execute_result"
    }
   ],
   "source": [
    "l +l1"
   ]
  },
  {
   "cell_type": "code",
   "execution_count": 4,
   "id": "eca156e6",
   "metadata": {},
   "outputs": [
    {
     "data": {
      "text/plain": [
       "True"
      ]
     },
     "execution_count": 4,
     "metadata": {},
     "output_type": "execute_result"
    }
   ],
   "source": [
    "\"sudh\" in l"
   ]
  },
  {
   "cell_type": "code",
   "execution_count": 5,
   "id": "3d1415f6",
   "metadata": {},
   "outputs": [
    {
     "data": {
      "text/plain": [
       "'z'"
      ]
     },
     "execution_count": 5,
     "metadata": {},
     "output_type": "execute_result"
    }
   ],
   "source": [
    "max(['i','e','a','v','z'])"
   ]
  },
  {
   "cell_type": "code",
   "execution_count": 6,
   "id": "b24fb199",
   "metadata": {},
   "outputs": [
    {
     "data": {
      "text/plain": [
       "'a'"
      ]
     },
     "execution_count": 6,
     "metadata": {},
     "output_type": "execute_result"
    }
   ],
   "source": [
    "min(['i','e','a','v','z'])"
   ]
  },
  {
   "cell_type": "code",
   "execution_count": 7,
   "id": "f3b269ed",
   "metadata": {},
   "outputs": [
    {
     "data": {
      "text/plain": [
       "'i'"
      ]
     },
     "execution_count": 7,
     "metadata": {},
     "output_type": "execute_result"
    }
   ],
   "source": [
    "max(['i','I'])"
   ]
  },
  {
   "cell_type": "code",
   "execution_count": 8,
   "id": "a07f0bb4",
   "metadata": {},
   "outputs": [
    {
     "data": {
      "text/plain": [
       "['sudh', [1, 2, 3, 'ine'], 87, 90.8, 'iNeuron', 89]"
      ]
     },
     "execution_count": 8,
     "metadata": {},
     "output_type": "execute_result"
    }
   ],
   "source": [
    "l.append(89)\n",
    "l"
   ]
  },
  {
   "cell_type": "code",
   "execution_count": 9,
   "id": "f2b8d9a1",
   "metadata": {},
   "outputs": [
    {
     "data": {
      "text/plain": [
       "[8, 9, 10, 6, 7, 4, 3]"
      ]
     },
     "execution_count": 9,
     "metadata": {},
     "output_type": "execute_result"
    }
   ],
   "source": [
    "l=[8,9,10,6,7,4,3]\n",
    "l"
   ]
  },
  {
   "cell_type": "code",
   "execution_count": 10,
   "id": "9adc9ea6",
   "metadata": {},
   "outputs": [
    {
     "data": {
      "text/plain": [
       "[8, 9, 10, 6, 55, 7, 4, 3]"
      ]
     },
     "execution_count": 10,
     "metadata": {},
     "output_type": "execute_result"
    }
   ],
   "source": [
    "l.insert(4,55)\n",
    "l"
   ]
  },
  {
   "cell_type": "code",
   "execution_count": 11,
   "id": "bb86ae23",
   "metadata": {},
   "outputs": [
    {
     "data": {
      "text/plain": [
       "1"
      ]
     },
     "execution_count": 11,
     "metadata": {},
     "output_type": "execute_result"
    }
   ],
   "source": [
    "l.count(7)"
   ]
  },
  {
   "cell_type": "code",
   "execution_count": 12,
   "id": "12f523f9",
   "metadata": {},
   "outputs": [
    {
     "data": {
      "text/plain": [
       "0"
      ]
     },
     "execution_count": 12,
     "metadata": {},
     "output_type": "execute_result"
    }
   ],
   "source": [
    "l.count(77)"
   ]
  },
  {
   "cell_type": "code",
   "execution_count": 13,
   "id": "c2c15109",
   "metadata": {},
   "outputs": [
    {
     "data": {
      "text/plain": [
       "[99, 0, 80, 56, 877]"
      ]
     },
     "execution_count": 13,
     "metadata": {},
     "output_type": "execute_result"
    }
   ],
   "source": [
    "l1 =[99,0,80,56,877]\n",
    "l1"
   ]
  },
  {
   "cell_type": "code",
   "execution_count": 14,
   "id": "b87af09c",
   "metadata": {},
   "outputs": [],
   "source": [
    "l.extend(l1)"
   ]
  },
  {
   "cell_type": "code",
   "execution_count": 15,
   "id": "ec1335a7",
   "metadata": {},
   "outputs": [
    {
     "data": {
      "text/plain": [
       "[8, 9, 10, 6, 55, 7, 4, 3, 99, 0, 80, 56, 877]"
      ]
     },
     "execution_count": 15,
     "metadata": {},
     "output_type": "execute_result"
    }
   ],
   "source": [
    "l"
   ]
  },
  {
   "cell_type": "code",
   "execution_count": 17,
   "id": "caeaae0f",
   "metadata": {},
   "outputs": [],
   "source": [
    "m= l.append(l1)\n",
    "m"
   ]
  },
  {
   "cell_type": "code",
   "execution_count": 18,
   "id": "f0abb26d",
   "metadata": {},
   "outputs": [
    {
     "data": {
      "text/plain": [
       "[8,\n",
       " 9,\n",
       " 10,\n",
       " 6,\n",
       " 55,\n",
       " 7,\n",
       " 4,\n",
       " 3,\n",
       " 99,\n",
       " 0,\n",
       " 80,\n",
       " 56,\n",
       " 877,\n",
       " [99, 0, 80, 56, 877],\n",
       " [99, 0, 80, 56, 877]]"
      ]
     },
     "execution_count": 18,
     "metadata": {},
     "output_type": "execute_result"
    }
   ],
   "source": [
    "l"
   ]
  },
  {
   "cell_type": "code",
   "execution_count": 19,
   "id": "c4099641",
   "metadata": {},
   "outputs": [
    {
     "data": {
      "text/plain": [
       "[99, 0, 80, 56, 877]"
      ]
     },
     "execution_count": 19,
     "metadata": {},
     "output_type": "execute_result"
    }
   ],
   "source": [
    "l.pop()"
   ]
  },
  {
   "cell_type": "code",
   "execution_count": 20,
   "id": "1d69e487",
   "metadata": {},
   "outputs": [
    {
     "data": {
      "text/plain": [
       "[8, 9, 10, 6, 55, 7, 4, 3, 99, 0, 80, 56, 877, [99, 0, 80, 56, 877]]"
      ]
     },
     "execution_count": 20,
     "metadata": {},
     "output_type": "execute_result"
    }
   ],
   "source": [
    "l"
   ]
  },
  {
   "cell_type": "code",
   "execution_count": 21,
   "id": "630a2a73",
   "metadata": {},
   "outputs": [
    {
     "data": {
      "text/plain": [
       "9"
      ]
     },
     "execution_count": 21,
     "metadata": {},
     "output_type": "execute_result"
    }
   ],
   "source": [
    "l.index(0)"
   ]
  },
  {
   "cell_type": "code",
   "execution_count": 22,
   "id": "74bc314f",
   "metadata": {},
   "outputs": [
    {
     "data": {
      "text/plain": [
       "12"
      ]
     },
     "execution_count": 22,
     "metadata": {},
     "output_type": "execute_result"
    }
   ],
   "source": [
    "l.index(877)"
   ]
  },
  {
   "cell_type": "code",
   "execution_count": 23,
   "id": "1bd80664",
   "metadata": {},
   "outputs": [],
   "source": [
    "l.remove(7)"
   ]
  },
  {
   "cell_type": "code",
   "execution_count": 24,
   "id": "6cb925d2",
   "metadata": {},
   "outputs": [
    {
     "data": {
      "text/plain": [
       "[8, 9, 10, 6, 55, 4, 3, 99, 0, 80, 56, 877, [99, 0, 80, 56, 877]]"
      ]
     },
     "execution_count": 24,
     "metadata": {},
     "output_type": "execute_result"
    }
   ],
   "source": [
    "l"
   ]
  },
  {
   "cell_type": "code",
   "execution_count": 26,
   "id": "2ee395a0",
   "metadata": {},
   "outputs": [
    {
     "data": {
      "text/plain": [
       "[99, 0, 80, 56, 877]"
      ]
     },
     "execution_count": 26,
     "metadata": {},
     "output_type": "execute_result"
    }
   ],
   "source": [
    "l.pop()"
   ]
  },
  {
   "cell_type": "code",
   "execution_count": 27,
   "id": "f9a90e87",
   "metadata": {},
   "outputs": [
    {
     "data": {
      "text/plain": [
       "[0, 3, 4, 6, 8, 9, 10, 55, 56, 80, 99, 877]"
      ]
     },
     "execution_count": 27,
     "metadata": {},
     "output_type": "execute_result"
    }
   ],
   "source": [
    "l.sort()\n",
    "l"
   ]
  },
  {
   "cell_type": "code",
   "execution_count": null,
   "id": "6662f51c",
   "metadata": {},
   "outputs": [],
   "source": []
  }
 ],
 "metadata": {
  "kernelspec": {
   "display_name": "Python 3 (ipykernel)",
   "language": "python",
   "name": "python3"
  },
  "language_info": {
   "codemirror_mode": {
    "name": "ipython",
    "version": 3
   },
   "file_extension": ".py",
   "mimetype": "text/x-python",
   "name": "python",
   "nbconvert_exporter": "python",
   "pygments_lexer": "ipython3",
   "version": "3.9.7"
  }
 },
 "nbformat": 4,
 "nbformat_minor": 5
}
