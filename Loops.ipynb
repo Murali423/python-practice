{
 "cells": [
  {
   "cell_type": "markdown",
   "id": "8f684342",
   "metadata": {},
   "source": [
    "## Loops"
   ]
  },
  {
   "cell_type": "code",
   "execution_count": 1,
   "id": "406ef9ce",
   "metadata": {},
   "outputs": [
    {
     "name": "stdout",
     "output_type": "stream",
     "text": [
      "1\n",
      "2\n",
      "3\n",
      "4\n",
      "1\n",
      "else part of loop\n"
     ]
    }
   ],
   "source": [
    "n =5\n",
    "i = 1\n",
    "j = 1\n",
    "\n",
    "while i <n:\n",
    "    print(i)\n",
    "    i+=1\n",
    "else:\n",
    "    while j < 2:\n",
    "        print(j)\n",
    "        j += 1\n",
    "        print(\"else part of loop\")"
   ]
  },
  {
   "cell_type": "code",
   "execution_count": 2,
   "id": "b4e26b42",
   "metadata": {},
   "outputs": [
    {
     "data": {
      "text/plain": [
       "5"
      ]
     },
     "execution_count": 2,
     "metadata": {},
     "output_type": "execute_result"
    }
   ],
   "source": [
    "i"
   ]
  },
  {
   "cell_type": "code",
   "execution_count": 3,
   "id": "1b5199a2",
   "metadata": {},
   "outputs": [
    {
     "data": {
      "text/plain": [
       "2"
      ]
     },
     "execution_count": 3,
     "metadata": {},
     "output_type": "execute_result"
    }
   ],
   "source": [
    "j"
   ]
  },
  {
   "cell_type": "code",
   "execution_count": 4,
   "id": "25e6ef88",
   "metadata": {},
   "outputs": [],
   "source": [
    "s = 'murali is good'"
   ]
  },
  {
   "cell_type": "code",
   "execution_count": 5,
   "id": "e588eec5",
   "metadata": {},
   "outputs": [
    {
     "data": {
      "text/plain": [
       "'murali is good'"
      ]
     },
     "execution_count": 5,
     "metadata": {},
     "output_type": "execute_result"
    }
   ],
   "source": [
    "s"
   ]
  },
  {
   "cell_type": "code",
   "execution_count": 6,
   "id": "1986fe9c",
   "metadata": {},
   "outputs": [
    {
     "data": {
      "text/plain": [
       "'s go'"
      ]
     },
     "execution_count": 6,
     "metadata": {},
     "output_type": "execute_result"
    }
   ],
   "source": [
    "s[-6:-2]"
   ]
  },
  {
   "cell_type": "code",
   "execution_count": 7,
   "id": "d9252fcd",
   "metadata": {},
   "outputs": [
    {
     "data": {
      "text/plain": [
       "'rali i'"
      ]
     },
     "execution_count": 7,
     "metadata": {},
     "output_type": "execute_result"
    }
   ],
   "source": [
    "s[2:-6]"
   ]
  },
  {
   "cell_type": "code",
   "execution_count": 8,
   "id": "86c1186d",
   "metadata": {},
   "outputs": [
    {
     "data": {
      "text/plain": [
       "'l'"
      ]
     },
     "execution_count": 8,
     "metadata": {},
     "output_type": "execute_result"
    }
   ],
   "source": [
    "s[4]"
   ]
  },
  {
   "cell_type": "code",
   "execution_count": 9,
   "id": "1910190f",
   "metadata": {},
   "outputs": [
    {
     "name": "stdout",
     "output_type": "stream",
     "text": [
      "ieuro\n"
     ]
    }
   ],
   "source": [
    "s = 'ineuron'\n",
    "ss = ''\n",
    "for i in range(len(s)):\n",
    "    if s[i]=='n':\n",
    "        continue\n",
    "    else:\n",
    "        ss = ss + s[i]\n",
    "        \n",
    "print(ss)\n"
   ]
  },
  {
   "cell_type": "code",
   "execution_count": 11,
   "id": "6596ac19",
   "metadata": {},
   "outputs": [
    {
     "name": "stdout",
     "output_type": "stream",
     "text": [
      "+\r\n",
      "++\r\n",
      "+++\r\n",
      "++++\r\n",
      "+++++\r\n",
      "++++++\r\n",
      "+++++++\r\n"
     ]
    }
   ],
   "source": [
    "n  = 7\n",
    "for i in range(0,n):\n",
    "    for j in range(0,i+1):\n",
    "        print('+',end=\"\")\n",
    "    print('\\r')"
   ]
  },
  {
   "cell_type": "code",
   "execution_count": 12,
   "id": "0e17bd20",
   "metadata": {},
   "outputs": [
    {
     "name": "stdout",
     "output_type": "stream",
     "text": [
      "*******\r\n",
      "******\r\n",
      "*****\r\n",
      "****\r\n",
      "***\r\n",
      "**\r\n",
      "*\r\n"
     ]
    }
   ],
   "source": [
    "for i in range(n,0,-1):\n",
    "    for j in range(0,i):\n",
    "        print('*',end=\"\")\n",
    "    print('\\r')"
   ]
  },
  {
   "cell_type": "code",
   "execution_count": 15,
   "id": "df4dc73b",
   "metadata": {},
   "outputs": [
    {
     "name": "stdout",
     "output_type": "stream",
     "text": [
      "Enter the no of rows required7\n",
      "*************\n",
      " ***********\n",
      "  *********\n",
      "   *******\n",
      "    *****\n",
      "     ***\n",
      "      *\n"
     ]
    }
   ],
   "source": [
    "n = int(input('Enter the no of rows required'))\n",
    "for i in range(n,0,-1):\n",
    "    for j in range(n-i):\n",
    "        print(\" \",end='')\n",
    "    for j in range(2*i-1):\n",
    "        print('*',end='')\n",
    "    print()"
   ]
  },
  {
   "cell_type": "code",
   "execution_count": 27,
   "id": "591a381d",
   "metadata": {},
   "outputs": [
    {
     "name": "stdout",
     "output_type": "stream",
     "text": [
      "          * * * * * * * \n",
      "           * * * * * * \n",
      "            * * * * * \n",
      "             * * * * \n",
      "              * * * \n",
      "               * * \n",
      "                * \n"
     ]
    }
   ],
   "source": [
    "n = 6\n",
    "m = 2*n -2\n",
    "for i in range(n,-1,-1):\n",
    "    for j in range(m,0,-1):\n",
    "        print(end=' ')\n",
    "    m = m + 1\n",
    "    for j in range(0,i+1):\n",
    "        print('*',end=' ')\n",
    "    print('')"
   ]
  },
  {
   "cell_type": "code",
   "execution_count": 36,
   "id": "7e575163",
   "metadata": {},
   "outputs": [
    {
     "name": "stdout",
     "output_type": "stream",
     "text": [
      "      *\n",
      "     ***\n",
      "    *****\n",
      "   *******\n",
      "  *********\n",
      " ***********\n",
      "*************\n"
     ]
    }
   ],
   "source": [
    "n = 7\n",
    "i = 1\n",
    "k= 1\n",
    "while i <= n:\n",
    "    b = 1\n",
    "    while b <= n -i:\n",
    "        print(' ',end= '')\n",
    "        b = b+1\n",
    "    j= 1\n",
    "    while(j<=k):\n",
    "        print('*',end='')\n",
    "        j+=1\n",
    "    print()\n",
    "    k += 2\n",
    "    i += 1"
   ]
  },
  {
   "cell_type": "code",
   "execution_count": null,
   "id": "a2e81942",
   "metadata": {},
   "outputs": [],
   "source": []
  }
 ],
 "metadata": {
  "kernelspec": {
   "display_name": "Python 3 (ipykernel)",
   "language": "python",
   "name": "python3"
  },
  "language_info": {
   "codemirror_mode": {
    "name": "ipython",
    "version": 3
   },
   "file_extension": ".py",
   "mimetype": "text/x-python",
   "name": "python",
   "nbconvert_exporter": "python",
   "pygments_lexer": "ipython3",
   "version": "3.9.7"
  }
 },
 "nbformat": 4,
 "nbformat_minor": 5
}
