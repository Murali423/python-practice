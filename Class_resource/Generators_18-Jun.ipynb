{
 "cells": [
  {
   "cell_type": "code",
   "execution_count": 1,
   "id": "1b85e0f6",
   "metadata": {},
   "outputs": [
    {
     "name": "stdout",
     "output_type": "stream",
     "text": [
      "1,2,3,4,"
     ]
    }
   ],
   "source": [
    "l =[1,2,3,4]\n",
    "for i in l:\n",
    "    print(i,end=',')"
   ]
  },
  {
   "cell_type": "code",
   "execution_count": 2,
   "id": "e53c2d7d",
   "metadata": {},
   "outputs": [
    {
     "data": {
      "text/plain": [
       "4"
      ]
     },
     "execution_count": 2,
     "metadata": {},
     "output_type": "execute_result"
    }
   ],
   "source": [
    "b = iter(l)\n",
    "next(b)\n",
    "next(b)\n",
    "next(b)\n",
    "next(b)"
   ]
  },
  {
   "cell_type": "code",
   "execution_count": 3,
   "id": "75e6f1e6",
   "metadata": {},
   "outputs": [
    {
     "ename": "StopIteration",
     "evalue": "",
     "output_type": "error",
     "traceback": [
      "\u001b[1;31m---------------------------------------------------------------------------\u001b[0m",
      "\u001b[1;31mStopIteration\u001b[0m                             Traceback (most recent call last)",
      "\u001b[1;32m~\\AppData\\Local\\Temp/ipykernel_1668/973617480.py\u001b[0m in \u001b[0;36m<module>\u001b[1;34m\u001b[0m\n\u001b[1;32m----> 1\u001b[1;33m \u001b[0mnext\u001b[0m\u001b[1;33m(\u001b[0m\u001b[0mb\u001b[0m\u001b[1;33m)\u001b[0m\u001b[1;33m\u001b[0m\u001b[1;33m\u001b[0m\u001b[0m\n\u001b[0m",
      "\u001b[1;31mStopIteration\u001b[0m: "
     ]
    }
   ],
   "source": [
    "next(b)"
   ]
  },
  {
   "cell_type": "code",
   "execution_count": 8,
   "id": "aec95da9",
   "metadata": {},
   "outputs": [],
   "source": [
    "#iterator :  data which is iteraable it converted to iterator by default list is not iterator\n",
    "#iteratable: data which can be iterate through data          by default list is a iterator"
   ]
  },
  {
   "cell_type": "code",
   "execution_count": 9,
   "id": "429d047f",
   "metadata": {},
   "outputs": [
    {
     "ename": "TypeError",
     "evalue": "'int' object is not an iterator",
     "output_type": "error",
     "traceback": [
      "\u001b[1;31m---------------------------------------------------------------------------\u001b[0m",
      "\u001b[1;31mTypeError\u001b[0m                                 Traceback (most recent call last)",
      "\u001b[1;32m~\\AppData\\Local\\Temp/ipykernel_1668/2317411141.py\u001b[0m in \u001b[0;36m<module>\u001b[1;34m\u001b[0m\n\u001b[1;32m----> 1\u001b[1;33m \u001b[0mnext\u001b[0m\u001b[1;33m(\u001b[0m\u001b[1;36m45\u001b[0m\u001b[1;33m)\u001b[0m\u001b[1;33m\u001b[0m\u001b[1;33m\u001b[0m\u001b[0m\n\u001b[0m",
      "\u001b[1;31mTypeError\u001b[0m: 'int' object is not an iterator"
     ]
    }
   ],
   "source": [
    "next(45)"
   ]
  },
  {
   "cell_type": "code",
   "execution_count": 10,
   "id": "5f063e6b",
   "metadata": {},
   "outputs": [
    {
     "ename": "TypeError",
     "evalue": "'int' object is not iterable",
     "output_type": "error",
     "traceback": [
      "\u001b[1;31m---------------------------------------------------------------------------\u001b[0m",
      "\u001b[1;31mTypeError\u001b[0m                                 Traceback (most recent call last)",
      "\u001b[1;32m~\\AppData\\Local\\Temp/ipykernel_1668/3186544426.py\u001b[0m in \u001b[0;36m<module>\u001b[1;34m\u001b[0m\n\u001b[1;32m----> 1\u001b[1;33m \u001b[0miter\u001b[0m\u001b[1;33m(\u001b[0m\u001b[1;36m45\u001b[0m\u001b[1;33m)\u001b[0m\u001b[1;33m\u001b[0m\u001b[1;33m\u001b[0m\u001b[0m\n\u001b[0m",
      "\u001b[1;31mTypeError\u001b[0m: 'int' object is not iterable"
     ]
    }
   ],
   "source": [
    "iter(45)"
   ]
  },
  {
   "cell_type": "code",
   "execution_count": 11,
   "id": "707f3791",
   "metadata": {},
   "outputs": [
    {
     "ename": "TypeError",
     "evalue": "'str' object is not an iterator",
     "output_type": "error",
     "traceback": [
      "\u001b[1;31m---------------------------------------------------------------------------\u001b[0m",
      "\u001b[1;31mTypeError\u001b[0m                                 Traceback (most recent call last)",
      "\u001b[1;32m~\\AppData\\Local\\Temp/ipykernel_1668/3637393819.py\u001b[0m in \u001b[0;36m<module>\u001b[1;34m\u001b[0m\n\u001b[0;32m      1\u001b[0m \u001b[0ms\u001b[0m \u001b[1;33m=\u001b[0m \u001b[1;34m'sudh'\u001b[0m\u001b[1;33m\u001b[0m\u001b[1;33m\u001b[0m\u001b[0m\n\u001b[1;32m----> 2\u001b[1;33m \u001b[0mnext\u001b[0m\u001b[1;33m(\u001b[0m\u001b[0ms\u001b[0m\u001b[1;33m)\u001b[0m\u001b[1;33m\u001b[0m\u001b[1;33m\u001b[0m\u001b[0m\n\u001b[0m",
      "\u001b[1;31mTypeError\u001b[0m: 'str' object is not an iterator"
     ]
    }
   ],
   "source": [
    "s = 'sudh'\n",
    "next(s)"
   ]
  },
  {
   "cell_type": "code",
   "execution_count": 12,
   "id": "b5cfcd01",
   "metadata": {},
   "outputs": [
    {
     "data": {
      "text/plain": [
       "'s'"
      ]
     },
     "execution_count": 12,
     "metadata": {},
     "output_type": "execute_result"
    }
   ],
   "source": [
    "m = iter(s)\n",
    "next(m)"
   ]
  },
  {
   "cell_type": "code",
   "execution_count": 13,
   "id": "e1f5e636",
   "metadata": {},
   "outputs": [],
   "source": [
    "#Generator"
   ]
  },
  {
   "cell_type": "code",
   "execution_count": 14,
   "id": "e7006e8c",
   "metadata": {},
   "outputs": [
    {
     "data": {
      "text/plain": [
       "[1, 2, 3, 4, 5, 6, 7, 8, 9]"
      ]
     },
     "execution_count": 14,
     "metadata": {},
     "output_type": "execute_result"
    }
   ],
   "source": [
    "list(range(1,10))"
   ]
  },
  {
   "cell_type": "code",
   "execution_count": 18,
   "id": "b1f6b501",
   "metadata": {},
   "outputs": [
    {
     "data": {
      "text/plain": [
       "[0, 1, 4, 9, 16, 25, 36, 49, 64, 81]"
      ]
     },
     "execution_count": 18,
     "metadata": {},
     "output_type": "execute_result"
    }
   ],
   "source": [
    "def squr_n(n):\n",
    "    x = [i*i for i in range(n)]\n",
    "    return x\n",
    "squr_n(10)"
   ]
  },
  {
   "cell_type": "code",
   "execution_count": 19,
   "id": "c1141e09",
   "metadata": {},
   "outputs": [
    {
     "data": {
      "text/plain": [
       "<generator object squr_n1 at 0x000001E174E6FA50>"
      ]
     },
     "execution_count": 19,
     "metadata": {},
     "output_type": "execute_result"
    }
   ],
   "source": [
    "def squr_n1(n):\n",
    "    x = [i*i for i in range(n)]\n",
    "    yield x\n",
    "squr_n1(10)"
   ]
  },
  {
   "cell_type": "code",
   "execution_count": 24,
   "id": "d0e074a9",
   "metadata": {},
   "outputs": [
    {
     "name": "stdout",
     "output_type": "stream",
     "text": [
      "[0, 1, 4, 9, 16, 25, 36, 49, 64, 81]\n"
     ]
    }
   ],
   "source": [
    "for i in squr_n1(10):\n",
    "    print(i)"
   ]
  },
  {
   "cell_type": "code",
   "execution_count": 25,
   "id": "9b30d197",
   "metadata": {},
   "outputs": [
    {
     "data": {
      "text/plain": [
       "[[0, 1, 4, 9, 16, 25, 36, 49, 64, 81]]"
      ]
     },
     "execution_count": 25,
     "metadata": {},
     "output_type": "execute_result"
    }
   ],
   "source": [
    "list(squr_n1(10))"
   ]
  },
  {
   "cell_type": "code",
   "execution_count": 26,
   "id": "eba352c0",
   "metadata": {},
   "outputs": [
    {
     "data": {
      "text/plain": [
       "[0, 1, 4, 9]"
      ]
     },
     "execution_count": 26,
     "metadata": {},
     "output_type": "execute_result"
    }
   ],
   "source": [
    "next(squr_n1(4))"
   ]
  },
  {
   "cell_type": "code",
   "execution_count": 36,
   "id": "58755ae6",
   "metadata": {},
   "outputs": [
    {
     "data": {
      "text/plain": [
       "[0, 1, 1, 2, 3, 5, 8, 13, 21, 34, 55, 89, 144, 233, 377]"
      ]
     },
     "execution_count": 36,
     "metadata": {},
     "output_type": "execute_result"
    }
   ],
   "source": [
    "def defeb(n):\n",
    "    a = 0\n",
    "    b = 1\n",
    "    l = []\n",
    "    for i in range(n):\n",
    "        l.append(a)\n",
    "        a,b = b, a+b\n",
    "    return l\n",
    "defeb(15)"
   ]
  },
  {
   "cell_type": "code",
   "execution_count": 29,
   "id": "c512e089",
   "metadata": {},
   "outputs": [
    {
     "data": {
      "text/plain": [
       "0.6179775280898876"
      ]
     },
     "execution_count": 29,
     "metadata": {},
     "output_type": "execute_result"
    }
   ],
   "source": [
    "55/89\n"
   ]
  },
  {
   "cell_type": "code",
   "execution_count": 30,
   "id": "99eeb8e8",
   "metadata": {},
   "outputs": [
    {
     "data": {
      "text/plain": [
       "0.6181818181818182"
      ]
     },
     "execution_count": 30,
     "metadata": {},
     "output_type": "execute_result"
    }
   ],
   "source": [
    "34/55"
   ]
  },
  {
   "cell_type": "code",
   "execution_count": 31,
   "id": "6c25742f",
   "metadata": {},
   "outputs": [
    {
     "data": {
      "text/plain": [
       "0.6153846153846154"
      ]
     },
     "execution_count": 31,
     "metadata": {},
     "output_type": "execute_result"
    }
   ],
   "source": [
    "8/13"
   ]
  },
  {
   "cell_type": "code",
   "execution_count": 32,
   "id": "3d6f5e2d",
   "metadata": {},
   "outputs": [
    {
     "data": {
      "text/plain": [
       "0.6666666666666666"
      ]
     },
     "execution_count": 32,
     "metadata": {},
     "output_type": "execute_result"
    }
   ],
   "source": [
    "2/3"
   ]
  },
  {
   "cell_type": "code",
   "execution_count": 33,
   "id": "9b52b776",
   "metadata": {},
   "outputs": [
    {
     "data": {
      "text/plain": [
       "0.5"
      ]
     },
     "execution_count": 33,
     "metadata": {},
     "output_type": "execute_result"
    }
   ],
   "source": [
    "1/2"
   ]
  },
  {
   "cell_type": "code",
   "execution_count": 35,
   "id": "8fb16ed7",
   "metadata": {},
   "outputs": [
    {
     "data": {
      "text/plain": [
       "0.6180339887482036"
      ]
     },
     "execution_count": 35,
     "metadata": {},
     "output_type": "execute_result"
    }
   ],
   "source": [
    "317811/514229"
   ]
  },
  {
   "cell_type": "code",
   "execution_count": 39,
   "id": "a7d1fdf9",
   "metadata": {},
   "outputs": [],
   "source": [
    "def defeb1(n):\n",
    "    a = 0\n",
    "    b = 1\n",
    "    for i in range(n):\n",
    "        yield a\n",
    "        a,b = b, a+b"
   ]
  },
  {
   "cell_type": "code",
   "execution_count": 40,
   "id": "8b075ce6",
   "metadata": {},
   "outputs": [
    {
     "data": {
      "text/plain": [
       "[0, 1, 1, 2, 3, 5, 8, 13, 21, 34]"
      ]
     },
     "execution_count": 40,
     "metadata": {},
     "output_type": "execute_result"
    }
   ],
   "source": [
    "list(defeb1(10))"
   ]
  },
  {
   "cell_type": "code",
   "execution_count": 41,
   "id": "98e9fe52",
   "metadata": {},
   "outputs": [
    {
     "name": "stdout",
     "output_type": "stream",
     "text": [
      "0\n",
      "1\n",
      "1\n",
      "2\n",
      "3\n",
      "5\n",
      "8\n",
      "13\n",
      "21\n",
      "34\n",
      "55\n",
      "89\n",
      "144\n",
      "233\n",
      "377\n"
     ]
    }
   ],
   "source": [
    "for i in defeb1(15):\n",
    "    print(i)"
   ]
  },
  {
   "cell_type": "code",
   "execution_count": 42,
   "id": "942f4ca7",
   "metadata": {},
   "outputs": [],
   "source": [
    "# File operation\n",
    "f = open('a.txt')"
   ]
  },
  {
   "cell_type": "code",
   "execution_count": 43,
   "id": "c2c6b3ac",
   "metadata": {},
   "outputs": [
    {
     "data": {
      "text/plain": [
       "'this is murali'"
      ]
     },
     "execution_count": 43,
     "metadata": {},
     "output_type": "execute_result"
    }
   ],
   "source": [
    "f.read()"
   ]
  },
  {
   "cell_type": "code",
   "execution_count": 44,
   "id": "e984282a",
   "metadata": {},
   "outputs": [
    {
     "name": "stdout",
     "output_type": "stream",
     "text": [
      " Volume in drive C is ssd\n",
      " Volume Serial Number is 5EEB-280D\n",
      "\n",
      " Directory of C:\\Users\\HP\\Documents\\python-practice\\Class_resource\n",
      "\n",
      "18-06-2022  16:35    <DIR>          .\n",
      "18-06-2022  16:35    <DIR>          ..\n",
      "18-06-2022  15:23    <DIR>          .ipynb_checkpoints\n",
      "18-06-2022  16:34                14 a.txt\n",
      "18-06-2022  16:35            12,279 Generators_18-Jun.ipynb\n",
      "16-06-2022  21:48            23,891 logging and debuging.ipynb\n",
      "               3 File(s)         36,184 bytes\n",
      "               3 Dir(s)  77,940,527,104 bytes free\n"
     ]
    }
   ],
   "source": [
    "ls"
   ]
  },
  {
   "cell_type": "code",
   "execution_count": 48,
   "id": "412c0d7a",
   "metadata": {},
   "outputs": [],
   "source": [
    "f = open('b.txt','w')"
   ]
  },
  {
   "cell_type": "code",
   "execution_count": 49,
   "id": "163bb516",
   "metadata": {},
   "outputs": [
    {
     "data": {
      "text/plain": [
       "32"
      ]
     },
     "execution_count": 49,
     "metadata": {},
     "output_type": "execute_result"
    }
   ],
   "source": [
    "f.write('this is first operation on files')"
   ]
  },
  {
   "cell_type": "code",
   "execution_count": 50,
   "id": "c6cbeadc",
   "metadata": {},
   "outputs": [],
   "source": [
    "f.close()"
   ]
  },
  {
   "cell_type": "code",
   "execution_count": 51,
   "id": "c5e1a4da",
   "metadata": {},
   "outputs": [],
   "source": [
    "f1 = open('test1.txt','w')\n",
    "f1.write('this operation i am doing in fsds')\n",
    "f1.close()"
   ]
  },
  {
   "cell_type": "code",
   "execution_count": 52,
   "id": "cf6a82ec",
   "metadata": {},
   "outputs": [],
   "source": [
    "l =[1,2,3,4,6,8,9,10]"
   ]
  },
  {
   "cell_type": "code",
   "execution_count": 53,
   "id": "e7ef55cf",
   "metadata": {},
   "outputs": [
    {
     "name": "stdout",
     "output_type": "stream",
     "text": [
      "Writing test5.txt\n"
     ]
    }
   ],
   "source": [
    "%%writefile test5.txt\n",
    "I am murali\n",
    "I am muralic\n",
    "I am murali\n",
    "I am murali\n",
    "I am murali"
   ]
  },
  {
   "cell_type": "code",
   "execution_count": 54,
   "id": "2c3c36c0",
   "metadata": {},
   "outputs": [
    {
     "data": {
      "text/plain": [
       "'I am murali\\nI am muralic\\nI am murali\\nI am murali\\nI am murali\\n'"
      ]
     },
     "execution_count": 54,
     "metadata": {},
     "output_type": "execute_result"
    }
   ],
   "source": [
    "f = open('test5.txt')\n",
    "f.read()"
   ]
  },
  {
   "cell_type": "code",
   "execution_count": 55,
   "id": "b91ec787",
   "metadata": {},
   "outputs": [
    {
     "data": {
      "text/plain": [
       "''"
      ]
     },
     "execution_count": 55,
     "metadata": {},
     "output_type": "execute_result"
    }
   ],
   "source": [
    "f.read()"
   ]
  },
  {
   "cell_type": "code",
   "execution_count": 56,
   "id": "b8e18128",
   "metadata": {},
   "outputs": [
    {
     "data": {
      "text/plain": [
       "0"
      ]
     },
     "execution_count": 56,
     "metadata": {},
     "output_type": "execute_result"
    }
   ],
   "source": [
    "f.seek(0)"
   ]
  },
  {
   "cell_type": "code",
   "execution_count": 57,
   "id": "78e5dbbf",
   "metadata": {},
   "outputs": [
    {
     "data": {
      "text/plain": [
       "'I am murali\\nI am muralic\\nI am murali\\nI am murali\\nI am murali\\n'"
      ]
     },
     "execution_count": 57,
     "metadata": {},
     "output_type": "execute_result"
    }
   ],
   "source": [
    "f.read()"
   ]
  },
  {
   "cell_type": "code",
   "execution_count": 58,
   "id": "7eef2aa8",
   "metadata": {},
   "outputs": [
    {
     "data": {
      "text/plain": [
       "4"
      ]
     },
     "execution_count": 58,
     "metadata": {},
     "output_type": "execute_result"
    }
   ],
   "source": [
    "f.seek(4)"
   ]
  },
  {
   "cell_type": "code",
   "execution_count": 59,
   "id": "7eed00de",
   "metadata": {},
   "outputs": [
    {
     "data": {
      "text/plain": [
       "' murali\\nI am muralic\\nI am murali\\nI am murali\\nI am murali\\n'"
      ]
     },
     "execution_count": 59,
     "metadata": {},
     "output_type": "execute_result"
    }
   ],
   "source": [
    "f.read()"
   ]
  },
  {
   "cell_type": "code",
   "execution_count": 60,
   "id": "dad3edd3",
   "metadata": {},
   "outputs": [
    {
     "data": {
      "text/plain": [
       "0"
      ]
     },
     "execution_count": 60,
     "metadata": {},
     "output_type": "execute_result"
    }
   ],
   "source": [
    "f.seek(0)"
   ]
  },
  {
   "cell_type": "code",
   "execution_count": 61,
   "id": "8ce19e8c",
   "metadata": {},
   "outputs": [
    {
     "data": {
      "text/plain": [
       "0"
      ]
     },
     "execution_count": 61,
     "metadata": {},
     "output_type": "execute_result"
    }
   ],
   "source": [
    "f.tell()"
   ]
  },
  {
   "cell_type": "code",
   "execution_count": 62,
   "id": "95c021fc",
   "metadata": {},
   "outputs": [
    {
     "data": {
      "text/plain": [
       "'I am murali\\n'"
      ]
     },
     "execution_count": 62,
     "metadata": {},
     "output_type": "execute_result"
    }
   ],
   "source": [
    "f.readline()"
   ]
  },
  {
   "cell_type": "code",
   "execution_count": 63,
   "id": "ab89313f",
   "metadata": {},
   "outputs": [
    {
     "data": {
      "text/plain": [
       "['I am muralic\\n', 'I am murali\\n', 'I am murali\\n', 'I am murali\\n']"
      ]
     },
     "execution_count": 63,
     "metadata": {},
     "output_type": "execute_result"
    }
   ],
   "source": [
    "f.readlines()"
   ]
  },
  {
   "cell_type": "code",
   "execution_count": 64,
   "id": "372b07f0",
   "metadata": {},
   "outputs": [],
   "source": [
    "f.close()"
   ]
  },
  {
   "cell_type": "code",
   "execution_count": 65,
   "id": "b66dab38",
   "metadata": {},
   "outputs": [],
   "source": [
    "f = open('test5.txt','a')"
   ]
  },
  {
   "cell_type": "code",
   "execution_count": 66,
   "id": "a0107945",
   "metadata": {},
   "outputs": [
    {
     "data": {
      "text/plain": [
       "29"
      ]
     },
     "execution_count": 66,
     "metadata": {},
     "output_type": "execute_result"
    }
   ],
   "source": [
    "f.write('this is new data please check')"
   ]
  },
  {
   "cell_type": "code",
   "execution_count": 67,
   "id": "3a5d7bbd",
   "metadata": {},
   "outputs": [],
   "source": [
    "f.close()"
   ]
  },
  {
   "cell_type": "code",
   "execution_count": 68,
   "id": "e0951a1b",
   "metadata": {},
   "outputs": [
    {
     "data": {
      "text/plain": [
       "'test5.txt'"
      ]
     },
     "execution_count": 68,
     "metadata": {},
     "output_type": "execute_result"
    }
   ],
   "source": [
    "f.name"
   ]
  },
  {
   "cell_type": "code",
   "execution_count": 69,
   "id": "946734bc",
   "metadata": {},
   "outputs": [
    {
     "data": {
      "text/plain": [
       "True"
      ]
     },
     "execution_count": 69,
     "metadata": {},
     "output_type": "execute_result"
    }
   ],
   "source": [
    "f.closed"
   ]
  },
  {
   "cell_type": "code",
   "execution_count": null,
   "id": "f4657e4d",
   "metadata": {},
   "outputs": [],
   "source": []
  },
  {
   "cell_type": "code",
   "execution_count": 71,
   "id": "b6d492f6",
   "metadata": {},
   "outputs": [
    {
     "data": {
      "text/plain": [
       "'a'"
      ]
     },
     "execution_count": 71,
     "metadata": {},
     "output_type": "execute_result"
    }
   ],
   "source": [
    "f.mode"
   ]
  },
  {
   "cell_type": "code",
   "execution_count": null,
   "id": "4f00dce7",
   "metadata": {},
   "outputs": [],
   "source": []
  },
  {
   "cell_type": "code",
   "execution_count": null,
   "id": "6491847a",
   "metadata": {},
   "outputs": [],
   "source": []
  },
  {
   "cell_type": "markdown",
   "id": "85d576b2",
   "metadata": {},
   "source": []
  },
  {
   "cell_type": "code",
   "execution_count": 72,
   "id": "880d4273",
   "metadata": {},
   "outputs": [
    {
     "name": "stdout",
     "output_type": "stream",
     "text": [
      "[1, 4, 9, 16, 25, 36]\n"
     ]
    }
   ],
   "source": [
    "#map ,reduce and filter function\n",
    "l = [1,2,3,4,5,6]\n",
    "\n",
    "\n",
    "m = list(map(lambda i: i*i ,l))\n",
    "print(m)"
   ]
  },
  {
   "cell_type": "code",
   "execution_count": 73,
   "id": "8a5b7a2c",
   "metadata": {},
   "outputs": [
    {
     "name": "stdout",
     "output_type": "stream",
     "text": [
      "['1', '2', '3', '4', '5', '6']\n"
     ]
    }
   ],
   "source": [
    "s = list(map(lambda i:str(i),l))\n",
    "print(s)"
   ]
  },
  {
   "cell_type": "code",
   "execution_count": 74,
   "id": "93b53285",
   "metadata": {},
   "outputs": [],
   "source": [
    "from functools import reduce\n"
   ]
  },
  {
   "cell_type": "code",
   "execution_count": 75,
   "id": "781ea841",
   "metadata": {},
   "outputs": [
    {
     "data": {
      "text/plain": [
       "21"
      ]
     },
     "execution_count": 75,
     "metadata": {},
     "output_type": "execute_result"
    }
   ],
   "source": [
    "sum(l)"
   ]
  },
  {
   "cell_type": "code",
   "execution_count": 76,
   "id": "ae6f9a8c",
   "metadata": {},
   "outputs": [
    {
     "data": {
      "text/plain": [
       "21"
      ]
     },
     "execution_count": 76,
     "metadata": {},
     "output_type": "execute_result"
    }
   ],
   "source": [
    "reduce(lambda a,b:a+b,l)"
   ]
  },
  {
   "cell_type": "code",
   "execution_count": 77,
   "id": "d6163964",
   "metadata": {},
   "outputs": [
    {
     "data": {
      "text/plain": [
       "720"
      ]
     },
     "execution_count": 77,
     "metadata": {},
     "output_type": "execute_result"
    }
   ],
   "source": [
    "reduce(lambda a,b:a*b,l)"
   ]
  },
  {
   "cell_type": "code",
   "execution_count": null,
   "id": "05734f31",
   "metadata": {},
   "outputs": [],
   "source": []
  }
 ],
 "metadata": {
  "kernelspec": {
   "display_name": "Python 3 (ipykernel)",
   "language": "python",
   "name": "python3"
  },
  "language_info": {
   "codemirror_mode": {
    "name": "ipython",
    "version": 3
   },
   "file_extension": ".py",
   "mimetype": "text/x-python",
   "name": "python",
   "nbconvert_exporter": "python",
   "pygments_lexer": "ipython3",
   "version": "3.9.7"
  }
 },
 "nbformat": 4,
 "nbformat_minor": 5
}
