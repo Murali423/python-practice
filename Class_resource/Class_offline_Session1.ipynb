{
 "cells": [
  {
   "cell_type": "code",
   "execution_count": 1,
   "id": "57fb0981",
   "metadata": {},
   "outputs": [],
   "source": [
    "class car:\n",
    "    pass"
   ]
  },
  {
   "cell_type": "code",
   "execution_count": 2,
   "id": "a34b9b79",
   "metadata": {},
   "outputs": [],
   "source": [
    "audiq7 = car()"
   ]
  },
  {
   "cell_type": "code",
   "execution_count": 3,
   "id": "2276f547",
   "metadata": {},
   "outputs": [],
   "source": [
    "audiq7.milage =10\n",
    "audiq7.model = \"fsds\""
   ]
  },
  {
   "cell_type": "code",
   "execution_count": 4,
   "id": "6f8555f2",
   "metadata": {},
   "outputs": [],
   "source": [
    "nano = car()"
   ]
  },
  {
   "cell_type": "code",
   "execution_count": 5,
   "id": "474bcf99",
   "metadata": {},
   "outputs": [],
   "source": [
    "nano.milage = 20\n",
    "nano.model = \"twist\"\n",
    "nano.year = 2020"
   ]
  },
  {
   "cell_type": "code",
   "execution_count": 6,
   "id": "30342337",
   "metadata": {},
   "outputs": [
    {
     "name": "stdout",
     "output_type": "stream",
     "text": [
      "20 10\n"
     ]
    }
   ],
   "source": [
    "print(nano.milage, audiq7.milage)"
   ]
  },
  {
   "cell_type": "code",
   "execution_count": 7,
   "id": "f588659a",
   "metadata": {},
   "outputs": [],
   "source": [
    "class car:\n",
    "    def __init__(self,milage,year,make,model):\n",
    "        self.milage = milage\n",
    "        self.year = year\n",
    "        self.make = make\n",
    "        self.model = model"
   ]
  },
  {
   "cell_type": "code",
   "execution_count": 8,
   "id": "b22a3226",
   "metadata": {},
   "outputs": [],
   "source": [
    "nano1 = car(20,2020,23455,'fdd')\n",
    "audiq7 =car(20,2020,236665,'fsdsss')"
   ]
  },
  {
   "cell_type": "code",
   "execution_count": 9,
   "id": "66a27f05",
   "metadata": {},
   "outputs": [
    {
     "data": {
      "text/plain": [
       "20"
      ]
     },
     "execution_count": 9,
     "metadata": {},
     "output_type": "execute_result"
    }
   ],
   "source": [
    "nano.milage\n"
   ]
  },
  {
   "cell_type": "code",
   "execution_count": 10,
   "id": "6b75ad27",
   "metadata": {},
   "outputs": [],
   "source": [
    "class car:\n",
    "    def __init__(a,m,y,ma,mo):\n",
    "        a.milage = m\n",
    "        a.year = y\n",
    "        a.make = ma\n",
    "        a.model = mo\n",
    "    def age(b,current_year):\n",
    "        return current_year - b.year\n",
    "    \n",
    "    def milage1(self):\n",
    "        print('milage of car is ',self.milage)\n",
    "        \n",
    "    def __str__(c):\n",
    "        return 'this is my car class i have created'"
   ]
  },
  {
   "cell_type": "code",
   "execution_count": 11,
   "id": "8ef996dc",
   "metadata": {},
   "outputs": [],
   "source": [
    "nano2 = car(20,2020,34567,\"twist\")"
   ]
  },
  {
   "cell_type": "code",
   "execution_count": 12,
   "id": "18da2eb5",
   "metadata": {},
   "outputs": [
    {
     "data": {
      "text/plain": [
       "2020"
      ]
     },
     "execution_count": 12,
     "metadata": {},
     "output_type": "execute_result"
    }
   ],
   "source": [
    "nano2.year"
   ]
  },
  {
   "cell_type": "code",
   "execution_count": 13,
   "id": "08b37781",
   "metadata": {},
   "outputs": [
    {
     "data": {
      "text/plain": [
       "2"
      ]
     },
     "execution_count": 13,
     "metadata": {},
     "output_type": "execute_result"
    }
   ],
   "source": [
    "nano2.age(2022)"
   ]
  },
  {
   "cell_type": "code",
   "execution_count": 14,
   "id": "c108c5d9",
   "metadata": {},
   "outputs": [
    {
     "name": "stdout",
     "output_type": "stream",
     "text": [
      "2022-06-28\n",
      "2022\n",
      "6\n",
      "28\n",
      "58\n",
      "35\n",
      "10\n"
     ]
    }
   ],
   "source": [
    "from datetime import datetime\n",
    "a = datetime.date(datetime.now())\n",
    "print(a)\n",
    "print(a.year)\n",
    "print(a.month)\n",
    "print(a.day)\n",
    "\n",
    "b = datetime.now()\n",
    "print(b.second)\n",
    "print(b.minute)\n",
    "print(b.hour)"
   ]
  },
  {
   "cell_type": "code",
   "execution_count": 15,
   "id": "b527fbd0",
   "metadata": {},
   "outputs": [
    {
     "name": "stdout",
     "output_type": "stream",
     "text": [
      "milage of car is  20\n"
     ]
    }
   ],
   "source": [
    "nano2.milage1()"
   ]
  },
  {
   "cell_type": "code",
   "execution_count": 16,
   "id": "7295dfa5",
   "metadata": {},
   "outputs": [
    {
     "data": {
      "text/plain": [
       "<__main__.car at 0x288de7be100>"
      ]
     },
     "execution_count": 16,
     "metadata": {},
     "output_type": "execute_result"
    }
   ],
   "source": [
    "nano2"
   ]
  },
  {
   "cell_type": "code",
   "execution_count": 17,
   "id": "f5affc03",
   "metadata": {},
   "outputs": [
    {
     "name": "stdout",
     "output_type": "stream",
     "text": [
      "this is my car class i have created\n"
     ]
    }
   ],
   "source": [
    "print(nano2)"
   ]
  },
  {
   "cell_type": "code",
   "execution_count": null,
   "id": "3fe630a8",
   "metadata": {},
   "outputs": [],
   "source": []
  },
  {
   "cell_type": "code",
   "execution_count": null,
   "id": "04a4d85e",
   "metadata": {},
   "outputs": [],
   "source": []
  }
 ],
 "metadata": {
  "kernelspec": {
   "display_name": "Python 3 (ipykernel)",
   "language": "python",
   "name": "python3"
  },
  "language_info": {
   "codemirror_mode": {
    "name": "ipython",
    "version": 3
   },
   "file_extension": ".py",
   "mimetype": "text/x-python",
   "name": "python",
   "nbconvert_exporter": "python",
   "pygments_lexer": "ipython3",
   "version": "3.9.7"
  }
 },
 "nbformat": 4,
 "nbformat_minor": 5
}
