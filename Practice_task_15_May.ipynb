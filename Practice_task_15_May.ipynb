{
 "cells": [
  {
   "cell_type": "markdown",
   "id": "1324632f",
   "metadata": {},
   "source": [
    "### Practice_task_15-May-2022"
   ]
  },
  {
   "cell_type": "markdown",
   "id": "c2f3837b",
   "metadata": {},
   "source": [
    "\"\"\"\n",
    "https://codeshare.io/X8PY8Y\n",
    "\n",
    "s = \"this is My First Python programming class and i am learNING python string and its function\"\n",
    "\n",
    "1 . Try to extract data from index one to index 300 with a jump of 3\n",
    "\n",
    "2 Try to reverse a string without using reverse function \n",
    "\n",
    "3 Try to split a string after conversion of entire string in uppercase \n",
    "\n",
    "4 try to convert the whole string into lower case\n",
    "\n",
    "5 . Try to capitalize the whole string \n",
    "\n",
    "6 . Write a diference between isalnum() and isalpha()\n",
    "\n",
    "7 . Try to give an example of expand tab\n",
    "\n",
    "8 . Give an example of strip , lstrip and rstrip \n",
    "\n",
    "9 .  Replace a string charecter by another charector by taking your own example \n",
    "\"sudhanshu\"\n",
    "\n",
    "10 . Try  to give a defination of string center function with and exmple \n",
    "\n",
    "11 . Write your own definition of compiler and interpretor without copy paste form internet in your own language\n",
    "\n",
    "12 . Python is a interpreted of compiled language give a clear ans with your understanding\n",
    "\n",
    "13 . Try to write a usecase of python with your understanding .\n",
    "\n",
    "\n",
    "you have to send a jupyter notebook to shivan@ineuron.ai before next saturday class 21st of may .\"\"\""
   ]
  },
  {
   "cell_type": "code",
   "execution_count": 1,
   "id": "129355e6",
   "metadata": {},
   "outputs": [],
   "source": [
    "s = \"this is My First Python programming class and i am learNING python string and its function\""
   ]
  },
  {
   "cell_type": "markdown",
   "id": "21b11b2b",
   "metadata": {},
   "source": [
    "####  1 . Try to extract data from index one to index 300 with a jump of 3"
   ]
  },
  {
   "cell_type": "code",
   "execution_count": 2,
   "id": "f7378fb0",
   "metadata": {},
   "outputs": [
    {
     "data": {
      "text/plain": [
       "'h   r tnrrmglsnimeNGyosi dtfco'"
      ]
     },
     "execution_count": 2,
     "metadata": {},
     "output_type": "execute_result"
    }
   ],
   "source": [
    "s[1:300:3]"
   ]
  },
  {
   "cell_type": "markdown",
   "id": "82b9c2b1",
   "metadata": {},
   "source": [
    "#### 2  .Try to reverse a string without using reverse function"
   ]
  },
  {
   "cell_type": "markdown",
   "id": "5d61a7f4",
   "metadata": {},
   "source": [
    "reversing can be done by [::-1]"
   ]
  },
  {
   "cell_type": "code",
   "execution_count": 3,
   "id": "783ad5f1",
   "metadata": {},
   "outputs": [
    {
     "data": {
      "text/plain": [
       "'noitcnuf sti dna gnirts nohtyp GNINrael ma i dna ssalc gnimmargorp nohtyP tsriF yM si siht'"
      ]
     },
     "execution_count": 3,
     "metadata": {},
     "output_type": "execute_result"
    }
   ],
   "source": [
    "reverse_s = s[::-1]\n",
    "reverse_s"
   ]
  },
  {
   "cell_type": "markdown",
   "id": "02eff56c",
   "metadata": {},
   "source": [
    "#### 3 Try to split a string after conversion of entire string in uppercase "
   ]
  },
  {
   "cell_type": "markdown",
   "id": "690f542e",
   "metadata": {},
   "source": [
    "To convert to uppercase we use string.upper(), string.split()"
   ]
  },
  {
   "cell_type": "code",
   "execution_count": 4,
   "id": "a9fedc1b",
   "metadata": {},
   "outputs": [
    {
     "data": {
      "text/plain": [
       "'THIS IS MY FIRST PYTHON PROGRAMMING CLASS AND I AM LEARNING PYTHON STRING AND ITS FUNCTION'"
      ]
     },
     "execution_count": 4,
     "metadata": {},
     "output_type": "execute_result"
    }
   ],
   "source": [
    "upper_s = s.upper()\n",
    "upper_s"
   ]
  },
  {
   "cell_type": "code",
   "execution_count": 6,
   "id": "a28f3bba",
   "metadata": {},
   "outputs": [
    {
     "data": {
      "text/plain": [
       "['THIS',\n",
       " 'IS',\n",
       " 'MY',\n",
       " 'FIRST',\n",
       " 'PYTHON',\n",
       " 'PROGRAMMING',\n",
       " 'CLASS',\n",
       " 'AND',\n",
       " 'I',\n",
       " 'AM',\n",
       " 'LEARNING',\n",
       " 'PYTHON',\n",
       " 'STRING',\n",
       " 'AND',\n",
       " 'ITS',\n",
       " 'FUNCTION']"
      ]
     },
     "execution_count": 6,
     "metadata": {},
     "output_type": "execute_result"
    }
   ],
   "source": [
    "split_s = upper_s.split(' ')\n",
    "split_s"
   ]
  },
  {
   "cell_type": "markdown",
   "id": "97991c34",
   "metadata": {},
   "source": [
    "#### 4 try to convert the whole string into lower case"
   ]
  },
  {
   "cell_type": "markdown",
   "id": "57a8a7a7",
   "metadata": {},
   "source": [
    "we can use lower() function for to convert every string to lowercase "
   ]
  },
  {
   "cell_type": "code",
   "execution_count": 7,
   "id": "288a3129",
   "metadata": {},
   "outputs": [
    {
     "data": {
      "text/plain": [
       "'this is my first python programming class and i am learning python string and its function'"
      ]
     },
     "execution_count": 7,
     "metadata": {},
     "output_type": "execute_result"
    }
   ],
   "source": [
    "lower_s = s.lower()\n",
    "lower_s"
   ]
  },
  {
   "cell_type": "markdown",
   "id": "6cde1b37",
   "metadata": {},
   "source": [
    "#### 5 . Try to capitalize the whole string"
   ]
  },
  {
   "cell_type": "markdown",
   "id": "5f5d1a4b",
   "metadata": {},
   "source": [
    "we use capitalize() to make Capitalize the first sting to capitalize"
   ]
  },
  {
   "cell_type": "code",
   "execution_count": 9,
   "id": "de96f4d9",
   "metadata": {},
   "outputs": [
    {
     "data": {
      "text/plain": [
       "'This is my first python programming class and i am learning python string and its function'"
      ]
     },
     "execution_count": 9,
     "metadata": {},
     "output_type": "execute_result"
    }
   ],
   "source": [
    "capt_s = s.capitalize()\n",
    "capt_s"
   ]
  },
  {
   "cell_type": "markdown",
   "id": "94adcdd5",
   "metadata": {},
   "source": [
    "### 6 . Write a diference between isalnum() and isalpha()"
   ]
  },
  {
   "cell_type": "markdown",
   "id": "d28f1ba0",
   "metadata": {},
   "source": [
    "isalnum() -   A string is alpha-numeric if all characters in the string are alpha-numeric and\n",
    "there is at least one character in the string.\n",
    "\n",
    "this function retuns True if the string is an alpha-numeric string, False otherwise."
   ]
  },
  {
   "cell_type": "code",
   "execution_count": 33,
   "id": "9e35833e",
   "metadata": {},
   "outputs": [],
   "source": [
    "m = 'mua1'"
   ]
  },
  {
   "cell_type": "markdown",
   "id": "a62b4f40",
   "metadata": {},
   "source": [
    "In this string we have a number so if we apply isalnum() we get true, if we give two words with space it give False"
   ]
  },
  {
   "cell_type": "code",
   "execution_count": 35,
   "id": "9c52c027",
   "metadata": {},
   "outputs": [
    {
     "data": {
      "text/plain": [
       "True"
      ]
     },
     "execution_count": 35,
     "metadata": {},
     "output_type": "execute_result"
    }
   ],
   "source": [
    "m.isalnum()"
   ]
  },
  {
   "cell_type": "code",
   "execution_count": 37,
   "id": "c91c287c",
   "metadata": {},
   "outputs": [],
   "source": [
    "m = \"1murali 123\""
   ]
  },
  {
   "cell_type": "code",
   "execution_count": 38,
   "id": "e8bae5e6",
   "metadata": {},
   "outputs": [
    {
     "data": {
      "text/plain": [
       "False"
      ]
     },
     "execution_count": 38,
     "metadata": {},
     "output_type": "execute_result"
    }
   ],
   "source": [
    "m.isalnum()"
   ]
  },
  {
   "cell_type": "markdown",
   "id": "115cbfbf",
   "metadata": {},
   "source": [
    "isalpah() - A string is alphabetic if all characters in the string are alphabetic and there is at least one character in the string.\n",
    "This function returns true is string is alphabatic , False otherwise "
   ]
  },
  {
   "cell_type": "code",
   "execution_count": 39,
   "id": "9fc414b0",
   "metadata": {},
   "outputs": [],
   "source": [
    "m = 'murali'"
   ]
  },
  {
   "cell_type": "markdown",
   "id": "433968f0",
   "metadata": {},
   "source": [
    "string  will return true having only alphabets if we have another sting with space or any number along with it i will throw error "
   ]
  },
  {
   "cell_type": "code",
   "execution_count": 40,
   "id": "c3e2bc4d",
   "metadata": {},
   "outputs": [
    {
     "data": {
      "text/plain": [
       "True"
      ]
     },
     "execution_count": 40,
     "metadata": {},
     "output_type": "execute_result"
    }
   ],
   "source": [
    "m.isalpha()"
   ]
  },
  {
   "cell_type": "code",
   "execution_count": 42,
   "id": "5e607ae8",
   "metadata": {},
   "outputs": [],
   "source": [
    "m =\"murali very\""
   ]
  },
  {
   "cell_type": "code",
   "execution_count": 43,
   "id": "3b0cac24",
   "metadata": {},
   "outputs": [
    {
     "data": {
      "text/plain": [
       "False"
      ]
     },
     "execution_count": 43,
     "metadata": {},
     "output_type": "execute_result"
    }
   ],
   "source": [
    "m.isalpha()"
   ]
  },
  {
   "cell_type": "code",
   "execution_count": 44,
   "id": "12b794cb",
   "metadata": {},
   "outputs": [
    {
     "data": {
      "text/plain": [
       "False"
      ]
     },
     "execution_count": 44,
     "metadata": {},
     "output_type": "execute_result"
    }
   ],
   "source": [
    "m = '1murali'\n",
    "m.isalpha()"
   ]
  },
  {
   "cell_type": "markdown",
   "id": "239e0f2a",
   "metadata": {},
   "source": [
    "###  7 . Try to give an example of expand tab"
   ]
  },
  {
   "cell_type": "code",
   "execution_count": 48,
   "id": "2f18b27c",
   "metadata": {},
   "outputs": [
    {
     "data": {
      "text/plain": [
       "'ineuron  \\tmake\\tour\\tlives \\teasy '"
      ]
     },
     "execution_count": 48,
     "metadata": {},
     "output_type": "execute_result"
    }
   ],
   "source": [
    "s = 'ineuron  \\tmake\\tour\\tlives \\teasy '\n",
    "s"
   ]
  },
  {
   "cell_type": "markdown",
   "id": "51786975",
   "metadata": {},
   "source": [
    "if we give print string \\t taken as string but not as special character. to overcome this we use string.expandtab() function"
   ]
  },
  {
   "cell_type": "code",
   "execution_count": 49,
   "id": "96db73f2",
   "metadata": {},
   "outputs": [
    {
     "data": {
      "text/plain": [
       "'ineuron         make    our     lives   easy '"
      ]
     },
     "execution_count": 49,
     "metadata": {},
     "output_type": "execute_result"
    }
   ],
   "source": [
    "s.expandtabs()"
   ]
  },
  {
   "cell_type": "markdown",
   "id": "0d3f1b38",
   "metadata": {},
   "source": [
    "###  8 . Give an example of strip , lstrip and rstrip "
   ]
  },
  {
   "cell_type": "markdown",
   "id": "fb580bc3",
   "metadata": {},
   "source": [
    "strip() function is used to remove the extra spaces before and after string.\n",
    "\n",
    "rstrip() function is used to remove the extra space after string.\n",
    "\n",
    "lstrip() function is used to remove the extra space before string."
   ]
  },
  {
   "cell_type": "code",
   "execution_count": 50,
   "id": "ac0a5b78",
   "metadata": {},
   "outputs": [
    {
     "data": {
      "text/plain": [
       "'   sudh   anshu    '"
      ]
     },
     "execution_count": 50,
     "metadata": {},
     "output_type": "execute_result"
    }
   ],
   "source": [
    "s = \"   sudh   anshu    \"\n",
    "s"
   ]
  },
  {
   "cell_type": "code",
   "execution_count": 51,
   "id": "dc1e6569",
   "metadata": {},
   "outputs": [
    {
     "data": {
      "text/plain": [
       "'sudh   anshu'"
      ]
     },
     "execution_count": 51,
     "metadata": {},
     "output_type": "execute_result"
    }
   ],
   "source": [
    "s.strip()"
   ]
  },
  {
   "cell_type": "code",
   "execution_count": 52,
   "id": "665e79ec",
   "metadata": {},
   "outputs": [
    {
     "data": {
      "text/plain": [
       "'   sudh   anshu'"
      ]
     },
     "execution_count": 52,
     "metadata": {},
     "output_type": "execute_result"
    }
   ],
   "source": [
    "s.rstrip()"
   ]
  },
  {
   "cell_type": "code",
   "execution_count": 53,
   "id": "5b1f66d4",
   "metadata": {},
   "outputs": [
    {
     "data": {
      "text/plain": [
       "'sudh   anshu    '"
      ]
     },
     "execution_count": 53,
     "metadata": {},
     "output_type": "execute_result"
    }
   ],
   "source": [
    "s.lstrip()"
   ]
  },
  {
   "cell_type": "markdown",
   "id": "658a346c",
   "metadata": {},
   "source": [
    "###  9 .  Replace a string charecter by another charector by taking your own example  \"sudhanshu\""
   ]
  },
  {
   "cell_type": "code",
   "execution_count": 54,
   "id": "3afac404",
   "metadata": {},
   "outputs": [],
   "source": [
    "s = 'sudhanshu'"
   ]
  },
  {
   "cell_type": "markdown",
   "id": "8e876225",
   "metadata": {},
   "source": [
    " replace() function is used to get replace the strings/character in the given string "
   ]
  },
  {
   "cell_type": "code",
   "execution_count": 59,
   "id": "73beed46",
   "metadata": {},
   "outputs": [
    {
     "data": {
      "text/plain": [
       "'$udhan$hu'"
      ]
     },
     "execution_count": 59,
     "metadata": {},
     "output_type": "execute_result"
    }
   ],
   "source": [
    "replace_str= s.replace('s','$')\n",
    "replace_str"
   ]
  },
  {
   "cell_type": "code",
   "execution_count": 60,
   "id": "55ca62ab",
   "metadata": {},
   "outputs": [
    {
     "data": {
      "text/plain": [
       "'sudhanshu'"
      ]
     },
     "execution_count": 60,
     "metadata": {},
     "output_type": "execute_result"
    }
   ],
   "source": [
    "s"
   ]
  },
  {
   "cell_type": "markdown",
   "id": "eb9babc5",
   "metadata": {},
   "source": [
    "#### 10 . Try  to give a defination of string center function with and exmple"
   ]
  },
  {
   "cell_type": "markdown",
   "id": "fc5c9920",
   "metadata": {},
   "source": [
    "The center() method returns a string which is padded with the specified character.\n",
    "\n",
    "center(len of alloc, 'padding string'), string will be kept in padding strings having lenght of allocation"
   ]
  },
  {
   "cell_type": "code",
   "execution_count": 61,
   "id": "895d6700",
   "metadata": {},
   "outputs": [],
   "source": [
    "a = \"ineuron\""
   ]
  },
  {
   "cell_type": "code",
   "execution_count": 62,
   "id": "4559d002",
   "metadata": {},
   "outputs": [
    {
     "data": {
      "text/plain": [
       "'$$$$$$ineuron$$$$$$$'"
      ]
     },
     "execution_count": 62,
     "metadata": {},
     "output_type": "execute_result"
    }
   ],
   "source": [
    "a.center(20,'$')"
   ]
  },
  {
   "cell_type": "markdown",
   "id": "5d091c06",
   "metadata": {},
   "source": [
    "### 11 . Write your own definition of compiler and interpretor without copy paste form internet in your own language"
   ]
  },
  {
   "cell_type": "markdown",
   "id": "88cf673f",
   "metadata": {},
   "source": [
    "Compiler: compiler is as software program which used to compile software program which gives OS understandble file and generate executable file. Compiled file is specific to OS it cannot run on other OS. \n",
    "\n",
    "Ex: C , C++\n",
    "\n",
    "Interpreter: It is Interpreter software program which used run file dynamically line by line and generate bytecode file which can run on any OS. Interpreter which makes portable and run on any OS\n",
    "\n",
    "Ex: Python, Java"
   ]
  },
  {
   "cell_type": "markdown",
   "id": "67943a15",
   "metadata": {},
   "source": [
    "#### 12 . Python is a interpreted of compiled language give a clear ans with your understanding"
   ]
  },
  {
   "cell_type": "markdown",
   "id": "ba3353dc",
   "metadata": {},
   "source": [
    "Python code is converted to bytecode when it is executed, bytecode file is set of instruction which run on python virtual machine by CPU. Bytecode can be run on any OS. "
   ]
  },
  {
   "cell_type": "markdown",
   "id": "dd55fd4e",
   "metadata": {},
   "source": [
    "###  13 . Try to write a usecase of python with your understanding ."
   ]
  },
  {
   "cell_type": "markdown",
   "id": "35a9d50b",
   "metadata": {},
   "source": [
    "Python is a high-level, interpreted, general-purpose programming, multi-paradigm programming language, Object-oriented programming and structured programming language\n",
    "\n",
    "it is dynamically typed language which makes no need define which type of data included into program \n",
    "\n",
    "which makes this python program very easy undasatndable and make handy to implement any type of logic with minimum lines of code.\n",
    "\n",
    "python is scripted language it can be used in many ways\n",
    "\n",
    "pyhon can be used develop desktop applications using tknet like blender which is image processing tools developed in python.\n",
    "\n",
    "python is used to develop web application, scientific programming.\n",
    "\n",
    "python is used in developing data science, data visualization, ML, DL, and CV applications it has huge library support.\n",
    "\n",
    "python is used to developing the games.\n",
    "\n",
    "python is used to develop applications of microcontroller or processor using python support to C. \n",
    "\n",
    "python makes very easy to implement and run on any platform\n",
    "\n"
   ]
  },
  {
   "cell_type": "code",
   "execution_count": null,
   "id": "5f74848f",
   "metadata": {},
   "outputs": [],
   "source": []
  }
 ],
 "metadata": {
  "kernelspec": {
   "display_name": "Python 3 (ipykernel)",
   "language": "python",
   "name": "python3"
  },
  "language_info": {
   "codemirror_mode": {
    "name": "ipython",
    "version": 3
   },
   "file_extension": ".py",
   "mimetype": "text/x-python",
   "name": "python",
   "nbconvert_exporter": "python",
   "pygments_lexer": "ipython3",
   "version": "3.9.7"
  }
 },
 "nbformat": 4,
 "nbformat_minor": 5
}
