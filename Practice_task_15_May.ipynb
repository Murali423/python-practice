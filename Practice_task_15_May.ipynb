{
 "cells": [
  {
   "cell_type": "markdown",
   "id": "1f3bd954",
   "metadata": {},
   "source": [
    "### Practice_task_15-May-2022"
   ]
  },
  {
   "cell_type": "markdown",
   "id": "d1a7f001",
   "metadata": {},
   "source": [
    "\"\"\"\n",
    "https://codeshare.io/X8PY8Y\n",
    "\n",
    "s = \"this is My First Python programming class and i am learNING python string and its function\"\n",
    "\n",
    "1 . Try to extract data from index one to index 300 with a jump of 3\n",
    "\n",
    "2 Try to reverse a string without using reverse function \n",
    "\n",
    "3 Try to split a string after conversion of entire string in uppercase \n",
    "\n",
    "4 try to convert the whole string into lower case\n",
    "\n",
    "5 . Try to capitalize the whole string \n",
    "\n",
    "6 . Write a diference between isalnum() and isalpha()\n",
    "\n",
    "7 . Try to give an example of expand tab\n",
    "\n",
    "8 . Give an example of strip , lstrip and rstrip \n",
    "\n",
    "9 .  Replace a string charecter by another charector by taking your own example \n",
    "\"sudhanshu\"\n",
    "\n",
    "10 . Try  to give a defination of string center function with and exmple \n",
    "\n",
    "11 . Write your own definition of compiler and interpretor without copy paste form internet in your own language\n",
    "\n",
    "12 . Python is a interpreted of compiled language give a clear ans with your understanding\n",
    "\n",
    "13 . Try to write a usecase of python with your understanding .\n",
    "\n",
    "\n",
    "you have to send a jupyter notebook to shivan@ineuron.ai before next saturday class 21st of may .\"\"\""
   ]
  },
  {
   "cell_type": "code",
   "execution_count": 1,
   "id": "96512e9b",
   "metadata": {},
   "outputs": [],
   "source": [
    "s = \"this is My First Python programming class and i am learNING python string and its function\""
   ]
  },
  {
   "cell_type": "markdown",
   "id": "86a8585a",
   "metadata": {},
   "source": [
    "####  1 . Try to extract data from index one to index 300 with a jump of 3"
   ]
  },
  {
   "cell_type": "code",
   "execution_count": 2,
   "id": "4c5d12b7",
   "metadata": {},
   "outputs": [
    {
     "data": {
      "text/plain": [
       "'h   r tnrrmglsnimeNGyosi dtfco'"
      ]
     },
     "execution_count": 2,
     "metadata": {},
     "output_type": "execute_result"
    }
   ],
   "source": [
    "s[1:300:3]"
   ]
  },
  {
   "cell_type": "markdown",
   "id": "7e6e777c",
   "metadata": {},
   "source": [
    "#### 2  .Try to reverse a string without using reverse function"
   ]
  },
  {
   "cell_type": "markdown",
   "id": "7175b579",
   "metadata": {},
   "source": [
    "reversing can be done by [::-1]"
   ]
  },
  {
   "cell_type": "code",
   "execution_count": 3,
   "id": "45575c69",
   "metadata": {},
   "outputs": [
    {
     "data": {
      "text/plain": [
       "'noitcnuf sti dna gnirts nohtyp GNINrael ma i dna ssalc gnimmargorp nohtyP tsriF yM si siht'"
      ]
     },
     "execution_count": 3,
     "metadata": {},
     "output_type": "execute_result"
    }
   ],
   "source": [
    "reverse_s = s[::-1]\n",
    "reverse_s"
   ]
  },
  {
   "cell_type": "markdown",
   "id": "023580c2",
   "metadata": {},
   "source": [
    "#### 3 Try to split a string after conversion of entire string in uppercase "
   ]
  },
  {
   "cell_type": "markdown",
   "id": "a3bece09",
   "metadata": {},
   "source": [
    "To convert to uppercase we use string.upper(), string.split()"
   ]
  },
  {
   "cell_type": "code",
   "execution_count": 4,
   "id": "e232adde",
   "metadata": {},
   "outputs": [
    {
     "data": {
      "text/plain": [
       "'THIS IS MY FIRST PYTHON PROGRAMMING CLASS AND I AM LEARNING PYTHON STRING AND ITS FUNCTION'"
      ]
     },
     "execution_count": 4,
     "metadata": {},
     "output_type": "execute_result"
    }
   ],
   "source": [
    "upper_s = s.upper()\n",
    "upper_s"
   ]
  },
  {
   "cell_type": "code",
   "execution_count": 6,
   "id": "1a4416af",
   "metadata": {},
   "outputs": [
    {
     "data": {
      "text/plain": [
       "['THIS',\n",
       " 'IS',\n",
       " 'MY',\n",
       " 'FIRST',\n",
       " 'PYTHON',\n",
       " 'PROGRAMMING',\n",
       " 'CLASS',\n",
       " 'AND',\n",
       " 'I',\n",
       " 'AM',\n",
       " 'LEARNING',\n",
       " 'PYTHON',\n",
       " 'STRING',\n",
       " 'AND',\n",
       " 'ITS',\n",
       " 'FUNCTION']"
      ]
     },
     "execution_count": 6,
     "metadata": {},
     "output_type": "execute_result"
    }
   ],
   "source": [
    "split_s = upper_s.split(' ')\n",
    "split_s"
   ]
  },
  {
   "cell_type": "markdown",
   "id": "a48f4520",
   "metadata": {},
   "source": [
    "#### 4 try to convert the whole string into lower case"
   ]
  },
  {
   "cell_type": "markdown",
   "id": "074611a7",
   "metadata": {},
   "source": [
    "we can use lower() function for to convert every string to lowercase "
   ]
  },
  {
   "cell_type": "code",
   "execution_count": 7,
   "id": "13074a49",
   "metadata": {},
   "outputs": [
    {
     "data": {
      "text/plain": [
       "'this is my first python programming class and i am learning python string and its function'"
      ]
     },
     "execution_count": 7,
     "metadata": {},
     "output_type": "execute_result"
    }
   ],
   "source": [
    "lower_s = s.lower()\n",
    "lower_s"
   ]
  },
  {
   "cell_type": "markdown",
   "id": "05de958e",
   "metadata": {},
   "source": [
    "#### 5 . Try to capitalize the whole string"
   ]
  },
  {
   "cell_type": "markdown",
   "id": "06c16ae4",
   "metadata": {},
   "source": [
    "we use capitalize() to make Capitalize the first sting to capitalize"
   ]
  },
  {
   "cell_type": "code",
   "execution_count": 9,
   "id": "aede53fd",
   "metadata": {},
   "outputs": [
    {
     "data": {
      "text/plain": [
       "'This is my first python programming class and i am learning python string and its function'"
      ]
     },
     "execution_count": 9,
     "metadata": {},
     "output_type": "execute_result"
    }
   ],
   "source": [
    "capt_s = s.capitalize()\n",
    "capt_s"
   ]
  },
  {
   "cell_type": "markdown",
   "id": "bb0451dc",
   "metadata": {},
   "source": [
    "### 6 . Write a diference between isalnum() and isalpha()"
   ]
  },
  {
   "cell_type": "markdown",
   "id": "011f8a3d",
   "metadata": {},
   "source": [
    "isalnum() -   A string is alpha-numeric if all characters in the string are alpha-numeric and\n",
    "there is at least one character in the string.\n",
    "\n",
    "this function retuns True if the string is an alpha-numeric string, False otherwise."
   ]
  },
  {
   "cell_type": "code",
   "execution_count": 33,
   "id": "1b492451",
   "metadata": {},
   "outputs": [],
   "source": [
    "m = 'mua1'"
   ]
  },
  {
   "cell_type": "markdown",
   "id": "6325ff5a",
   "metadata": {},
   "source": [
    "In this string we have a number so if we apply isalnum() we get true, if we give two words with space it give False"
   ]
  },
  {
   "cell_type": "code",
   "execution_count": 35,
   "id": "b9829de0",
   "metadata": {},
   "outputs": [
    {
     "data": {
      "text/plain": [
       "True"
      ]
     },
     "execution_count": 35,
     "metadata": {},
     "output_type": "execute_result"
    }
   ],
   "source": [
    "m.isalnum()"
   ]
  },
  {
   "cell_type": "code",
   "execution_count": 37,
   "id": "e324a311",
   "metadata": {},
   "outputs": [],
   "source": [
    "m = \"1murali 123\""
   ]
  },
  {
   "cell_type": "code",
   "execution_count": 38,
   "id": "d96bbfd8",
   "metadata": {},
   "outputs": [
    {
     "data": {
      "text/plain": [
       "False"
      ]
     },
     "execution_count": 38,
     "metadata": {},
     "output_type": "execute_result"
    }
   ],
   "source": [
    "m.isalnum()"
   ]
  },
  {
   "cell_type": "markdown",
   "id": "0b97435f",
   "metadata": {},
   "source": [
    "isalpah() - A string is alphabetic if all characters in the string are alphabetic and there is at least one character in the string.\n",
    "This function returns true is string is alphabatic , False otherwise "
   ]
  },
  {
   "cell_type": "code",
   "execution_count": 39,
   "id": "93417a90",
   "metadata": {},
   "outputs": [],
   "source": [
    "m = 'murali'"
   ]
  },
  {
   "cell_type": "markdown",
   "id": "d72d3996",
   "metadata": {},
   "source": [
    "string  will return true having only alphabets if we have another sting with space or any number along with it i will throw error "
   ]
  },
  {
   "cell_type": "code",
   "execution_count": 40,
   "id": "844c26cb",
   "metadata": {},
   "outputs": [
    {
     "data": {
      "text/plain": [
       "True"
      ]
     },
     "execution_count": 40,
     "metadata": {},
     "output_type": "execute_result"
    }
   ],
   "source": [
    "m.isalpha()"
   ]
  },
  {
   "cell_type": "code",
   "execution_count": 42,
   "id": "9fd85bd4",
   "metadata": {},
   "outputs": [],
   "source": [
    "m =\"murali very\""
   ]
  },
  {
   "cell_type": "code",
   "execution_count": 43,
   "id": "e97363f1",
   "metadata": {},
   "outputs": [
    {
     "data": {
      "text/plain": [
       "False"
      ]
     },
     "execution_count": 43,
     "metadata": {},
     "output_type": "execute_result"
    }
   ],
   "source": [
    "m.isalpha()"
   ]
  },
  {
   "cell_type": "code",
   "execution_count": 44,
   "id": "bc40965d",
   "metadata": {},
   "outputs": [
    {
     "data": {
      "text/plain": [
       "False"
      ]
     },
     "execution_count": 44,
     "metadata": {},
     "output_type": "execute_result"
    }
   ],
   "source": [
    "m = '1murali'\n",
    "m.isalpha()"
   ]
  },
  {
   "cell_type": "markdown",
   "id": "b1fd8984",
   "metadata": {},
   "source": [
    "###  7 . Try to give an example of expand tab"
   ]
  },
  {
   "cell_type": "code",
   "execution_count": 48,
   "id": "9d7a0a98",
   "metadata": {},
   "outputs": [
    {
     "data": {
      "text/plain": [
       "'ineuron  \\tmake\\tour\\tlives \\teasy '"
      ]
     },
     "execution_count": 48,
     "metadata": {},
     "output_type": "execute_result"
    }
   ],
   "source": [
    "s = 'ineuron  \\tmake\\tour\\tlives \\teasy '\n",
    "s"
   ]
  },
  {
   "cell_type": "markdown",
   "id": "760ec1fd",
   "metadata": {},
   "source": [
    "if we give print string \\t taken as string but not as special character. to overcome this we use string.expandtab() function"
   ]
  },
  {
   "cell_type": "code",
   "execution_count": 49,
   "id": "7dbbb622",
   "metadata": {},
   "outputs": [
    {
     "data": {
      "text/plain": [
       "'ineuron         make    our     lives   easy '"
      ]
     },
     "execution_count": 49,
     "metadata": {},
     "output_type": "execute_result"
    }
   ],
   "source": [
    "s.expandtabs()"
   ]
  },
  {
   "cell_type": "markdown",
   "id": "19fdfe1f",
   "metadata": {},
   "source": [
    "###  8 . Give an example of strip , lstrip and rstrip "
   ]
  },
  {
   "cell_type": "markdown",
   "id": "a2119ed7",
   "metadata": {},
   "source": [
    "strip() function is used to remove the extra spaces before and after string.\n",
    "\n",
    "rstrip() function is used to remove the extra space after string.\n",
    "\n",
    "lstrip() function is used to remove the extra space before string."
   ]
  },
  {
   "cell_type": "code",
   "execution_count": 50,
   "id": "65f3eee6",
   "metadata": {},
   "outputs": [
    {
     "data": {
      "text/plain": [
       "'   sudh   anshu    '"
      ]
     },
     "execution_count": 50,
     "metadata": {},
     "output_type": "execute_result"
    }
   ],
   "source": [
    "s = \"   sudh   anshu    \"\n",
    "s"
   ]
  },
  {
   "cell_type": "code",
   "execution_count": 51,
   "id": "e041464b",
   "metadata": {},
   "outputs": [
    {
     "data": {
      "text/plain": [
       "'sudh   anshu'"
      ]
     },
     "execution_count": 51,
     "metadata": {},
     "output_type": "execute_result"
    }
   ],
   "source": [
    "s.strip()"
   ]
  },
  {
   "cell_type": "code",
   "execution_count": 52,
   "id": "7f856d80",
   "metadata": {},
   "outputs": [
    {
     "data": {
      "text/plain": [
       "'   sudh   anshu'"
      ]
     },
     "execution_count": 52,
     "metadata": {},
     "output_type": "execute_result"
    }
   ],
   "source": [
    "s.rstrip()"
   ]
  },
  {
   "cell_type": "code",
   "execution_count": 53,
   "id": "b38b191b",
   "metadata": {},
   "outputs": [
    {
     "data": {
      "text/plain": [
       "'sudh   anshu    '"
      ]
     },
     "execution_count": 53,
     "metadata": {},
     "output_type": "execute_result"
    }
   ],
   "source": [
    "s.lstrip()"
   ]
  },
  {
   "cell_type": "markdown",
   "id": "63505adf",
   "metadata": {},
   "source": [
    "###  9 .  Replace a string charecter by another charector by taking your own example  \"sudhanshu\""
   ]
  },
  {
   "cell_type": "code",
   "execution_count": 54,
   "id": "9c58524a",
   "metadata": {},
   "outputs": [],
   "source": [
    "s = 'sudhanshu'"
   ]
  },
  {
   "cell_type": "markdown",
   "id": "a0f25a5a",
   "metadata": {},
   "source": [
    " replace() function is used to get replace the strings/character in the given string "
   ]
  },
  {
   "cell_type": "code",
   "execution_count": 59,
   "id": "9a79e61c",
   "metadata": {},
   "outputs": [
    {
     "data": {
      "text/plain": [
       "'$udhan$hu'"
      ]
     },
     "execution_count": 59,
     "metadata": {},
     "output_type": "execute_result"
    }
   ],
   "source": [
    "replace_str= s.replace('s','$')\n",
    "replace_str"
   ]
  },
  {
   "cell_type": "code",
   "execution_count": 60,
   "id": "45f93f3d",
   "metadata": {},
   "outputs": [
    {
     "data": {
      "text/plain": [
       "'sudhanshu'"
      ]
     },
     "execution_count": 60,
     "metadata": {},
     "output_type": "execute_result"
    }
   ],
   "source": [
    "s"
   ]
  },
  {
   "cell_type": "markdown",
   "id": "98302e9c",
   "metadata": {},
   "source": [
    "#### 10 . Try  to give a defination of string center function with and exmple"
   ]
  },
  {
   "cell_type": "markdown",
   "id": "052761e0",
   "metadata": {},
   "source": [
    "The center() method returns a string which is padded with the specified character.\n",
    "\n",
    "center(len of alloc, 'padding string'), string will be kept in padding strings having lenght of allocation"
   ]
  },
  {
   "cell_type": "code",
   "execution_count": 61,
   "id": "5b6b9d35",
   "metadata": {},
   "outputs": [],
   "source": [
    "a = \"ineuron\""
   ]
  },
  {
   "cell_type": "code",
   "execution_count": 62,
   "id": "77afc786",
   "metadata": {},
   "outputs": [
    {
     "data": {
      "text/plain": [
       "'$$$$$$ineuron$$$$$$$'"
      ]
     },
     "execution_count": 62,
     "metadata": {},
     "output_type": "execute_result"
    }
   ],
   "source": [
    "a.center(20,'$')"
   ]
  },
  {
   "cell_type": "markdown",
   "id": "9c6b09a4",
   "metadata": {},
   "source": [
    "### 11 . Write your own definition of compiler and interpretor without copy paste form internet in your own language"
   ]
  },
  {
   "cell_type": "markdown",
   "id": "ebcc6570",
   "metadata": {},
   "source": [
    "Compiler: compiler is as software program which used to compile software program which gives OS understandble file and generate executable file. Compiled file is specific to OS it cannot run on other OS. \n",
    "\n",
    "Ex: C , C++\n",
    "\n",
    "Interpreter: It is Interpreter software program which used run file dynamically line by line and generate bytecode file which can run on any OS. Interpreter which makes portable and run on any OS\n",
    "\n",
    "Ex: Python, Java"
   ]
  },
  {
   "cell_type": "markdown",
   "id": "890ac667",
   "metadata": {},
   "source": [
    "#### 12 . Python is a interpreted of compiled language give a clear ans with your understanding"
   ]
  },
  {
   "cell_type": "markdown",
   "id": "74050275",
   "metadata": {},
   "source": [
    "Python code is converted to bytecode when it is executed, bytecode file is set of instruction which run on python virtual machine by CPU. Bytecode can be run on any OS. "
   ]
  },
  {
   "cell_type": "markdown",
   "id": "a05de6cd",
   "metadata": {},
   "source": [
    "###  13 . Try to write a usecase of python with your understanding ."
   ]
  },
  {
   "cell_type": "markdown",
   "id": "e050f354",
   "metadata": {},
   "source": [
    "Python is a high-level, interpreted, general-purpose programming, multi-paradigm programming language, Object-oriented programming and structured programming language\n",
    "\n",
    "it is dynamically typed language which makes no need define which type of data included into program \n",
    "\n",
    "which makes this python program very easy undasatndable and make handy to implement any type of logic with minimum lines of code.\n",
    "\n",
    "python is scripted language it can be used in many ways\n",
    "\n",
    "pyhon can be used develop desktop applications using tknet like blender which is image processing tools developed in python.\n",
    "\n",
    "python is used to develop web application, scientific programming.\n",
    "\n",
    "python is used in developing data science, data visualization, ML, DL, and CV applications it has huge library support.\n",
    "\n",
    "python is used to developing the games.\n",
    "\n",
    "python is used to develop applications of microcontroller or processor using python \n",
    "\n"
   ]
  }
 ],
 "metadata": {
  "kernelspec": {
   "display_name": "Python 3 (ipykernel)",
   "language": "python",
   "name": "python3"
  },
  "language_info": {
   "codemirror_mode": {
    "name": "ipython",
    "version": 3
   },
   "file_extension": ".py",
   "mimetype": "text/x-python",
   "name": "python",
   "nbconvert_exporter": "python",
   "pygments_lexer": "ipython3",
   "version": "3.9.7"
  }
 },
 "nbformat": 4,
 "nbformat_minor": 5
}
