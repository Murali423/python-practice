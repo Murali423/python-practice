{
 "cells": [
  {
   "cell_type": "markdown",
   "id": "547906b7",
   "metadata": {},
   "source": [
    "#  First program"
   ]
  },
  {
   "cell_type": "code",
   "execution_count": 1,
   "id": "0f8e9cba",
   "metadata": {},
   "outputs": [
    {
     "name": "stdout",
     "output_type": "stream",
     "text": [
      "The Zen of Python, by Tim Peters\n",
      "\n",
      "Beautiful is better than ugly.\n",
      "Explicit is better than implicit.\n",
      "Simple is better than complex.\n",
      "Complex is better than complicated.\n",
      "Flat is better than nested.\n",
      "Sparse is better than dense.\n",
      "Readability counts.\n",
      "Special cases aren't special enough to break the rules.\n",
      "Although practicality beats purity.\n",
      "Errors should never pass silently.\n",
      "Unless explicitly silenced.\n",
      "In the face of ambiguity, refuse the temptation to guess.\n",
      "There should be one-- and preferably only one --obvious way to do it.\n",
      "Although that way may not be obvious at first unless you're Dutch.\n",
      "Now is better than never.\n",
      "Although never is often better than *right* now.\n",
      "If the implementation is hard to explain, it's a bad idea.\n",
      "If the implementation is easy to explain, it may be a good idea.\n",
      "Namespaces are one honking great idea -- let's do more of those!\n"
     ]
    }
   ],
   "source": [
    "import this"
   ]
  },
  {
   "cell_type": "code",
   "execution_count": 2,
   "id": "78cd29fc",
   "metadata": {},
   "outputs": [
    {
     "data": {
      "text/plain": [
       "3"
      ]
     },
     "execution_count": 2,
     "metadata": {},
     "output_type": "execute_result"
    }
   ],
   "source": [
    "1+2\n"
   ]
  },
  {
   "cell_type": "code",
   "execution_count": 3,
   "id": "84241d4a",
   "metadata": {},
   "outputs": [
    {
     "name": "stdout",
     "output_type": "stream",
     "text": [
      "Hello world, I am Murali\n"
     ]
    }
   ],
   "source": [
    "print(\"Hello world, I am Murali\")"
   ]
  },
  {
   "cell_type": "code",
   "execution_count": 4,
   "id": "d43bd2b8",
   "metadata": {},
   "outputs": [
    {
     "name": "stdout",
     "output_type": "stream",
     "text": [
      "please enter value:\n",
      "\n"
     ]
    }
   ],
   "source": [
    "a = input(\"please enter value:\")\n",
    "print(a)"
   ]
  },
  {
   "cell_type": "code",
   "execution_count": 5,
   "id": "42eb676b",
   "metadata": {},
   "outputs": [],
   "source": [
    "# single line comment"
   ]
  },
  {
   "cell_type": "code",
   "execution_count": 6,
   "id": "8b94c9bc",
   "metadata": {},
   "outputs": [
    {
     "data": {
      "text/plain": [
       "' this is multi line command\\nwhich you need to use compilere will avoid it \\nso no problem '"
      ]
     },
     "execution_count": 6,
     "metadata": {},
     "output_type": "execute_result"
    }
   ],
   "source": [
    "\"\"\" this is multi line command\n",
    "which you need to use compilere will avoid it \n",
    "so no problem \"\"\""
   ]
  },
  {
   "cell_type": "code",
   "execution_count": 7,
   "id": "2ebd5841",
   "metadata": {},
   "outputs": [],
   "source": [
    "a = 10"
   ]
  },
  {
   "cell_type": "code",
   "execution_count": 8,
   "id": "b39f2d31",
   "metadata": {},
   "outputs": [
    {
     "data": {
      "text/plain": [
       "10"
      ]
     },
     "execution_count": 8,
     "metadata": {},
     "output_type": "execute_result"
    }
   ],
   "source": [
    "a"
   ]
  },
  {
   "cell_type": "code",
   "execution_count": 9,
   "id": "61aa6e78",
   "metadata": {},
   "outputs": [
    {
     "data": {
      "text/plain": [
       "int"
      ]
     },
     "execution_count": 9,
     "metadata": {},
     "output_type": "execute_result"
    }
   ],
   "source": [
    "type(a)"
   ]
  },
  {
   "cell_type": "code",
   "execution_count": 10,
   "id": "3b3c2a5d",
   "metadata": {},
   "outputs": [],
   "source": [
    "c,b,d = 10,30,40"
   ]
  },
  {
   "cell_type": "code",
   "execution_count": 11,
   "id": "df83b6a7",
   "metadata": {},
   "outputs": [
    {
     "name": "stdout",
     "output_type": "stream",
     "text": [
      "10 30 40\n"
     ]
    }
   ],
   "source": [
    "print(c,b,d)"
   ]
  },
  {
   "cell_type": "code",
   "execution_count": 12,
   "id": "7d914ad7",
   "metadata": {},
   "outputs": [],
   "source": [
    "b = \"murali\""
   ]
  },
  {
   "cell_type": "code",
   "execution_count": 13,
   "id": "fe759ee5",
   "metadata": {},
   "outputs": [
    {
     "data": {
      "text/plain": [
       "'murali'"
      ]
     },
     "execution_count": 13,
     "metadata": {},
     "output_type": "execute_result"
    }
   ],
   "source": [
    "b"
   ]
  },
  {
   "cell_type": "code",
   "execution_count": 14,
   "id": "9bb1f0d1",
   "metadata": {},
   "outputs": [],
   "source": [
    "n = 'hihihlhlkh'"
   ]
  },
  {
   "cell_type": "code",
   "execution_count": 15,
   "id": "1b40aadb",
   "metadata": {},
   "outputs": [
    {
     "data": {
      "text/plain": [
       "'hihihlhlkh'"
      ]
     },
     "execution_count": 15,
     "metadata": {},
     "output_type": "execute_result"
    }
   ],
   "source": [
    "n"
   ]
  },
  {
   "cell_type": "code",
   "execution_count": 16,
   "id": "4ed82593",
   "metadata": {},
   "outputs": [
    {
     "data": {
      "text/plain": [
       "(10, 'murali', 40)"
      ]
     },
     "execution_count": 16,
     "metadata": {},
     "output_type": "execute_result"
    }
   ],
   "source": [
    "c,b,d"
   ]
  },
  {
   "cell_type": "code",
   "execution_count": 17,
   "id": "1c9b89b9",
   "metadata": {},
   "outputs": [],
   "source": [
    "_g =100"
   ]
  },
  {
   "cell_type": "code",
   "execution_count": 18,
   "id": "ae23580b",
   "metadata": {},
   "outputs": [
    {
     "ename": "SyntaxError",
     "evalue": "invalid syntax (Temp/ipykernel_11968/4153100651.py, line 1)",
     "output_type": "error",
     "traceback": [
      "\u001b[1;36m  File \u001b[1;32m\"C:\\Users\\HP\\AppData\\Local\\Temp/ipykernel_11968/4153100651.py\"\u001b[1;36m, line \u001b[1;32m1\u001b[0m\n\u001b[1;33m    @g =80\u001b[0m\n\u001b[1;37m       ^\u001b[0m\n\u001b[1;31mSyntaxError\u001b[0m\u001b[1;31m:\u001b[0m invalid syntax\n"
     ]
    }
   ],
   "source": [
    "@g =80"
   ]
  },
  {
   "cell_type": "code",
   "execution_count": 19,
   "id": "9477c011",
   "metadata": {},
   "outputs": [
    {
     "ename": "SyntaxError",
     "evalue": "invalid syntax (Temp/ipykernel_11968/2372344352.py, line 1)",
     "output_type": "error",
     "traceback": [
      "\u001b[1;36m  File \u001b[1;32m\"C:\\Users\\HP\\AppData\\Local\\Temp/ipykernel_11968/2372344352.py\"\u001b[1;36m, line \u001b[1;32m1\u001b[0m\n\u001b[1;33m    b& = 100\u001b[0m\n\u001b[1;37m       ^\u001b[0m\n\u001b[1;31mSyntaxError\u001b[0m\u001b[1;31m:\u001b[0m invalid syntax\n"
     ]
    }
   ],
   "source": [
    "b& = 100"
   ]
  },
  {
   "cell_type": "code",
   "execution_count": 20,
   "id": "d7685af0",
   "metadata": {},
   "outputs": [],
   "source": [
    "m = True \n",
    "c = False"
   ]
  },
  {
   "cell_type": "code",
   "execution_count": 21,
   "id": "800f92db",
   "metadata": {},
   "outputs": [
    {
     "data": {
      "text/plain": [
       "3"
      ]
     },
     "execution_count": 21,
     "metadata": {},
     "output_type": "execute_result"
    }
   ],
   "source": [
    "True + True + True +False"
   ]
  },
  {
   "cell_type": "code",
   "execution_count": 22,
   "id": "98c69102",
   "metadata": {},
   "outputs": [
    {
     "data": {
      "text/plain": [
       "0"
      ]
     },
     "execution_count": 22,
     "metadata": {},
     "output_type": "execute_result"
    }
   ],
   "source": [
    "False-True+True "
   ]
  },
  {
   "cell_type": "code",
   "execution_count": 23,
   "id": "1fbb1630",
   "metadata": {},
   "outputs": [
    {
     "ename": "ZeroDivisionError",
     "evalue": "division by zero",
     "output_type": "error",
     "traceback": [
      "\u001b[1;31m---------------------------------------------------------------------------\u001b[0m",
      "\u001b[1;31mZeroDivisionError\u001b[0m                         Traceback (most recent call last)",
      "\u001b[1;32m~\\AppData\\Local\\Temp/ipykernel_11968/2794436645.py\u001b[0m in \u001b[0;36m<module>\u001b[1;34m\u001b[0m\n\u001b[1;32m----> 1\u001b[1;33m \u001b[1;32mTrue\u001b[0m\u001b[1;33m/\u001b[0m\u001b[1;32mFalse\u001b[0m\u001b[1;33m\u001b[0m\u001b[1;33m\u001b[0m\u001b[0m\n\u001b[0m",
      "\u001b[1;31mZeroDivisionError\u001b[0m: division by zero"
     ]
    }
   ],
   "source": [
    "True/False"
   ]
  },
  {
   "cell_type": "code",
   "execution_count": 24,
   "id": "a3af6c0e",
   "metadata": {},
   "outputs": [],
   "source": [
    "n = 56 +7j\n",
    "m = 90+9j"
   ]
  },
  {
   "cell_type": "code",
   "execution_count": 25,
   "id": "53e381e6",
   "metadata": {},
   "outputs": [
    {
     "data": {
      "text/plain": [
       "(4977+1134j)"
      ]
     },
     "execution_count": 25,
     "metadata": {},
     "output_type": "execute_result"
    }
   ],
   "source": [
    "n*m"
   ]
  },
  {
   "cell_type": "code",
   "execution_count": 26,
   "id": "3b426410",
   "metadata": {},
   "outputs": [
    {
     "ename": "TypeError",
     "evalue": "unsupported operand type(s) for +: 'int' and 'str'",
     "output_type": "error",
     "traceback": [
      "\u001b[1;31m---------------------------------------------------------------------------\u001b[0m",
      "\u001b[1;31mTypeError\u001b[0m                                 Traceback (most recent call last)",
      "\u001b[1;32m~\\AppData\\Local\\Temp/ipykernel_11968/2980472659.py\u001b[0m in \u001b[0;36m<module>\u001b[1;34m\u001b[0m\n\u001b[1;32m----> 1\u001b[1;33m \u001b[1;36m1\u001b[0m\u001b[1;33m+\u001b[0m\u001b[1;34m\"murali\"\u001b[0m\u001b[1;33m\u001b[0m\u001b[1;33m\u001b[0m\u001b[0m\n\u001b[0m",
      "\u001b[1;31mTypeError\u001b[0m: unsupported operand type(s) for +: 'int' and 'str'"
     ]
    }
   ],
   "source": [
    "1+\"murali\""
   ]
  },
  {
   "cell_type": "code",
   "execution_count": 27,
   "id": "afead994",
   "metadata": {},
   "outputs": [
    {
     "data": {
      "text/plain": [
       "'1murali'"
      ]
     },
     "execution_count": 27,
     "metadata": {},
     "output_type": "execute_result"
    }
   ],
   "source": [
    "\"1\"+\"murali\""
   ]
  },
  {
   "cell_type": "code",
   "execution_count": 28,
   "id": "556c31fb",
   "metadata": {},
   "outputs": [
    {
     "data": {
      "text/plain": [
       "2.0"
      ]
     },
     "execution_count": 28,
     "metadata": {},
     "output_type": "execute_result"
    }
   ],
   "source": [
    "1 + 1.0"
   ]
  },
  {
   "cell_type": "code",
   "execution_count": 29,
   "id": "13c6deaa",
   "metadata": {},
   "outputs": [
    {
     "data": {
      "text/plain": [
       "'muralimuralimurali'"
      ]
     },
     "execution_count": 29,
     "metadata": {},
     "output_type": "execute_result"
    }
   ],
   "source": [
    "\"murali\"*3"
   ]
  },
  {
   "cell_type": "code",
   "execution_count": 30,
   "id": "de387ef3",
   "metadata": {},
   "outputs": [
    {
     "name": "stdout",
     "output_type": "stream",
     "text": [
      "please enter number less then 36:40\n"
     ]
    }
   ],
   "source": [
    "a = int(input(\"please enter number less then 36:\"))"
   ]
  },
  {
   "cell_type": "code",
   "execution_count": 31,
   "id": "db5729a4",
   "metadata": {},
   "outputs": [
    {
     "data": {
      "text/plain": [
       "40"
      ]
     },
     "execution_count": 31,
     "metadata": {},
     "output_type": "execute_result"
    }
   ],
   "source": [
    "a"
   ]
  },
  {
   "cell_type": "code",
   "execution_count": 32,
   "id": "06524b9d",
   "metadata": {},
   "outputs": [],
   "source": [
    "if a <36:\n",
    "    pass"
   ]
  },
  {
   "cell_type": "code",
   "execution_count": 33,
   "id": "93f58e12",
   "metadata": {},
   "outputs": [
    {
     "name": "stdout",
     "output_type": "stream",
     "text": [
      "please enter number which is less than 35:102\n",
      "it's not a number\n"
     ]
    }
   ],
   "source": [
    "a = int(input(\"please enter number which is less than 35:\"))\n",
    "if a< 35:\n",
    "    print(\"i am find with number\",a)\n",
    "elif a < 100:\n",
    "    print(\"number is less than 100\")\n",
    "else:\n",
    "    print(\"it's not a number\")"
   ]
  },
  {
   "cell_type": "code",
   "execution_count": null,
   "id": "95bef524",
   "metadata": {},
   "outputs": [],
   "source": []
  }
 ],
 "metadata": {
  "kernelspec": {
   "display_name": "Python 3 (ipykernel)",
   "language": "python",
   "name": "python3"
  },
  "language_info": {
   "codemirror_mode": {
    "name": "ipython",
    "version": 3
   },
   "file_extension": ".py",
   "mimetype": "text/x-python",
   "name": "python",
   "nbconvert_exporter": "python",
   "pygments_lexer": "ipython3",
   "version": "3.9.7"
  }
 },
 "nbformat": 4,
 "nbformat_minor": 5
}
