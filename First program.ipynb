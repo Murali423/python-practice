{
 "cells": [
  {
   "cell_type": "markdown",
   "id": "547906b7",
   "metadata": {},
   "source": [
    "#  First program"
   ]
  },
  {
   "cell_type": "code",
   "execution_count": 1,
   "id": "0f8e9cba",
   "metadata": {},
   "outputs": [
    {
     "name": "stdout",
     "output_type": "stream",
     "text": [
      "The Zen of Python, by Tim Peters\n",
      "\n",
      "Beautiful is better than ugly.\n",
      "Explicit is better than implicit.\n",
      "Simple is better than complex.\n",
      "Complex is better than complicated.\n",
      "Flat is better than nested.\n",
      "Sparse is better than dense.\n",
      "Readability counts.\n",
      "Special cases aren't special enough to break the rules.\n",
      "Although practicality beats purity.\n",
      "Errors should never pass silently.\n",
      "Unless explicitly silenced.\n",
      "In the face of ambiguity, refuse the temptation to guess.\n",
      "There should be one-- and preferably only one --obvious way to do it.\n",
      "Although that way may not be obvious at first unless you're Dutch.\n",
      "Now is better than never.\n",
      "Although never is often better than *right* now.\n",
      "If the implementation is hard to explain, it's a bad idea.\n",
      "If the implementation is easy to explain, it may be a good idea.\n",
      "Namespaces are one honking great idea -- let's do more of those!\n"
     ]
    }
   ],
   "source": [
    "import this"
   ]
  },
  {
   "cell_type": "code",
   "execution_count": 2,
   "id": "78cd29fc",
   "metadata": {},
   "outputs": [
    {
     "data": {
      "text/plain": [
       "3"
      ]
     },
     "execution_count": 2,
     "metadata": {},
     "output_type": "execute_result"
    }
   ],
   "source": [
    "1+2\n"
   ]
  },
  {
   "cell_type": "code",
   "execution_count": 3,
   "id": "84241d4a",
   "metadata": {},
   "outputs": [
    {
     "name": "stdout",
     "output_type": "stream",
     "text": [
      "Hello world, I am Murali\n"
     ]
    }
   ],
   "source": [
    "print(\"Hello world, I am Murali\")"
   ]
  },
  {
   "cell_type": "code",
   "execution_count": 4,
   "id": "d43bd2b8",
   "metadata": {},
   "outputs": [
    {
     "name": "stdout",
     "output_type": "stream",
     "text": [
      "please enter value:\n",
      "\n"
     ]
    }
   ],
   "source": [
    "a = input(\"please enter value:\")\n",
    "print(a)"
   ]
  },
  {
   "cell_type": "code",
   "execution_count": 5,
   "id": "42eb676b",
   "metadata": {},
   "outputs": [],
   "source": [
    "# single line comment"
   ]
  },
  {
   "cell_type": "code",
   "execution_count": 6,
   "id": "8b94c9bc",
   "metadata": {},
   "outputs": [
    {
     "data": {
      "text/plain": [
       "' this is multi line command\\nwhich you need to use compilere will avoid it \\nso no problem '"
      ]
     },
     "execution_count": 6,
     "metadata": {},
     "output_type": "execute_result"
    }
   ],
   "source": [
    "\"\"\" this is multi line command\n",
    "which you need to use compilere will avoid it \n",
    "so no problem \"\"\""
   ]
  },
  {
   "cell_type": "code",
   "execution_count": 7,
   "id": "2ebd5841",
   "metadata": {},
   "outputs": [],
   "source": [
    "a = 10"
   ]
  },
  {
   "cell_type": "code",
   "execution_count": 8,
   "id": "b39f2d31",
   "metadata": {},
   "outputs": [
    {
     "data": {
      "text/plain": [
       "10"
      ]
     },
     "execution_count": 8,
     "metadata": {},
     "output_type": "execute_result"
    }
   ],
   "source": [
    "a"
   ]
  },
  {
   "cell_type": "code",
   "execution_count": 9,
   "id": "61aa6e78",
   "metadata": {},
   "outputs": [
    {
     "data": {
      "text/plain": [
       "int"
      ]
     },
     "execution_count": 9,
     "metadata": {},
     "output_type": "execute_result"
    }
   ],
   "source": [
    "type(a)"
   ]
  },
  {
   "cell_type": "code",
   "execution_count": 10,
   "id": "3b3c2a5d",
   "metadata": {},
   "outputs": [],
   "source": [
    "c,b,d = 10,30,40"
   ]
  },
  {
   "cell_type": "code",
   "execution_count": 11,
   "id": "df83b6a7",
   "metadata": {},
   "outputs": [
    {
     "name": "stdout",
     "output_type": "stream",
     "text": [
      "10 30 40\n"
     ]
    }
   ],
   "source": [
    "print(c,b,d)"
   ]
  },
  {
   "cell_type": "code",
   "execution_count": 12,
   "id": "7d914ad7",
   "metadata": {},
   "outputs": [],
   "source": [
    "b = \"murali\""
   ]
  },
  {
   "cell_type": "code",
   "execution_count": 13,
   "id": "fe759ee5",
   "metadata": {},
   "outputs": [
    {
     "data": {
      "text/plain": [
       "'murali'"
      ]
     },
     "execution_count": 13,
     "metadata": {},
     "output_type": "execute_result"
    }
   ],
   "source": [
    "b"
   ]
  },
  {
   "cell_type": "code",
   "execution_count": 14,
   "id": "9bb1f0d1",
   "metadata": {},
   "outputs": [],
   "source": [
    "n = 'hihihlhlkh'"
   ]
  },
  {
   "cell_type": "code",
   "execution_count": 15,
   "id": "1b40aadb",
   "metadata": {},
   "outputs": [
    {
     "data": {
      "text/plain": [
       "'hihihlhlkh'"
      ]
     },
     "execution_count": 15,
     "metadata": {},
     "output_type": "execute_result"
    }
   ],
   "source": [
    "n"
   ]
  },
  {
   "cell_type": "code",
   "execution_count": 16,
   "id": "4ed82593",
   "metadata": {},
   "outputs": [
    {
     "data": {
      "text/plain": [
       "(10, 'murali', 40)"
      ]
     },
     "execution_count": 16,
     "metadata": {},
     "output_type": "execute_result"
    }
   ],
   "source": [
    "c,b,d"
   ]
  },
  {
   "cell_type": "code",
   "execution_count": 17,
   "id": "1c9b89b9",
   "metadata": {},
   "outputs": [],
   "source": [
    "_g =100"
   ]
  },
  {
   "cell_type": "code",
   "execution_count": 18,
   "id": "ae23580b",
   "metadata": {},
   "outputs": [
    {
     "ename": "SyntaxError",
     "evalue": "invalid syntax (Temp/ipykernel_11968/4153100651.py, line 1)",
     "output_type": "error",
     "traceback": [
      "\u001b[1;36m  File \u001b[1;32m\"C:\\Users\\HP\\AppData\\Local\\Temp/ipykernel_11968/4153100651.py\"\u001b[1;36m, line \u001b[1;32m1\u001b[0m\n\u001b[1;33m    @g =80\u001b[0m\n\u001b[1;37m       ^\u001b[0m\n\u001b[1;31mSyntaxError\u001b[0m\u001b[1;31m:\u001b[0m invalid syntax\n"
     ]
    }
   ],
   "source": [
    "@g =80"
   ]
  },
  {
   "cell_type": "code",
   "execution_count": 19,
   "id": "9477c011",
   "metadata": {},
   "outputs": [
    {
     "ename": "SyntaxError",
     "evalue": "invalid syntax (Temp/ipykernel_11968/2372344352.py, line 1)",
     "output_type": "error",
     "traceback": [
      "\u001b[1;36m  File \u001b[1;32m\"C:\\Users\\HP\\AppData\\Local\\Temp/ipykernel_11968/2372344352.py\"\u001b[1;36m, line \u001b[1;32m1\u001b[0m\n\u001b[1;33m    b& = 100\u001b[0m\n\u001b[1;37m       ^\u001b[0m\n\u001b[1;31mSyntaxError\u001b[0m\u001b[1;31m:\u001b[0m invalid syntax\n"
     ]
    }
   ],
   "source": [
    "b& = 100"
   ]
  },
  {
   "cell_type": "code",
   "execution_count": 20,
   "id": "d7685af0",
   "metadata": {},
   "outputs": [],
   "source": [
    "m = True \n",
    "c = False"
   ]
  },
  {
   "cell_type": "code",
   "execution_count": 21,
   "id": "800f92db",
   "metadata": {},
   "outputs": [
    {
     "data": {
      "text/plain": [
       "3"
      ]
     },
     "execution_count": 21,
     "metadata": {},
     "output_type": "execute_result"
    }
   ],
   "source": [
    "True + True + True +False"
   ]
  },
  {
   "cell_type": "code",
   "execution_count": 22,
   "id": "98c69102",
   "metadata": {},
   "outputs": [
    {
     "data": {
      "text/plain": [
       "0"
      ]
     },
     "execution_count": 22,
     "metadata": {},
     "output_type": "execute_result"
    }
   ],
   "source": [
    "False-True+True "
   ]
  },
  {
   "cell_type": "code",
   "execution_count": 23,
   "id": "1fbb1630",
   "metadata": {},
   "outputs": [
    {
     "ename": "ZeroDivisionError",
     "evalue": "division by zero",
     "output_type": "error",
     "traceback": [
      "\u001b[1;31m---------------------------------------------------------------------------\u001b[0m",
      "\u001b[1;31mZeroDivisionError\u001b[0m                         Traceback (most recent call last)",
      "\u001b[1;32m~\\AppData\\Local\\Temp/ipykernel_11968/2794436645.py\u001b[0m in \u001b[0;36m<module>\u001b[1;34m\u001b[0m\n\u001b[1;32m----> 1\u001b[1;33m \u001b[1;32mTrue\u001b[0m\u001b[1;33m/\u001b[0m\u001b[1;32mFalse\u001b[0m\u001b[1;33m\u001b[0m\u001b[1;33m\u001b[0m\u001b[0m\n\u001b[0m",
      "\u001b[1;31mZeroDivisionError\u001b[0m: division by zero"
     ]
    }
   ],
   "source": [
    "True/False"
   ]
  },
  {
   "cell_type": "code",
   "execution_count": 24,
   "id": "a3af6c0e",
   "metadata": {},
   "outputs": [],
   "source": [
    "n = 56 +7j\n",
    "m = 90+9j"
   ]
  },
  {
   "cell_type": "code",
   "execution_count": 25,
   "id": "53e381e6",
   "metadata": {},
   "outputs": [
    {
     "data": {
      "text/plain": [
       "(4977+1134j)"
      ]
     },
     "execution_count": 25,
     "metadata": {},
     "output_type": "execute_result"
    }
   ],
   "source": [
    "n*m"
   ]
  },
  {
   "cell_type": "code",
   "execution_count": 26,
   "id": "3b426410",
   "metadata": {},
   "outputs": [
    {
     "ename": "TypeError",
     "evalue": "unsupported operand type(s) for +: 'int' and 'str'",
     "output_type": "error",
     "traceback": [
      "\u001b[1;31m---------------------------------------------------------------------------\u001b[0m",
      "\u001b[1;31mTypeError\u001b[0m                                 Traceback (most recent call last)",
      "\u001b[1;32m~\\AppData\\Local\\Temp/ipykernel_11968/2980472659.py\u001b[0m in \u001b[0;36m<module>\u001b[1;34m\u001b[0m\n\u001b[1;32m----> 1\u001b[1;33m \u001b[1;36m1\u001b[0m\u001b[1;33m+\u001b[0m\u001b[1;34m\"murali\"\u001b[0m\u001b[1;33m\u001b[0m\u001b[1;33m\u001b[0m\u001b[0m\n\u001b[0m",
      "\u001b[1;31mTypeError\u001b[0m: unsupported operand type(s) for +: 'int' and 'str'"
     ]
    }
   ],
   "source": [
    "1+\"murali\""
   ]
  },
  {
   "cell_type": "code",
   "execution_count": 27,
   "id": "afead994",
   "metadata": {},
   "outputs": [
    {
     "data": {
      "text/plain": [
       "'1murali'"
      ]
     },
     "execution_count": 27,
     "metadata": {},
     "output_type": "execute_result"
    }
   ],
   "source": [
    "\"1\"+\"murali\""
   ]
  },
  {
   "cell_type": "code",
   "execution_count": 28,
   "id": "556c31fb",
   "metadata": {},
   "outputs": [
    {
     "data": {
      "text/plain": [
       "2.0"
      ]
     },
     "execution_count": 28,
     "metadata": {},
     "output_type": "execute_result"
    }
   ],
   "source": [
    "1 + 1.0"
   ]
  },
  {
   "cell_type": "code",
   "execution_count": 29,
   "id": "13c6deaa",
   "metadata": {},
   "outputs": [
    {
     "data": {
      "text/plain": [
       "'muralimuralimurali'"
      ]
     },
     "execution_count": 29,
     "metadata": {},
     "output_type": "execute_result"
    }
   ],
   "source": [
    "\"murali\"*3"
   ]
  },
  {
   "cell_type": "code",
   "execution_count": 30,
   "id": "de387ef3",
   "metadata": {},
   "outputs": [
    {
     "name": "stdout",
     "output_type": "stream",
     "text": [
      "please enter number less then 36:40\n"
     ]
    }
   ],
   "source": [
    "a = int(input(\"please enter number less then 36:\"))"
   ]
  },
  {
   "cell_type": "code",
   "execution_count": 31,
   "id": "db5729a4",
   "metadata": {},
   "outputs": [
    {
     "data": {
      "text/plain": [
       "40"
      ]
     },
     "execution_count": 31,
     "metadata": {},
     "output_type": "execute_result"
    }
   ],
   "source": [
    "a"
   ]
  },
  {
   "cell_type": "code",
   "execution_count": 32,
   "id": "06524b9d",
   "metadata": {},
   "outputs": [],
   "source": [
    "if a <36:\n",
    "    pass"
   ]
  },
  {
   "cell_type": "code",
   "execution_count": 33,
   "id": "93f58e12",
   "metadata": {},
   "outputs": [
    {
     "name": "stdout",
     "output_type": "stream",
     "text": [
      "please enter number which is less than 35:102\n",
      "it's not a number\n"
     ]
    }
   ],
   "source": [
    "a = int(input(\"please enter number which is less than 35:\"))\n",
    "if a< 35:\n",
    "    print(\"i am find with number\",a)\n",
    "elif a < 100:\n",
    "    print(\"number is less than 100\")\n",
    "else:\n",
    "    print(\"it's not a number\")"
   ]
  },
  {
   "cell_type": "code",
   "execution_count": 3,
   "id": "95bef524",
   "metadata": {},
   "outputs": [
    {
     "name": "stdout",
     "output_type": "stream",
     "text": [
      "This is not valid condition\n"
     ]
    }
   ],
   "source": [
    "a,b= 10,20\n",
    "if a == 10 and b > 20:\n",
    "    print(\"This is valid statement\")\n",
    "else:\n",
    "    print(\"This is not valid condition\")"
   ]
  },
  {
   "cell_type": "code",
   "execution_count": 5,
   "id": "0482742b",
   "metadata": {},
   "outputs": [
    {
     "name": "stdout",
     "output_type": "stream",
     "text": [
      "please enter value a: 13\n",
      "please enter value b: 15\n",
      "statement in elif \n"
     ]
    }
   ],
   "source": [
    "a= int(input(\"please enter value a: \"))\n",
    "b= int(input(\"please enter value b: \"))\n",
    "if a == 10 or b > 20:\n",
    "    print(\"This is valid statement\")\n",
    "elif a >10 and b <20:\n",
    "    print(\"statement in elif \")\n",
    "else:\n",
    "    print(\"This is not valid condition\")"
   ]
  },
  {
   "cell_type": "markdown",
   "id": "6ad37918",
   "metadata": {},
   "source": [
    "### Loops\n"
   ]
  },
  {
   "cell_type": "code",
   "execution_count": 7,
   "id": "732482e6",
   "metadata": {},
   "outputs": [
    {
     "name": "stdout",
     "output_type": "stream",
     "text": [
      "200\n",
      "199\n",
      "198\n",
      "197\n",
      "196\n",
      "195\n",
      "194\n",
      "193\n",
      "192\n",
      "191\n",
      "190\n",
      "189\n",
      "188\n",
      "187\n",
      "186\n",
      "185\n",
      "184\n",
      "183\n",
      "182\n",
      "181\n",
      "180\n",
      "179\n",
      "178\n",
      "177\n",
      "176\n",
      "175\n",
      "174\n",
      "173\n",
      "172\n",
      "171\n",
      "170\n",
      "169\n",
      "168\n",
      "167\n",
      "166\n",
      "165\n",
      "164\n",
      "163\n",
      "162\n",
      "161\n",
      "160\n",
      "159\n",
      "158\n",
      "157\n",
      "156\n",
      "155\n",
      "154\n",
      "153\n",
      "152\n",
      "151\n",
      "150\n",
      "149\n",
      "148\n",
      "147\n",
      "146\n",
      "145\n",
      "144\n",
      "143\n",
      "142\n",
      "141\n",
      "140\n",
      "139\n",
      "138\n",
      "137\n",
      "136\n",
      "135\n",
      "134\n",
      "133\n",
      "132\n",
      "131\n",
      "130\n",
      "129\n",
      "128\n",
      "127\n",
      "126\n",
      "125\n",
      "124\n",
      "123\n",
      "122\n",
      "121\n",
      "120\n",
      "119\n",
      "118\n",
      "117\n",
      "116\n",
      "115\n",
      "114\n",
      "113\n",
      "112\n",
      "111\n",
      "110\n",
      "109\n",
      "108\n",
      "107\n",
      "106\n",
      "105\n",
      "104\n",
      "103\n",
      "102\n",
      "101\n",
      "100\n",
      "99\n",
      "98\n",
      "97\n",
      "96\n",
      "95\n",
      "94\n",
      "93\n",
      "92\n",
      "91\n",
      "90\n",
      "89\n",
      "88\n",
      "87\n",
      "86\n",
      "85\n",
      "84\n",
      "83\n",
      "82\n",
      "81\n",
      "80\n",
      "79\n",
      "78\n",
      "77\n",
      "76\n",
      "75\n",
      "74\n",
      "73\n",
      "72\n",
      "71\n",
      "70\n",
      "69\n",
      "68\n",
      "67\n",
      "66\n",
      "65\n",
      "64\n",
      "63\n",
      "62\n",
      "61\n",
      "60\n",
      "59\n",
      "58\n",
      "57\n",
      "56\n",
      "55\n",
      "54\n",
      "53\n",
      "52\n",
      "51\n",
      "50\n",
      "49\n",
      "48\n",
      "47\n",
      "46\n",
      "45\n",
      "44\n",
      "43\n",
      "42\n",
      "41\n",
      "40\n",
      "39\n",
      "38\n",
      "37\n",
      "36\n",
      "35\n",
      "34\n",
      "33\n",
      "32\n",
      "31\n",
      "30\n",
      "29\n",
      "28\n",
      "27\n",
      "26\n",
      "25\n",
      "24\n",
      "23\n",
      "22\n",
      "21\n",
      "20\n",
      "19\n",
      "18\n",
      "17\n",
      "16\n",
      "15\n",
      "14\n",
      "13\n",
      "12\n",
      "11\n"
     ]
    }
   ],
   "source": [
    "a = 10 \n",
    "b =200\n",
    "\n",
    "while a < b:\n",
    "    print(b)\n",
    "    b -= 1  "
   ]
  },
  {
   "cell_type": "code",
   "execution_count": 9,
   "id": "c7f3d6ee",
   "metadata": {},
   "outputs": [
    {
     "name": "stdout",
     "output_type": "stream",
     "text": [
      "2\n",
      "3\n",
      "4\n",
      "5\n",
      "10 rs note is not available\n"
     ]
    }
   ],
   "source": [
    "note = 5\n",
    "i =1\n",
    "while i < note:\n",
    "    i = i+1\n",
    "    print(i)\n",
    "else:\n",
    "    print(\"10 rs note is not available\")"
   ]
  },
  {
   "cell_type": "code",
   "execution_count": null,
   "id": "6a2c9c16",
   "metadata": {},
   "outputs": [],
   "source": []
  }
 ],
 "metadata": {
  "kernelspec": {
   "display_name": "Python 3 (ipykernel)",
   "language": "python",
   "name": "python3"
  },
  "language_info": {
   "codemirror_mode": {
    "name": "ipython",
    "version": 3
   },
   "file_extension": ".py",
   "mimetype": "text/x-python",
   "name": "python",
   "nbconvert_exporter": "python",
   "pygments_lexer": "ipython3",
   "version": "3.9.7"
  }
 },
 "nbformat": 4,
 "nbformat_minor": 5
}
