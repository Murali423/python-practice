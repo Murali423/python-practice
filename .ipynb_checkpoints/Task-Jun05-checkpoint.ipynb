{
 "cells": [
  {
   "cell_type": "markdown",
   "id": "22cc768c",
   "metadata": {},
   "source": [
    "### Task  June 05 2022"
   ]
  },
  {
   "cell_type": "markdown",
   "id": "ec15c991",
   "metadata": {},
   "source": [
    "Todays task :\n",
    "    q1 : Try to print a prime number in between 1 to 1000\n",
    "    \n",
    "    q2 : Try to write a function which  is equivalent  to print function in python\n",
    "    \n",
    "    q3 : Try to write a function which is a replica of list append , extend and pop function \n",
    "    \n",
    "    q4 : Try to write a lambda function which can return a concatination of all the string that we will pass\n",
    "    \n",
    "    q5 : Try to write a lambda function which can return list of square of all the data between 1-100 \n",
    "    \n",
    "    q6 : Try to write a 10 Different different example of lambda function with a choice of your taks \n",
    "    \n",
    "    q7 : Try to wwrite a funtion whihc can perform a read operation from .txt file \n",
    "        \n",
    "        shivan@ineuron.ai\n",
    "        sudhashu@ineuron.ai"
   ]
  },
  {
   "cell_type": "markdown",
   "id": "dbb672cf",
   "metadata": {},
   "source": [
    "#### q1 : Try to print a prime number in between 1 to 1000"
   ]
  },
  {
   "cell_type": "code",
   "execution_count": 1,
   "id": "c109166a",
   "metadata": {},
   "outputs": [
    {
     "name": "stdout",
     "output_type": "stream",
     "text": [
      "[2, 3, 5, 7, 11, 13, 17, 19, 23, 29, 31, 37, 41, 43, 47, 53, 59, 61, 67, 71, 73, 79, 83, 89, 97, 101, 103, 107, 109, 113, 127, 131, 137, 139, 149, 151, 157, 163, 167, 173, 179, 181, 191, 193, 197, 199, 211, 223, 227, 229, 233, 239, 241, 251, 257, 263, 269, 271, 277, 281, 283, 293, 307, 311, 313, 317, 331, 337, 347, 349, 353, 359, 367, 373, 379, 383, 389, 397, 401, 409, 419, 421, 431, 433, 439, 443, 449, 457, 461, 463, 467, 479, 487, 491, 499, 503, 509, 521, 523, 541, 547, 557, 563, 569, 571, 577, 587, 593, 599, 601, 607, 613, 617, 619, 631, 641, 643, 647, 653, 659, 661, 673, 677, 683, 691, 701, 709, 719, 727, 733, 739, 743, 751, 757, 761, 769, 773, 787, 797, 809, 811, 821, 823, 827, 829, 839, 853, 857, 859, 863, 877, 881, 883, 887, 907, 911, 919, 929, 937, 941, 947, 953, 967, 971, 977, 983, 991, 997]\n"
     ]
    }
   ],
   "source": [
    "def prime(lower,upper):\n",
    "    \"\"\"This function for prime number for lower and upper limit\"\"\"\n",
    "    l = []\n",
    "    for i in range(lower,upper+1):\n",
    "        if i > 1:\n",
    "            for j in range(2,i):\n",
    "                if i%j == 0:\n",
    "                    break\n",
    "            else:\n",
    "                l.append(i)\n",
    "    return l\n",
    "                \n",
    "print(prime(1,1000))"
   ]
  },
  {
   "cell_type": "markdown",
   "id": "70f13b34",
   "metadata": {},
   "source": [
    "#### q2 : Try to write a function which  is equivalent  to print function in python"
   ]
  },
  {
   "cell_type": "code",
   "execution_count": 2,
   "id": "784738a4",
   "metadata": {},
   "outputs": [],
   "source": [
    "import sys\n",
    "def prnt(*args):\n",
    "    \"\"\"This is function which works as print statement\"\"\"\n",
    "    out = sys.stdout\n",
    "    for i in args:\n",
    "        out.write(\" \" +str(i))"
   ]
  },
  {
   "cell_type": "code",
   "execution_count": 19,
   "id": "909e4c91",
   "metadata": {},
   "outputs": [
    {
     "name": "stdout",
     "output_type": "stream",
     "text": [
      " value is 1"
     ]
    }
   ],
   "source": [
    "prnt('value is',1)"
   ]
  },
  {
   "cell_type": "code",
   "execution_count": 4,
   "id": "737c055a",
   "metadata": {},
   "outputs": [
    {
     "name": "stdout",
     "output_type": "stream",
     "text": [
      " 1 2 3"
     ]
    }
   ],
   "source": [
    "prnt(1,2,3)"
   ]
  },
  {
   "cell_type": "code",
   "execution_count": 5,
   "id": "4ce9b758",
   "metadata": {},
   "outputs": [
    {
     "name": "stdout",
     "output_type": "stream",
     "text": [
      " [1, 3, 4, 4]"
     ]
    }
   ],
   "source": [
    "prnt([1,3,4,4])"
   ]
  },
  {
   "cell_type": "code",
   "execution_count": 6,
   "id": "c7d86d0f",
   "metadata": {},
   "outputs": [
    {
     "name": "stdout",
     "output_type": "stream",
     "text": [
      " 1 2 3 5 7 [1, 2, 49, 7, 8]"
     ]
    }
   ],
   "source": [
    "prnt(1,2,3,5,7,[1,2,49,7,8])"
   ]
  },
  {
   "cell_type": "markdown",
   "id": "d05bc25c",
   "metadata": {},
   "source": [
    "#### q3 : Try to write a function which is a replica of list append , extend and pop function "
   ]
  },
  {
   "cell_type": "code",
   "execution_count": 7,
   "id": "b82894b5",
   "metadata": {},
   "outputs": [],
   "source": [
    "def app_l(l,*args):\n",
    "    \"\"\"\n",
    "    This function is similar to append function\n",
    "    param:\n",
    "     l: List input which need to append element\n",
    "     args: elements which need to added\n",
    "    \"\"\"\n",
    "    if type(l) == list:\n",
    "        l += [i for i in args]\n",
    "    return l\n",
    "        \n",
    "    "
   ]
  },
  {
   "cell_type": "code",
   "execution_count": 8,
   "id": "8c404e45",
   "metadata": {},
   "outputs": [
    {
     "data": {
      "text/plain": [
       "[1, 1]"
      ]
     },
     "execution_count": 8,
     "metadata": {},
     "output_type": "execute_result"
    }
   ],
   "source": [
    "app_l([1],1)"
   ]
  },
  {
   "cell_type": "code",
   "execution_count": 9,
   "id": "fef3e81e",
   "metadata": {},
   "outputs": [
    {
     "data": {
      "text/plain": [
       "[2, 3, 4, 6, (1, 3, 4)]"
      ]
     },
     "execution_count": 9,
     "metadata": {},
     "output_type": "execute_result"
    }
   ],
   "source": [
    "app_l([2],3,4,6,(1,3,4,))"
   ]
  },
  {
   "cell_type": "code",
   "execution_count": 10,
   "id": "cc997fd4",
   "metadata": {},
   "outputs": [
    {
     "data": {
      "text/plain": [
       "[3, 4, 4, 7, [1, 24, 56], 'sudh']"
      ]
     },
     "execution_count": 10,
     "metadata": {},
     "output_type": "execute_result"
    }
   ],
   "source": [
    "app_l([3,4,4,7],[1,24,56],'sudh')"
   ]
  },
  {
   "cell_type": "code",
   "execution_count": 11,
   "id": "82b3e857",
   "metadata": {},
   "outputs": [],
   "source": [
    "def extend_l(l,*args):\n",
    "    \"\"\"\n",
    "    This function is similar to extend function\n",
    "    param:\n",
    "     l: List input which need to extend element\n",
    "     args: Lists which need to be added to exising list\n",
    "    \"\"\"\n",
    "    if type(l) == list:\n",
    "        for i in args:\n",
    "            if type(i) == list:\n",
    "                l += i\n",
    "    return l\n",
    "        "
   ]
  },
  {
   "cell_type": "code",
   "execution_count": 12,
   "id": "484eb28f",
   "metadata": {},
   "outputs": [
    {
     "data": {
      "text/plain": [
       "[1, 1, 2, 3, 3, 5]"
      ]
     },
     "execution_count": 12,
     "metadata": {},
     "output_type": "execute_result"
    }
   ],
   "source": [
    "extend_l([1],[1,2,3,3,5])"
   ]
  },
  {
   "cell_type": "code",
   "execution_count": 13,
   "id": "70a1c869",
   "metadata": {},
   "outputs": [
    {
     "data": {
      "text/plain": [
       "[3, 'sudh', 'ineuron', 'fsds', 5, 7, 7, 8, 9]"
      ]
     },
     "execution_count": 13,
     "metadata": {},
     "output_type": "execute_result"
    }
   ],
   "source": [
    "extend_l([3],['sudh','ineuron','fsds'],[5,7,7,8,9])"
   ]
  },
  {
   "cell_type": "code",
   "execution_count": 14,
   "id": "f209c952",
   "metadata": {},
   "outputs": [
    {
     "data": {
      "text/plain": [
       "[91, (1, 3, 4, 5), 5, 6, 5, 7, 7, 8, 9, 23, 4, 7, 8, 90]"
      ]
     },
     "execution_count": 14,
     "metadata": {},
     "output_type": "execute_result"
    }
   ],
   "source": [
    "extend_l([91],[(1,3,4,5),5,6,],[5,7,7,8,9],[23,4,7,8,90])"
   ]
  },
  {
   "cell_type": "code",
   "execution_count": null,
   "id": "a19acbd5",
   "metadata": {},
   "outputs": [],
   "source": []
  },
  {
   "cell_type": "code",
   "execution_count": null,
   "id": "3c2dd0f5",
   "metadata": {},
   "outputs": [],
   "source": []
  },
  {
   "cell_type": "markdown",
   "id": "6b630ff8",
   "metadata": {},
   "source": [
    "#### q4 : Try to write a lambda function which can return a concatination of all the string that we will pass"
   ]
  },
  {
   "cell_type": "code",
   "execution_count": 15,
   "id": "f1dbbbc6",
   "metadata": {},
   "outputs": [],
   "source": [
    "concat = lambda *x :\" \".join([i for i in x if type(i) == str ])"
   ]
  },
  {
   "cell_type": "code",
   "execution_count": 16,
   "id": "1586f899",
   "metadata": {},
   "outputs": [
    {
     "data": {
      "text/plain": [
       "'mu ji sudh ineuron'"
      ]
     },
     "execution_count": 16,
     "metadata": {},
     "output_type": "execute_result"
    }
   ],
   "source": [
    "concat(\"mu\",\"ji\",1,3,6,\"sudh\",\"ineuron\")"
   ]
  },
  {
   "cell_type": "markdown",
   "id": "eb619965",
   "metadata": {},
   "source": [
    "#### q5 : Try to write a lambda function which can return list of square of all the data between 1-100 "
   ]
  },
  {
   "cell_type": "code",
   "execution_count": 17,
   "id": "2e0a18c1",
   "metadata": {},
   "outputs": [],
   "source": [
    "squr = lambda x : x*x"
   ]
  },
  {
   "cell_type": "code",
   "execution_count": 18,
   "id": "663bea2f",
   "metadata": {},
   "outputs": [
    {
     "name": "stdout",
     "output_type": "stream",
     "text": [
      " [1, 4, 9, 16, 25, 36, 49, 64, 81, 100, 121, 144, 169, 196, 225, 256, 289, 324, 361, 400, 441, 484, 529, 576, 625, 676, 729, 784, 841, 900, 961, 1024, 1089, 1156, 1225, 1296, 1369, 1444, 1521, 1600, 1681, 1764, 1849, 1936, 2025, 2116, 2209, 2304, 2401, 2500, 2601, 2704, 2809, 2916, 3025, 3136, 3249, 3364, 3481, 3600, 3721, 3844, 3969, 4096, 4225, 4356, 4489, 4624, 4761, 4900, 5041, 5184, 5329, 5476, 5625, 5776, 5929, 6084, 6241, 6400, 6561, 6724, 6889, 7056, 7225, 7396, 7569, 7744, 7921, 8100, 8281, 8464, 8649, 8836, 9025, 9216, 9409, 9604, 9801, 10000]"
     ]
    }
   ],
   "source": [
    "def sqr(l,u):\n",
    "    m = []\n",
    "    for i in range(l,u+1):\n",
    "        app_l(m,squr(i))\n",
    "    return m\n",
    "\n",
    "prnt(sqr(1,100))"
   ]
  },
  {
   "cell_type": "code",
   "execution_count": null,
   "id": "d4b86ef6",
   "metadata": {},
   "outputs": [],
   "source": []
  },
  {
   "cell_type": "code",
   "execution_count": null,
   "id": "a4dfdc87",
   "metadata": {},
   "outputs": [],
   "source": []
  },
  {
   "cell_type": "code",
   "execution_count": null,
   "id": "e6b4648d",
   "metadata": {},
   "outputs": [],
   "source": []
  },
  {
   "cell_type": "code",
   "execution_count": null,
   "id": "293ca419",
   "metadata": {},
   "outputs": [],
   "source": []
  },
  {
   "cell_type": "markdown",
   "id": "36ff10ec",
   "metadata": {},
   "source": [
    "#### q7 : Try to wwrite a funtion which can perform a read operation from .txt file "
   ]
  },
  {
   "cell_type": "code",
   "execution_count": 28,
   "id": "286807ee",
   "metadata": {},
   "outputs": [
    {
     "name": "stdout",
     "output_type": "stream",
     "text": [
      "Please enter the path of file C:\\Users\\HP\\Documents\\python-practice\\questions.txt\n",
      " Your First Challenge : \n",
      "    \n",
      "\n",
      "\n",
      "q1 : Try to print this by using while loop \n",
      "* \n",
      "* * \n",
      "* * * \n",
      "* * * * \n",
      "* * * * * \n",
      "* * * * * * \n",
      "* * * * * * * \n",
      "* * * * * * * * \n",
      "* * * * * * * * * \n",
      "\n",
      "q2 : try to print below by using while loop : \n",
      "        \n",
      "A\n",
      "B H \n",
      "C I N\n",
      "D J o S\n",
      "E K p T W\n",
      "F L Q U X z\n",
      "G M R V Y \n",
      "\n",
      "q3 : Try to print all the number divisible by 3 in between a range of 40 - 400\n",
      "    \n",
      "q4 : Try to filter out all the vowels form below text by using while loop : \n",
      " \"\"\"Python is a high-level, interpreted, general-purpose programming language. Its design philosophy emphasizes code readability with the use of significant indentation.[32]\n",
      "\n",
      "Python is dynamically-typed and garbage-collected. It supports multiple programming paradigms, including structured (particularly procedural), object-oriented and functional programming. It is often described as a \"batteries included\" language due to its comprehensive standard library.[33][34]\n",
      "\n",
      "Guido van Rossum began working on Python in the late 1980s as a successor to the ABC programming language and first released it in 1991 as Python 0.9.0.[35] Python 2.0 was released in 2000 and introduced new features such as list comprehensions, cycle-detecting garbage collection, reference counting, and Unicode support. Python 3.0, released in 2008, was a major revision that is not completely backward-compatible with earlier versions. Python 2 was discontinued with version 2.7.18 in 2020.[36]\n",
      "\n",
      "Python consistently ranks as one of the most popular programming languagesc\"\"\" \n",
      "\n",
      "\n",
      "q5 : Try to generate all the even number between 1- 1000\n",
      "\n",
      "q6 : Define a function for all the above problem statememnt  . \n",
      "    \n",
      "q7 : write a code to get a time of your system \n",
      "\n",
      "q8 : Write a code to fetch date form your system \n",
      "\n",
      "q9 : Write a code to send a mail to your friend \n",
      "\n",
      "q10 : write a code to trigger alarm for you at scheduled time \n",
      "\n",
      "q11 : write a code to check ip address of your system \n",
      "\n",
      "q12 : Write a code to check a perticular installation in your system\n",
      "\n",
      "q13 : Write a code to convert any text in to voice \n",
      "\n",
      "q14 : you have to write a fun which will take string and return a len of \n",
      "it without using a inbuilt fun len\n",
      "\n",
      "q15 :write a fun which will be able to print an index of all premitive element which you will pass \n",
      "\n",
      "q16 : Write a fun which will take input as a dict and give me out as a list of all the values \n",
      "even in case of 2 level nesting it should work . \n",
      "\n",
      "q17 : write a function whihc will take multiple list as a input and give me concatnation of all the element as \n",
      "and output\n",
      "\n",
      "q18 : Write a function which will whould return list of all the file name from a directory . \n",
      "\n",
      "q19 : write a function whihc will be able to read a image file and show it to you .\n",
      "    \n",
      "q20 : write a function by which you will be able to append two PDF files . \n",
      "    \n",
      "q21 : write a function which can help you to filter only word file from a directory . \n",
      "    \n",
      "q22 : write a function which can read video file and play for you . \n",
      "    \n",
      "q23 : write a function which will be able to shutdonw your system . \n",
      "\n",
      "q24 : Write a function which will whould return list of all the file name from a directory . \n",
      "\n",
      "q25 : write a function whihc will be able to access your mail . \n",
      "        "
     ]
    }
   ],
   "source": [
    "# path: C:\\Users\\HP\\Documents\\python-practice\\questions.txt\n",
    "def read_f(path):\n",
    "    if path.endswith('.txt'):\n",
    "        with open(path) as f:\n",
    "            prnt(f.read())\n",
    "            \n",
    "path = input('Please enter the path of file ')\n",
    "read_f(path)"
   ]
  },
  {
   "cell_type": "code",
   "execution_count": null,
   "id": "683d251a",
   "metadata": {},
   "outputs": [],
   "source": []
  }
 ],
 "metadata": {
  "kernelspec": {
   "display_name": "Python 3 (ipykernel)",
   "language": "python",
   "name": "python3"
  },
  "language_info": {
   "codemirror_mode": {
    "name": "ipython",
    "version": 3
   },
   "file_extension": ".py",
   "mimetype": "text/x-python",
   "name": "python",
   "nbconvert_exporter": "python",
   "pygments_lexer": "ipython3",
   "version": "3.9.7"
  }
 },
 "nbformat": 4,
 "nbformat_minor": 5
}
