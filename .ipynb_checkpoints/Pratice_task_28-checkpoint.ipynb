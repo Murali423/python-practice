{
 "cells": [
  {
   "cell_type": "markdown",
   "id": "852f896f",
   "metadata": {},
   "source": [
    "### Practice Questions"
   ]
  },
  {
   "cell_type": "markdown",
   "id": "d861c731",
   "metadata": {},
   "source": [
    "Q1\n",
    "\n",
    "ineuron\n",
    "\n",
    "ineuron ineuron\n",
    "\n",
    "ineuron ineuron ineuron\n",
    "\n",
    "ineuron ineuron ineuron ineuron"
   ]
  },
  {
   "cell_type": "code",
   "execution_count": 14,
   "id": "f85d6291",
   "metadata": {},
   "outputs": [
    {
     "name": "stdout",
     "output_type": "stream",
     "text": [
      "please enter number for pattern: 4\n",
      "ineuron \n",
      "\n",
      "ineuron ineuron \n",
      "\n",
      "ineuron ineuron ineuron \n",
      "\n",
      "ineuron ineuron ineuron ineuron \n",
      "\n"
     ]
    }
   ],
   "source": [
    "n = int(input('please enter number for pattern: '))\n",
    "if n < 1:\n",
    "    print('Please enter number greater than zero')\n",
    "else:\n",
    "    for i in range(n):\n",
    "        for j in range(i+1):\n",
    "            print('ineuron',end =' ')\n",
    "        print('\\n')"
   ]
  },
  {
   "cell_type": "markdown",
   "id": "f6cc23e9",
   "metadata": {},
   "source": [
    "Q2.      \n",
    "     \n",
    "       ineuron\n",
    "\n",
    "    ineuron   ineuron\n",
    "  \n",
    "ineuron    ineuron     ineuron\n",
    "\n",
    "    ineuron ineuron\n",
    "  \n",
    "       ineuron"
   ]
  },
  {
   "cell_type": "code",
   "execution_count": 45,
   "id": "9194d002",
   "metadata": {},
   "outputs": [
    {
     "name": "stdout",
     "output_type": "stream",
     "text": [
      "Enter the number to print pattern: 5\n",
      "Enter string to printed in pattern: ineuron\n",
      "        ineuron \n",
      "      ineuron ineuron \n",
      "    ineuron ineuron ineuron \n",
      "  ineuron ineuron ineuron ineuron \n",
      "ineuron ineuron ineuron ineuron ineuron \n",
      "  ineuron ineuron ineuron ineuron \n",
      "    ineuron ineuron ineuron \n",
      "      ineuron ineuron \n",
      "        ineuron \n"
     ]
    }
   ],
   "source": [
    "# due to 'ineuron' it is giving this pattern, if we give sudh it will give good shape\n",
    "\n",
    "n =int(input('Enter the number to print pattern: '))\n",
    "s = input('Enter string to printed in pattern: ')\n",
    "k = n\n",
    "for i in range(n):\n",
    "    k = k-1\n",
    "    print('  '*k,end ='')\n",
    "    for j in range(i+1):\n",
    "        print(s,end=' ')\n",
    "    print()\n",
    "    \n",
    "for i in range(n-1,0,-1):\n",
    "    k = n -i\n",
    "    print('  '*k,end='')\n",
    "    for j in range(i,0,-1):\n",
    "        print(s,end=' ')\n",
    "    print()\n",
    "    "
   ]
  },
  {
   "cell_type": "markdown",
   "id": "acd0945f",
   "metadata": {},
   "source": [
    "Q3. task questions"
   ]
  },
  {
   "cell_type": "code",
   "execution_count": 46,
   "id": "1bf097a9",
   "metadata": {},
   "outputs": [],
   "source": [
    "l = [[1,2,3,4],(2,3,4,5,6),(3,4,5,6,7),set([23,4,5,45,4,4,5,45,45,4,5]),{'k1':'sudh','k2':'ineuron','k3':'kumar',3:6,7:8},['ineuron','data science']]"
   ]
  },
  {
   "cell_type": "markdown",
   "id": "1c27ed3c",
   "metadata": {},
   "source": [
    "#### Q3. Extract all list entites"
   ]
  },
  {
   "cell_type": "code",
   "execution_count": 51,
   "id": "22425024",
   "metadata": {},
   "outputs": [
    {
     "data": {
      "text/plain": [
       "[[1, 2, 3, 4],\n",
       " (2, 3, 4, 5, 6),\n",
       " (3, 4, 5, 6, 7),\n",
       " {4, 5, 23, 45},\n",
       " {'k1': 'sudh', 'k2': 'ineuron', 'k3': 'kumar', 3: 6, 7: 8},\n",
       " ['ineuron', 'data science']]"
      ]
     },
     "execution_count": 51,
     "metadata": {},
     "output_type": "execute_result"
    }
   ],
   "source": [
    "l"
   ]
  },
  {
   "cell_type": "code",
   "execution_count": 52,
   "id": "5886c3f2",
   "metadata": {},
   "outputs": [
    {
     "name": "stdout",
     "output_type": "stream",
     "text": [
      "[1, 2, 3, 4]\n",
      "['ineuron', 'data science']\n"
     ]
    }
   ],
   "source": [
    "for i in l:\n",
    "    if type(i) == list:\n",
    "        print(i)"
   ]
  },
  {
   "cell_type": "markdown",
   "id": "61a368f2",
   "metadata": {},
   "source": [
    "#### Q4. Extract all dict entites"
   ]
  },
  {
   "cell_type": "code",
   "execution_count": 54,
   "id": "f8b650e9",
   "metadata": {},
   "outputs": [
    {
     "name": "stdout",
     "output_type": "stream",
     "text": [
      "{'k1': 'sudh', 'k2': 'ineuron', 'k3': 'kumar', 3: 6, 7: 8}\n"
     ]
    }
   ],
   "source": [
    "\n",
    "for i in l:\n",
    "    if type(i) == dict:\n",
    "        print(i)"
   ]
  },
  {
   "cell_type": "markdown",
   "id": "425e8d22",
   "metadata": {},
   "source": [
    "#### Q5. Extract all tuple entites"
   ]
  },
  {
   "cell_type": "code",
   "execution_count": 55,
   "id": "078b6560",
   "metadata": {},
   "outputs": [
    {
     "name": "stdout",
     "output_type": "stream",
     "text": [
      "(2, 3, 4, 5, 6)\n",
      "(3, 4, 5, 6, 7)\n"
     ]
    }
   ],
   "source": [
    "for i in l:\n",
    "    if type(i) == tuple:\n",
    "        print(i)"
   ]
  },
  {
   "cell_type": "markdown",
   "id": "264476c7",
   "metadata": {},
   "source": [
    "#### Q6. Try to extract all the numerical data it may be part of dict key and value "
   ]
  },
  {
   "cell_type": "code",
   "execution_count": 58,
   "id": "46819449",
   "metadata": {},
   "outputs": [
    {
     "data": {
      "text/plain": [
       "[1, 2, 3, 4, 2, 3, 4, 5, 6, 3, 4, 5, 6, 7, 45, 4, 5, 23, 3, 6, 7, 8]"
      ]
     },
     "execution_count": 58,
     "metadata": {},
     "output_type": "execute_result"
    }
   ],
   "source": [
    "n_list = []\n",
    "for i in l:\n",
    "    if type(i) == tuple or type(i) == list or type(i) == set :\n",
    "        for j in i:\n",
    "            if type(j) == int:\n",
    "                n_list.append(j)\n",
    "    if type(i) == dict:\n",
    "        for k,v in i.items():\n",
    "            if type(k) == int and type(v) == int:\n",
    "                n_list.append(k)\n",
    "                n_list.append(v)\n",
    "n_list        "
   ]
  },
  {
   "cell_type": "markdown",
   "id": "3e03509a",
   "metadata": {},
   "source": [
    "#### Q7. try to give summation of all numeric data which is part of list"
   ]
  },
  {
   "cell_type": "code",
   "execution_count": 59,
   "id": "4b6bdd2b",
   "metadata": {},
   "outputs": [
    {
     "data": {
      "text/plain": [
       "[1, 2, 3, 4, 2, 3, 4, 5, 6, 3, 4, 5, 6, 7, 45, 4, 5, 23, 3, 6, 7, 8]"
      ]
     },
     "execution_count": 59,
     "metadata": {},
     "output_type": "execute_result"
    }
   ],
   "source": [
    "n_list"
   ]
  },
  {
   "cell_type": "code",
   "execution_count": 61,
   "id": "fd85be8e",
   "metadata": {},
   "outputs": [
    {
     "name": "stdout",
     "output_type": "stream",
     "text": [
      "156\n"
     ]
    }
   ],
   "source": [
    "print(sum(n_list))"
   ]
  },
  {
   "cell_type": "markdown",
   "id": "7654848b",
   "metadata": {},
   "source": [
    "#### Q8. Try to filterout all odd values out of numeric data out of list"
   ]
  },
  {
   "cell_type": "code",
   "execution_count": 62,
   "id": "908024e2",
   "metadata": {},
   "outputs": [
    {
     "data": {
      "text/plain": [
       "[1, 2, 3, 4, 2, 3, 4, 5, 6, 3, 4, 5, 6, 7, 45, 4, 5, 23, 3, 6, 7, 8]"
      ]
     },
     "execution_count": 62,
     "metadata": {},
     "output_type": "execute_result"
    }
   ],
   "source": [
    "n_list"
   ]
  },
  {
   "cell_type": "code",
   "execution_count": 64,
   "id": "178b5be2",
   "metadata": {},
   "outputs": [
    {
     "name": "stdout",
     "output_type": "stream",
     "text": [
      "Odd number list [1, 3, 3, 5, 3, 5, 7, 45, 5, 23, 3, 7]\n",
      "Even number list [2, 4, 2, 4, 6, 4, 6, 4, 6, 8]\n"
     ]
    }
   ],
   "source": [
    "odd = []\n",
    "even = []\n",
    "for i in n_list:\n",
    "    if i % 2 != 0:\n",
    "        odd.append(i)\n",
    "    else:\n",
    "        even.append(i)\n",
    "print('Odd number list',odd)\n",
    "print('Even number list',even)"
   ]
  },
  {
   "cell_type": "markdown",
   "id": "56751645",
   "metadata": {},
   "source": [
    "####  Q9.Try to extract 'inueron; from the data"
   ]
  },
  {
   "cell_type": "code",
   "execution_count": 65,
   "id": "74d5a230",
   "metadata": {},
   "outputs": [
    {
     "data": {
      "text/plain": [
       "[[1, 2, 3, 4],\n",
       " (2, 3, 4, 5, 6),\n",
       " (3, 4, 5, 6, 7),\n",
       " {4, 5, 23, 45},\n",
       " {'k1': 'sudh', 'k2': 'ineuron', 'k3': 'kumar', 3: 6, 7: 8},\n",
       " ['ineuron', 'data science']]"
      ]
     },
     "execution_count": 65,
     "metadata": {},
     "output_type": "execute_result"
    }
   ],
   "source": [
    "l"
   ]
  },
  {
   "cell_type": "code",
   "execution_count": 73,
   "id": "3b2b39d4",
   "metadata": {},
   "outputs": [
    {
     "name": "stdout",
     "output_type": "stream",
     "text": [
      "ineuron found in the value of dict\n",
      "ineuron found in the index 0 having <class 'list'>\n"
     ]
    }
   ],
   "source": [
    "for i in l:\n",
    "    if type(i) == tuple or type(i) == list or type(i) == set :\n",
    "        for j in i:\n",
    "            if j == 'ineuron':\n",
    "                print(j,'found in the index',i.index(j),'having',type(i))\n",
    "    if type(i) == dict:\n",
    "        for k,v in i.items():\n",
    "            if k == 'ineuron' :\n",
    "                print(k, 'found in the value of dict')\n",
    "            if v == 'ineuron':\n",
    "                print(v,'found in the value of dict')"
   ]
  },
  {
   "cell_type": "markdown",
   "id": "2742a7f4",
   "metadata": {},
   "source": [
    "#### Q11. Try to find numer of keys in dict element"
   ]
  },
  {
   "cell_type": "code",
   "execution_count": 69,
   "id": "bbde362e",
   "metadata": {},
   "outputs": [
    {
     "data": {
      "text/plain": [
       "[[1, 2, 3, 4],\n",
       " (2, 3, 4, 5, 6),\n",
       " (3, 4, 5, 6, 7),\n",
       " {4, 5, 23, 45},\n",
       " {'k1': 'sudh', 'k2': 'ineuron', 'k3': 'kumar', 3: 6, 7: 8},\n",
       " ['ineuron', 'data science']]"
      ]
     },
     "execution_count": 69,
     "metadata": {},
     "output_type": "execute_result"
    }
   ],
   "source": [
    "l"
   ]
  },
  {
   "cell_type": "code",
   "execution_count": 72,
   "id": "f1b60842",
   "metadata": {},
   "outputs": [
    {
     "name": "stdout",
     "output_type": "stream",
     "text": [
      "No of keys in dictionay are :  5\n"
     ]
    }
   ],
   "source": [
    "for i in l:\n",
    "    if type(i) == dict:\n",
    "        print('No of keys in dictionay are : ',len(i.keys()))"
   ]
  },
  {
   "cell_type": "markdown",
   "id": "12350fde",
   "metadata": {},
   "source": [
    "#### Q12. Try to filter out all string data "
   ]
  },
  {
   "cell_type": "code",
   "execution_count": 74,
   "id": "a41a2560",
   "metadata": {},
   "outputs": [
    {
     "data": {
      "text/plain": [
       "['k1', 'sudh', 'k2', 'ineuron', 'k3', 'kumar', 'ineuron', 'data science']"
      ]
     },
     "execution_count": 74,
     "metadata": {},
     "output_type": "execute_result"
    }
   ],
   "source": [
    "s_list = []\n",
    "for i in l:\n",
    "    if type(i) == tuple or type(i) == list or type(i) == set :\n",
    "        for j in i:\n",
    "            if type(j) == str:\n",
    "                s_list.append(j)\n",
    "    if type(i) == dict:\n",
    "        for k,v in i.items():\n",
    "            if type(k) == str:\n",
    "                s_list.append(k)\n",
    "            if type(v) == str:\n",
    "                s_list.append(v)\n",
    "                \n",
    "s_list"
   ]
  },
  {
   "cell_type": "markdown",
   "id": "4bc01274",
   "metadata": {},
   "source": [
    "#### Q13. Try to find alphanum in the data "
   ]
  },
  {
   "cell_type": "code",
   "execution_count": 75,
   "id": "1a906a95",
   "metadata": {},
   "outputs": [
    {
     "name": "stdout",
     "output_type": "stream",
     "text": [
      "k1\n",
      "sudh\n",
      "k2\n",
      "ineuron\n",
      "k3\n",
      "kumar\n",
      "ineuron\n"
     ]
    }
   ],
   "source": [
    "for i in s_list:\n",
    "    if i.isalnum():\n",
    "        print(i)"
   ]
  },
  {
   "cell_type": "markdown",
   "id": "141b12f2",
   "metadata": {},
   "source": [
    "#### Q14.Try to find the multiplicaion of each individual elements in the given whole collection"
   ]
  },
  {
   "cell_type": "code",
   "execution_count": 76,
   "id": "ad3af189",
   "metadata": {},
   "outputs": [
    {
     "data": {
      "text/plain": [
       "[[1, 2, 3, 4],\n",
       " (2, 3, 4, 5, 6),\n",
       " (3, 4, 5, 6, 7),\n",
       " {4, 5, 23, 45},\n",
       " {'k1': 'sudh', 'k2': 'ineuron', 'k3': 'kumar', 3: 6, 7: 8},\n",
       " ['ineuron', 'data science']]"
      ]
     },
     "execution_count": 76,
     "metadata": {},
     "output_type": "execute_result"
    }
   ],
   "source": [
    "l"
   ]
  },
  {
   "cell_type": "code",
   "execution_count": 78,
   "id": "0fdb843e",
   "metadata": {},
   "outputs": [
    {
     "name": "stdout",
     "output_type": "stream",
     "text": [
      "Multipilcation of <class 'list'> is 24\n",
      "Multipilcation of <class 'tuple'> is 720\n",
      "Multipilcation of <class 'tuple'> is 2520\n",
      "Multipilcation of <class 'set'> is 20700\n",
      "Multipilcation of <class 'dict'> is 1008\n",
      "Multipilcation of <class 'list'> is 1\n"
     ]
    }
   ],
   "source": [
    "for i in l:\n",
    "    m = 1\n",
    "    if type(i) == tuple or type(i) == list or type(i) == set :\n",
    "        for j in i:\n",
    "            if type(j) == int:\n",
    "                m *= j\n",
    "        print('Multipilcation of',type(i),'is',m)\n",
    "    if type(i) == dict:\n",
    "        for k,v in i.items():\n",
    "            if type(k) == int and type(v) == int:\n",
    "                m = m * k\n",
    "                m = m * v\n",
    "        print('Multipilcation of',type(i),'is',m)\n",
    "    "
   ]
  },
  {
   "cell_type": "markdown",
   "id": "7e200afa",
   "metadata": {},
   "source": [
    "#### Q15. Print the flat list  "
   ]
  },
  {
   "cell_type": "code",
   "execution_count": 79,
   "id": "dbc751e7",
   "metadata": {},
   "outputs": [
    {
     "data": {
      "text/plain": [
       "[[1, 2, 3, 4],\n",
       " (2, 3, 4, 5, 6),\n",
       " (3, 4, 5, 6, 7),\n",
       " {4, 5, 23, 45},\n",
       " {'k1': 'sudh', 'k2': 'ineuron', 'k3': 'kumar', 3: 6, 7: 8},\n",
       " ['ineuron', 'data science']]"
      ]
     },
     "execution_count": 79,
     "metadata": {},
     "output_type": "execute_result"
    }
   ],
   "source": [
    "l"
   ]
  },
  {
   "cell_type": "code",
   "execution_count": 81,
   "id": "2998d3cd",
   "metadata": {},
   "outputs": [
    {
     "data": {
      "text/plain": [
       "[1,\n",
       " 2,\n",
       " 3,\n",
       " 4,\n",
       " 2,\n",
       " 3,\n",
       " 4,\n",
       " 5,\n",
       " 6,\n",
       " 3,\n",
       " 4,\n",
       " 5,\n",
       " 6,\n",
       " 7,\n",
       " 45,\n",
       " 4,\n",
       " 5,\n",
       " 23,\n",
       " 'k1',\n",
       " 'k2',\n",
       " 'k3',\n",
       " 3,\n",
       " 7,\n",
       " 'k1',\n",
       " 'sudh',\n",
       " 'k2',\n",
       " 'ineuron',\n",
       " 'k3',\n",
       " 'kumar',\n",
       " 3,\n",
       " 6,\n",
       " 7,\n",
       " 8,\n",
       " 'ineuron',\n",
       " 'data science']"
      ]
     },
     "execution_count": 81,
     "metadata": {},
     "output_type": "execute_result"
    }
   ],
   "source": [
    "flat_list = []\n",
    "\n",
    "for i in l:\n",
    "    for j in i:\n",
    "        flat_list.append(j)\n",
    "    if type(i) == dict:\n",
    "        for k,v in i.items():\n",
    "            flat_list.append(k)\n",
    "            flat_list.append(v)\n",
    "    \n",
    "flat_list\n",
    "    "
   ]
  },
  {
   "cell_type": "markdown",
   "id": "9a5922fe",
   "metadata": {},
   "source": [
    "#### Q10. Try to find out occuence of all the data"
   ]
  },
  {
   "cell_type": "code",
   "execution_count": 85,
   "id": "a321847c",
   "metadata": {},
   "outputs": [
    {
     "name": "stdout",
     "output_type": "stream",
     "text": [
      "[1, 2, 3, 4, 2, 3, 4, 5, 6, 3, 4, 5, 6, 7, 45, 4, 5, 23, 'k1', 'k2', 'k3', 3, 7, 'k1', 'sudh', 'k2', 'ineuron', 'k3', 'kumar', 3, 6, 7, 8, 'ineuron', 'data science']\n"
     ]
    }
   ],
   "source": [
    "print(flat_list)"
   ]
  },
  {
   "cell_type": "code",
   "execution_count": 88,
   "id": "17b4303b",
   "metadata": {},
   "outputs": [
    {
     "name": "stdout",
     "output_type": "stream",
     "text": [
      "['1', '2', '3', '4', '2', '3', '4', '5', '6', '3', '4', '5', '6', '7', '45', '4', '5', '23', 'k1', 'k2', 'k3', '3', '7', 'k1', 'sudh', 'k2', 'ineuron', 'k3', 'kumar', '3', '6', '7', '8', 'ineuron', 'data science']\n"
     ]
    }
   ],
   "source": [
    "s = []\n",
    "for i in flat_list:\n",
    "    s.append(str(i))\n",
    "print(s)"
   ]
  },
  {
   "cell_type": "code",
   "execution_count": 89,
   "id": "720249e4",
   "metadata": {},
   "outputs": [
    {
     "name": "stdout",
     "output_type": "stream",
     "text": [
      "ineuron : 2\n",
      "sudh : 1\n",
      "8 : 1\n",
      "1 : 1\n",
      "23 : 1\n",
      "45 : 1\n",
      "kumar : 1\n",
      "6 : 3\n",
      "k2 : 2\n",
      "7 : 3\n",
      "2 : 2\n",
      "4 : 4\n",
      "3 : 5\n",
      "k1 : 2\n",
      "data science : 1\n",
      "k3 : 2\n",
      "5 : 3\n"
     ]
    }
   ],
   "source": [
    "for i in set(s):\n",
    "    print(i,\":\",s.count(i))"
   ]
  },
  {
   "cell_type": "code",
   "execution_count": null,
   "id": "2a7c13c8",
   "metadata": {},
   "outputs": [],
   "source": []
  }
 ],
 "metadata": {
  "kernelspec": {
   "display_name": "Python 3 (ipykernel)",
   "language": "python",
   "name": "python3"
  },
  "language_info": {
   "codemirror_mode": {
    "name": "ipython",
    "version": 3
   },
   "file_extension": ".py",
   "mimetype": "text/x-python",
   "name": "python",
   "nbconvert_exporter": "python",
   "pygments_lexer": "ipython3",
   "version": "3.9.7"
  }
 },
 "nbformat": 4,
 "nbformat_minor": 5
}
